{
 "cells": [
  {
   "cell_type": "code",
   "execution_count": 4,
   "id": "f9454df6",
   "metadata": {},
   "outputs": [],
   "source": [
    "import selenium\n",
    "import pandas as pd\n",
    "from selenium import webdriver\n",
    "import warnings\n",
    "warnings.filterwarnings('ignore')\n",
    "from selenium.common.exceptions import StaleElementReferenceException\n",
    "from selenium.common.exceptions import NoSuchElementException\n",
    "from selenium.webdriver.common.by import By\n",
    "import time\n",
    "from selenium.webdriver.support.ui import WebDriverWait\n",
    "from selenium.webdriver.support import expected_conditions as EC\n",
    "import requests \n",
    "\n"
   ]
  },
  {
   "cell_type": "code",
   "execution_count": 13,
   "id": "bbf6e303",
   "metadata": {},
   "outputs": [],
   "source": [
    "import re"
   ]
  },
  {
   "cell_type": "code",
   "execution_count": 2,
   "id": "b93d63c5",
   "metadata": {},
   "outputs": [],
   "source": [
    "driver=webdriver.Chrome(r\"Chromedriver.exe\")\n"
   ]
  },
  {
   "cell_type": "code",
   "execution_count": 3,
   "id": "c3b1502f",
   "metadata": {},
   "outputs": [],
   "source": [
    "driver.get(\"https://www.amazon.in/\")"
   ]
  },
  {
   "cell_type": "code",
   "execution_count": 4,
   "id": "bd30c26c",
   "metadata": {},
   "outputs": [
    {
     "name": "stdout",
     "output_type": "stream",
     "text": [
      "enter product nameguitar\n"
     ]
    }
   ],
   "source": [
    "\n",
    "productname=input(\"enter product name\")\n",
    "Productname=driver.find_element(By.XPATH,'/html/body/div[1]/header/div/div[1]/div[2]/div/form/div[2]/div[1]/input')\n",
    "Productname.send_keys(productname) \n",
    "search=driver.find_element(By.XPATH,'/html/body/div[1]/header/div/div[1]/div[2]/div/form/div[3]/div/span/input')\n",
    "search.click()\n",
    "time.sleep(3)"
   ]
  },
  {
   "cell_type": "code",
   "execution_count": 5,
   "id": "aa653793",
   "metadata": {},
   "outputs": [],
   "source": [
    "#Assignment question 2 "
   ]
  },
  {
   "cell_type": "code",
   "execution_count": 11,
   "id": "4e41d8f0",
   "metadata": {},
   "outputs": [],
   "source": []
  },
  {
   "cell_type": "code",
   "execution_count": null,
   "id": "8e44b0f5",
   "metadata": {},
   "outputs": [],
   "source": []
  },
  {
   "cell_type": "code",
   "execution_count": null,
   "id": "b64814db",
   "metadata": {},
   "outputs": [],
   "source": [
    "expecteddelivery=[]\n",
    "start=0\n",
    "end=3\n",
    "for page in range(start,end):\n",
    "    try:\n",
    "        expdate=driver.find_elements(By.XPATH,'//span[ @class=\"a-size-base-plus a-color-base a-text-normal\"]')\n",
    "        for i in expdate:\n",
    "            expecteddelivery.append(i.text)\n",
    "    except NoSuchElementException:\n",
    "        expecteddelivery.append(\"-\")\n",
    "next_button=driver.find_element(By.XPATH,'/html/body/div[1]/div[2]/div[1]/div[1]/div/span[1]/div[1]/div[68]/div/div/span/a[3]')\n",
    "next_button.click()\n",
    "time.sleep(3)"
   ]
  },
  {
   "cell_type": "code",
   "execution_count": 6,
   "id": "64fa4f27",
   "metadata": {},
   "outputs": [
    {
     "data": {
      "text/plain": [
       "145"
      ]
     },
     "execution_count": 6,
     "metadata": {},
     "output_type": "execute_result"
    }
   ],
   "source": [
    "producturl=[]\n",
    "start=0\n",
    "end=3\n",
    "\n",
    "for page in range(start,end):\n",
    "    try:\n",
    "        Url=driver.find_elements(By.XPATH,'//a[ @ class=\"a-link-normal s-no-outline\" ]')\n",
    "        for i in Url:\n",
    "            producturl.append(i.get_attribute('href'))\n",
    "    except:\n",
    "        producturl.append(\"-\")\n",
    "    next_button=driver.find_element(By.XPATH,'//a[@class=\"s-pagination-item s-pagination-next s-pagination-button s-pagination-separator\"]')\n",
    "    next_button.click()\n",
    "    time.sleep(3)\n",
    "len(producturl)"
   ]
  },
  {
   "cell_type": "code",
   "execution_count": 8,
   "id": "49bba4b3",
   "metadata": {},
   "outputs": [
    {
     "ename": "WebDriverException",
     "evalue": "Message: unknown error: net::ERR_NAME_NOT_RESOLVED\n  (Session info: chrome=110.0.5481.178)\nStacktrace:\nBacktrace:\n\t(No symbol) [0x005137D3]\n\t(No symbol) [0x004A8B81]\n\t(No symbol) [0x003AB36D]\n\t(No symbol) [0x003A772D]\n\t(No symbol) [0x0039DC65]\n\t(No symbol) [0x0039F033]\n\t(No symbol) [0x0039DF02]\n\t(No symbol) [0x0039D324]\n\t(No symbol) [0x0039D241]\n\t(No symbol) [0x0039BC95]\n\t(No symbol) [0x0039C518]\n\t(No symbol) [0x003ACF4C]\n\t(No symbol) [0x00411E01]\n\t(No symbol) [0x003FB41C]\n\t(No symbol) [0x00411215]\n\t(No symbol) [0x003FB216]\n\t(No symbol) [0x003D0D97]\n\t(No symbol) [0x003D253D]\n\tGetHandleVerifier [0x0078ABF2+2510930]\n\tGetHandleVerifier [0x007B8EC1+2700065]\n\tGetHandleVerifier [0x007BC86C+2714828]\n\tGetHandleVerifier [0x005C3480+645344]\n\t(No symbol) [0x004B0FD2]\n\t(No symbol) [0x004B6C68]\n\t(No symbol) [0x004B6D4B]\n\t(No symbol) [0x004C0D6B]\n\tBaseThreadInitThunk [0x76ADFA29+25]\n\tRtlGetAppContainerNamedObjectPath [0x777575F4+228]\n\tRtlGetAppContainerNamedObjectPath [0x777575C4+180]\n",
     "output_type": "error",
     "traceback": [
      "\u001b[1;31m---------------------------------------------------------------------------\u001b[0m",
      "\u001b[1;31mWebDriverException\u001b[0m                        Traceback (most recent call last)",
      "Input \u001b[1;32mIn [8]\u001b[0m, in \u001b[0;36m<cell line: 7>\u001b[1;34m()\u001b[0m\n\u001b[0;32m      6\u001b[0m availability\u001b[38;5;241m=\u001b[39m[]\n\u001b[0;32m      7\u001b[0m \u001b[38;5;28;01mfor\u001b[39;00m url \u001b[38;5;129;01min\u001b[39;00m producturl:\n\u001b[1;32m----> 8\u001b[0m     \u001b[43mdriver\u001b[49m\u001b[38;5;241;43m.\u001b[39;49m\u001b[43mget\u001b[49m\u001b[43m(\u001b[49m\u001b[43murl\u001b[49m\u001b[43m)\u001b[49m\n\u001b[0;32m      9\u001b[0m     time\u001b[38;5;241m.\u001b[39msleep(\u001b[38;5;241m3\u001b[39m)\n\u001b[0;32m     10\u001b[0m     \u001b[38;5;28;01mtry\u001b[39;00m:\n",
      "File \u001b[1;32m~\\anaconda3\\lib\\site-packages\\selenium\\webdriver\\remote\\webdriver.py:449\u001b[0m, in \u001b[0;36mWebDriver.get\u001b[1;34m(self, url)\u001b[0m\n\u001b[0;32m    447\u001b[0m \u001b[38;5;28;01mdef\u001b[39;00m \u001b[38;5;21mget\u001b[39m(\u001b[38;5;28mself\u001b[39m, url: \u001b[38;5;28mstr\u001b[39m) \u001b[38;5;241m-\u001b[39m\u001b[38;5;241m>\u001b[39m \u001b[38;5;28;01mNone\u001b[39;00m:\n\u001b[0;32m    448\u001b[0m     \u001b[38;5;124;03m\"\"\"Loads a web page in the current browser session.\"\"\"\u001b[39;00m\n\u001b[1;32m--> 449\u001b[0m     \u001b[38;5;28;43mself\u001b[39;49m\u001b[38;5;241;43m.\u001b[39;49m\u001b[43mexecute\u001b[49m\u001b[43m(\u001b[49m\u001b[43mCommand\u001b[49m\u001b[38;5;241;43m.\u001b[39;49m\u001b[43mGET\u001b[49m\u001b[43m,\u001b[49m\u001b[43m \u001b[49m\u001b[43m{\u001b[49m\u001b[38;5;124;43m\"\u001b[39;49m\u001b[38;5;124;43murl\u001b[39;49m\u001b[38;5;124;43m\"\u001b[39;49m\u001b[43m:\u001b[49m\u001b[43m \u001b[49m\u001b[43murl\u001b[49m\u001b[43m}\u001b[49m\u001b[43m)\u001b[49m\n",
      "File \u001b[1;32m~\\anaconda3\\lib\\site-packages\\selenium\\webdriver\\remote\\webdriver.py:440\u001b[0m, in \u001b[0;36mWebDriver.execute\u001b[1;34m(self, driver_command, params)\u001b[0m\n\u001b[0;32m    438\u001b[0m response \u001b[38;5;241m=\u001b[39m \u001b[38;5;28mself\u001b[39m\u001b[38;5;241m.\u001b[39mcommand_executor\u001b[38;5;241m.\u001b[39mexecute(driver_command, params)\n\u001b[0;32m    439\u001b[0m \u001b[38;5;28;01mif\u001b[39;00m response:\n\u001b[1;32m--> 440\u001b[0m     \u001b[38;5;28;43mself\u001b[39;49m\u001b[38;5;241;43m.\u001b[39;49m\u001b[43merror_handler\u001b[49m\u001b[38;5;241;43m.\u001b[39;49m\u001b[43mcheck_response\u001b[49m\u001b[43m(\u001b[49m\u001b[43mresponse\u001b[49m\u001b[43m)\u001b[49m\n\u001b[0;32m    441\u001b[0m     response[\u001b[38;5;124m\"\u001b[39m\u001b[38;5;124mvalue\u001b[39m\u001b[38;5;124m\"\u001b[39m] \u001b[38;5;241m=\u001b[39m \u001b[38;5;28mself\u001b[39m\u001b[38;5;241m.\u001b[39m_unwrap_value(response\u001b[38;5;241m.\u001b[39mget(\u001b[38;5;124m\"\u001b[39m\u001b[38;5;124mvalue\u001b[39m\u001b[38;5;124m\"\u001b[39m, \u001b[38;5;28;01mNone\u001b[39;00m))\n\u001b[0;32m    442\u001b[0m     \u001b[38;5;28;01mreturn\u001b[39;00m response\n",
      "File \u001b[1;32m~\\anaconda3\\lib\\site-packages\\selenium\\webdriver\\remote\\errorhandler.py:245\u001b[0m, in \u001b[0;36mErrorHandler.check_response\u001b[1;34m(self, response)\u001b[0m\n\u001b[0;32m    243\u001b[0m         alert_text \u001b[38;5;241m=\u001b[39m value[\u001b[38;5;124m\"\u001b[39m\u001b[38;5;124malert\u001b[39m\u001b[38;5;124m\"\u001b[39m]\u001b[38;5;241m.\u001b[39mget(\u001b[38;5;124m\"\u001b[39m\u001b[38;5;124mtext\u001b[39m\u001b[38;5;124m\"\u001b[39m)\n\u001b[0;32m    244\u001b[0m     \u001b[38;5;28;01mraise\u001b[39;00m exception_class(message, screen, stacktrace, alert_text)  \u001b[38;5;66;03m# type: ignore[call-arg]  # mypy is not smart enough here\u001b[39;00m\n\u001b[1;32m--> 245\u001b[0m \u001b[38;5;28;01mraise\u001b[39;00m exception_class(message, screen, stacktrace)\n",
      "\u001b[1;31mWebDriverException\u001b[0m: Message: unknown error: net::ERR_NAME_NOT_RESOLVED\n  (Session info: chrome=110.0.5481.178)\nStacktrace:\nBacktrace:\n\t(No symbol) [0x005137D3]\n\t(No symbol) [0x004A8B81]\n\t(No symbol) [0x003AB36D]\n\t(No symbol) [0x003A772D]\n\t(No symbol) [0x0039DC65]\n\t(No symbol) [0x0039F033]\n\t(No symbol) [0x0039DF02]\n\t(No symbol) [0x0039D324]\n\t(No symbol) [0x0039D241]\n\t(No symbol) [0x0039BC95]\n\t(No symbol) [0x0039C518]\n\t(No symbol) [0x003ACF4C]\n\t(No symbol) [0x00411E01]\n\t(No symbol) [0x003FB41C]\n\t(No symbol) [0x00411215]\n\t(No symbol) [0x003FB216]\n\t(No symbol) [0x003D0D97]\n\t(No symbol) [0x003D253D]\n\tGetHandleVerifier [0x0078ABF2+2510930]\n\tGetHandleVerifier [0x007B8EC1+2700065]\n\tGetHandleVerifier [0x007BC86C+2714828]\n\tGetHandleVerifier [0x005C3480+645344]\n\t(No symbol) [0x004B0FD2]\n\t(No symbol) [0x004B6C68]\n\t(No symbol) [0x004B6D4B]\n\t(No symbol) [0x004C0D6B]\n\tBaseThreadInitThunk [0x76ADFA29+25]\n\tRtlGetAppContainerNamedObjectPath [0x777575F4+228]\n\tRtlGetAppContainerNamedObjectPath [0x777575C4+180]\n"
     ]
    }
   ],
   "source": [
    "Brand=[]\n",
    "nameofproduct=[]\n",
    "price=[]\n",
    "exchange=[]\n",
    "expecteddelivery=[]\n",
    "availability=[]\n",
    "for url in producturl:\n",
    "    driver.get(url)\n",
    "    time.sleep(3)\n",
    "    try:\n",
    "        brand=driver.find_elements(By.XPATH,'//span[@ class=\"a-size-base po-break-word\"]')\n",
    "        Brand.append(brand.text)\n",
    "    except:\n",
    "        Brand.append(\"-\")\n",
    "    try:\n",
    "        Nameofproduct=driver.find_elements(By.xpath,'//span[@ class=\"a-size-large product-title-word-break\"]')\n",
    "        nameofproduct.append(Nameofproduct.text)\n",
    "    except:\n",
    "        nameofproduct.append(\"-\")\n",
    "    try:\n",
    "        Price=driver.find_elements(By.XPATH,'//span [@ class=\"a-price-whole\"]')\n",
    "        price.append(Price.text)\n",
    "    except:\n",
    "        price.append(\"-\")\n",
    "    try:\n",
    "        Return=driver.find_elements(By.XPATH,'//a [@class=a-size-small a-link-normal a-text-normal\"]')\n",
    "        exchange.append(Return.text)\n",
    "    except:\n",
    "        exchange.append(\"-\")\n",
    "    try:\n",
    "        Expecteddelivery=driver.find_elements(By.XPATH,'//div[@class=\"a-specing-base\"]')\n",
    "        expecteddelivery.append(Expecteddelivery.text)\n",
    "    except:\n",
    "        expecteddelivery.append(\"-\")\n",
    "    try:\n",
    "        Availability=driver.find(By.XPATH,'//span [@class=\"a-size-medium a-color-success\"]')\n",
    "        availability.append(Availability.text)\n",
    "    except:\n",
    "        availability.append(\"-\")"
   ]
  },
  {
   "cell_type": "code",
   "execution_count": 8,
   "id": "16ecfa28",
   "metadata": {},
   "outputs": [
    {
     "name": "stdout",
     "output_type": "stream",
     "text": [
      "167 167 167 167 167 167 167\n"
     ]
    }
   ],
   "source": [
    "print(len(Brand),len(nameofproduct),len(price),len(exchange),len(expecteddelivery),len(availability),len(producturl))"
   ]
  },
  {
   "cell_type": "code",
   "execution_count": 10,
   "id": "e2acaba9",
   "metadata": {},
   "outputs": [
    {
     "data": {
      "text/html": [
       "<div>\n",
       "<style scoped>\n",
       "    .dataframe tbody tr th:only-of-type {\n",
       "        vertical-align: middle;\n",
       "    }\n",
       "\n",
       "    .dataframe tbody tr th {\n",
       "        vertical-align: top;\n",
       "    }\n",
       "\n",
       "    .dataframe thead th {\n",
       "        text-align: right;\n",
       "    }\n",
       "</style>\n",
       "<table border=\"1\" class=\"dataframe\">\n",
       "  <thead>\n",
       "    <tr style=\"text-align: right;\">\n",
       "      <th></th>\n",
       "      <th>Brand</th>\n",
       "      <th>nameofproduct</th>\n",
       "      <th>Price</th>\n",
       "      <th>Exchange</th>\n",
       "      <th>Expecteddelivery</th>\n",
       "      <th>Availability</th>\n",
       "      <th>URL</th>\n",
       "    </tr>\n",
       "  </thead>\n",
       "  <tbody>\n",
       "    <tr>\n",
       "      <th>0</th>\n",
       "      <td>-</td>\n",
       "      <td>-</td>\n",
       "      <td>-</td>\n",
       "      <td>-</td>\n",
       "      <td>-</td>\n",
       "      <td>-</td>\n",
       "      <td>https://www.amazon.in/sspa/click?ie=UTF8&amp;spc=M...</td>\n",
       "    </tr>\n",
       "    <tr>\n",
       "      <th>1</th>\n",
       "      <td>-</td>\n",
       "      <td>-</td>\n",
       "      <td>-</td>\n",
       "      <td>-</td>\n",
       "      <td>-</td>\n",
       "      <td>-</td>\n",
       "      <td>https://www.amazon.in/sspa/click?ie=UTF8&amp;spc=M...</td>\n",
       "    </tr>\n",
       "    <tr>\n",
       "      <th>2</th>\n",
       "      <td>-</td>\n",
       "      <td>-</td>\n",
       "      <td>-</td>\n",
       "      <td>-</td>\n",
       "      <td>-</td>\n",
       "      <td>-</td>\n",
       "      <td>https://www.amazon.in/sspa/click?ie=UTF8&amp;spc=M...</td>\n",
       "    </tr>\n",
       "    <tr>\n",
       "      <th>3</th>\n",
       "      <td>-</td>\n",
       "      <td>-</td>\n",
       "      <td>-</td>\n",
       "      <td>-</td>\n",
       "      <td>-</td>\n",
       "      <td>-</td>\n",
       "      <td>https://www.amazon.in/sspa/click?ie=UTF8&amp;spc=M...</td>\n",
       "    </tr>\n",
       "    <tr>\n",
       "      <th>4</th>\n",
       "      <td>-</td>\n",
       "      <td>-</td>\n",
       "      <td>-</td>\n",
       "      <td>-</td>\n",
       "      <td>-</td>\n",
       "      <td>-</td>\n",
       "      <td>https://www.amazon.in/Juarez-Acoustic-Cutaway-...</td>\n",
       "    </tr>\n",
       "    <tr>\n",
       "      <th>...</th>\n",
       "      <td>...</td>\n",
       "      <td>...</td>\n",
       "      <td>...</td>\n",
       "      <td>...</td>\n",
       "      <td>...</td>\n",
       "      <td>...</td>\n",
       "      <td>...</td>\n",
       "    </tr>\n",
       "    <tr>\n",
       "      <th>162</th>\n",
       "      <td>-</td>\n",
       "      <td>-</td>\n",
       "      <td>-</td>\n",
       "      <td>-</td>\n",
       "      <td>-</td>\n",
       "      <td>-</td>\n",
       "      <td>https://www.amazon.in/Vault-Jazz-Bass-4-String...</td>\n",
       "    </tr>\n",
       "    <tr>\n",
       "      <th>163</th>\n",
       "      <td>-</td>\n",
       "      <td>-</td>\n",
       "      <td>-</td>\n",
       "      <td>-</td>\n",
       "      <td>-</td>\n",
       "      <td>-</td>\n",
       "      <td>https://www.amazon.in/Yamaha-PACIFICA012-Elect...</td>\n",
       "    </tr>\n",
       "    <tr>\n",
       "      <th>164</th>\n",
       "      <td>-</td>\n",
       "      <td>-</td>\n",
       "      <td>-</td>\n",
       "      <td>-</td>\n",
       "      <td>-</td>\n",
       "      <td>-</td>\n",
       "      <td>https://www.amazon.in/Yamaha-FS100C-Acoustic-G...</td>\n",
       "    </tr>\n",
       "    <tr>\n",
       "      <th>165</th>\n",
       "      <td>-</td>\n",
       "      <td>-</td>\n",
       "      <td>-</td>\n",
       "      <td>-</td>\n",
       "      <td>-</td>\n",
       "      <td>-</td>\n",
       "      <td>https://www.amazon.in/Belear-I480-CRD-Cherry-A...</td>\n",
       "    </tr>\n",
       "    <tr>\n",
       "      <th>166</th>\n",
       "      <td>-</td>\n",
       "      <td>-</td>\n",
       "      <td>-</td>\n",
       "      <td>-</td>\n",
       "      <td>-</td>\n",
       "      <td>-</td>\n",
       "      <td>https://www.amazon.in/Fender-SA105CEBK-Acousti...</td>\n",
       "    </tr>\n",
       "  </tbody>\n",
       "</table>\n",
       "<p>167 rows × 7 columns</p>\n",
       "</div>"
      ],
      "text/plain": [
       "    Brand nameofproduct Price Exchange Expecteddelivery Availability  \\\n",
       "0       -             -     -        -                -            -   \n",
       "1       -             -     -        -                -            -   \n",
       "2       -             -     -        -                -            -   \n",
       "3       -             -     -        -                -            -   \n",
       "4       -             -     -        -                -            -   \n",
       "..    ...           ...   ...      ...              ...          ...   \n",
       "162     -             -     -        -                -            -   \n",
       "163     -             -     -        -                -            -   \n",
       "164     -             -     -        -                -            -   \n",
       "165     -             -     -        -                -            -   \n",
       "166     -             -     -        -                -            -   \n",
       "\n",
       "                                                   URL  \n",
       "0    https://www.amazon.in/sspa/click?ie=UTF8&spc=M...  \n",
       "1    https://www.amazon.in/sspa/click?ie=UTF8&spc=M...  \n",
       "2    https://www.amazon.in/sspa/click?ie=UTF8&spc=M...  \n",
       "3    https://www.amazon.in/sspa/click?ie=UTF8&spc=M...  \n",
       "4    https://www.amazon.in/Juarez-Acoustic-Cutaway-...  \n",
       "..                                                 ...  \n",
       "162  https://www.amazon.in/Vault-Jazz-Bass-4-String...  \n",
       "163  https://www.amazon.in/Yamaha-PACIFICA012-Elect...  \n",
       "164  https://www.amazon.in/Yamaha-FS100C-Acoustic-G...  \n",
       "165  https://www.amazon.in/Belear-I480-CRD-Cherry-A...  \n",
       "166  https://www.amazon.in/Fender-SA105CEBK-Acousti...  \n",
       "\n",
       "[167 rows x 7 columns]"
      ]
     },
     "execution_count": 10,
     "metadata": {},
     "output_type": "execute_result"
    }
   ],
   "source": [
    "df=pd.DataFrame({'Brand':Brand,'nameofproduct':nameofproduct,'Price':price,'Exchange':exchange,'Expecteddelivery':expecteddelivery,'Availability':availability,'URL':producturl})\n",
    "df"
   ]
  },
  {
   "cell_type": "markdown",
   "id": "e2ceee0c",
   "metadata": {},
   "source": [
    "#ASSIGNMENT QUESTION 3"
   ]
  },
  {
   "cell_type": "code",
   "execution_count": null,
   "id": "892d44eb",
   "metadata": {},
   "outputs": [],
   "source": []
  },
  {
   "cell_type": "code",
   "execution_count": 2,
   "id": "9960d4e5",
   "metadata": {},
   "outputs": [],
   "source": [
    "driver=webdriver.Chrome(r\"Chromedriver.exe\")"
   ]
  },
  {
   "cell_type": "code",
   "execution_count": 3,
   "id": "8ad91d20",
   "metadata": {},
   "outputs": [],
   "source": [
    "driver.get(\"https://images.google.com/?gws_rd=ssl\")"
   ]
  },
  {
   "cell_type": "code",
   "execution_count": 4,
   "id": "d52006c6",
   "metadata": {},
   "outputs": [],
   "source": [
    "time.sleep(2)"
   ]
  },
  {
   "cell_type": "code",
   "execution_count": 5,
   "id": "ca769e08",
   "metadata": {},
   "outputs": [],
   "source": [
    "search_bar=driver.find_element(By.XPATH,'/html/body/div[1]/div[3]/form/div[1]/div[1]/div[1]/div/div[2]/input')\n",
    "search_bar.send_keys(\"images\")\n",
    "time.sleep(1)"
   ]
  },
  {
   "cell_type": "code",
   "execution_count": 7,
   "id": "9dcc7169",
   "metadata": {},
   "outputs": [],
   "source": [
    "search_button=driver.find_element(By.XPATH,'/html/body/div[1]/div[3]/form/div[1]/div[1]/div[1]/button')\n",
    "search_button.click()\n",
    "time.sleep(3)"
   ]
  },
  {
   "cell_type": "code",
   "execution_count": 18,
   "id": "2ca95241",
   "metadata": {},
   "outputs": [],
   "source": [
    "m=1\n",
    "keyword=['fruits','cars','machine learning','guitar','cakes']\n",
    "for key in keyword:\n",
    "    search=driver.find_element(By.XPATH,'//input[@class=\"og3lId\"]')\n",
    "    search.clear()\n",
    "    search.send_keys(str(key))\n",
    "    time.sleep(3)"
   ]
  },
  {
   "cell_type": "code",
   "execution_count": 21,
   "id": "81fadea3",
   "metadata": {},
   "outputs": [],
   "source": [
    "click=driver.find_element(By.XPATH,'//span[@class=\"n6h3Rc\"]')\n",
    "click.click()\n",
    "time.sleep(3)"
   ]
  },
  {
   "cell_type": "code",
   "execution_count": 22,
   "id": "17b9b1cd",
   "metadata": {},
   "outputs": [],
   "source": [
    "x=0\n",
    "while x<10:\n",
    "    driver.execute_script(\"window.scrollBy(0,100)\")\n",
    "    time.sleep(1)\n",
    "    x=x+1"
   ]
  },
  {
   "cell_type": "code",
   "execution_count": 23,
   "id": "b422ce60",
   "metadata": {},
   "outputs": [],
   "source": [
    "images=driver.find_elements(By.XPATH,'//img[@class=\"rg_i Q4LuWd\"]')\n",
    "url=[]\n",
    "for i in images:\n",
    "    x=i.get_attribute('src')\n",
    "    if x is not None:\n",
    "        if(x[0:4]=='http'):\n",
    "            url.append(x)\n",
    "i=0\n",
    "for i in range(len(url)):\n",
    "    if i>10:\n",
    "        break\n",
    "    reponse=requests.get(url[i])\n",
    "    file=open(r\"C:\\Users\\HOME\\Downloads\\images\"+str(i+m)+\".jpg\",\"wb\")\n",
    "    file.write(reponse.content)\n",
    "    m=m+1"
   ]
  },
  {
   "cell_type": "code",
   "execution_count": null,
   "id": "9742907b",
   "metadata": {},
   "outputs": [],
   "source": [
    "\n",
    "        "
   ]
  },
  {
   "cell_type": "code",
   "execution_count": null,
   "id": "26ee368a",
   "metadata": {},
   "outputs": [],
   "source": []
  },
  {
   "cell_type": "code",
   "execution_count": null,
   "id": "84e469df",
   "metadata": {},
   "outputs": [],
   "source": []
  },
  {
   "cell_type": "markdown",
   "id": "d98130cd",
   "metadata": {},
   "source": [
    "Assignment Question 4"
   ]
  },
  {
   "cell_type": "code",
   "execution_count": 3,
   "id": "571fac84",
   "metadata": {},
   "outputs": [],
   "source": [
    "driver=webdriver.Chrome(r\"Chromedriver.exe\")"
   ]
  },
  {
   "cell_type": "code",
   "execution_count": 4,
   "id": "49c5f0c7",
   "metadata": {},
   "outputs": [],
   "source": [
    "driver.get(\"https://www.flipkart.com/\")"
   ]
  },
  {
   "cell_type": "code",
   "execution_count": 5,
   "id": "83a7cba2",
   "metadata": {},
   "outputs": [],
   "source": [
    "product=driver.find_element(By.XPATH,'/html/body/div[1]/div/div[1]/div[1]/div[2]/div[2]/form/div/div/input')\n",
    "product.send_keys(\"oneplus Nord,pixel 4A\")"
   ]
  },
  {
   "cell_type": "code",
   "execution_count": 6,
   "id": "cc2dbcc0",
   "metadata": {},
   "outputs": [],
   "source": [
    "search_bar=driver.find_element(By.XPATH,'/html/body/div[1]/div/div[1]/div[1]/div[2]/div[2]/form/div/button')\n",
    "search_bar.click()"
   ]
  },
  {
   "cell_type": "code",
   "execution_count": 9,
   "id": "8d5c88c2",
   "metadata": {},
   "outputs": [
    {
     "data": {
      "text/plain": [
       "['OnePlus Nord ',\n",
       " 'OnePlus Nord ',\n",
       " 'OnePlus Nord ',\n",
       " 'OnePlus Nord ',\n",
       " 'OnePlus Nord ',\n",
       " 'OnePlus Nord ',\n",
       " 'OnePlus Nord CE 2 5G ',\n",
       " 'OnePlus Nord CE 2 5G ']"
      ]
     },
     "execution_count": 9,
     "metadata": {},
     "output_type": "execute_result"
    }
   ],
   "source": [
    "brand=[]\n",
    "Brand=driver.find_elements(By.XPATH,'//div[ @class=\"_4rR01T\"]')\n",
    "\n",
    "for i in Brand:\n",
    "    try:\n",
    "        brand.append(i.text.split(\"(\")[0])\n",
    "    except:\n",
    "        brand.append(\"-\")\n",
    "len(brand)\n",
    "brand"
   ]
  },
  {
   "cell_type": "code",
   "execution_count": 33,
   "id": "4847abea",
   "metadata": {},
   "outputs": [
    {
     "data": {
      "text/plain": [
       "['OnePlus Nord ',\n",
       " 'OnePlus Nord ',\n",
       " 'OnePlus Nord ',\n",
       " 'OnePlus Nord ',\n",
       " 'OnePlus Nord ',\n",
       " 'OnePlus Nord ',\n",
       " 'OnePlus Nord CE 2 5G ',\n",
       " 'OnePlus Nord CE 2 5G ']"
      ]
     },
     "execution_count": 33,
     "metadata": {},
     "output_type": "execute_result"
    }
   ],
   "source": [
    "smartphone=[]\n",
    "Phone=driver.find_elements(By.XPATH,'//div[@class=\"_4rR01T\"]')\n",
    "for i in Phone:\n",
    "    try:\n",
    "        smartphone.append(i.text.split(\"(\")[0])\n",
    "    except:\n",
    "        smartphone.append(\"-\")\n",
    "smartphone"
   ]
  },
  {
   "cell_type": "code",
   "execution_count": 12,
   "id": "b70fc9b0",
   "metadata": {},
   "outputs": [
    {
     "data": {
      "text/plain": [
       "['Blue Marble',\n",
       " 'Blue Marble',\n",
       " 'Gray Onyx',\n",
       " 'Gray Onyx',\n",
       " 'Blue Marble',\n",
       " 'Gray Onyx',\n",
       " 'Gray Mirror',\n",
       " 'Gray Mirror']"
      ]
     },
     "execution_count": 12,
     "metadata": {},
     "output_type": "execute_result"
    }
   ],
   "source": [
    "phonecolor=[]\n",
    "Phone=driver.find_elements(By.XPATH,'//div[@class=\"_4rR01T\"]')\n",
    "for i in Phone:\n",
    "    try:\n",
    "        phonecolor.append(i.text.split(\"(\")[1].split(\",\")[0])\n",
    "    except:\n",
    "        phonecolor.append(\"-\")\n",
    "phonecolor"
   ]
  },
  {
   "cell_type": "code",
   "execution_count": 17,
   "id": "acc87b11",
   "metadata": {},
   "outputs": [
    {
     "data": {
      "text/plain": [
       "['48MP + 8MP ',\n",
       " '48MP + 8MP ',\n",
       " '48MP + 8MP ',\n",
       " '48MP + 8MP ',\n",
       " '48MP + 8MP ',\n",
       " '48MP + 8MP ',\n",
       " '64MP Rear Camera',\n",
       " '64MP Rear Camera']"
      ]
     },
     "execution_count": 17,
     "metadata": {},
     "output_type": "execute_result"
    }
   ],
   "source": [
    "camra=[]\n",
    "Camra=driver.find_elements(By.XPATH,'//div[@class=\"fMghEO\"]/ul/li[3]')\n",
    "for i in Camra:\n",
    "    try:\n",
    "        camra.append(i.text.split(\"|\")[0])\n",
    "    except:\n",
    "        camra.append(\"-\")\n",
    "camra"
   ]
  },
  {
   "cell_type": "code",
   "execution_count": 16,
   "id": "a7b8a5c8",
   "metadata": {},
   "outputs": [],
   "source": [
    "ram=[]\n",
    "#Ram=driver.find_elements(By.XPATH,'//li[ @class=\"rgWa7D\"]')\n",
    "Ram=driver.find_elements(By.XPATH,'//div[@class=\"fMghEO\"]/ul/li[1]')\n",
    "for i in Ram:\n",
    "    try:\n",
    "        ram.append(i.text.split(\"|\")[0])\n",
    "    except:\n",
    "        ram.append(\"-\")\n",
    "      "
   ]
  },
  {
   "cell_type": "code",
   "execution_count": 19,
   "id": "b02e5fcd",
   "metadata": {},
   "outputs": [
    {
     "data": {
      "text/plain": [
       "[' 128 GB ROM',\n",
       " ' 64 GB ROM',\n",
       " ' 256 GB ROM',\n",
       " ' 64 GB ROM',\n",
       " ' 256 GB ROM',\n",
       " ' 128 GB ROM',\n",
       " ' 128 GB ROM',\n",
       " ' 128 GB ROM']"
      ]
     },
     "execution_count": 19,
     "metadata": {},
     "output_type": "execute_result"
    }
   ],
   "source": [
    "rom=[]\n",
    "Rom=driver.find_elements(By.XPATH,'//div[@class=\"fMghEO\"]/ul/li[1]')\n",
    "for i in Rom:\n",
    "    try:\n",
    "        rom.append(i.text.split(\"|\")[1])\n",
    "    except:\n",
    "        rom.append(\"-\")\n",
    "rom      "
   ]
  },
  {
   "cell_type": "code",
   "execution_count": 21,
   "id": "91e920bd",
   "metadata": {},
   "outputs": [
    {
     "data": {
      "text/plain": [
       "[' 32MP + 8MP Dual Front Camera',\n",
       " ' 32MP + 8MP Dual Front Camera',\n",
       " ' 32MP + 8MP Dual Front Camera',\n",
       " ' 32MP + 8MP Dual Front Camera',\n",
       " ' 32MP + 8MP Dual Front Camera',\n",
       " ' 32MP + 8MP Dual Front Camera',\n",
       " '-',\n",
       " '-']"
      ]
     },
     "execution_count": 21,
     "metadata": {},
     "output_type": "execute_result"
    }
   ],
   "source": [
    "secondarycamra=[]\n",
    "seccamra=driver.find_elements(By.XPATH,'//div[@class=\"fMghEO\"]/ul/li[3]')\n",
    "for i in seccamra:\n",
    "    try:\n",
    "        secondarycamra.append(i.text.split(\"|\")[1])\n",
    "    except:\n",
    "        secondarycamra.append(\"-\")\n",
    "secondarycamra"
   ]
  },
  {
   "cell_type": "code",
   "execution_count": 23,
   "id": "5abd7dc8",
   "metadata": {},
   "outputs": [
    {
     "data": {
      "text/plain": [
       "['16.36 cm (6.44 inch) Full HD+ Display',\n",
       " '16.36 cm (6.44 inch) Full HD+ Display',\n",
       " '16.36 cm (6.44 inch) Full HD+ Display',\n",
       " '16.36 cm (6.44 inch) Full HD+ Display',\n",
       " '16.36 cm (6.44 inch) Full HD+ Display',\n",
       " '16.36 cm (6.44 inch) Full HD+ Display',\n",
       " '16.33 cm (6.43 inch) Display',\n",
       " '16.33 cm (6.43 inch) Display']"
      ]
     },
     "execution_count": 23,
     "metadata": {},
     "output_type": "execute_result"
    }
   ],
   "source": [
    "displaysize=[]\n",
    "display=driver.find_elements(By.XPATH,'//div[@class=\"fMghEO\"]/ul/li[2]')\n",
    "for i in display:\n",
    "    try:\n",
    "        displaysize.append(i.text)\n",
    "    except:\n",
    "        displaysize.append(\"-\")\n",
    "displaysize"
   ]
  },
  {
   "cell_type": "code",
   "execution_count": 25,
   "id": "e5bb06b2",
   "metadata": {},
   "outputs": [
    {
     "data": {
      "text/plain": [
       "['4115 mAh Battery',\n",
       " '4115 mAh Battery',\n",
       " '4115 mAh Battery',\n",
       " '4115 mAh Battery',\n",
       " '4115 mAh Battery',\n",
       " '4115 mAh Battery',\n",
       " '4500 mAh Battery',\n",
       " '4500 mAh Battery']"
      ]
     },
     "execution_count": 25,
     "metadata": {},
     "output_type": "execute_result"
    }
   ],
   "source": [
    "battery=[]\n",
    "Battery=driver.find_elements(By.XPATH,'//div[@class=\"fMghEO\"]/ul/li[4]')\n",
    "for i in Battery:\n",
    "    try:\n",
    "        battery.append(i.text)\n",
    "    except:\n",
    "        battery.append(\"-\")\n",
    "battery\n",
    "        "
   ]
  },
  {
   "cell_type": "code",
   "execution_count": 26,
   "id": "946b1b29",
   "metadata": {},
   "outputs": [
    {
     "data": {
      "text/plain": [
       "['₹27,999',\n",
       " '₹24,999',\n",
       " '₹29,999',\n",
       " '₹24,999',\n",
       " '₹29,999',\n",
       " '₹27,999',\n",
       " '₹19,999',\n",
       " '₹24,990']"
      ]
     },
     "execution_count": 26,
     "metadata": {},
     "output_type": "execute_result"
    }
   ],
   "source": [
    "price=[]\n",
    "Price=driver.find_elements(By.XPATH,'//div[ @class=\"_30jeq3 _1_WHN1\"]')\n",
    "for i in Price:\n",
    "    try:\n",
    "        price.append(i.text)\n",
    "    except:\n",
    "        price.append(\"-\")\n",
    "price"
   ]
  },
  {
   "cell_type": "code",
   "execution_count": 29,
   "id": "f4467002",
   "metadata": {},
   "outputs": [
    {
     "data": {
      "text/plain": [
       "['https://www.flipkart.com/oneplus-nord-blue-marble-128-gb/p/itm49f817b591982?pid=MOBFUE5JWYDZX6HX&lid=LSTMOBFUE5JWYDZX6HXJZSHIV&marketplace=FLIPKART&q=oneplus+Nord%2Cpixel+4A&store=tyy%2F4io&srno=s_1_1&otracker=search&otracker1=search&fm=organic&iid=e1215868-8697-430b-98f9-1af8345867e6.MOBFUE5JWYDZX6HX.SEARCH&ppt=hp&ppn=homepage&ssid=4h1xxmylcg0000001677229968350&qH=713a7bc956e1e230',\n",
       " 'https://www.flipkart.com/oneplus-nord-blue-marble-64-gb/p/itm49f817b591982?pid=MOBFUE5N7KAGZHHC&lid=LSTMOBFUE5N7KAGZHHC6NVUQL&marketplace=FLIPKART&q=oneplus+Nord%2Cpixel+4A&store=tyy%2F4io&srno=s_1_2&otracker=search&otracker1=search&fm=organic&iid=e1215868-8697-430b-98f9-1af8345867e6.MOBFUE5N7KAGZHHC.SEARCH&ppt=hp&ppn=homepage&ssid=4h1xxmylcg0000001677229968350&qH=713a7bc956e1e230',\n",
       " 'https://www.flipkart.com/oneplus-nord-gray-onyx-256-gb/p/itm49f817b591982?pid=MOBFUE5GGWHFC37J&lid=LSTMOBFUE5GGWHFC37JNXZLYZ&marketplace=FLIPKART&q=oneplus+Nord%2Cpixel+4A&store=tyy%2F4io&srno=s_1_3&otracker=search&otracker1=search&fm=organic&iid=e1215868-8697-430b-98f9-1af8345867e6.MOBFUE5GGWHFC37J.SEARCH&ppt=hp&ppn=homepage&ssid=4h1xxmylcg0000001677229968350&qH=713a7bc956e1e230',\n",
       " 'https://www.flipkart.com/oneplus-nord-gray-onyx-64-gb/p/itm49f817b591982?pid=MOBFUE5H57THFNVJ&lid=LSTMOBFUE5H57THFNVJSYCAHJ&marketplace=FLIPKART&q=oneplus+Nord%2Cpixel+4A&store=tyy%2F4io&srno=s_1_4&otracker=search&otracker1=search&fm=organic&iid=e1215868-8697-430b-98f9-1af8345867e6.MOBFUE5H57THFNVJ.SEARCH&ppt=hp&ppn=homepage&ssid=4h1xxmylcg0000001677229968350&qH=713a7bc956e1e230',\n",
       " 'https://www.flipkart.com/oneplus-nord-blue-marble-256-gb/p/itm49f817b591982?pid=MOBFUE5HUU5ZYGRY&lid=LSTMOBFUE5HUU5ZYGRY4ZWZZN&marketplace=FLIPKART&q=oneplus+Nord%2Cpixel+4A&store=tyy%2F4io&srno=s_1_5&otracker=search&otracker1=search&fm=organic&iid=e1215868-8697-430b-98f9-1af8345867e6.MOBFUE5HUU5ZYGRY.SEARCH&ppt=hp&ppn=homepage&ssid=4h1xxmylcg0000001677229968350&qH=713a7bc956e1e230',\n",
       " 'https://www.flipkart.com/oneplus-nord-gray-onyx-128-gb/p/itm49f817b591982?pid=MOBFUE5HW4XUUGBN&lid=LSTMOBFUE5HW4XUUGBNMZB8TR&marketplace=FLIPKART&q=oneplus+Nord%2Cpixel+4A&store=tyy%2F4io&srno=s_1_6&otracker=search&otracker1=search&fm=organic&iid=e1215868-8697-430b-98f9-1af8345867e6.MOBFUE5HW4XUUGBN.SEARCH&ppt=hp&ppn=homepage&ssid=4h1xxmylcg0000001677229968350&qH=713a7bc956e1e230',\n",
       " 'https://www.flipkart.com/oneplus-nord-ce-2-5g-gray-mirror-128-gb/p/itme3c94dc3fc910?pid=MOBGJMUHX7ACJ44Z&lid=LSTMOBGJMUHX7ACJ44ZRM2XKB&marketplace=FLIPKART&q=oneplus+Nord%2Cpixel+4A&store=tyy%2F4io&srno=s_1_7&otracker=search&otracker1=search&fm=organic&iid=e1215868-8697-430b-98f9-1af8345867e6.MOBGJMUHX7ACJ44Z.SEARCH&ppt=hp&ppn=homepage&ssid=4h1xxmylcg0000001677229968350&qH=713a7bc956e1e230',\n",
       " 'https://www.flipkart.com/oneplus-nord-ce-2-5g-gray-mirror-128-gb/p/itm2a9883679c57c?pid=MOBGDHWMFQBKFV5F&lid=LSTMOBGDHWMFQBKFV5FJL44RI&marketplace=FLIPKART&q=oneplus+Nord%2Cpixel+4A&store=tyy%2F4io&srno=s_1_8&otracker=search&otracker1=search&fm=organic&iid=e1215868-8697-430b-98f9-1af8345867e6.MOBGDHWMFQBKFV5F.SEARCH&ppt=hp&ppn=homepage&ssid=4h1xxmylcg0000001677229968350&qH=713a7bc956e1e230']"
      ]
     },
     "execution_count": 29,
     "metadata": {},
     "output_type": "execute_result"
    }
   ],
   "source": [
    "url=[]\n",
    "Url=driver.find_elements(By.XPATH,'//a [@class=\"_1fQZEK\"]')\n",
    "for i in Url:\n",
    "    try:\n",
    "        url.append(i.get_attribute(\"href\"))\n",
    "    except:\n",
    "        url.append(\"-\")\n",
    "url"
   ]
  },
  {
   "cell_type": "code",
   "execution_count": 36,
   "id": "40c2f491",
   "metadata": {},
   "outputs": [
    {
     "name": "stdout",
     "output_type": "stream",
     "text": [
      "8 8 8 8 8 8 8 8 8 8 8\n"
     ]
    }
   ],
   "source": [
    "print(len(brand),len(smartphone),len(phonecolor),len(camra),len(ram),len(rom),len(secondarycamra),len(displaysize),len(battery),len(price),len(url))"
   ]
  },
  {
   "cell_type": "code",
   "execution_count": 37,
   "id": "b18a7b53",
   "metadata": {},
   "outputs": [],
   "source": [
    "import pandas as pd\n",
    "df=pd.DataFrame({'Brand':brand,'Smartphone':smartphone,'color':phonecolor,'Primary_camra':camra,'Ram':ram,'Rom':rom,'Secondary_camra':secondarycamra,'DisplaySize':displaysize,'BatteryCapacity':battery,'Price':price,'URL':url})"
   ]
  },
  {
   "cell_type": "code",
   "execution_count": 38,
   "id": "0f967053",
   "metadata": {},
   "outputs": [
    {
     "data": {
      "text/html": [
       "<div>\n",
       "<style scoped>\n",
       "    .dataframe tbody tr th:only-of-type {\n",
       "        vertical-align: middle;\n",
       "    }\n",
       "\n",
       "    .dataframe tbody tr th {\n",
       "        vertical-align: top;\n",
       "    }\n",
       "\n",
       "    .dataframe thead th {\n",
       "        text-align: right;\n",
       "    }\n",
       "</style>\n",
       "<table border=\"1\" class=\"dataframe\">\n",
       "  <thead>\n",
       "    <tr style=\"text-align: right;\">\n",
       "      <th></th>\n",
       "      <th>Brand</th>\n",
       "      <th>Smartphone</th>\n",
       "      <th>color</th>\n",
       "      <th>Primary_camra</th>\n",
       "      <th>Ram</th>\n",
       "      <th>Rom</th>\n",
       "      <th>Secondary_camra</th>\n",
       "      <th>DisplaySize</th>\n",
       "      <th>BatteryCapacity</th>\n",
       "      <th>Price</th>\n",
       "      <th>URL</th>\n",
       "    </tr>\n",
       "  </thead>\n",
       "  <tbody>\n",
       "    <tr>\n",
       "      <th>0</th>\n",
       "      <td>OnePlus Nord</td>\n",
       "      <td>OnePlus Nord</td>\n",
       "      <td>Blue Marble</td>\n",
       "      <td>48MP + 8MP</td>\n",
       "      <td>8 GB RAM</td>\n",
       "      <td>128 GB ROM</td>\n",
       "      <td>32MP + 8MP Dual Front Camera</td>\n",
       "      <td>16.36 cm (6.44 inch) Full HD+ Display</td>\n",
       "      <td>4115 mAh Battery</td>\n",
       "      <td>₹27,999</td>\n",
       "      <td>https://www.flipkart.com/oneplus-nord-blue-mar...</td>\n",
       "    </tr>\n",
       "    <tr>\n",
       "      <th>1</th>\n",
       "      <td>OnePlus Nord</td>\n",
       "      <td>OnePlus Nord</td>\n",
       "      <td>Blue Marble</td>\n",
       "      <td>48MP + 8MP</td>\n",
       "      <td>6 GB RAM</td>\n",
       "      <td>64 GB ROM</td>\n",
       "      <td>32MP + 8MP Dual Front Camera</td>\n",
       "      <td>16.36 cm (6.44 inch) Full HD+ Display</td>\n",
       "      <td>4115 mAh Battery</td>\n",
       "      <td>₹24,999</td>\n",
       "      <td>https://www.flipkart.com/oneplus-nord-blue-mar...</td>\n",
       "    </tr>\n",
       "    <tr>\n",
       "      <th>2</th>\n",
       "      <td>OnePlus Nord</td>\n",
       "      <td>OnePlus Nord</td>\n",
       "      <td>Gray Onyx</td>\n",
       "      <td>48MP + 8MP</td>\n",
       "      <td>12 GB RAM</td>\n",
       "      <td>256 GB ROM</td>\n",
       "      <td>32MP + 8MP Dual Front Camera</td>\n",
       "      <td>16.36 cm (6.44 inch) Full HD+ Display</td>\n",
       "      <td>4115 mAh Battery</td>\n",
       "      <td>₹29,999</td>\n",
       "      <td>https://www.flipkart.com/oneplus-nord-gray-ony...</td>\n",
       "    </tr>\n",
       "    <tr>\n",
       "      <th>3</th>\n",
       "      <td>OnePlus Nord</td>\n",
       "      <td>OnePlus Nord</td>\n",
       "      <td>Gray Onyx</td>\n",
       "      <td>48MP + 8MP</td>\n",
       "      <td>6 GB RAM</td>\n",
       "      <td>64 GB ROM</td>\n",
       "      <td>32MP + 8MP Dual Front Camera</td>\n",
       "      <td>16.36 cm (6.44 inch) Full HD+ Display</td>\n",
       "      <td>4115 mAh Battery</td>\n",
       "      <td>₹24,999</td>\n",
       "      <td>https://www.flipkart.com/oneplus-nord-gray-ony...</td>\n",
       "    </tr>\n",
       "    <tr>\n",
       "      <th>4</th>\n",
       "      <td>OnePlus Nord</td>\n",
       "      <td>OnePlus Nord</td>\n",
       "      <td>Blue Marble</td>\n",
       "      <td>48MP + 8MP</td>\n",
       "      <td>12 GB RAM</td>\n",
       "      <td>256 GB ROM</td>\n",
       "      <td>32MP + 8MP Dual Front Camera</td>\n",
       "      <td>16.36 cm (6.44 inch) Full HD+ Display</td>\n",
       "      <td>4115 mAh Battery</td>\n",
       "      <td>₹29,999</td>\n",
       "      <td>https://www.flipkart.com/oneplus-nord-blue-mar...</td>\n",
       "    </tr>\n",
       "    <tr>\n",
       "      <th>5</th>\n",
       "      <td>OnePlus Nord</td>\n",
       "      <td>OnePlus Nord</td>\n",
       "      <td>Gray Onyx</td>\n",
       "      <td>48MP + 8MP</td>\n",
       "      <td>8 GB RAM</td>\n",
       "      <td>128 GB ROM</td>\n",
       "      <td>32MP + 8MP Dual Front Camera</td>\n",
       "      <td>16.36 cm (6.44 inch) Full HD+ Display</td>\n",
       "      <td>4115 mAh Battery</td>\n",
       "      <td>₹27,999</td>\n",
       "      <td>https://www.flipkart.com/oneplus-nord-gray-ony...</td>\n",
       "    </tr>\n",
       "    <tr>\n",
       "      <th>6</th>\n",
       "      <td>OnePlus Nord CE 2 5G</td>\n",
       "      <td>OnePlus Nord CE 2 5G</td>\n",
       "      <td>Gray Mirror</td>\n",
       "      <td>64MP Rear Camera</td>\n",
       "      <td>6 GB RAM</td>\n",
       "      <td>128 GB ROM</td>\n",
       "      <td>-</td>\n",
       "      <td>16.33 cm (6.43 inch) Display</td>\n",
       "      <td>4500 mAh Battery</td>\n",
       "      <td>₹19,999</td>\n",
       "      <td>https://www.flipkart.com/oneplus-nord-ce-2-5g-...</td>\n",
       "    </tr>\n",
       "    <tr>\n",
       "      <th>7</th>\n",
       "      <td>OnePlus Nord CE 2 5G</td>\n",
       "      <td>OnePlus Nord CE 2 5G</td>\n",
       "      <td>Gray Mirror</td>\n",
       "      <td>64MP Rear Camera</td>\n",
       "      <td>8 GB RAM</td>\n",
       "      <td>128 GB ROM</td>\n",
       "      <td>-</td>\n",
       "      <td>16.33 cm (6.43 inch) Display</td>\n",
       "      <td>4500 mAh Battery</td>\n",
       "      <td>₹24,990</td>\n",
       "      <td>https://www.flipkart.com/oneplus-nord-ce-2-5g-...</td>\n",
       "    </tr>\n",
       "  </tbody>\n",
       "</table>\n",
       "</div>"
      ],
      "text/plain": [
       "                   Brand             Smartphone        color  \\\n",
       "0          OnePlus Nord           OnePlus Nord   Blue Marble   \n",
       "1          OnePlus Nord           OnePlus Nord   Blue Marble   \n",
       "2          OnePlus Nord           OnePlus Nord     Gray Onyx   \n",
       "3          OnePlus Nord           OnePlus Nord     Gray Onyx   \n",
       "4          OnePlus Nord           OnePlus Nord   Blue Marble   \n",
       "5          OnePlus Nord           OnePlus Nord     Gray Onyx   \n",
       "6  OnePlus Nord CE 2 5G   OnePlus Nord CE 2 5G   Gray Mirror   \n",
       "7  OnePlus Nord CE 2 5G   OnePlus Nord CE 2 5G   Gray Mirror   \n",
       "\n",
       "      Primary_camra         Ram          Rom                Secondary_camra  \\\n",
       "0       48MP + 8MP    8 GB RAM    128 GB ROM   32MP + 8MP Dual Front Camera   \n",
       "1       48MP + 8MP    6 GB RAM     64 GB ROM   32MP + 8MP Dual Front Camera   \n",
       "2       48MP + 8MP   12 GB RAM    256 GB ROM   32MP + 8MP Dual Front Camera   \n",
       "3       48MP + 8MP    6 GB RAM     64 GB ROM   32MP + 8MP Dual Front Camera   \n",
       "4       48MP + 8MP   12 GB RAM    256 GB ROM   32MP + 8MP Dual Front Camera   \n",
       "5       48MP + 8MP    8 GB RAM    128 GB ROM   32MP + 8MP Dual Front Camera   \n",
       "6  64MP Rear Camera   6 GB RAM    128 GB ROM                              -   \n",
       "7  64MP Rear Camera   8 GB RAM    128 GB ROM                              -   \n",
       "\n",
       "                             DisplaySize   BatteryCapacity    Price  \\\n",
       "0  16.36 cm (6.44 inch) Full HD+ Display  4115 mAh Battery  ₹27,999   \n",
       "1  16.36 cm (6.44 inch) Full HD+ Display  4115 mAh Battery  ₹24,999   \n",
       "2  16.36 cm (6.44 inch) Full HD+ Display  4115 mAh Battery  ₹29,999   \n",
       "3  16.36 cm (6.44 inch) Full HD+ Display  4115 mAh Battery  ₹24,999   \n",
       "4  16.36 cm (6.44 inch) Full HD+ Display  4115 mAh Battery  ₹29,999   \n",
       "5  16.36 cm (6.44 inch) Full HD+ Display  4115 mAh Battery  ₹27,999   \n",
       "6           16.33 cm (6.43 inch) Display  4500 mAh Battery  ₹19,999   \n",
       "7           16.33 cm (6.43 inch) Display  4500 mAh Battery  ₹24,990   \n",
       "\n",
       "                                                 URL  \n",
       "0  https://www.flipkart.com/oneplus-nord-blue-mar...  \n",
       "1  https://www.flipkart.com/oneplus-nord-blue-mar...  \n",
       "2  https://www.flipkart.com/oneplus-nord-gray-ony...  \n",
       "3  https://www.flipkart.com/oneplus-nord-gray-ony...  \n",
       "4  https://www.flipkart.com/oneplus-nord-blue-mar...  \n",
       "5  https://www.flipkart.com/oneplus-nord-gray-ony...  \n",
       "6  https://www.flipkart.com/oneplus-nord-ce-2-5g-...  \n",
       "7  https://www.flipkart.com/oneplus-nord-ce-2-5g-...  "
      ]
     },
     "execution_count": 38,
     "metadata": {},
     "output_type": "execute_result"
    }
   ],
   "source": [
    "df"
   ]
  },
  {
   "cell_type": "code",
   "execution_count": 2,
   "id": "a00a6b5a",
   "metadata": {},
   "outputs": [],
   "source": [
    "driver=webdriver.Chrome(r\"Chromedriver.exe\")"
   ]
  },
  {
   "cell_type": "code",
   "execution_count": 3,
   "id": "f662c177",
   "metadata": {},
   "outputs": [],
   "source": [
    "driver.get(\"https://www.digit.in/\")"
   ]
  },
  {
   "cell_type": "code",
   "execution_count": 4,
   "id": "0e73740f",
   "metadata": {},
   "outputs": [],
   "source": [
    "driver.find_element(By.XPATH,\"//div[@class='listing_container']//ul//li[9]\").click()\n",
    "\n",
    "time.sleep(3)"
   ]
  },
  {
   "cell_type": "code",
   "execution_count": 26,
   "id": "aee3407d",
   "metadata": {},
   "outputs": [
    {
     "data": {
      "text/plain": [
       "['MSI Titan GT77-12UHS',\n",
       " 'Lenovo Legion 7',\n",
       " 'Alienware X17 R2',\n",
       " 'Acer Predator Triton 500 SE PT516-52s',\n",
       " 'Omen By HP (16-B1371TX)',\n",
       " 'Acer Predator Helios 300 AN515-45',\n",
       " 'MSI Delta 15 (A5EFK-083IN)',\n",
       " 'Omen By HP (16-C0141AX)',\n",
       " 'Lenovo Legion 5i Pro (82RF00MGIN)',\n",
       " 'Alienware M15 R5 Ryzen Edition Icc-C780001win']"
      ]
     },
     "execution_count": 26,
     "metadata": {},
     "output_type": "execute_result"
    }
   ],
   "source": [
    "name=[]\n",
    "Name=driver.find_elements(By.XPATH,'//div[ @ class=\"left_side\"]')\n",
    "for i in Name:\n",
    "    try:                    \n",
    "        name.append(i.text.split(\"\\n\")[1])\n",
    "    except:\n",
    "        name.append(\"-\")                 \n",
    "n=name[0:10]\n",
    "n"
   ]
  },
  {
   "cell_type": "code",
   "execution_count": 19,
   "id": "068e6201",
   "metadata": {},
   "outputs": [
    {
     "data": {
      "text/plain": [
       "[' Windows 11 Home',\n",
       " ' Windows 11 Home',\n",
       " ' Windows 11 Home',\n",
       " ' Windows 11',\n",
       " ' Windows 11 Home',\n",
       " ' Windows 11 Home',\n",
       " ' Windows 11 Home',\n",
       " ' Windows 11 Home',\n",
       " ' Windows 11 Home',\n",
       " ' Windows 11 Home']"
      ]
     },
     "execution_count": 19,
     "metadata": {},
     "output_type": "execute_result"
    }
   ],
   "source": [
    "OS=[]\n",
    "\n",
    "Operatingsystem=driver.find_elements(By.XPATH,'//div[@ class = \"Spcs-details\"]/table/tbody/tr[4]')\n",
    "#Price=driver.find_elements(By.XPATH,'//strong')\n",
    "for i in Operatingsystem:\n",
    "    try:\n",
    "        OS.append(i.text.split(\":\")[1])\n",
    "    except:\n",
    "        OS.append(\"-\")\n",
    "len(OS)\n",
    "OS"
   ]
  },
  {
   "cell_type": "code",
   "execution_count": 20,
   "id": "666b5030",
   "metadata": {},
   "outputs": [
    {
     "data": {
      "text/plain": [
       "[' 12th Gen Intel Core i9-12900HX 16 core processor',\n",
       " ' 12th Gen Intel Core i9-12900HX 16 core processor with 2.3 GHz clock speed',\n",
       " ' 12th Gen Intel Core i9-12900H 14 core processor with 5 GHz clock speed',\n",
       " ' 12th Gen Intel Core i7-12700H 14 core processor with 3.5 GHz clock speed',\n",
       " ' 12th Gen Intel Core i7-12700H 14 core processor with 4.7 GHz clock speed',\n",
       " ' AMD Ryzen 9-5900HX 8 core processor',\n",
       " ' AMD 5th Gen Ryzen 9-5900HX 8 core processor with 3.3GHz clock speed',\n",
       " ' AMD Ryzen™ 9 5900HX 8 core processor with 3.3 GHz clock speed',\n",
       " ' 12th Gen Intel Core i7-12700H 14 core processor with 2.3 GHz clock speed',\n",
       " ' AMD Ryzen R7-5800H 8 core processor with 4.40 GHz clock speed']"
      ]
     },
     "execution_count": 20,
     "metadata": {},
     "output_type": "execute_result"
    }
   ],
   "source": [
    "processor=[]\n",
    "Processor=driver.find_elements(By.XPATH,'//div[ @ class=\"Spcs-details\"]/table/tbody/tr[2]')\n",
    "for i in Processor:\n",
    "    try:\n",
    "        processor.append(i.text.split(\":\")[1])\n",
    "    except:\n",
    "        processor.append(\"-\")\n",
    "processor"
   ]
  },
  {
   "cell_type": "code",
   "execution_count": 21,
   "id": "b435f2b0",
   "metadata": {},
   "outputs": [
    {
     "data": {
      "text/plain": [
       "[' 17.3″ (3840 x 2160) screen',\n",
       " ' 16″ (2560 x 1600) screen',\n",
       " ' 17.3″ (1920 x 1080) screen',\n",
       " ' 16″ (2560 x 1600) screen',\n",
       " ' 16.1″ (2560 x 1440) screen',\n",
       " ' 15.6″ (2560 x 1440) screen',\n",
       " ' 15.6″ (1920 x 1080) screen',\n",
       " ' 16.1″ (2560 x 1440) screen',\n",
       " ' 16″ (2560 x 1600) screen',\n",
       " ' 15.6″ (1920 x 1080) screen']"
      ]
     },
     "execution_count": 21,
     "metadata": {},
     "output_type": "execute_result"
    }
   ],
   "source": [
    "display=[]\n",
    "Display=driver.find_elements(By.XPATH,'//div[ @ class=\"Spcs-details\"]/table/tbody/tr[3]')\n",
    "for i in Display:\n",
    "    try:\n",
    "        display.append(i.text.split(\":\")[1].split(\",\")[0])\n",
    "    except:\n",
    "        display.append(\"-\")\n",
    "display"
   ]
  },
  {
   "cell_type": "code",
   "execution_count": 22,
   "id": "68ab77d7",
   "metadata": {},
   "outputs": [
    {
     "data": {
      "text/plain": [
       "['Memory : 64 GB DDR5 RAM & 2 TB SSD',\n",
       " 'Memory : 32 GB DDR4 RAM & 1 TB SSD',\n",
       " 'Memory : 32 GB DDR5 RAM & 1 TB SSD',\n",
       " 'Memory : 32 GB DDR5 RAM & 2 TB SSD',\n",
       " 'Memory : 8 GB DDR5 RAM & 1 TB SSD',\n",
       " 'Memory : 16 GB DDR4 RAM & 512 GB SSD',\n",
       " 'Memory : 16 GB DDR4 RAM & 1 TB SSD',\n",
       " 'Memory : 16 GB DDR4 RAM & 1 TB NVMe',\n",
       " 'Memory : 16 GB DDR5 RAM & 1 TB SSD',\n",
       " 'Memory : 16 GB DDR4 RAM & 512 GB SSD']"
      ]
     },
     "execution_count": 22,
     "metadata": {},
     "output_type": "execute_result"
    }
   ],
   "source": [
    "memory=[]\n",
    "Memory=driver.find_elements(By.XPATH,'//div[ @ class=\"Spcs-details\"]/table/tbody/tr[5]')\n",
    "for i in Memory:\n",
    "    try:\n",
    "        memory.append(i.text)\n",
    "    except:\n",
    "        memory.append(\"-\")\n",
    "memory"
   ]
  },
  {
   "cell_type": "code",
   "execution_count": 23,
   "id": "e10c89a6",
   "metadata": {},
   "outputs": [
    {
     "data": {
      "text/plain": [
       "[' 16 GB DDR6 NVIDIA GeForce RTX 3080 Ti Graphics card',\n",
       " ' 16 GB DDR6 NVIDIA GeForce RTX 3080 Ti Graphics card',\n",
       " ' 16 GB DDR6 NVIDIA GEFORCE RTX 3080 Ti Graphics card',\n",
       " ' 8 GB DDR6 NVIDIA GeForce RTX 3070 Ti Graphics card',\n",
       " ' 8 GB GDDR6 NVIDIA GeForce RTX 3070 Graphics card',\n",
       " ' 8 GB DDR6 NVIDIA GeForce RTX 3070 Graphics card',\n",
       " ' 10 GB DDR6 AMD Radeon RX 6700M Graphics card',\n",
       " ' 8 GB GDDR6 AMD Radeon™ RX 6600M Graphics card',\n",
       " ' 6 GB DDR6 NVIDIA GeForce RTX 3060 Graphics card',\n",
       " ' 6 GB DDR6 NVIDIA GeForce RTX 3060 Graphics card']"
      ]
     },
     "execution_count": 23,
     "metadata": {},
     "output_type": "execute_result"
    }
   ],
   "source": [
    "graphicsprocessor=[]\n",
    "GP=driver.find_elements(By.XPATH,'//div[ @ class=\"Spcs-details\"]/table/tbody/tr[6]')\n",
    "\n",
    "for i in GP:\n",
    "    try:\n",
    "        graphicsprocessor.append(i.text.split(\":\")[1])\n",
    "    except:\n",
    "        graphicsprocessor.append(\"_\")\n",
    "graphicsprocessor\n",
    "        "
   ]
  },
  {
   "cell_type": "code",
   "execution_count": 24,
   "id": "a1d7e9e4",
   "metadata": {},
   "outputs": [
    {
     "data": {
      "text/plain": [
       "['N/A',\n",
       " ' ₹ 359,990',\n",
       " ' ₹ 389,990',\n",
       " ' ₹ 229,990',\n",
       " ' ₹ 177,590',\n",
       " ' ₹ 172,999',\n",
       " ' ₹ 188,990',\n",
       " ' ₹ 124,990',\n",
       " ' ₹ 164,900',\n",
       " ' ₹ 174,000']"
      ]
     },
     "execution_count": 24,
     "metadata": {},
     "output_type": "execute_result"
    }
   ],
   "source": [
    "price=[]\n",
    "price.append(\"N/A\")\n",
    "Price=driver.find_elements(By.XPATH,'//div[ @ class=\"Spcs-details\"]/table/tbody/tr[8]')\n",
    "for i in Price[0:11]:\n",
    "    try:\n",
    "        price.append(i.text.split(\":\")[1])\n",
    "    except:\n",
    "        price.append(\"N/A\")\n",
    "price"
   ]
  },
  {
   "cell_type": "code",
   "execution_count": 27,
   "id": "4c050979",
   "metadata": {},
   "outputs": [
    {
     "name": "stdout",
     "output_type": "stream",
     "text": [
      "10 10 10 10 10 10 10\n"
     ]
    }
   ],
   "source": [
    "print(len(n),len(OS),len(processor),len(display),len(memory),len(graphicsprocessor),len(price))"
   ]
  },
  {
   "cell_type": "code",
   "execution_count": 29,
   "id": "6791004b",
   "metadata": {},
   "outputs": [
    {
     "data": {
      "text/html": [
       "<div>\n",
       "<style scoped>\n",
       "    .dataframe tbody tr th:only-of-type {\n",
       "        vertical-align: middle;\n",
       "    }\n",
       "\n",
       "    .dataframe tbody tr th {\n",
       "        vertical-align: top;\n",
       "    }\n",
       "\n",
       "    .dataframe thead th {\n",
       "        text-align: right;\n",
       "    }\n",
       "</style>\n",
       "<table border=\"1\" class=\"dataframe\">\n",
       "  <thead>\n",
       "    <tr style=\"text-align: right;\">\n",
       "      <th></th>\n",
       "      <th>Laptopname</th>\n",
       "      <th>Operatingsystem</th>\n",
       "      <th>Processor</th>\n",
       "      <th>Memory</th>\n",
       "      <th>GP</th>\n",
       "      <th>Price</th>\n",
       "    </tr>\n",
       "  </thead>\n",
       "  <tbody>\n",
       "    <tr>\n",
       "      <th>0</th>\n",
       "      <td>MSI Titan GT77-12UHS</td>\n",
       "      <td>Windows 11 Home</td>\n",
       "      <td>12th Gen Intel Core i9-12900HX 16 core processor</td>\n",
       "      <td>Memory : 64 GB DDR5 RAM &amp; 2 TB SSD</td>\n",
       "      <td>16 GB DDR6 NVIDIA GeForce RTX 3080 Ti Graphic...</td>\n",
       "      <td>N/A</td>\n",
       "    </tr>\n",
       "    <tr>\n",
       "      <th>1</th>\n",
       "      <td>Lenovo Legion 7</td>\n",
       "      <td>Windows 11 Home</td>\n",
       "      <td>12th Gen Intel Core i9-12900HX 16 core proces...</td>\n",
       "      <td>Memory : 32 GB DDR4 RAM &amp; 1 TB SSD</td>\n",
       "      <td>16 GB DDR6 NVIDIA GeForce RTX 3080 Ti Graphic...</td>\n",
       "      <td>₹ 359,990</td>\n",
       "    </tr>\n",
       "    <tr>\n",
       "      <th>2</th>\n",
       "      <td>Alienware X17 R2</td>\n",
       "      <td>Windows 11 Home</td>\n",
       "      <td>12th Gen Intel Core i9-12900H 14 core process...</td>\n",
       "      <td>Memory : 32 GB DDR5 RAM &amp; 1 TB SSD</td>\n",
       "      <td>16 GB DDR6 NVIDIA GEFORCE RTX 3080 Ti Graphic...</td>\n",
       "      <td>₹ 389,990</td>\n",
       "    </tr>\n",
       "    <tr>\n",
       "      <th>3</th>\n",
       "      <td>Acer Predator Triton 500 SE PT516-52s</td>\n",
       "      <td>Windows 11</td>\n",
       "      <td>12th Gen Intel Core i7-12700H 14 core process...</td>\n",
       "      <td>Memory : 32 GB DDR5 RAM &amp; 2 TB SSD</td>\n",
       "      <td>8 GB DDR6 NVIDIA GeForce RTX 3070 Ti Graphics...</td>\n",
       "      <td>₹ 229,990</td>\n",
       "    </tr>\n",
       "    <tr>\n",
       "      <th>4</th>\n",
       "      <td>Omen By HP (16-B1371TX)</td>\n",
       "      <td>Windows 11 Home</td>\n",
       "      <td>12th Gen Intel Core i7-12700H 14 core process...</td>\n",
       "      <td>Memory : 8 GB DDR5 RAM &amp; 1 TB SSD</td>\n",
       "      <td>8 GB GDDR6 NVIDIA GeForce RTX 3070 Graphics card</td>\n",
       "      <td>₹ 177,590</td>\n",
       "    </tr>\n",
       "    <tr>\n",
       "      <th>5</th>\n",
       "      <td>Acer Predator Helios 300 AN515-45</td>\n",
       "      <td>Windows 11 Home</td>\n",
       "      <td>AMD Ryzen 9-5900HX 8 core processor</td>\n",
       "      <td>Memory : 16 GB DDR4 RAM &amp; 512 GB SSD</td>\n",
       "      <td>8 GB DDR6 NVIDIA GeForce RTX 3070 Graphics card</td>\n",
       "      <td>₹ 172,999</td>\n",
       "    </tr>\n",
       "    <tr>\n",
       "      <th>6</th>\n",
       "      <td>MSI Delta 15 (A5EFK-083IN)</td>\n",
       "      <td>Windows 11 Home</td>\n",
       "      <td>AMD 5th Gen Ryzen 9-5900HX 8 core processor w...</td>\n",
       "      <td>Memory : 16 GB DDR4 RAM &amp; 1 TB SSD</td>\n",
       "      <td>10 GB DDR6 AMD Radeon RX 6700M Graphics card</td>\n",
       "      <td>₹ 188,990</td>\n",
       "    </tr>\n",
       "    <tr>\n",
       "      <th>7</th>\n",
       "      <td>Omen By HP (16-C0141AX)</td>\n",
       "      <td>Windows 11 Home</td>\n",
       "      <td>AMD Ryzen™ 9 5900HX 8 core processor with 3.3...</td>\n",
       "      <td>Memory : 16 GB DDR4 RAM &amp; 1 TB NVMe</td>\n",
       "      <td>8 GB GDDR6 AMD Radeon™ RX 6600M Graphics card</td>\n",
       "      <td>₹ 124,990</td>\n",
       "    </tr>\n",
       "    <tr>\n",
       "      <th>8</th>\n",
       "      <td>Lenovo Legion 5i Pro (82RF00MGIN)</td>\n",
       "      <td>Windows 11 Home</td>\n",
       "      <td>12th Gen Intel Core i7-12700H 14 core process...</td>\n",
       "      <td>Memory : 16 GB DDR5 RAM &amp; 1 TB SSD</td>\n",
       "      <td>6 GB DDR6 NVIDIA GeForce RTX 3060 Graphics card</td>\n",
       "      <td>₹ 164,900</td>\n",
       "    </tr>\n",
       "    <tr>\n",
       "      <th>9</th>\n",
       "      <td>Alienware M15 R5 Ryzen Edition Icc-C780001win</td>\n",
       "      <td>Windows 11 Home</td>\n",
       "      <td>AMD Ryzen R7-5800H 8 core processor with 4.40...</td>\n",
       "      <td>Memory : 16 GB DDR4 RAM &amp; 512 GB SSD</td>\n",
       "      <td>6 GB DDR6 NVIDIA GeForce RTX 3060 Graphics card</td>\n",
       "      <td>₹ 174,000</td>\n",
       "    </tr>\n",
       "  </tbody>\n",
       "</table>\n",
       "</div>"
      ],
      "text/plain": [
       "                                      Laptopname   Operatingsystem  \\\n",
       "0                           MSI Titan GT77-12UHS   Windows 11 Home   \n",
       "1                                Lenovo Legion 7   Windows 11 Home   \n",
       "2                               Alienware X17 R2   Windows 11 Home   \n",
       "3          Acer Predator Triton 500 SE PT516-52s        Windows 11   \n",
       "4                        Omen By HP (16-B1371TX)   Windows 11 Home   \n",
       "5              Acer Predator Helios 300 AN515-45   Windows 11 Home   \n",
       "6                     MSI Delta 15 (A5EFK-083IN)   Windows 11 Home   \n",
       "7                        Omen By HP (16-C0141AX)   Windows 11 Home   \n",
       "8              Lenovo Legion 5i Pro (82RF00MGIN)   Windows 11 Home   \n",
       "9  Alienware M15 R5 Ryzen Edition Icc-C780001win   Windows 11 Home   \n",
       "\n",
       "                                           Processor  \\\n",
       "0   12th Gen Intel Core i9-12900HX 16 core processor   \n",
       "1   12th Gen Intel Core i9-12900HX 16 core proces...   \n",
       "2   12th Gen Intel Core i9-12900H 14 core process...   \n",
       "3   12th Gen Intel Core i7-12700H 14 core process...   \n",
       "4   12th Gen Intel Core i7-12700H 14 core process...   \n",
       "5                AMD Ryzen 9-5900HX 8 core processor   \n",
       "6   AMD 5th Gen Ryzen 9-5900HX 8 core processor w...   \n",
       "7   AMD Ryzen™ 9 5900HX 8 core processor with 3.3...   \n",
       "8   12th Gen Intel Core i7-12700H 14 core process...   \n",
       "9   AMD Ryzen R7-5800H 8 core processor with 4.40...   \n",
       "\n",
       "                                 Memory  \\\n",
       "0    Memory : 64 GB DDR5 RAM & 2 TB SSD   \n",
       "1    Memory : 32 GB DDR4 RAM & 1 TB SSD   \n",
       "2    Memory : 32 GB DDR5 RAM & 1 TB SSD   \n",
       "3    Memory : 32 GB DDR5 RAM & 2 TB SSD   \n",
       "4     Memory : 8 GB DDR5 RAM & 1 TB SSD   \n",
       "5  Memory : 16 GB DDR4 RAM & 512 GB SSD   \n",
       "6    Memory : 16 GB DDR4 RAM & 1 TB SSD   \n",
       "7   Memory : 16 GB DDR4 RAM & 1 TB NVMe   \n",
       "8    Memory : 16 GB DDR5 RAM & 1 TB SSD   \n",
       "9  Memory : 16 GB DDR4 RAM & 512 GB SSD   \n",
       "\n",
       "                                                  GP       Price  \n",
       "0   16 GB DDR6 NVIDIA GeForce RTX 3080 Ti Graphic...         N/A  \n",
       "1   16 GB DDR6 NVIDIA GeForce RTX 3080 Ti Graphic...   ₹ 359,990  \n",
       "2   16 GB DDR6 NVIDIA GEFORCE RTX 3080 Ti Graphic...   ₹ 389,990  \n",
       "3   8 GB DDR6 NVIDIA GeForce RTX 3070 Ti Graphics...   ₹ 229,990  \n",
       "4   8 GB GDDR6 NVIDIA GeForce RTX 3070 Graphics card   ₹ 177,590  \n",
       "5    8 GB DDR6 NVIDIA GeForce RTX 3070 Graphics card   ₹ 172,999  \n",
       "6       10 GB DDR6 AMD Radeon RX 6700M Graphics card   ₹ 188,990  \n",
       "7      8 GB GDDR6 AMD Radeon™ RX 6600M Graphics card   ₹ 124,990  \n",
       "8    6 GB DDR6 NVIDIA GeForce RTX 3060 Graphics card   ₹ 164,900  \n",
       "9    6 GB DDR6 NVIDIA GeForce RTX 3060 Graphics card   ₹ 174,000  "
      ]
     },
     "execution_count": 29,
     "metadata": {},
     "output_type": "execute_result"
    }
   ],
   "source": [
    "df=pd.DataFrame({'Laptopname':n,'Operatingsystem':OS,'Processor':processor,'Memory':memory,'GP':graphicsprocessor,'Price':price})\n",
    "df"
   ]
  },
  {
   "cell_type": "markdown",
   "id": "973c5e3d",
   "metadata": {},
   "source": [
    "Assignment qustion 7"
   ]
  },
  {
   "cell_type": "code",
   "execution_count": 31,
   "id": "1fdfcd2d",
   "metadata": {},
   "outputs": [],
   "source": [
    "driver=webdriver.Chrome(r\"Chromedriver.exe\")"
   ]
  },
  {
   "cell_type": "code",
   "execution_count": 32,
   "id": "301319d2",
   "metadata": {},
   "outputs": [],
   "source": [
    "driver.get(\"https://www.forbes.com/billionaires/\")"
   ]
  },
  {
   "cell_type": "code",
   "execution_count": 60,
   "id": "640de293",
   "metadata": {},
   "outputs": [
    {
     "data": {
      "text/plain": [
       "16"
      ]
     },
     "execution_count": 60,
     "metadata": {},
     "output_type": "execute_result"
    }
   ],
   "source": [
    "rank=[]\n",
    "Rank=driver.find_elements(By.XPATH,'//div [@class=\"rank\"]')\n",
    "for i in Rank[0:16]:\n",
    "    try:\n",
    "        rank.append(i.text)\n",
    "    except:\n",
    "        rank.append(i.text)\n",
    "len(rank)"
   ]
  },
  {
   "cell_type": "code",
   "execution_count": 61,
   "id": "321dfdd5",
   "metadata": {},
   "outputs": [
    {
     "data": {
      "text/plain": [
       "16"
      ]
     },
     "execution_count": 61,
     "metadata": {},
     "output_type": "execute_result"
    }
   ],
   "source": [
    "name=[]\n",
    "Name=driver.find_elements(By.XPATH,'//div[ @ class=\"personName\"]')\n",
    "for i in Name[0:16]:\n",
    "    try:\n",
    "        name.append(i.text)\n",
    "    except:\n",
    "        name.append('-')\n",
    "len(name)"
   ]
  },
  {
   "cell_type": "code",
   "execution_count": 62,
   "id": "9bb6b020",
   "metadata": {},
   "outputs": [
    {
     "data": {
      "text/plain": [
       "16"
      ]
     },
     "execution_count": 62,
     "metadata": {},
     "output_type": "execute_result"
    }
   ],
   "source": [
    "networth=[]\n",
    "Networth=driver.find_elements(By.XPATH,'//div[ @ class=\"netWorth\"]')\n",
    "for i in Networth[0:16]:\n",
    "    try:\n",
    "        networth.append(i.text)\n",
    "    except:\n",
    "        networth.append('-')\n",
    "len(networth)"
   ]
  },
  {
   "cell_type": "code",
   "execution_count": 63,
   "id": "5b3631f5",
   "metadata": {},
   "outputs": [
    {
     "data": {
      "text/plain": [
       "16"
      ]
     },
     "execution_count": 63,
     "metadata": {},
     "output_type": "execute_result"
    }
   ],
   "source": [
    "country=[]\n",
    "Country=driver.find_elements(By.XPATH,'//div[ @ class=\"countryOfCitizenship\"]')\n",
    "for i in Country[0:16]:\n",
    "    try:\n",
    "        country.append(i.text)\n",
    "    except:\n",
    "        country.append('-')\n",
    "len(country)"
   ]
  },
  {
   "cell_type": "code",
   "execution_count": 64,
   "id": "029040f0",
   "metadata": {},
   "outputs": [
    {
     "data": {
      "text/plain": [
       "16"
      ]
     },
     "execution_count": 64,
     "metadata": {},
     "output_type": "execute_result"
    }
   ],
   "source": [
    "source=[]\n",
    "Source=driver.find_elements(By.XPATH,'//span [ @ class=\"source-text\"]')\n",
    "for i in Source[0:16]:\n",
    "    try:\n",
    "        source.append(i.text)\n",
    "    except:\n",
    "        source.append(\"-\")\n",
    "len(source)"
   ]
  },
  {
   "cell_type": "code",
   "execution_count": 65,
   "id": "7e44cf6c",
   "metadata": {},
   "outputs": [
    {
     "data": {
      "text/html": [
       "<div>\n",
       "<style scoped>\n",
       "    .dataframe tbody tr th:only-of-type {\n",
       "        vertical-align: middle;\n",
       "    }\n",
       "\n",
       "    .dataframe tbody tr th {\n",
       "        vertical-align: top;\n",
       "    }\n",
       "\n",
       "    .dataframe thead th {\n",
       "        text-align: right;\n",
       "    }\n",
       "</style>\n",
       "<table border=\"1\" class=\"dataframe\">\n",
       "  <thead>\n",
       "    <tr style=\"text-align: right;\">\n",
       "      <th></th>\n",
       "      <th>Rank</th>\n",
       "      <th>Name</th>\n",
       "      <th>Networth</th>\n",
       "      <th>Country</th>\n",
       "      <th>Source</th>\n",
       "    </tr>\n",
       "  </thead>\n",
       "  <tbody>\n",
       "    <tr>\n",
       "      <th>0</th>\n",
       "      <td>1.</td>\n",
       "      <td>Elon Musk</td>\n",
       "      <td>$219 B</td>\n",
       "      <td>United States</td>\n",
       "      <td>Tesla, SpaceX</td>\n",
       "    </tr>\n",
       "    <tr>\n",
       "      <th>1</th>\n",
       "      <td>2.</td>\n",
       "      <td>Jeff Bezos</td>\n",
       "      <td>$171 B</td>\n",
       "      <td>United States</td>\n",
       "      <td>Amazon</td>\n",
       "    </tr>\n",
       "    <tr>\n",
       "      <th>2</th>\n",
       "      <td>3.</td>\n",
       "      <td>Bernard Arnault &amp; family</td>\n",
       "      <td>$158 B</td>\n",
       "      <td>France</td>\n",
       "      <td>LVMH</td>\n",
       "    </tr>\n",
       "    <tr>\n",
       "      <th>3</th>\n",
       "      <td>4.</td>\n",
       "      <td>Bill Gates</td>\n",
       "      <td>$129 B</td>\n",
       "      <td>United States</td>\n",
       "      <td>Microsoft</td>\n",
       "    </tr>\n",
       "    <tr>\n",
       "      <th>4</th>\n",
       "      <td>5.</td>\n",
       "      <td>Warren Buffett</td>\n",
       "      <td>$118 B</td>\n",
       "      <td>United States</td>\n",
       "      <td>Berkshire Hathaway</td>\n",
       "    </tr>\n",
       "    <tr>\n",
       "      <th>5</th>\n",
       "      <td>6.</td>\n",
       "      <td>Larry Page</td>\n",
       "      <td>$111 B</td>\n",
       "      <td>United States</td>\n",
       "      <td>Google</td>\n",
       "    </tr>\n",
       "    <tr>\n",
       "      <th>6</th>\n",
       "      <td>7.</td>\n",
       "      <td>Sergey Brin</td>\n",
       "      <td>$107 B</td>\n",
       "      <td>United States</td>\n",
       "      <td>Google</td>\n",
       "    </tr>\n",
       "    <tr>\n",
       "      <th>7</th>\n",
       "      <td>8.</td>\n",
       "      <td>Larry Ellison</td>\n",
       "      <td>$106 B</td>\n",
       "      <td>United States</td>\n",
       "      <td>software</td>\n",
       "    </tr>\n",
       "    <tr>\n",
       "      <th>8</th>\n",
       "      <td>9.</td>\n",
       "      <td>Steve Ballmer</td>\n",
       "      <td>$91.4 B</td>\n",
       "      <td>United States</td>\n",
       "      <td>Microsoft</td>\n",
       "    </tr>\n",
       "    <tr>\n",
       "      <th>9</th>\n",
       "      <td>10.</td>\n",
       "      <td>Mukesh Ambani</td>\n",
       "      <td>$90.7 B</td>\n",
       "      <td>India</td>\n",
       "      <td>diversified</td>\n",
       "    </tr>\n",
       "    <tr>\n",
       "      <th>10</th>\n",
       "      <td>11.</td>\n",
       "      <td>Gautam Adani</td>\n",
       "      <td>$90 B</td>\n",
       "      <td>India</td>\n",
       "      <td>infrastructure, commodities</td>\n",
       "    </tr>\n",
       "    <tr>\n",
       "      <th>11</th>\n",
       "      <td>12.</td>\n",
       "      <td>Michael Bloomberg</td>\n",
       "      <td>$82 B</td>\n",
       "      <td>United States</td>\n",
       "      <td>Bloomberg LP</td>\n",
       "    </tr>\n",
       "    <tr>\n",
       "      <th>12</th>\n",
       "      <td>13.</td>\n",
       "      <td>Carlos Slim Helu &amp; family</td>\n",
       "      <td>$81.2 B</td>\n",
       "      <td>Mexico</td>\n",
       "      <td>telecom</td>\n",
       "    </tr>\n",
       "    <tr>\n",
       "      <th>13</th>\n",
       "      <td>14.</td>\n",
       "      <td>Francoise Bettencourt Meyers &amp; family</td>\n",
       "      <td>$74.8 B</td>\n",
       "      <td>France</td>\n",
       "      <td>L'Oréal</td>\n",
       "    </tr>\n",
       "    <tr>\n",
       "      <th>14</th>\n",
       "      <td>15.</td>\n",
       "      <td>Mark Zuckerberg</td>\n",
       "      <td>$67.3 B</td>\n",
       "      <td>United States</td>\n",
       "      <td>Facebook</td>\n",
       "    </tr>\n",
       "    <tr>\n",
       "      <th>15</th>\n",
       "      <td></td>\n",
       "      <td></td>\n",
       "      <td></td>\n",
       "      <td></td>\n",
       "      <td></td>\n",
       "    </tr>\n",
       "  </tbody>\n",
       "</table>\n",
       "</div>"
      ],
      "text/plain": [
       "   Rank                                   Name Networth        Country  \\\n",
       "0    1.                              Elon Musk   $219 B  United States   \n",
       "1    2.                             Jeff Bezos   $171 B  United States   \n",
       "2    3.               Bernard Arnault & family   $158 B         France   \n",
       "3    4.                             Bill Gates   $129 B  United States   \n",
       "4    5.                         Warren Buffett   $118 B  United States   \n",
       "5    6.                             Larry Page   $111 B  United States   \n",
       "6    7.                            Sergey Brin   $107 B  United States   \n",
       "7    8.                          Larry Ellison   $106 B  United States   \n",
       "8    9.                          Steve Ballmer  $91.4 B  United States   \n",
       "9   10.                          Mukesh Ambani  $90.7 B          India   \n",
       "10  11.                           Gautam Adani    $90 B          India   \n",
       "11  12.                      Michael Bloomberg    $82 B  United States   \n",
       "12  13.              Carlos Slim Helu & family  $81.2 B         Mexico   \n",
       "13  14.  Francoise Bettencourt Meyers & family  $74.8 B         France   \n",
       "14  15.                        Mark Zuckerberg  $67.3 B  United States   \n",
       "15                                                                       \n",
       "\n",
       "                         Source  \n",
       "0                 Tesla, SpaceX  \n",
       "1                        Amazon  \n",
       "2                          LVMH  \n",
       "3                     Microsoft  \n",
       "4            Berkshire Hathaway  \n",
       "5                        Google  \n",
       "6                        Google  \n",
       "7                      software  \n",
       "8                     Microsoft  \n",
       "9                   diversified  \n",
       "10  infrastructure, commodities  \n",
       "11                 Bloomberg LP  \n",
       "12                      telecom  \n",
       "13                      L'Oréal  \n",
       "14                     Facebook  \n",
       "15                               "
      ]
     },
     "execution_count": 65,
     "metadata": {},
     "output_type": "execute_result"
    }
   ],
   "source": [
    "df=pd.DataFrame({\"Rank\":rank,\"Name\":name,\"Networth\":networth,\"Country\":country,\"Source\":source})\n",
    "df"
   ]
  },
  {
   "cell_type": "markdown",
   "id": "07c721b9",
   "metadata": {},
   "source": [
    "Assignment Question 8"
   ]
  },
  {
   "cell_type": "code",
   "execution_count": 3,
   "id": "dd39bbe0",
   "metadata": {},
   "outputs": [],
   "source": [
    "driver=webdriver.Chrome(r\"Chromedriver.exe\")"
   ]
  },
  {
   "cell_type": "code",
   "execution_count": 4,
   "id": "05b81309",
   "metadata": {},
   "outputs": [],
   "source": [
    "driver.get(\"https://www.youtube.com/watch?v=Fg5z-YdkwpI\")"
   ]
  },
  {
   "cell_type": "code",
   "execution_count": 11,
   "id": "1be09064",
   "metadata": {},
   "outputs": [
    {
     "data": {
      "text/plain": [
       "500"
      ]
     },
     "execution_count": 11,
     "metadata": {},
     "output_type": "execute_result"
    }
   ],
   "source": [
    "Comments=[]\n",
    "for _ in range(501):\n",
    "        driver.execute_script(\"window.scrollBy(0,500)\")\n",
    "comments=driver.find_elements(By.XPATH,'//yt-formatted-string[@ class=\"style-scope ytd-comment-renderer\"]')\n",
    "#for j in range(0,5,1):\n",
    "#for _ in range(1000):\n",
    "    #driver.execute_script(\"window.scrollBy(0,500)\")\n",
    "for i in comments[0:500]:\n",
    "    #for _ in range(501):\n",
    "       # driver.execute_script(\"window.scrollBy(0,500)\")\n",
    "        Comments.append(i.text.split(\"\\n\"))\n",
    "len(Comments)    "
   ]
  },
  {
   "cell_type": "code",
   "execution_count": 14,
   "id": "314b71aa",
   "metadata": {},
   "outputs": [
    {
     "data": {
      "text/plain": [
       "500"
      ]
     },
     "execution_count": 14,
     "metadata": {},
     "output_type": "execute_result"
    }
   ],
   "source": [
    "Upvote=[]\n",
    "for _ in range(501):\n",
    "        driver.execute_script(\"window.scrollBy(0,500)\")\n",
    "upvote=driver.find_elements(By.XPATH,'//span [@class=\" style-scope ytd-comment-renderer\"]')\n",
    "for i in upvote[0:500]:\n",
    "    Upvote.append(i.text)\n",
    "\n",
    "len(Upvote)"
   ]
  },
  {
   "cell_type": "code",
   "execution_count": 16,
   "id": "4f6bb3e9",
   "metadata": {},
   "outputs": [
    {
     "data": {
      "text/plain": [
       "500"
      ]
     },
     "execution_count": 16,
     "metadata": {},
     "output_type": "execute_result"
    }
   ],
   "source": [
    "TIME=[]\n",
    "for _ in range(501):\n",
    "    driver.execute_script(\"window.scrollBy(0,500)\")\n",
    "Time=driver.find_elements(By.XPATH,'//yt-formatted-string[@ class=\"published-time-text style-scope ytd-comment-renderer\" ]')\n",
    "for i in Time[0:500]:\n",
    "    TIME.append(i.text)\n",
    "    \n",
    "len(TIME)"
   ]
  },
  {
   "cell_type": "code",
   "execution_count": 17,
   "id": "7fa9a80f",
   "metadata": {},
   "outputs": [
    {
     "data": {
      "text/html": [
       "<div>\n",
       "<style scoped>\n",
       "    .dataframe tbody tr th:only-of-type {\n",
       "        vertical-align: middle;\n",
       "    }\n",
       "\n",
       "    .dataframe tbody tr th {\n",
       "        vertical-align: top;\n",
       "    }\n",
       "\n",
       "    .dataframe thead th {\n",
       "        text-align: right;\n",
       "    }\n",
       "</style>\n",
       "<table border=\"1\" class=\"dataframe\">\n",
       "  <thead>\n",
       "    <tr style=\"text-align: right;\">\n",
       "      <th></th>\n",
       "      <th>Comments</th>\n",
       "      <th>Upvote</th>\n",
       "      <th>Time</th>\n",
       "    </tr>\n",
       "  </thead>\n",
       "  <tbody>\n",
       "    <tr>\n",
       "      <th>0</th>\n",
       "      <td>[Welcome back nuclear , Love you Bob and chop ]</td>\n",
       "      <td>Shivam Yadav</td>\n",
       "      <td>7 days ago</td>\n",
       "    </tr>\n",
       "    <tr>\n",
       "      <th>1</th>\n",
       "      <td>[love ur vids nuclear bro️ , edit:also appreci...</td>\n",
       "      <td>ZARIR THE GAMER</td>\n",
       "      <td>7 days ago (edited)</td>\n",
       "    </tr>\n",
       "    <tr>\n",
       "      <th>2</th>\n",
       "      <td>[Happy Mahashivratri Very Nuclear and Nuclies ️]</td>\n",
       "      <td>Aayush Jade</td>\n",
       "      <td>7 days ago (edited)</td>\n",
       "    </tr>\n",
       "    <tr>\n",
       "      <th>3</th>\n",
       "      <td>[Wow bro your videos will never disappoint us ...</td>\n",
       "      <td>Mohammed Asimuddin</td>\n",
       "      <td>7 days ago</td>\n",
       "    </tr>\n",
       "    <tr>\n",
       "      <th>4</th>\n",
       "      <td>[PROFESSIONAL DIFTER IS BACK with cutie chop a...</td>\n",
       "      <td>Shailesh Kumar Pandey</td>\n",
       "      <td>7 days ago</td>\n",
       "    </tr>\n",
       "    <tr>\n",
       "      <th>...</th>\n",
       "      <td>...</td>\n",
       "      <td>...</td>\n",
       "      <td>...</td>\n",
       "    </tr>\n",
       "    <tr>\n",
       "      <th>495</th>\n",
       "      <td>[Im 1st like and 1st commet]</td>\n",
       "      <td>Nitu agarwal</td>\n",
       "      <td>7 days ago</td>\n",
       "    </tr>\n",
       "    <tr>\n",
       "      <th>496</th>\n",
       "      <td>[My birthday is on 20 February]</td>\n",
       "      <td>Krishna94kj5</td>\n",
       "      <td>7 days ago</td>\n",
       "    </tr>\n",
       "    <tr>\n",
       "      <th>497</th>\n",
       "      <td>[my birthday is on 24 feb]</td>\n",
       "      <td>abhayraj singh</td>\n",
       "      <td>7 days ago</td>\n",
       "    </tr>\n",
       "    <tr>\n",
       "      <th>498</th>\n",
       "      <td>[My birthday is 22 February]</td>\n",
       "      <td>Jakariahossain Santo</td>\n",
       "      <td>7 days ago</td>\n",
       "    </tr>\n",
       "    <tr>\n",
       "      <th>499</th>\n",
       "      <td>[My birthday in 20 feb]</td>\n",
       "      <td>satish kalher</td>\n",
       "      <td>7 days ago</td>\n",
       "    </tr>\n",
       "  </tbody>\n",
       "</table>\n",
       "<p>500 rows × 3 columns</p>\n",
       "</div>"
      ],
      "text/plain": [
       "                                              Comments                 Upvote  \\\n",
       "0      [Welcome back nuclear , Love you Bob and chop ]           Shivam Yadav   \n",
       "1    [love ur vids nuclear bro️ , edit:also appreci...        ZARIR THE GAMER   \n",
       "2     [Happy Mahashivratri Very Nuclear and Nuclies ️]            Aayush Jade   \n",
       "3    [Wow bro your videos will never disappoint us ...     Mohammed Asimuddin   \n",
       "4    [PROFESSIONAL DIFTER IS BACK with cutie chop a...  Shailesh Kumar Pandey   \n",
       "..                                                 ...                    ...   \n",
       "495                       [Im 1st like and 1st commet]           Nitu agarwal   \n",
       "496                    [My birthday is on 20 February]           Krishna94kj5   \n",
       "497                         [my birthday is on 24 feb]         abhayraj singh   \n",
       "498                       [My birthday is 22 February]   Jakariahossain Santo   \n",
       "499                            [My birthday in 20 feb]          satish kalher   \n",
       "\n",
       "                    Time  \n",
       "0             7 days ago  \n",
       "1    7 days ago (edited)  \n",
       "2    7 days ago (edited)  \n",
       "3             7 days ago  \n",
       "4             7 days ago  \n",
       "..                   ...  \n",
       "495           7 days ago  \n",
       "496           7 days ago  \n",
       "497           7 days ago  \n",
       "498           7 days ago  \n",
       "499           7 days ago  \n",
       "\n",
       "[500 rows x 3 columns]"
      ]
     },
     "execution_count": 17,
     "metadata": {},
     "output_type": "execute_result"
    }
   ],
   "source": [
    "df=pd.DataFrame({'Comments':Comments,'Upvote':Upvote,'Time':TIME})\n",
    "df"
   ]
  },
  {
   "cell_type": "code",
   "execution_count": 11,
   "id": "aff1ac8f",
   "metadata": {},
   "outputs": [],
   "source": [
    "driver=webdriver.Chrome(r\"Chromedriver.exe\")"
   ]
  },
  {
   "cell_type": "code",
   "execution_count": 12,
   "id": "60907b39",
   "metadata": {},
   "outputs": [],
   "source": [
    "driver.get(\"https://www.google.com/maps/@22.6637501,75.8417745,15z\")"
   ]
  },
  {
   "cell_type": "code",
   "execution_count": 13,
   "id": "2821496c",
   "metadata": {},
   "outputs": [],
   "source": [
    "#search=driver.find_element(By.CLASS_NAME,\"searchboxinput xiQnY\"),\n",
    "search=driver.find_element(By.XPATH,'/html/body/div[3]/div[9]/div[3]/div[1]/div[1]/div[1]/div[2]/form/div[2]/div[3]/div/input[1]')\n",
    "search.send_keys(\"Mumbai\")\n",
    "time.sleep(2)"
   ]
  },
  {
   "cell_type": "code",
   "execution_count": 14,
   "id": "dae47489",
   "metadata": {},
   "outputs": [],
   "source": [
    "search_button=driver.find_element(By.XPATH,'/html/body/div[3]/div[9]/div[3]/div[1]/div[1]/div/div[2]/div[1]/button')\n",
    "search_button.click()"
   ]
  },
  {
   "cell_type": "code",
   "execution_count": 15,
   "id": "5128895c",
   "metadata": {},
   "outputs": [
    {
     "name": "stdout",
     "output_type": "stream",
     "text": [
      "URL Extracted:  https://www.google.com/maps/place/Mumbai,+Maharashtra/@19.0826881,72.6009794,10z/data=!3m1!4b1!4m6!3m5!1s0x3be7c6306644edc1:0x5da4ed8f8d648c69!8m2!3d19.0759837!4d72.8776559!16zL20vMDR2bXA\n",
      "Latitude = 19.0826881, Longitude = 72.6009794\n"
     ]
    }
   ],
   "source": [
    "try:\n",
    "    url_string = driver.current_url\n",
    "\n",
    "    print(\"URL Extracted: \", url_string)\n",
    "\n",
    "    lat_lng = re.findall(r'@(.*)data',url_string)\n",
    "\n",
    "    if len(lat_lng):\n",
    "\n",
    "        lat_lng_list = lat_lng[0].split(\",\")\n",
    "\n",
    "        if len(lat_lng_list)>=2:\n",
    "\n",
    "            lat = lat_lng_list[0]\n",
    "\n",
    "            lng = lat_lng_list[1]\n",
    "\n",
    "        print(\"Latitude = {}, Longitude = {}\".format(lat, lng))\n",
    "except Exception as e:\n",
    "        print(\"Error: \", str(e))\n"
   ]
  },
  {
   "cell_type": "code",
   "execution_count": 5,
   "id": "198ac6f0",
   "metadata": {},
   "outputs": [],
   "source": [
    "driver=webdriver.Chrome(r\"Chromedriver.exe\")"
   ]
  },
  {
   "cell_type": "code",
   "execution_count": 6,
   "id": "8f920811",
   "metadata": {},
   "outputs": [],
   "source": [
    "driver.get(\"https://www.hostelworld.com/\")"
   ]
  },
  {
   "cell_type": "code",
   "execution_count": 8,
   "id": "e8a70e0e",
   "metadata": {},
   "outputs": [],
   "source": [
    "search=driver.find_element(By.XPATH,'/html/body/div[3]/div/div/div[2]/div[2]/div/div/div[4]/div/div[2]/div/div[1]/div/div/div/input')\n",
    "search.send_keys(\"london\")"
   ]
  },
  {
   "cell_type": "code",
   "execution_count": null,
   "id": "4c3cf412",
   "metadata": {},
   "outputs": [],
   "source": []
  },
  {
   "cell_type": "code",
   "execution_count": 16,
   "id": "c82c66df",
   "metadata": {},
   "outputs": [],
   "source": [
    "#search_button=driver.find_element(By.XPATH,'//div[@class=\"label\"]')\n",
    "search_button=driver.find_element(By.XPATH,'//button[@class=\"button primary large\"]')\n",
    "search_button.click()"
   ]
  },
  {
   "cell_type": "code",
   "execution_count": 34,
   "id": "dadcc409",
   "metadata": {},
   "outputs": [],
   "source": [
    "search_button=driver.find_element(By.XPATH,'//button[@class=\"button primary large\"]')\n",
    "search_button.click()"
   ]
  },
  {
   "cell_type": "code",
   "execution_count": 24,
   "id": "846925f0",
   "metadata": {},
   "outputs": [],
   "source": [
    "#driver.get(\"https://www.hostelworld.com/s?q=London,%20England&country=England&city=London&type=city&id=3&from=2023-02-28&to=2023-03-03&guests=2&page=1\")"
   ]
  },
  {
   "cell_type": "code",
   "execution_count": 22,
   "id": "5296fa1e",
   "metadata": {},
   "outputs": [
    {
     "ename": "NoSuchElementException",
     "evalue": "Message: no such element: Unable to locate element: {\"method\":\"xpath\",\"selector\":\"/html/body/div[3]/div/div/div[2]/div[2]/div[2]/div/div/div/div/div/div[2]/div/button[2]/div/svg\"}\n  (Session info: chrome=110.0.5481.178)\nStacktrace:\nBacktrace:\n\t(No symbol) [0x00E237D3]\n\t(No symbol) [0x00DB8B81]\n\t(No symbol) [0x00CBB36D]\n\t(No symbol) [0x00CED382]\n\t(No symbol) [0x00CED4BB]\n\t(No symbol) [0x00D23302]\n\t(No symbol) [0x00D0B464]\n\t(No symbol) [0x00D21215]\n\t(No symbol) [0x00D0B216]\n\t(No symbol) [0x00CE0D97]\n\t(No symbol) [0x00CE253D]\n\tGetHandleVerifier [0x0109ABF2+2510930]\n\tGetHandleVerifier [0x010C8EC1+2700065]\n\tGetHandleVerifier [0x010CC86C+2714828]\n\tGetHandleVerifier [0x00ED3480+645344]\n\t(No symbol) [0x00DC0FD2]\n\t(No symbol) [0x00DC6C68]\n\t(No symbol) [0x00DC6D4B]\n\t(No symbol) [0x00DD0D6B]\n\tBaseThreadInitThunk [0x75EBFA29+25]\n\tRtlGetAppContainerNamedObjectPath [0x777475F4+228]\n\tRtlGetAppContainerNamedObjectPath [0x777475C4+180]\n",
     "output_type": "error",
     "traceback": [
      "\u001b[1;31m---------------------------------------------------------------------------\u001b[0m",
      "\u001b[1;31mNoSuchElementException\u001b[0m                    Traceback (most recent call last)",
      "Input \u001b[1;32mIn [22]\u001b[0m, in \u001b[0;36m<cell line: 3>\u001b[1;34m()\u001b[0m\n\u001b[0;32m      7\u001b[0m     \u001b[38;5;28;01mexcept\u001b[39;00m:\n\u001b[0;32m      8\u001b[0m         hostelurl\u001b[38;5;241m.\u001b[39mappend(\u001b[38;5;124m\"\u001b[39m\u001b[38;5;124m-\u001b[39m\u001b[38;5;124m\"\u001b[39m)\n\u001b[1;32m----> 9\u001b[0m nxt_button\u001b[38;5;241m=\u001b[39m\u001b[43mdriver\u001b[49m\u001b[38;5;241;43m.\u001b[39;49m\u001b[43mfind_element\u001b[49m\u001b[43m(\u001b[49m\u001b[43mBy\u001b[49m\u001b[38;5;241;43m.\u001b[39;49m\u001b[43mXPATH\u001b[49m\u001b[43m,\u001b[49m\u001b[38;5;124;43m'\u001b[39;49m\u001b[38;5;124;43m/html/body/div[3]/div/div/div[2]/div[2]/div[2]/div/div/div/div/div/div[2]/div/button[2]/div/svg\u001b[39;49m\u001b[38;5;124;43m'\u001b[39;49m\u001b[43m)\u001b[49m\n\u001b[0;32m     10\u001b[0m \u001b[38;5;66;03m#nxt_button=driver.find_element(By.XPATH,'/html/body/div[3]/div/div/div[2]/div[4]/div/div/div[33]/div[5]/i')\u001b[39;00m\n\u001b[0;32m     11\u001b[0m \u001b[38;5;66;03m#nxt_button.click()\u001b[39;00m\n\u001b[0;32m     12\u001b[0m time\u001b[38;5;241m.\u001b[39msleep(\u001b[38;5;241m3\u001b[39m)\n",
      "File \u001b[1;32m~\\anaconda3\\lib\\site-packages\\selenium\\webdriver\\remote\\webdriver.py:830\u001b[0m, in \u001b[0;36mWebDriver.find_element\u001b[1;34m(self, by, value)\u001b[0m\n\u001b[0;32m    827\u001b[0m     by \u001b[38;5;241m=\u001b[39m By\u001b[38;5;241m.\u001b[39mCSS_SELECTOR\n\u001b[0;32m    828\u001b[0m     value \u001b[38;5;241m=\u001b[39m \u001b[38;5;124mf\u001b[39m\u001b[38;5;124m'\u001b[39m\u001b[38;5;124m[name=\u001b[39m\u001b[38;5;124m\"\u001b[39m\u001b[38;5;132;01m{\u001b[39;00mvalue\u001b[38;5;132;01m}\u001b[39;00m\u001b[38;5;124m\"\u001b[39m\u001b[38;5;124m]\u001b[39m\u001b[38;5;124m'\u001b[39m\n\u001b[1;32m--> 830\u001b[0m \u001b[38;5;28;01mreturn\u001b[39;00m \u001b[38;5;28;43mself\u001b[39;49m\u001b[38;5;241;43m.\u001b[39;49m\u001b[43mexecute\u001b[49m\u001b[43m(\u001b[49m\u001b[43mCommand\u001b[49m\u001b[38;5;241;43m.\u001b[39;49m\u001b[43mFIND_ELEMENT\u001b[49m\u001b[43m,\u001b[49m\u001b[43m \u001b[49m\u001b[43m{\u001b[49m\u001b[38;5;124;43m\"\u001b[39;49m\u001b[38;5;124;43musing\u001b[39;49m\u001b[38;5;124;43m\"\u001b[39;49m\u001b[43m:\u001b[49m\u001b[43m \u001b[49m\u001b[43mby\u001b[49m\u001b[43m,\u001b[49m\u001b[43m \u001b[49m\u001b[38;5;124;43m\"\u001b[39;49m\u001b[38;5;124;43mvalue\u001b[39;49m\u001b[38;5;124;43m\"\u001b[39;49m\u001b[43m:\u001b[49m\u001b[43m \u001b[49m\u001b[43mvalue\u001b[49m\u001b[43m}\u001b[49m\u001b[43m)\u001b[49m[\u001b[38;5;124m\"\u001b[39m\u001b[38;5;124mvalue\u001b[39m\u001b[38;5;124m\"\u001b[39m]\n",
      "File \u001b[1;32m~\\anaconda3\\lib\\site-packages\\selenium\\webdriver\\remote\\webdriver.py:440\u001b[0m, in \u001b[0;36mWebDriver.execute\u001b[1;34m(self, driver_command, params)\u001b[0m\n\u001b[0;32m    438\u001b[0m response \u001b[38;5;241m=\u001b[39m \u001b[38;5;28mself\u001b[39m\u001b[38;5;241m.\u001b[39mcommand_executor\u001b[38;5;241m.\u001b[39mexecute(driver_command, params)\n\u001b[0;32m    439\u001b[0m \u001b[38;5;28;01mif\u001b[39;00m response:\n\u001b[1;32m--> 440\u001b[0m     \u001b[38;5;28;43mself\u001b[39;49m\u001b[38;5;241;43m.\u001b[39;49m\u001b[43merror_handler\u001b[49m\u001b[38;5;241;43m.\u001b[39;49m\u001b[43mcheck_response\u001b[49m\u001b[43m(\u001b[49m\u001b[43mresponse\u001b[49m\u001b[43m)\u001b[49m\n\u001b[0;32m    441\u001b[0m     response[\u001b[38;5;124m\"\u001b[39m\u001b[38;5;124mvalue\u001b[39m\u001b[38;5;124m\"\u001b[39m] \u001b[38;5;241m=\u001b[39m \u001b[38;5;28mself\u001b[39m\u001b[38;5;241m.\u001b[39m_unwrap_value(response\u001b[38;5;241m.\u001b[39mget(\u001b[38;5;124m\"\u001b[39m\u001b[38;5;124mvalue\u001b[39m\u001b[38;5;124m\"\u001b[39m, \u001b[38;5;28;01mNone\u001b[39;00m))\n\u001b[0;32m    442\u001b[0m     \u001b[38;5;28;01mreturn\u001b[39;00m response\n",
      "File \u001b[1;32m~\\anaconda3\\lib\\site-packages\\selenium\\webdriver\\remote\\errorhandler.py:245\u001b[0m, in \u001b[0;36mErrorHandler.check_response\u001b[1;34m(self, response)\u001b[0m\n\u001b[0;32m    243\u001b[0m         alert_text \u001b[38;5;241m=\u001b[39m value[\u001b[38;5;124m\"\u001b[39m\u001b[38;5;124malert\u001b[39m\u001b[38;5;124m\"\u001b[39m]\u001b[38;5;241m.\u001b[39mget(\u001b[38;5;124m\"\u001b[39m\u001b[38;5;124mtext\u001b[39m\u001b[38;5;124m\"\u001b[39m)\n\u001b[0;32m    244\u001b[0m     \u001b[38;5;28;01mraise\u001b[39;00m exception_class(message, screen, stacktrace, alert_text)  \u001b[38;5;66;03m# type: ignore[call-arg]  # mypy is not smart enough here\u001b[39;00m\n\u001b[1;32m--> 245\u001b[0m \u001b[38;5;28;01mraise\u001b[39;00m exception_class(message, screen, stacktrace)\n",
      "\u001b[1;31mNoSuchElementException\u001b[0m: Message: no such element: Unable to locate element: {\"method\":\"xpath\",\"selector\":\"/html/body/div[3]/div/div/div[2]/div[2]/div[2]/div/div/div/div/div/div[2]/div/button[2]/div/svg\"}\n  (Session info: chrome=110.0.5481.178)\nStacktrace:\nBacktrace:\n\t(No symbol) [0x00E237D3]\n\t(No symbol) [0x00DB8B81]\n\t(No symbol) [0x00CBB36D]\n\t(No symbol) [0x00CED382]\n\t(No symbol) [0x00CED4BB]\n\t(No symbol) [0x00D23302]\n\t(No symbol) [0x00D0B464]\n\t(No symbol) [0x00D21215]\n\t(No symbol) [0x00D0B216]\n\t(No symbol) [0x00CE0D97]\n\t(No symbol) [0x00CE253D]\n\tGetHandleVerifier [0x0109ABF2+2510930]\n\tGetHandleVerifier [0x010C8EC1+2700065]\n\tGetHandleVerifier [0x010CC86C+2714828]\n\tGetHandleVerifier [0x00ED3480+645344]\n\t(No symbol) [0x00DC0FD2]\n\t(No symbol) [0x00DC6C68]\n\t(No symbol) [0x00DC6D4B]\n\t(No symbol) [0x00DD0D6B]\n\tBaseThreadInitThunk [0x75EBFA29+25]\n\tRtlGetAppContainerNamedObjectPath [0x777475F4+228]\n\tRtlGetAppContainerNamedObjectPath [0x777475C4+180]\n"
     ]
    }
   ],
   "source": [
    "hostelurl=[]\n",
    "URL=driver.find_elements(By.XPATH,'//h2[@class=\"title title-6\"]/a')\n",
    "for page in range(0,2):\n",
    "    for i in URL:\n",
    "        try:\n",
    "            hostelurl.append(i.get_attribute(\"href\"))\n",
    "        except:\n",
    "            hostelurl.append(\"-\")\n",
    "    nxt_button=driver.find_element(By.XPATH,'/html/body/div[3]/div/div/div[2]/div[2]/div[2]/div/div/div/div/div/div[2]/div/button[2]/div/svg')\n",
    "    #nxt_button=driver.find_element(By.XPATH,'/html/body/div[3]/div/div/div[2]/div[4]/div/div/div[33]/div[5]/i')\n",
    "    #nxt_button.click()\n",
    "    time.sleep(3)\n",
    "len(hostelurl)"
   ]
  },
  {
   "cell_type": "code",
   "execution_count": 41,
   "id": "6846bca2",
   "metadata": {},
   "outputs": [
    {
     "data": {
      "text/plain": [
       "['https://www.hostelworld.com/pwa/hosteldetails.php/YHA-London-Earls-Court/London/6981?from=2023-03-08&to=2023-03-11&guests=2',\n",
       " 'https://www.hostelworld.com/pwa/hosteldetails.php/YHA-London-Earls-Court/London/6981?from=2023-03-08&to=2023-03-11&guests=2',\n",
       " 'https://www.hostelworld.com/pwa/hosteldetails.php/YHA-London-Earls-Court/London/6981?from=2023-03-08&to=2023-03-11&guests=2&display=reviews',\n",
       " 'https://www.hostelworld.com/pwa/hosteldetails.php/Elmwood-Hotel/London/34338?from=2023-03-08&to=2023-03-11&guests=2',\n",
       " 'https://www.hostelworld.com/pwa/hosteldetails.php/Elmwood-Hotel/London/34338?from=2023-03-08&to=2023-03-11&guests=2',\n",
       " 'https://www.hostelworld.com/pwa/hosteldetails.php/Elmwood-Hotel/London/34338?from=2023-03-08&to=2023-03-11&guests=2&display=reviews',\n",
       " 'https://www.hostelworld.com/pwa/hosteldetails.php/PubLove-The-Rose-Crown/London/297123?from=2023-03-08&to=2023-03-11&guests=2',\n",
       " 'https://www.hostelworld.com/pwa/hosteldetails.php/PubLove-The-Rose-Crown/London/297123?from=2023-03-08&to=2023-03-11&guests=2',\n",
       " 'https://www.hostelworld.com/pwa/hosteldetails.php/PubLove-The-Rose-Crown/London/297123?from=2023-03-08&to=2023-03-11&guests=2&display=reviews',\n",
       " 'https://www.hostelworld.com/pwa/hosteldetails.php/PubLove-The-Green-Man-Paddington/London/21953?from=2023-03-08&to=2023-03-11&guests=2',\n",
       " 'https://www.hostelworld.com/pwa/hosteldetails.php/PubLove-The-Green-Man-Paddington/London/21953?from=2023-03-08&to=2023-03-11&guests=2',\n",
       " 'https://www.hostelworld.com/pwa/hosteldetails.php/PubLove-The-Green-Man-Paddington/London/21953?from=2023-03-08&to=2023-03-11&guests=2&display=reviews',\n",
       " 'https://www.hostelworld.com/pwa/hosteldetails.php/London-Waterloo-Hostel/London/39493?from=2023-03-08&to=2023-03-11&guests=2',\n",
       " 'https://www.hostelworld.com/pwa/hosteldetails.php/London-Waterloo-Hostel/London/39493?from=2023-03-08&to=2023-03-11&guests=2',\n",
       " 'https://www.hostelworld.com/pwa/hosteldetails.php/London-Waterloo-Hostel/London/39493?from=2023-03-08&to=2023-03-11&guests=2&display=reviews',\n",
       " 'https://www.hostelworld.com/pwa/hosteldetails.php/PubLove-The-Exmouth-Arms-Euston/London/93796?from=2023-03-08&to=2023-03-11&guests=2',\n",
       " 'https://www.hostelworld.com/pwa/hosteldetails.php/PubLove-The-Exmouth-Arms-Euston/London/93796?from=2023-03-08&to=2023-03-11&guests=2',\n",
       " 'https://www.hostelworld.com/pwa/hosteldetails.php/PubLove-The-Exmouth-Arms-Euston/London/93796?from=2023-03-08&to=2023-03-11&guests=2&display=reviews',\n",
       " 'https://www.hostelworld.com/pwa/hosteldetails.php/Hostelle-London/London/316723?from=2023-03-08&to=2023-03-11&guests=2',\n",
       " 'https://www.hostelworld.com/pwa/hosteldetails.php/Hostelle-London/London/316723?from=2023-03-08&to=2023-03-11&guests=2',\n",
       " 'https://www.hostelworld.com/pwa/hosteldetails.php/Hostelle-London/London/316723?from=2023-03-08&to=2023-03-11&guests=2&display=reviews',\n",
       " 'https://www.hostelworld.com/pwa/hosteldetails.php/YHA-London-St-Pancras/London/7010?from=2023-03-08&to=2023-03-11&guests=2',\n",
       " 'https://www.hostelworld.com/pwa/hosteldetails.php/YHA-London-St-Pancras/London/7010?from=2023-03-08&to=2023-03-11&guests=2',\n",
       " 'https://www.hostelworld.com/pwa/hosteldetails.php/YHA-London-St-Pancras/London/7010?from=2023-03-08&to=2023-03-11&guests=2&display=reviews',\n",
       " 'https://www.hostelworld.com/pwa/hosteldetails.php/City-Hotel-Carlton/London/27551?from=2023-03-08&to=2023-03-11&guests=2',\n",
       " 'https://www.hostelworld.com/pwa/hosteldetails.php/City-Hotel-Carlton/London/27551?from=2023-03-08&to=2023-03-11&guests=2',\n",
       " 'https://www.hostelworld.com/pwa/hosteldetails.php/City-Hotel-Carlton/London/27551?from=2023-03-08&to=2023-03-11&guests=2&display=reviews',\n",
       " 'https://www.hostelworld.com/pwa/hosteldetails.php/London-House-Hotel/London/529?from=2023-03-08&to=2023-03-11&guests=2',\n",
       " 'https://www.hostelworld.com/pwa/hosteldetails.php/London-House-Hotel/London/529?from=2023-03-08&to=2023-03-11&guests=2',\n",
       " 'https://www.hostelworld.com/pwa/hosteldetails.php/London-House-Hotel/London/529?from=2023-03-08&to=2023-03-11&guests=2&display=reviews',\n",
       " 'https://www.hostelworld.com/pwa/hosteldetails.php/TLK-Apartments-Hotel/London/304817?from=2023-03-08&to=2023-03-11&guests=2',\n",
       " 'https://www.hostelworld.com/pwa/hosteldetails.php/TLK-Apartments-Hotel/London/304817?from=2023-03-08&to=2023-03-11&guests=2',\n",
       " 'https://www.hostelworld.com/pwa/hosteldetails.php/TLK-Apartments-Hotel/London/304817?from=2023-03-08&to=2023-03-11&guests=2&display=reviews',\n",
       " 'https://www.hostelworld.com/pwa/hosteldetails.php/Kip-Hotel/London/266789?from=2023-03-08&to=2023-03-11&guests=2',\n",
       " 'https://www.hostelworld.com/pwa/hosteldetails.php/Kip-Hotel/London/266789?from=2023-03-08&to=2023-03-11&guests=2',\n",
       " 'https://www.hostelworld.com/pwa/hosteldetails.php/Kip-Hotel/London/266789?from=2023-03-08&to=2023-03-11&guests=2&display=reviews',\n",
       " 'https://www.hostelworld.com/pwa/hosteldetails.php/Barry-House/London/287321?from=2023-03-08&to=2023-03-11&guests=2',\n",
       " 'https://www.hostelworld.com/pwa/hosteldetails.php/Barry-House/London/287321?from=2023-03-08&to=2023-03-11&guests=2',\n",
       " 'https://www.hostelworld.com/pwa/hosteldetails.php/Barry-House/London/287321?from=2023-03-08&to=2023-03-11&guests=2&display=reviews',\n",
       " 'https://www.hostelworld.com/pwa/hosteldetails.php/Hotel-Shepherds-Bush-London/London/308621?from=2023-03-08&to=2023-03-11&guests=2',\n",
       " 'https://www.hostelworld.com/pwa/hosteldetails.php/Hotel-Shepherds-Bush-London/London/308621?from=2023-03-08&to=2023-03-11&guests=2',\n",
       " 'https://www.hostelworld.com/pwa/hosteldetails.php/Hotel-Shepherds-Bush-London/London/308621?from=2023-03-08&to=2023-03-11&guests=2&display=reviews',\n",
       " 'https://www.hostelworld.com/pwa/hosteldetails.php/Colliers-Hotel/London/308375?from=2023-03-08&to=2023-03-11&guests=2',\n",
       " 'https://www.hostelworld.com/pwa/hosteldetails.php/Colliers-Hotel/London/308375?from=2023-03-08&to=2023-03-11&guests=2',\n",
       " 'https://www.hostelworld.com/pwa/hosteldetails.php/Colliers-Hotel/London/308375?from=2023-03-08&to=2023-03-11&guests=2&display=reviews',\n",
       " 'https://www.hostelworld.com/pwa/hosteldetails.php/Hyde-Park-Court-Hotel/London/5107?from=2023-03-08&to=2023-03-11&guests=2',\n",
       " 'https://www.hostelworld.com/pwa/hosteldetails.php/Hyde-Park-Court-Hotel/London/5107?from=2023-03-08&to=2023-03-11&guests=2',\n",
       " 'https://www.hostelworld.com/pwa/hosteldetails.php/Hyde-Park-Court-Hotel/London/5107?from=2023-03-08&to=2023-03-11&guests=2&display=reviews',\n",
       " 'https://www.hostelworld.com/pwa/hosteldetails.php/Wellesley-Hotel/London/305734?from=2023-03-08&to=2023-03-11&guests=2',\n",
       " 'https://www.hostelworld.com/pwa/hosteldetails.php/Wellesley-Hotel/London/305734?from=2023-03-08&to=2023-03-11&guests=2',\n",
       " 'https://www.hostelworld.com/pwa/hosteldetails.php/Wellesley-Hotel/London/305734?from=2023-03-08&to=2023-03-11&guests=2&display=reviews',\n",
       " 'https://www.hostelworld.com/pwa/hosteldetails.php/Airways-Hotel-Victoria-London/London/16289?from=2023-03-08&to=2023-03-11&guests=2',\n",
       " 'https://www.hostelworld.com/pwa/hosteldetails.php/Airways-Hotel-Victoria-London/London/16289?from=2023-03-08&to=2023-03-11&guests=2',\n",
       " 'https://www.hostelworld.com/pwa/hosteldetails.php/Airways-Hotel-Victoria-London/London/16289?from=2023-03-08&to=2023-03-11&guests=2&display=reviews',\n",
       " 'https://www.hostelworld.com/pwa/hosteldetails.php/Budget-London-Apartments/London/11493?from=2023-03-08&to=2023-03-11&guests=2',\n",
       " 'https://www.hostelworld.com/pwa/hosteldetails.php/Budget-London-Apartments/London/11493?from=2023-03-08&to=2023-03-11&guests=2',\n",
       " 'https://www.hostelworld.com/pwa/hosteldetails.php/Budget-London-Apartments/London/11493?from=2023-03-08&to=2023-03-11&guests=2&display=reviews',\n",
       " 'https://www.hostelworld.com/pwa/hosteldetails.php/YHA-London-Earls-Court/London/6981?from=2023-03-08&to=2023-03-11&guests=2',\n",
       " 'https://www.hostelworld.com/pwa/hosteldetails.php/YHA-London-Earls-Court/London/6981?from=2023-03-08&to=2023-03-11&guests=2',\n",
       " 'https://www.hostelworld.com/pwa/hosteldetails.php/YHA-London-Earls-Court/London/6981?from=2023-03-08&to=2023-03-11&guests=2&display=reviews',\n",
       " 'https://www.hostelworld.com/pwa/hosteldetails.php/Elmwood-Hotel/London/34338?from=2023-03-08&to=2023-03-11&guests=2',\n",
       " 'https://www.hostelworld.com/pwa/hosteldetails.php/Elmwood-Hotel/London/34338?from=2023-03-08&to=2023-03-11&guests=2',\n",
       " 'https://www.hostelworld.com/pwa/hosteldetails.php/Elmwood-Hotel/London/34338?from=2023-03-08&to=2023-03-11&guests=2&display=reviews',\n",
       " 'https://www.hostelworld.com/pwa/hosteldetails.php/PubLove-The-Rose-Crown/London/297123?from=2023-03-08&to=2023-03-11&guests=2',\n",
       " 'https://www.hostelworld.com/pwa/hosteldetails.php/PubLove-The-Rose-Crown/London/297123?from=2023-03-08&to=2023-03-11&guests=2',\n",
       " 'https://www.hostelworld.com/pwa/hosteldetails.php/PubLove-The-Rose-Crown/London/297123?from=2023-03-08&to=2023-03-11&guests=2&display=reviews',\n",
       " 'https://www.hostelworld.com/pwa/hosteldetails.php/PubLove-The-Green-Man-Paddington/London/21953?from=2023-03-08&to=2023-03-11&guests=2',\n",
       " 'https://www.hostelworld.com/pwa/hosteldetails.php/PubLove-The-Green-Man-Paddington/London/21953?from=2023-03-08&to=2023-03-11&guests=2',\n",
       " 'https://www.hostelworld.com/pwa/hosteldetails.php/PubLove-The-Green-Man-Paddington/London/21953?from=2023-03-08&to=2023-03-11&guests=2&display=reviews',\n",
       " 'https://www.hostelworld.com/pwa/hosteldetails.php/London-Waterloo-Hostel/London/39493?from=2023-03-08&to=2023-03-11&guests=2',\n",
       " 'https://www.hostelworld.com/pwa/hosteldetails.php/London-Waterloo-Hostel/London/39493?from=2023-03-08&to=2023-03-11&guests=2',\n",
       " 'https://www.hostelworld.com/pwa/hosteldetails.php/London-Waterloo-Hostel/London/39493?from=2023-03-08&to=2023-03-11&guests=2&display=reviews',\n",
       " 'https://www.hostelworld.com/pwa/hosteldetails.php/PubLove-The-Exmouth-Arms-Euston/London/93796?from=2023-03-08&to=2023-03-11&guests=2',\n",
       " 'https://www.hostelworld.com/pwa/hosteldetails.php/PubLove-The-Exmouth-Arms-Euston/London/93796?from=2023-03-08&to=2023-03-11&guests=2',\n",
       " 'https://www.hostelworld.com/pwa/hosteldetails.php/PubLove-The-Exmouth-Arms-Euston/London/93796?from=2023-03-08&to=2023-03-11&guests=2&display=reviews',\n",
       " 'https://www.hostelworld.com/pwa/hosteldetails.php/Hostelle-London/London/316723?from=2023-03-08&to=2023-03-11&guests=2',\n",
       " 'https://www.hostelworld.com/pwa/hosteldetails.php/Hostelle-London/London/316723?from=2023-03-08&to=2023-03-11&guests=2',\n",
       " 'https://www.hostelworld.com/pwa/hosteldetails.php/Hostelle-London/London/316723?from=2023-03-08&to=2023-03-11&guests=2&display=reviews',\n",
       " 'https://www.hostelworld.com/pwa/hosteldetails.php/YHA-London-St-Pancras/London/7010?from=2023-03-08&to=2023-03-11&guests=2',\n",
       " 'https://www.hostelworld.com/pwa/hosteldetails.php/YHA-London-St-Pancras/London/7010?from=2023-03-08&to=2023-03-11&guests=2',\n",
       " 'https://www.hostelworld.com/pwa/hosteldetails.php/YHA-London-St-Pancras/London/7010?from=2023-03-08&to=2023-03-11&guests=2&display=reviews',\n",
       " 'https://www.hostelworld.com/pwa/hosteldetails.php/City-Hotel-Carlton/London/27551?from=2023-03-08&to=2023-03-11&guests=2',\n",
       " 'https://www.hostelworld.com/pwa/hosteldetails.php/City-Hotel-Carlton/London/27551?from=2023-03-08&to=2023-03-11&guests=2',\n",
       " 'https://www.hostelworld.com/pwa/hosteldetails.php/City-Hotel-Carlton/London/27551?from=2023-03-08&to=2023-03-11&guests=2&display=reviews',\n",
       " 'https://www.hostelworld.com/pwa/hosteldetails.php/London-House-Hotel/London/529?from=2023-03-08&to=2023-03-11&guests=2',\n",
       " 'https://www.hostelworld.com/pwa/hosteldetails.php/London-House-Hotel/London/529?from=2023-03-08&to=2023-03-11&guests=2',\n",
       " 'https://www.hostelworld.com/pwa/hosteldetails.php/London-House-Hotel/London/529?from=2023-03-08&to=2023-03-11&guests=2&display=reviews',\n",
       " 'https://www.hostelworld.com/pwa/hosteldetails.php/TLK-Apartments-Hotel/London/304817?from=2023-03-08&to=2023-03-11&guests=2',\n",
       " 'https://www.hostelworld.com/pwa/hosteldetails.php/TLK-Apartments-Hotel/London/304817?from=2023-03-08&to=2023-03-11&guests=2',\n",
       " 'https://www.hostelworld.com/pwa/hosteldetails.php/TLK-Apartments-Hotel/London/304817?from=2023-03-08&to=2023-03-11&guests=2&display=reviews',\n",
       " 'https://www.hostelworld.com/pwa/hosteldetails.php/Kip-Hotel/London/266789?from=2023-03-08&to=2023-03-11&guests=2',\n",
       " 'https://www.hostelworld.com/pwa/hosteldetails.php/Kip-Hotel/London/266789?from=2023-03-08&to=2023-03-11&guests=2',\n",
       " 'https://www.hostelworld.com/pwa/hosteldetails.php/Kip-Hotel/London/266789?from=2023-03-08&to=2023-03-11&guests=2&display=reviews',\n",
       " 'https://www.hostelworld.com/pwa/hosteldetails.php/Barry-House/London/287321?from=2023-03-08&to=2023-03-11&guests=2',\n",
       " 'https://www.hostelworld.com/pwa/hosteldetails.php/Barry-House/London/287321?from=2023-03-08&to=2023-03-11&guests=2',\n",
       " 'https://www.hostelworld.com/pwa/hosteldetails.php/Barry-House/London/287321?from=2023-03-08&to=2023-03-11&guests=2&display=reviews',\n",
       " 'https://www.hostelworld.com/pwa/hosteldetails.php/Hotel-Shepherds-Bush-London/London/308621?from=2023-03-08&to=2023-03-11&guests=2',\n",
       " 'https://www.hostelworld.com/pwa/hosteldetails.php/Hotel-Shepherds-Bush-London/London/308621?from=2023-03-08&to=2023-03-11&guests=2',\n",
       " 'https://www.hostelworld.com/pwa/hosteldetails.php/Hotel-Shepherds-Bush-London/London/308621?from=2023-03-08&to=2023-03-11&guests=2&display=reviews',\n",
       " 'https://www.hostelworld.com/pwa/hosteldetails.php/Colliers-Hotel/London/308375?from=2023-03-08&to=2023-03-11&guests=2',\n",
       " 'https://www.hostelworld.com/pwa/hosteldetails.php/Colliers-Hotel/London/308375?from=2023-03-08&to=2023-03-11&guests=2',\n",
       " 'https://www.hostelworld.com/pwa/hosteldetails.php/Colliers-Hotel/London/308375?from=2023-03-08&to=2023-03-11&guests=2&display=reviews',\n",
       " 'https://www.hostelworld.com/pwa/hosteldetails.php/Hyde-Park-Court-Hotel/London/5107?from=2023-03-08&to=2023-03-11&guests=2',\n",
       " 'https://www.hostelworld.com/pwa/hosteldetails.php/Hyde-Park-Court-Hotel/London/5107?from=2023-03-08&to=2023-03-11&guests=2',\n",
       " 'https://www.hostelworld.com/pwa/hosteldetails.php/Hyde-Park-Court-Hotel/London/5107?from=2023-03-08&to=2023-03-11&guests=2&display=reviews',\n",
       " 'https://www.hostelworld.com/pwa/hosteldetails.php/Wellesley-Hotel/London/305734?from=2023-03-08&to=2023-03-11&guests=2',\n",
       " 'https://www.hostelworld.com/pwa/hosteldetails.php/Wellesley-Hotel/London/305734?from=2023-03-08&to=2023-03-11&guests=2',\n",
       " 'https://www.hostelworld.com/pwa/hosteldetails.php/Wellesley-Hotel/London/305734?from=2023-03-08&to=2023-03-11&guests=2&display=reviews',\n",
       " 'https://www.hostelworld.com/pwa/hosteldetails.php/Airways-Hotel-Victoria-London/London/16289?from=2023-03-08&to=2023-03-11&guests=2',\n",
       " 'https://www.hostelworld.com/pwa/hosteldetails.php/Airways-Hotel-Victoria-London/London/16289?from=2023-03-08&to=2023-03-11&guests=2',\n",
       " 'https://www.hostelworld.com/pwa/hosteldetails.php/Airways-Hotel-Victoria-London/London/16289?from=2023-03-08&to=2023-03-11&guests=2&display=reviews',\n",
       " 'https://www.hostelworld.com/pwa/hosteldetails.php/Budget-London-Apartments/London/11493?from=2023-03-08&to=2023-03-11&guests=2',\n",
       " 'https://www.hostelworld.com/pwa/hosteldetails.php/Budget-London-Apartments/London/11493?from=2023-03-08&to=2023-03-11&guests=2',\n",
       " 'https://www.hostelworld.com/pwa/hosteldetails.php/Budget-London-Apartments/London/11493?from=2023-03-08&to=2023-03-11&guests=2&display=reviews']"
      ]
     },
     "execution_count": 41,
     "metadata": {},
     "output_type": "execute_result"
    }
   ],
   "source": [
    "hostelurl"
   ]
  },
  {
   "cell_type": "code",
   "execution_count": null,
   "id": "45e749d5",
   "metadata": {},
   "outputs": [],
   "source": []
  },
  {
   "cell_type": "code",
   "execution_count": 15,
   "id": "3c057a66",
   "metadata": {},
   "outputs": [
    {
     "ename": "TimeoutException",
     "evalue": "Message: timeout: Timed out receiving message from renderer: 298.488\n  (Session info: chrome=110.0.5481.178)\nStacktrace:\nBacktrace:\n\t(No symbol) [0x007337D3]\n\t(No symbol) [0x006C8B81]\n\t(No symbol) [0x005CB36D]\n\t(No symbol) [0x005BD4D3]\n\t(No symbol) [0x005BD241]\n\t(No symbol) [0x005BBC95]\n\t(No symbol) [0x005BC63A]\n\t(No symbol) [0x005C5FE5]\n\t(No symbol) [0x005D199E]\n\t(No symbol) [0x005D4DD6]\n\t(No symbol) [0x005BC993]\n\t(No symbol) [0x005D1724]\n\t(No symbol) [0x00631758]\n\t(No symbol) [0x0061B216]\n\t(No symbol) [0x005F0D97]\n\t(No symbol) [0x005F253D]\n\tGetHandleVerifier [0x009AABF2+2510930]\n\tGetHandleVerifier [0x009D8EC1+2700065]\n\tGetHandleVerifier [0x009DC86C+2714828]\n\tGetHandleVerifier [0x007E3480+645344]\n\t(No symbol) [0x006D0FD2]\n\t(No symbol) [0x006D6C68]\n\t(No symbol) [0x006D6D4B]\n\t(No symbol) [0x006E0D6B]\n\tBaseThreadInitThunk [0x76EEFA29+25]\n\tRtlGetAppContainerNamedObjectPath [0x774875F4+228]\n\tRtlGetAppContainerNamedObjectPath [0x774875C4+180]\n",
     "output_type": "error",
     "traceback": [
      "\u001b[1;31m---------------------------------------------------------------------------\u001b[0m",
      "\u001b[1;31mTimeoutException\u001b[0m                          Traceback (most recent call last)",
      "Input \u001b[1;32mIn [15]\u001b[0m, in \u001b[0;36m<cell line: 10>\u001b[1;34m()\u001b[0m\n\u001b[0;32m      9\u001b[0m property_dscp\u001b[38;5;241m=\u001b[39m[]\n\u001b[0;32m     10\u001b[0m \u001b[38;5;28;01mfor\u001b[39;00m url \u001b[38;5;129;01min\u001b[39;00m hostelurl:\n\u001b[1;32m---> 11\u001b[0m     \u001b[43mdriver\u001b[49m\u001b[38;5;241;43m.\u001b[39;49m\u001b[43mget\u001b[49m\u001b[43m(\u001b[49m\u001b[43murl\u001b[49m\u001b[43m)\u001b[49m\n\u001b[0;32m     12\u001b[0m     time\u001b[38;5;241m.\u001b[39msleep(\u001b[38;5;241m3\u001b[39m)\n\u001b[0;32m     13\u001b[0m     \u001b[38;5;28;01mtry\u001b[39;00m:\n",
      "File \u001b[1;32m~\\anaconda3\\lib\\site-packages\\selenium\\webdriver\\remote\\webdriver.py:449\u001b[0m, in \u001b[0;36mWebDriver.get\u001b[1;34m(self, url)\u001b[0m\n\u001b[0;32m    447\u001b[0m \u001b[38;5;28;01mdef\u001b[39;00m \u001b[38;5;21mget\u001b[39m(\u001b[38;5;28mself\u001b[39m, url: \u001b[38;5;28mstr\u001b[39m) \u001b[38;5;241m-\u001b[39m\u001b[38;5;241m>\u001b[39m \u001b[38;5;28;01mNone\u001b[39;00m:\n\u001b[0;32m    448\u001b[0m     \u001b[38;5;124;03m\"\"\"Loads a web page in the current browser session.\"\"\"\u001b[39;00m\n\u001b[1;32m--> 449\u001b[0m     \u001b[38;5;28;43mself\u001b[39;49m\u001b[38;5;241;43m.\u001b[39;49m\u001b[43mexecute\u001b[49m\u001b[43m(\u001b[49m\u001b[43mCommand\u001b[49m\u001b[38;5;241;43m.\u001b[39;49m\u001b[43mGET\u001b[49m\u001b[43m,\u001b[49m\u001b[43m \u001b[49m\u001b[43m{\u001b[49m\u001b[38;5;124;43m\"\u001b[39;49m\u001b[38;5;124;43murl\u001b[39;49m\u001b[38;5;124;43m\"\u001b[39;49m\u001b[43m:\u001b[49m\u001b[43m \u001b[49m\u001b[43murl\u001b[49m\u001b[43m}\u001b[49m\u001b[43m)\u001b[49m\n",
      "File \u001b[1;32m~\\anaconda3\\lib\\site-packages\\selenium\\webdriver\\remote\\webdriver.py:440\u001b[0m, in \u001b[0;36mWebDriver.execute\u001b[1;34m(self, driver_command, params)\u001b[0m\n\u001b[0;32m    438\u001b[0m response \u001b[38;5;241m=\u001b[39m \u001b[38;5;28mself\u001b[39m\u001b[38;5;241m.\u001b[39mcommand_executor\u001b[38;5;241m.\u001b[39mexecute(driver_command, params)\n\u001b[0;32m    439\u001b[0m \u001b[38;5;28;01mif\u001b[39;00m response:\n\u001b[1;32m--> 440\u001b[0m     \u001b[38;5;28;43mself\u001b[39;49m\u001b[38;5;241;43m.\u001b[39;49m\u001b[43merror_handler\u001b[49m\u001b[38;5;241;43m.\u001b[39;49m\u001b[43mcheck_response\u001b[49m\u001b[43m(\u001b[49m\u001b[43mresponse\u001b[49m\u001b[43m)\u001b[49m\n\u001b[0;32m    441\u001b[0m     response[\u001b[38;5;124m\"\u001b[39m\u001b[38;5;124mvalue\u001b[39m\u001b[38;5;124m\"\u001b[39m] \u001b[38;5;241m=\u001b[39m \u001b[38;5;28mself\u001b[39m\u001b[38;5;241m.\u001b[39m_unwrap_value(response\u001b[38;5;241m.\u001b[39mget(\u001b[38;5;124m\"\u001b[39m\u001b[38;5;124mvalue\u001b[39m\u001b[38;5;124m\"\u001b[39m, \u001b[38;5;28;01mNone\u001b[39;00m))\n\u001b[0;32m    442\u001b[0m     \u001b[38;5;28;01mreturn\u001b[39;00m response\n",
      "File \u001b[1;32m~\\anaconda3\\lib\\site-packages\\selenium\\webdriver\\remote\\errorhandler.py:245\u001b[0m, in \u001b[0;36mErrorHandler.check_response\u001b[1;34m(self, response)\u001b[0m\n\u001b[0;32m    243\u001b[0m         alert_text \u001b[38;5;241m=\u001b[39m value[\u001b[38;5;124m\"\u001b[39m\u001b[38;5;124malert\u001b[39m\u001b[38;5;124m\"\u001b[39m]\u001b[38;5;241m.\u001b[39mget(\u001b[38;5;124m\"\u001b[39m\u001b[38;5;124mtext\u001b[39m\u001b[38;5;124m\"\u001b[39m)\n\u001b[0;32m    244\u001b[0m     \u001b[38;5;28;01mraise\u001b[39;00m exception_class(message, screen, stacktrace, alert_text)  \u001b[38;5;66;03m# type: ignore[call-arg]  # mypy is not smart enough here\u001b[39;00m\n\u001b[1;32m--> 245\u001b[0m \u001b[38;5;28;01mraise\u001b[39;00m exception_class(message, screen, stacktrace)\n",
      "\u001b[1;31mTimeoutException\u001b[0m: Message: timeout: Timed out receiving message from renderer: 298.488\n  (Session info: chrome=110.0.5481.178)\nStacktrace:\nBacktrace:\n\t(No symbol) [0x007337D3]\n\t(No symbol) [0x006C8B81]\n\t(No symbol) [0x005CB36D]\n\t(No symbol) [0x005BD4D3]\n\t(No symbol) [0x005BD241]\n\t(No symbol) [0x005BBC95]\n\t(No symbol) [0x005BC63A]\n\t(No symbol) [0x005C5FE5]\n\t(No symbol) [0x005D199E]\n\t(No symbol) [0x005D4DD6]\n\t(No symbol) [0x005BC993]\n\t(No symbol) [0x005D1724]\n\t(No symbol) [0x00631758]\n\t(No symbol) [0x0061B216]\n\t(No symbol) [0x005F0D97]\n\t(No symbol) [0x005F253D]\n\tGetHandleVerifier [0x009AABF2+2510930]\n\tGetHandleVerifier [0x009D8EC1+2700065]\n\tGetHandleVerifier [0x009DC86C+2714828]\n\tGetHandleVerifier [0x007E3480+645344]\n\t(No symbol) [0x006D0FD2]\n\t(No symbol) [0x006D6C68]\n\t(No symbol) [0x006D6D4B]\n\t(No symbol) [0x006E0D6B]\n\tBaseThreadInitThunk [0x76EEFA29+25]\n\tRtlGetAppContainerNamedObjectPath [0x774875F4+228]\n\tRtlGetAppContainerNamedObjectPath [0x774875C4+180]\n"
     ]
    }
   ],
   "source": [
    "hostel=[]\n",
    "distance=[]\n",
    "rating=[]\n",
    "total_review=[]\n",
    "overall_review=[]\n",
    "pri_price=[]\n",
    "dorm_price=[]\n",
    "facility=[]\n",
    "property_dscp=[]\n",
    "for url in hostelurl:\n",
    "    driver.get(url)\n",
    "    time.sleep(3)\n",
    "    try:\n",
    "        Hostel=driver.find_elements(By.XPATH,'//div[@ class=\"title-2\"]')\n",
    "        hostel.append(Hostel.text)\n",
    "    except:\n",
    "        hostel.append(\"-\")\n",
    "    try:\n",
    "        Distance=driver.find_elements(By.XPATH,'//span[@class=\"distance-description\"]')\n",
    "        distance.append(Distance.text)\n",
    "    except:\n",
    "        distance.append(\"-\")\n",
    "    try:\n",
    "        Rating=driver.find_elements(By.XPATH,'//div[@class=\"score orange big\"]')\n",
    "        rating.append(Rating.text)\n",
    "    except:\n",
    "        rating.append(\"-\")\n",
    "    try:\n",
    "        totalreview=driver.find_elements(By.XPATH,'//div[@class=\"reviews\"]')\n",
    "        total_review.append(totalreview.text)\n",
    "    except:\n",
    "        total_review.append(\"-\")\n",
    "    try:\n",
    "        overallreview=driver.find_elements(By.XPATH,'//div[@class=\"keywords\"]')\n",
    "        overall_review.append(overallreview.text)\n",
    "    except:\n",
    "        overall_review.append(\"-\")\n",
    "    try:\n",
    "        priprice=driver.find_elements(By.XPATH,'//p[@class=\"no-price body-3 no-privates\"]')\n",
    "        pri_price.append(priprice.text)\n",
    "    except:\n",
    "        pri_price.append(\"-\")\n",
    "    \n",
    "    try:\n",
    "        Facility=driver.find_elements(By.XPATH,'//ul[@class=\"facilities\"]')\n",
    "        facility.append(Facility.text)\n",
    "    except:\n",
    "        facility.append(\"-\")\n",
    "    try:\n",
    "        propertydis=driver.find_elements(By.XPATH,'//div[@class=\"content\"]')\n",
    "        property_dscp.append(propertydis.text)\n",
    "    except:\n",
    "        property_dscp.append(\"-\")"
   ]
  },
  {
   "cell_type": "code",
   "execution_count": null,
   "id": "b91cd6d1",
   "metadata": {},
   "outputs": [],
   "source": [
    "try:\n",
    "    dormprice=driver.find_elements(By.XPATH,'//div[@class=\"price title-5\"]')\n",
    "    dorm_price.append(dormprice.text)\n",
    "except:\n",
    "    dorm_price.append(dormprice.text)"
   ]
  },
  {
   "cell_type": "code",
   "execution_count": null,
   "id": "2b9c1f61",
   "metadata": {},
   "outputs": [],
   "source": []
  }
 ],
 "metadata": {
  "kernelspec": {
   "display_name": "Python 3 (ipykernel)",
   "language": "python",
   "name": "python3"
  },
  "language_info": {
   "codemirror_mode": {
    "name": "ipython",
    "version": 3
   },
   "file_extension": ".py",
   "mimetype": "text/x-python",
   "name": "python",
   "nbconvert_exporter": "python",
   "pygments_lexer": "ipython3",
   "version": "3.9.12"
  }
 },
 "nbformat": 4,
 "nbformat_minor": 5
}
