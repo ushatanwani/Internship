{
 "cells": [
  {
   "cell_type": "code",
   "execution_count": 1,
   "id": "3589dd9b",
   "metadata": {},
   "outputs": [],
   "source": [
    "import selenium\n",
    "import pandas as pd\n",
    "from selenium import webdriver\n",
    "import warnings\n",
    "warnings.filterwarnings('ignore')\n",
    "from selenium.common.exceptions import StaleElementReferenceException\n",
    "from selenium.common.exceptions import NoSuchElementException\n",
    "from selenium.webdriver.common.by import By\n",
    "import time\n",
    "import pandas as pd\n",
    "from selenium.webdriver.support.ui import WebDriverWait"
   ]
  },
  {
   "cell_type": "code",
   "execution_count": null,
   "id": "ab6afc73",
   "metadata": {},
   "outputs": [],
   "source": []
  },
  {
   "cell_type": "code",
   "execution_count": 2,
   "id": "e580b406",
   "metadata": {},
   "outputs": [],
   "source": [
    "#assignment 4 qustion 3"
   ]
  },
  {
   "cell_type": "code",
   "execution_count": 25,
   "id": "21c70793",
   "metadata": {},
   "outputs": [],
   "source": [
    "driver=webdriver.Chrome(r\"Chromedriver.exe\")"
   ]
  },
  {
   "cell_type": "code",
   "execution_count": 22,
   "id": "d33b5f83",
   "metadata": {},
   "outputs": [],
   "source": [
    "driver.get(\"https://www.statisticstimes.com/\")"
   ]
  },
  {
   "cell_type": "code",
   "execution_count": 23,
   "id": "a5e36428",
   "metadata": {},
   "outputs": [],
   "source": [
    "economy=driver.find_element(By.XPATH,'/html/body/div[2]/div[1]/div[2]/div[2]/button')\n",
    "economy.click()"
   ]
  },
  {
   "cell_type": "code",
   "execution_count": 24,
   "id": "e669b2c6",
   "metadata": {},
   "outputs": [],
   "source": [
    "india=driver.find_element(By.XPATH,'/html/body/div[2]/div[1]/div[2]/div[2]/div/a[3]')\n",
    "#india=driver.find_element(By.CLASS,)\n",
    "india.click()\n",
    "time.sleep(3)"
   ]
  },
  {
   "cell_type": "code",
   "execution_count": 25,
   "id": "4613a602",
   "metadata": {},
   "outputs": [],
   "source": [
    "GDP=driver.find_element(By.XPATH,'/html/body/div[2]/div[2]/div[2]/ul/li[1]/a')\n",
    "GDP.click()"
   ]
  },
  {
   "cell_type": "code",
   "execution_count": 26,
   "id": "814690a5",
   "metadata": {},
   "outputs": [
    {
     "data": {
      "text/plain": [
       "68"
      ]
     },
     "execution_count": 26,
     "metadata": {},
     "output_type": "execute_result"
    }
   ],
   "source": [
    "Rank=[]\n",
    "rank=driver.find_elements(By.XPATH,'//td[@class=\"data1\"]')\n",
    "for i in rank:\n",
    "    try:\n",
    "        Rank.append(i.text)\n",
    "    except:\n",
    "        Rank.append(\"-\")\n",
    "len(Rank)\n"
   ]
  },
  {
   "cell_type": "code",
   "execution_count": 27,
   "id": "f896f628",
   "metadata": {},
   "outputs": [
    {
     "data": {
      "text/plain": [
       "33"
      ]
     },
     "execution_count": 27,
     "metadata": {},
     "output_type": "execute_result"
    }
   ],
   "source": [
    "RANK=Rank[0:33]\n",
    "len(RANK)"
   ]
  },
  {
   "cell_type": "code",
   "execution_count": 29,
   "id": "38cfbf63",
   "metadata": {},
   "outputs": [],
   "source": [
    "State=[]\n",
    "state=driver.find_elements(By.XPATH,'//td[@class=\"name\"]')\n",
    "for i in state:\n",
    "    State.append(i.text)\n"
   ]
  },
  {
   "cell_type": "code",
   "execution_count": 30,
   "id": "8af61249",
   "metadata": {},
   "outputs": [],
   "source": [
    "STATE=State[0:33]"
   ]
  },
  {
   "cell_type": "code",
   "execution_count": 31,
   "id": "0c38dea4",
   "metadata": {},
   "outputs": [],
   "source": [
    "GSDP=[]\n",
    "GSDP18=driver.find_elements(By.XPATH,'//td[@class=\"data sorting_1\"]')\n",
    "for i in GSDP18:\n",
    "    try:\n",
    "        GSDP.append(i.text)\n",
    "    except:\n",
    "        GSDP.append(\"-\")"
   ]
  },
  {
   "cell_type": "code",
   "execution_count": 50,
   "id": "62dbf3db",
   "metadata": {},
   "outputs": [],
   "source": [
    "len(GSDP)\n",
    "Gsdp=GSDP[0:33]\n"
   ]
  },
  {
   "cell_type": "code",
   "execution_count": 32,
   "id": "6260260b",
   "metadata": {},
   "outputs": [
    {
     "data": {
      "text/plain": [
       "33"
      ]
     },
     "execution_count": 32,
     "metadata": {},
     "output_type": "execute_result"
    }
   ],
   "source": [
    "GSDP20=[]\n",
    "GSDP19=driver.find_elements(By.XPATH,'//table[@id=\"table_id\"]/tbody/tr/td[3]')\n",
    "for i in GSDP19:        \n",
    "    try:\n",
    "        GSDP20.append(i.text)\n",
    "    except:\n",
    "        GSDP20.append(\"-\")\n",
    "\n",
    "gsdp20=GSDP20[0:33]\n",
    "len(gsdp20)"
   ]
  },
  {
   "cell_type": "code",
   "execution_count": 34,
   "id": "d63a4ec0",
   "metadata": {},
   "outputs": [],
   "source": [
    "Share=[]\n",
    "share=driver.find_elements(By.XPATH,'//table[@id=\"table_id\"]/tbody/tr/td[5]')\n",
    "for i in share:\n",
    "    try:\n",
    "        Share.append(i.text)\n",
    "    except:\n",
    "        Share.append(\"-\")\n",
    "SHARE=Share[0:33]"
   ]
  },
  {
   "cell_type": "code",
   "execution_count": 35,
   "id": "ed98eddb",
   "metadata": {},
   "outputs": [
    {
     "data": {
      "text/plain": [
       "33"
      ]
     },
     "execution_count": 35,
     "metadata": {},
     "output_type": "execute_result"
    }
   ],
   "source": [
    "len(SHARE)"
   ]
  },
  {
   "cell_type": "code",
   "execution_count": 38,
   "id": "50cfd43f",
   "metadata": {},
   "outputs": [
    {
     "data": {
      "text/plain": [
       "33"
      ]
     },
     "execution_count": 38,
     "metadata": {},
     "output_type": "execute_result"
    }
   ],
   "source": [
    "GDP=[]\n",
    "gdp=driver.find_elements(By.XPATH,'//table[@id=\"table_id\"]/tbody/tr/td[6]')\n",
    "for i in gdp:\n",
    "    try:\n",
    "        GDP.append(i.text)\n",
    "    except:\n",
    "        GDP.append(\"-\")\n",
    "Gdp=GDP[0:33]\n",
    "len(Gdp)"
   ]
  },
  {
   "cell_type": "code",
   "execution_count": 39,
   "id": "7f868980",
   "metadata": {},
   "outputs": [
    {
     "data": {
      "text/plain": [
       "33"
      ]
     },
     "execution_count": 39,
     "metadata": {},
     "output_type": "execute_result"
    }
   ],
   "source": [
    "GSDP2011=[]\n",
    "gsdp2011=driver.find_elements(By.XPATH,'//table[@id=\"table_id\"]/tbody/tr/td[7]')\n",
    "for i in gsdp2011:\n",
    "    try:\n",
    "        GSDP2011.append(i.text)\n",
    "    except:\n",
    "        GSDP2011.append(\"-\")\n",
    "Gsdp2011=GSDP2011[0:33]\n",
    "len(Gsdp2011)"
   ]
  },
  {
   "cell_type": "code",
   "execution_count": 43,
   "id": "486edc59",
   "metadata": {},
   "outputs": [
    {
     "data": {
      "text/plain": [
       "33"
      ]
     },
     "execution_count": 43,
     "metadata": {},
     "output_type": "execute_result"
    }
   ],
   "source": [
    "GSDP2012=[]\n",
    "gsdp2012=driver.find_elements(By.XPATH,'//table[@id=\"table_id\"]/tbody/tr/td[8\"]')\n",
    "for i in gsdp2012:\n",
    "    try:\n",
    "        GSDP2012.append(i.text)\n",
    "    except:\n",
    "        GSDP.append(\"-\")\"\n",
    "Gsdp2012=GSDP2012[0:33]\n",
    "len(Gsdp2012)"
   ]
  },
  {
   "cell_type": "code",
   "execution_count": 54,
   "id": "66c96990",
   "metadata": {},
   "outputs": [
    {
     "data": {
      "text/html": [
       "<div>\n",
       "<style scoped>\n",
       "    .dataframe tbody tr th:only-of-type {\n",
       "        vertical-align: middle;\n",
       "    }\n",
       "\n",
       "    .dataframe tbody tr th {\n",
       "        vertical-align: top;\n",
       "    }\n",
       "\n",
       "    .dataframe thead th {\n",
       "        text-align: right;\n",
       "    }\n",
       "</style>\n",
       "<table border=\"1\" class=\"dataframe\">\n",
       "  <thead>\n",
       "    <tr style=\"text-align: right;\">\n",
       "      <th></th>\n",
       "      <th>RANK</th>\n",
       "      <th>STATE</th>\n",
       "      <th>GSDP(19-20)_crINRatcurrentprice</th>\n",
       "      <th>GSDP(18-19)_crINRatcurrentprice</th>\n",
       "      <th>Share(18-19)</th>\n",
       "      <th>GDP($billions)</th>\n",
       "      <th>GSDP(19-20)_crINRat2011-12prices</th>\n",
       "      <th>GSDP(18-19)_crINRat2011-12prices</th>\n",
       "    </tr>\n",
       "  </thead>\n",
       "  <tbody>\n",
       "    <tr>\n",
       "      <th>0</th>\n",
       "      <td>1</td>\n",
       "      <td>Maharashtra</td>\n",
       "      <td>-</td>\n",
       "      <td>2,632,792</td>\n",
       "      <td>13.94%</td>\n",
       "      <td>399.921</td>\n",
       "      <td>-</td>\n",
       "      <td>2,039,074</td>\n",
       "    </tr>\n",
       "    <tr>\n",
       "      <th>1</th>\n",
       "      <td>2</td>\n",
       "      <td>Tamil Nadu</td>\n",
       "      <td>1,845,853</td>\n",
       "      <td>1,630,208</td>\n",
       "      <td>8.63%</td>\n",
       "      <td>247.629</td>\n",
       "      <td>1,312,929</td>\n",
       "      <td>1,215,307</td>\n",
       "    </tr>\n",
       "    <tr>\n",
       "      <th>2</th>\n",
       "      <td>3</td>\n",
       "      <td>Uttar Pradesh</td>\n",
       "      <td>1,687,818</td>\n",
       "      <td>1,584,764</td>\n",
       "      <td>8.39%</td>\n",
       "      <td>240.726</td>\n",
       "      <td>1,166,817</td>\n",
       "      <td>1,123,982</td>\n",
       "    </tr>\n",
       "    <tr>\n",
       "      <th>3</th>\n",
       "      <td>4</td>\n",
       "      <td>Gujarat</td>\n",
       "      <td>-</td>\n",
       "      <td>1,502,899</td>\n",
       "      <td>7.96%</td>\n",
       "      <td>228.290</td>\n",
       "      <td>-</td>\n",
       "      <td>1,186,379</td>\n",
       "    </tr>\n",
       "    <tr>\n",
       "      <th>4</th>\n",
       "      <td>5</td>\n",
       "      <td>Karnataka</td>\n",
       "      <td>1,631,977</td>\n",
       "      <td>1,493,127</td>\n",
       "      <td>7.91%</td>\n",
       "      <td>226.806</td>\n",
       "      <td>1,156,039</td>\n",
       "      <td>1,091,077</td>\n",
       "    </tr>\n",
       "    <tr>\n",
       "      <th>5</th>\n",
       "      <td>6</td>\n",
       "      <td>West Bengal</td>\n",
       "      <td>1,253,832</td>\n",
       "      <td>1,089,898</td>\n",
       "      <td>5.77%</td>\n",
       "      <td>165.556</td>\n",
       "      <td>793,223</td>\n",
       "      <td>739,525</td>\n",
       "    </tr>\n",
       "    <tr>\n",
       "      <th>6</th>\n",
       "      <td>7</td>\n",
       "      <td>Rajasthan</td>\n",
       "      <td>1,020,989</td>\n",
       "      <td>942,586</td>\n",
       "      <td>4.99%</td>\n",
       "      <td>143.179</td>\n",
       "      <td>711,627</td>\n",
       "      <td>677,428</td>\n",
       "    </tr>\n",
       "    <tr>\n",
       "      <th>7</th>\n",
       "      <td>8</td>\n",
       "      <td>Andhra Pradesh</td>\n",
       "      <td>972,782</td>\n",
       "      <td>862,957</td>\n",
       "      <td>4.57%</td>\n",
       "      <td>131.083</td>\n",
       "      <td>672,018</td>\n",
       "      <td>621,301</td>\n",
       "    </tr>\n",
       "    <tr>\n",
       "      <th>8</th>\n",
       "      <td>9</td>\n",
       "      <td>Telangana</td>\n",
       "      <td>969,604</td>\n",
       "      <td>861,031</td>\n",
       "      <td>4.56%</td>\n",
       "      <td>130.791</td>\n",
       "      <td>663,258</td>\n",
       "      <td>612,828</td>\n",
       "    </tr>\n",
       "    <tr>\n",
       "      <th>9</th>\n",
       "      <td>10</td>\n",
       "      <td>Madhya Pradesh</td>\n",
       "      <td>906,672</td>\n",
       "      <td>809,592</td>\n",
       "      <td>4.29%</td>\n",
       "      <td>122.977</td>\n",
       "      <td>561,801</td>\n",
       "      <td>522,009</td>\n",
       "    </tr>\n",
       "    <tr>\n",
       "      <th>10</th>\n",
       "      <td>11</td>\n",
       "      <td>Kerala</td>\n",
       "      <td>-</td>\n",
       "      <td>781,653</td>\n",
       "      <td>4.14%</td>\n",
       "      <td>118.733</td>\n",
       "      <td>-</td>\n",
       "      <td>559,412</td>\n",
       "    </tr>\n",
       "    <tr>\n",
       "      <th>11</th>\n",
       "      <td>12</td>\n",
       "      <td>Delhi</td>\n",
       "      <td>856,112</td>\n",
       "      <td>774,870</td>\n",
       "      <td>4.10%</td>\n",
       "      <td>117.703</td>\n",
       "      <td>634,408</td>\n",
       "      <td>590,569</td>\n",
       "    </tr>\n",
       "    <tr>\n",
       "      <th>12</th>\n",
       "      <td>13</td>\n",
       "      <td>Haryana</td>\n",
       "      <td>831,610</td>\n",
       "      <td>734,163</td>\n",
       "      <td>3.89%</td>\n",
       "      <td>111.519</td>\n",
       "      <td>572,240</td>\n",
       "      <td>531,085</td>\n",
       "    </tr>\n",
       "    <tr>\n",
       "      <th>13</th>\n",
       "      <td>14</td>\n",
       "      <td>Bihar</td>\n",
       "      <td>611,804</td>\n",
       "      <td>530,363</td>\n",
       "      <td>2.81%</td>\n",
       "      <td>80.562</td>\n",
       "      <td>414,977</td>\n",
       "      <td>375,651</td>\n",
       "    </tr>\n",
       "    <tr>\n",
       "      <th>14</th>\n",
       "      <td>15</td>\n",
       "      <td>Punjab</td>\n",
       "      <td>574,760</td>\n",
       "      <td>526,376</td>\n",
       "      <td>2.79%</td>\n",
       "      <td>79.957</td>\n",
       "      <td>418,868</td>\n",
       "      <td>397,669</td>\n",
       "    </tr>\n",
       "    <tr>\n",
       "      <th>15</th>\n",
       "      <td>16</td>\n",
       "      <td>Odisha</td>\n",
       "      <td>521,275</td>\n",
       "      <td>487,805</td>\n",
       "      <td>2.58%</td>\n",
       "      <td>74.098</td>\n",
       "      <td>396,499</td>\n",
       "      <td>376,877</td>\n",
       "    </tr>\n",
       "    <tr>\n",
       "      <th>16</th>\n",
       "      <td>17</td>\n",
       "      <td>Assam</td>\n",
       "      <td>-</td>\n",
       "      <td>315,881</td>\n",
       "      <td>1.67%</td>\n",
       "      <td>47.982</td>\n",
       "      <td>-</td>\n",
       "      <td>234,048</td>\n",
       "    </tr>\n",
       "    <tr>\n",
       "      <th>17</th>\n",
       "      <td>18</td>\n",
       "      <td>Chhattisgarh</td>\n",
       "      <td>329,180</td>\n",
       "      <td>304,063</td>\n",
       "      <td>1.61%</td>\n",
       "      <td>46.187</td>\n",
       "      <td>243,477</td>\n",
       "      <td>231,182</td>\n",
       "    </tr>\n",
       "    <tr>\n",
       "      <th>18</th>\n",
       "      <td>19</td>\n",
       "      <td>Jharkhand</td>\n",
       "      <td>328,598</td>\n",
       "      <td>297,204</td>\n",
       "      <td>1.57%</td>\n",
       "      <td>45.145</td>\n",
       "      <td>240,036</td>\n",
       "      <td>224,986</td>\n",
       "    </tr>\n",
       "    <tr>\n",
       "      <th>19</th>\n",
       "      <td>20</td>\n",
       "      <td>Uttarakhand</td>\n",
       "      <td>-</td>\n",
       "      <td>245,895</td>\n",
       "      <td>1.30%</td>\n",
       "      <td>37.351</td>\n",
       "      <td>-</td>\n",
       "      <td>193,273</td>\n",
       "    </tr>\n",
       "    <tr>\n",
       "      <th>20</th>\n",
       "      <td>21</td>\n",
       "      <td>Jammu &amp; Kashmir</td>\n",
       "      <td>-</td>\n",
       "      <td>155,956</td>\n",
       "      <td>0.83%</td>\n",
       "      <td>23.690</td>\n",
       "      <td>-</td>\n",
       "      <td>112,755</td>\n",
       "    </tr>\n",
       "    <tr>\n",
       "      <th>21</th>\n",
       "      <td>22</td>\n",
       "      <td>Himachal Pradesh</td>\n",
       "      <td>165,472</td>\n",
       "      <td>153,845</td>\n",
       "      <td>0.81%</td>\n",
       "      <td>23.369</td>\n",
       "      <td>124,403</td>\n",
       "      <td>117,851</td>\n",
       "    </tr>\n",
       "    <tr>\n",
       "      <th>22</th>\n",
       "      <td>23</td>\n",
       "      <td>Goa</td>\n",
       "      <td>80,449</td>\n",
       "      <td>73,170</td>\n",
       "      <td>0.39%</td>\n",
       "      <td>11.115</td>\n",
       "      <td>63,408</td>\n",
       "      <td>57,787</td>\n",
       "    </tr>\n",
       "    <tr>\n",
       "      <th>23</th>\n",
       "      <td>24</td>\n",
       "      <td>Tripura</td>\n",
       "      <td>55,984</td>\n",
       "      <td>49,845</td>\n",
       "      <td>0.26%</td>\n",
       "      <td>7.571</td>\n",
       "      <td>40,583</td>\n",
       "      <td>36,963</td>\n",
       "    </tr>\n",
       "    <tr>\n",
       "      <th>24</th>\n",
       "      <td>25</td>\n",
       "      <td>Chandigarh</td>\n",
       "      <td>-</td>\n",
       "      <td>42,114</td>\n",
       "      <td>0.22%</td>\n",
       "      <td>6.397</td>\n",
       "      <td>-</td>\n",
       "      <td>31,192</td>\n",
       "    </tr>\n",
       "    <tr>\n",
       "      <th>25</th>\n",
       "      <td>26</td>\n",
       "      <td>Puducherry</td>\n",
       "      <td>38,253</td>\n",
       "      <td>34,433</td>\n",
       "      <td>0.18%</td>\n",
       "      <td>5.230</td>\n",
       "      <td>25,093</td>\n",
       "      <td>23,013</td>\n",
       "    </tr>\n",
       "    <tr>\n",
       "      <th>26</th>\n",
       "      <td>27</td>\n",
       "      <td>Meghalaya</td>\n",
       "      <td>36,572</td>\n",
       "      <td>33,481</td>\n",
       "      <td>0.18%</td>\n",
       "      <td>5.086</td>\n",
       "      <td>26,695</td>\n",
       "      <td>24,682</td>\n",
       "    </tr>\n",
       "    <tr>\n",
       "      <th>27</th>\n",
       "      <td>28</td>\n",
       "      <td>Sikkim</td>\n",
       "      <td>32,496</td>\n",
       "      <td>28,723</td>\n",
       "      <td>0.15%</td>\n",
       "      <td>4.363</td>\n",
       "      <td>20,017</td>\n",
       "      <td>18,722</td>\n",
       "    </tr>\n",
       "    <tr>\n",
       "      <th>28</th>\n",
       "      <td>29</td>\n",
       "      <td>Manipur</td>\n",
       "      <td>31,790</td>\n",
       "      <td>27,870</td>\n",
       "      <td>0.15%</td>\n",
       "      <td>4.233</td>\n",
       "      <td>20,673</td>\n",
       "      <td>19,300</td>\n",
       "    </tr>\n",
       "    <tr>\n",
       "      <th>29</th>\n",
       "      <td>30</td>\n",
       "      <td>Nagaland</td>\n",
       "      <td>-</td>\n",
       "      <td>27,283</td>\n",
       "      <td>0.14%</td>\n",
       "      <td>4.144</td>\n",
       "      <td>-</td>\n",
       "      <td>17,647</td>\n",
       "    </tr>\n",
       "    <tr>\n",
       "      <th>30</th>\n",
       "      <td>31</td>\n",
       "      <td>Arunachal Pradesh</td>\n",
       "      <td>-</td>\n",
       "      <td>24,603</td>\n",
       "      <td>0.13%</td>\n",
       "      <td>3.737</td>\n",
       "      <td>-</td>\n",
       "      <td>16,676</td>\n",
       "    </tr>\n",
       "    <tr>\n",
       "      <th>31</th>\n",
       "      <td>32</td>\n",
       "      <td>Mizoram</td>\n",
       "      <td>26,503</td>\n",
       "      <td>22,287</td>\n",
       "      <td>0.12%</td>\n",
       "      <td>3.385</td>\n",
       "      <td>18,797</td>\n",
       "      <td>16,478</td>\n",
       "    </tr>\n",
       "    <tr>\n",
       "      <th>32</th>\n",
       "      <td>33</td>\n",
       "      <td>Andaman &amp; Nicobar Islands</td>\n",
       "      <td>-</td>\n",
       "      <td>-</td>\n",
       "      <td>-</td>\n",
       "      <td>-</td>\n",
       "      <td>-</td>\n",
       "      <td>-</td>\n",
       "    </tr>\n",
       "  </tbody>\n",
       "</table>\n",
       "</div>"
      ],
      "text/plain": [
       "   RANK                      STATE GSDP(19-20)_crINRatcurrentprice  \\\n",
       "0     1                Maharashtra                               -   \n",
       "1     2                 Tamil Nadu                       1,845,853   \n",
       "2     3              Uttar Pradesh                       1,687,818   \n",
       "3     4                    Gujarat                               -   \n",
       "4     5                  Karnataka                       1,631,977   \n",
       "5     6                West Bengal                       1,253,832   \n",
       "6     7                  Rajasthan                       1,020,989   \n",
       "7     8             Andhra Pradesh                         972,782   \n",
       "8     9                  Telangana                         969,604   \n",
       "9    10             Madhya Pradesh                         906,672   \n",
       "10   11                     Kerala                               -   \n",
       "11   12                      Delhi                         856,112   \n",
       "12   13                    Haryana                         831,610   \n",
       "13   14                      Bihar                         611,804   \n",
       "14   15                     Punjab                         574,760   \n",
       "15   16                     Odisha                         521,275   \n",
       "16   17                      Assam                               -   \n",
       "17   18               Chhattisgarh                         329,180   \n",
       "18   19                  Jharkhand                         328,598   \n",
       "19   20                Uttarakhand                               -   \n",
       "20   21            Jammu & Kashmir                               -   \n",
       "21   22           Himachal Pradesh                         165,472   \n",
       "22   23                        Goa                          80,449   \n",
       "23   24                    Tripura                          55,984   \n",
       "24   25                 Chandigarh                               -   \n",
       "25   26                 Puducherry                          38,253   \n",
       "26   27                  Meghalaya                          36,572   \n",
       "27   28                     Sikkim                          32,496   \n",
       "28   29                    Manipur                          31,790   \n",
       "29   30                   Nagaland                               -   \n",
       "30   31          Arunachal Pradesh                               -   \n",
       "31   32                    Mizoram                          26,503   \n",
       "32   33  Andaman & Nicobar Islands                               -   \n",
       "\n",
       "   GSDP(18-19)_crINRatcurrentprice Share(18-19) GDP($billions)  \\\n",
       "0                        2,632,792       13.94%        399.921   \n",
       "1                        1,630,208        8.63%        247.629   \n",
       "2                        1,584,764        8.39%        240.726   \n",
       "3                        1,502,899        7.96%        228.290   \n",
       "4                        1,493,127        7.91%        226.806   \n",
       "5                        1,089,898        5.77%        165.556   \n",
       "6                          942,586        4.99%        143.179   \n",
       "7                          862,957        4.57%        131.083   \n",
       "8                          861,031        4.56%        130.791   \n",
       "9                          809,592        4.29%        122.977   \n",
       "10                         781,653        4.14%        118.733   \n",
       "11                         774,870        4.10%        117.703   \n",
       "12                         734,163        3.89%        111.519   \n",
       "13                         530,363        2.81%         80.562   \n",
       "14                         526,376        2.79%         79.957   \n",
       "15                         487,805        2.58%         74.098   \n",
       "16                         315,881        1.67%         47.982   \n",
       "17                         304,063        1.61%         46.187   \n",
       "18                         297,204        1.57%         45.145   \n",
       "19                         245,895        1.30%         37.351   \n",
       "20                         155,956        0.83%         23.690   \n",
       "21                         153,845        0.81%         23.369   \n",
       "22                          73,170        0.39%         11.115   \n",
       "23                          49,845        0.26%          7.571   \n",
       "24                          42,114        0.22%          6.397   \n",
       "25                          34,433        0.18%          5.230   \n",
       "26                          33,481        0.18%          5.086   \n",
       "27                          28,723        0.15%          4.363   \n",
       "28                          27,870        0.15%          4.233   \n",
       "29                          27,283        0.14%          4.144   \n",
       "30                          24,603        0.13%          3.737   \n",
       "31                          22,287        0.12%          3.385   \n",
       "32                               -            -              -   \n",
       "\n",
       "   GSDP(19-20)_crINRat2011-12prices GSDP(18-19)_crINRat2011-12prices  \n",
       "0                                 -                        2,039,074  \n",
       "1                         1,312,929                        1,215,307  \n",
       "2                         1,166,817                        1,123,982  \n",
       "3                                 -                        1,186,379  \n",
       "4                         1,156,039                        1,091,077  \n",
       "5                           793,223                          739,525  \n",
       "6                           711,627                          677,428  \n",
       "7                           672,018                          621,301  \n",
       "8                           663,258                          612,828  \n",
       "9                           561,801                          522,009  \n",
       "10                                -                          559,412  \n",
       "11                          634,408                          590,569  \n",
       "12                          572,240                          531,085  \n",
       "13                          414,977                          375,651  \n",
       "14                          418,868                          397,669  \n",
       "15                          396,499                          376,877  \n",
       "16                                -                          234,048  \n",
       "17                          243,477                          231,182  \n",
       "18                          240,036                          224,986  \n",
       "19                                -                          193,273  \n",
       "20                                -                          112,755  \n",
       "21                          124,403                          117,851  \n",
       "22                           63,408                           57,787  \n",
       "23                           40,583                           36,963  \n",
       "24                                -                           31,192  \n",
       "25                           25,093                           23,013  \n",
       "26                           26,695                           24,682  \n",
       "27                           20,017                           18,722  \n",
       "28                           20,673                           19,300  \n",
       "29                                -                           17,647  \n",
       "30                                -                           16,676  \n",
       "31                           18,797                           16,478  \n",
       "32                                -                                -  "
      ]
     },
     "execution_count": 54,
     "metadata": {},
     "output_type": "execute_result"
    }
   ],
   "source": [
    "df=pd.DataFrame({\"RANK\":RANK,\"STATE\":STATE,\"GSDP(19-20)_crINRatcurrentprice\":gsdp20,\"GSDP(18-19)_crINRatcurrentprice\":Gsdp,\"Share(18-19)\":SHARE,\"GDP($billions)\":Gdp,\"GSDP(19-20)_crINRat2011-12prices\":Gsdp2011,\"GSDP(18-19)_crINRat2011-12prices\":Gsdp2012})\n",
    "df"
   ]
  },
  {
   "cell_type": "code",
   "execution_count": null,
   "id": "5b5820a7",
   "metadata": {},
   "outputs": [],
   "source": [
    "#Assignment 4 qustion 4"
   ]
  },
  {
   "cell_type": "code",
   "execution_count": 2,
   "id": "f0da58de",
   "metadata": {},
   "outputs": [],
   "source": [
    "driver=webdriver.Chrome(r\"Chromedriver.exe\")"
   ]
  },
  {
   "cell_type": "code",
   "execution_count": 3,
   "id": "e7ba6c14",
   "metadata": {},
   "outputs": [],
   "source": [
    "driver.get(\"https://github.com/\")"
   ]
  },
  {
   "cell_type": "code",
   "execution_count": 5,
   "id": "cf3f4e95",
   "metadata": {},
   "outputs": [],
   "source": [
    "BUTTON=driver.find_element(By.XPATH,'/html/body/div[1]/div[1]/header/div/div[1]/div[2]/button/span/span')\n",
    "BUTTON.click()\n"
   ]
  },
  {
   "cell_type": "code",
   "execution_count": 6,
   "id": "9e77a374",
   "metadata": {},
   "outputs": [],
   "source": [
    "opensource=driver.find_element(By.XPATH,'/html/body/div[1]/div[1]/header/div/div[2]/div/nav/ul/li[3]/button')\n",
    "opensource.click()"
   ]
  },
  {
   "cell_type": "code",
   "execution_count": 7,
   "id": "97ea5060",
   "metadata": {},
   "outputs": [],
   "source": [
    "trending=driver.find_element(By.XPATH,'/html/body/div[1]/div[1]/header/div/div[2]/div/nav/ul/li[3]/div/ul[3]/li[3]/a')\n",
    "trending.click()"
   ]
  },
  {
   "cell_type": "code",
   "execution_count": null,
   "id": "e94fd983",
   "metadata": {},
   "outputs": [],
   "source": [
    "\n",
    "  "
   ]
  },
  {
   "cell_type": "code",
   "execution_count": 9,
   "id": "bcc7f5e4",
   "metadata": {},
   "outputs": [
    {
     "data": {
      "text/plain": [
       "24"
      ]
     },
     "execution_count": 9,
     "metadata": {},
     "output_type": "execute_result"
    }
   ],
   "source": [
    "Repository=[]\n",
    "#repository=driver.find_elements(By.XPATH,'//h1[@class=\"h3 lh-condensed\"]')\n",
    "repository=driver.find_elements(By.XPATH,'//span[@class=\"text-normal\"]')\n",
    "for i in repository:\n",
    "    try:\n",
    "        Repository.append(i.text)\n",
    "    except:\n",
    "        Repository.append(\"-\")\n",
    "len(Repository)"
   ]
  },
  {
   "cell_type": "code",
   "execution_count": 10,
   "id": "4ded4d8d",
   "metadata": {},
   "outputs": [
    {
     "data": {
      "text/plain": [
       "23"
      ]
     },
     "execution_count": 10,
     "metadata": {},
     "output_type": "execute_result"
    }
   ],
   "source": [
    "description=[]\n",
    "Description=driver.find_elements(By.XPATH,'//p[@class=\"col-9 color-fg-muted my-1 pr-4\"]')\n",
    "#Description=driver.find_elements(By.XPATH,'//')\n",
    "for i in Description:\n",
    "    try:\n",
    "        description.append(i.text)\n",
    "    except:\n",
    "        description.append(\"-\")\n",
    "len(description)"
   ]
  },
  {
   "cell_type": "code",
   "execution_count": null,
   "id": "9c912c3b",
   "metadata": {},
   "outputs": [],
   "source": []
  },
  {
   "cell_type": "code",
   "execution_count": 11,
   "id": "8cee3565",
   "metadata": {},
   "outputs": [
    {
     "data": {
      "text/plain": [
       "24"
      ]
     },
     "execution_count": 11,
     "metadata": {},
     "output_type": "execute_result"
    }
   ],
   "source": [
    "contributor=[]\n",
    "cont=[]\n",
    "Contributor=driver.find_elements(By.XPATH,'//a[@class=\"Link--muted d-inline-block mr-3\"]')\n",
    "for i in Contributor:\n",
    "    try:\n",
    "        contributor.append(i.text)\n",
    "    except:\n",
    "        contributor.append(\"-\")\n",
    "for i in range(0,len(contributor),2):\n",
    "    cont.append(contributor[i])\n",
    "len(cont)\n"
   ]
  },
  {
   "cell_type": "code",
   "execution_count": 12,
   "id": "f693c610",
   "metadata": {},
   "outputs": [
    {
     "data": {
      "text/plain": [
       "23"
      ]
     },
     "execution_count": 12,
     "metadata": {},
     "output_type": "execute_result"
    }
   ],
   "source": [
    "language=[]\n",
    "#Language=driver.find_elements(By.XPATH,'//span[@class=\"d-inline-block ml-0 mr-3\"]')\n",
    "Language=driver.find_elements(By.XPATH,'//span[@itemprop=\"programmingLanguage\"]')\n",
    "for i in Language:\n",
    "    try:\n",
    "        language.append(i.text)\n",
    "    except:\n",
    "        language.append(\"-\")\n",
    "len(language)"
   ]
  },
  {
   "cell_type": "code",
   "execution_count": 14,
   "id": "b46f030c",
   "metadata": {},
   "outputs": [
    {
     "data": {
      "text/html": [
       "<div>\n",
       "<style scoped>\n",
       "    .dataframe tbody tr th:only-of-type {\n",
       "        vertical-align: middle;\n",
       "    }\n",
       "\n",
       "    .dataframe tbody tr th {\n",
       "        vertical-align: top;\n",
       "    }\n",
       "\n",
       "    .dataframe thead th {\n",
       "        text-align: right;\n",
       "    }\n",
       "</style>\n",
       "<table border=\"1\" class=\"dataframe\">\n",
       "  <thead>\n",
       "    <tr style=\"text-align: right;\">\n",
       "      <th></th>\n",
       "      <th>Repository</th>\n",
       "      <th>description</th>\n",
       "      <th>Contributor</th>\n",
       "      <th>Language</th>\n",
       "    </tr>\n",
       "  </thead>\n",
       "  <tbody>\n",
       "    <tr>\n",
       "      <th>0</th>\n",
       "      <td>tatsu-lab /</td>\n",
       "      <td>Code and documentation to train Stanford's Alp...</td>\n",
       "      <td>7,103</td>\n",
       "      <td>Python</td>\n",
       "    </tr>\n",
       "    <tr>\n",
       "      <th>1</th>\n",
       "      <td>ggerganov /</td>\n",
       "      <td>Port of Facebook's LLaMA model in C/C++</td>\n",
       "      <td>611</td>\n",
       "      <td>C</td>\n",
       "    </tr>\n",
       "    <tr>\n",
       "      <th>2</th>\n",
       "      <td>togethercomputer /</td>\n",
       "      <td>Use ChatGPT to summarize the arXiv papers.</td>\n",
       "      <td>7,980</td>\n",
       "      <td>Python</td>\n",
       "    </tr>\n",
       "    <tr>\n",
       "      <th>3</th>\n",
       "      <td>kaixindelele /</td>\n",
       "      <td>SQL Translator is a tool for converting natura...</td>\n",
       "      <td>591</td>\n",
       "      <td>Python</td>\n",
       "    </tr>\n",
       "    <tr>\n",
       "      <th>4</th>\n",
       "      <td>whoiskatrin /</td>\n",
       "      <td>An open-source ChatGPT app with a voice</td>\n",
       "      <td>4,856</td>\n",
       "      <td>TypeScript</td>\n",
       "    </tr>\n",
       "    <tr>\n",
       "      <th>5</th>\n",
       "      <td>cogentapps /</td>\n",
       "      <td>A high-performance, zero-overhead, extensible ...</td>\n",
       "      <td>504</td>\n",
       "      <td>TypeScript</td>\n",
       "    </tr>\n",
       "    <tr>\n",
       "      <th>6</th>\n",
       "      <td>exaloop /</td>\n",
       "      <td>A powerful and modular stable diffusion GUI wi...</td>\n",
       "      <td>2,038</td>\n",
       "      <td>C++</td>\n",
       "    </tr>\n",
       "    <tr>\n",
       "      <th>7</th>\n",
       "      <td>comfyanonymous /</td>\n",
       "      <td>Everything required to run your own Base node</td>\n",
       "      <td>162</td>\n",
       "      <td>Python</td>\n",
       "    </tr>\n",
       "    <tr>\n",
       "      <th>8</th>\n",
       "      <td>base-org /</td>\n",
       "      <td>🕸 Web apps in pure Python 🐍</td>\n",
       "      <td>1,336</td>\n",
       "      <td>Shell</td>\n",
       "    </tr>\n",
       "    <tr>\n",
       "      <th>9</th>\n",
       "      <td>pynecone-io /</td>\n",
       "      <td>Create your own ChatGPT App in seconds.</td>\n",
       "      <td>96</td>\n",
       "      <td>Python</td>\n",
       "    </tr>\n",
       "    <tr>\n",
       "      <th>10</th>\n",
       "      <td>futantan /</td>\n",
       "      <td>Examples and guides for using the OpenAI API</td>\n",
       "      <td>616</td>\n",
       "      <td>TypeScript</td>\n",
       "    </tr>\n",
       "    <tr>\n",
       "      <th>11</th>\n",
       "      <td>openai /</td>\n",
       "      <td>A simple and open-source proxy API that allows...</td>\n",
       "      <td>70</td>\n",
       "      <td>Jupyter Notebook</td>\n",
       "    </tr>\n",
       "    <tr>\n",
       "      <th>12</th>\n",
       "      <td>ayaka14732 /</td>\n",
       "      <td>[CVPR'23] Universal Instance Perception as Obj...</td>\n",
       "      <td>7,896</td>\n",
       "      <td>JavaScript</td>\n",
       "    </tr>\n",
       "    <tr>\n",
       "      <th>13</th>\n",
       "      <td>MasterBin-IIAU /</td>\n",
       "      <td>The simplest way to run LLaMA on your local ma...</td>\n",
       "      <td>271</td>\n",
       "      <td>Python</td>\n",
       "    </tr>\n",
       "    <tr>\n",
       "      <th>14</th>\n",
       "      <td>cocktailpeanut /</td>\n",
       "      <td>Code and models for the paper \"One Transformer...</td>\n",
       "      <td>1,389</td>\n",
       "      <td>JavaScript</td>\n",
       "    </tr>\n",
       "    <tr>\n",
       "      <th>15</th>\n",
       "      <td>thu-ml /</td>\n",
       "      <td>这儿收集了一些免费好用的ChatGPT镜像站 当前：60个站点</td>\n",
       "      <td>104</td>\n",
       "      <td>Python</td>\n",
       "    </tr>\n",
       "    <tr>\n",
       "      <th>16</th>\n",
       "      <td>xx025 /</td>\n",
       "      <td>Display and control your Android device</td>\n",
       "      <td>16,552</td>\n",
       "      <td>C</td>\n",
       "    </tr>\n",
       "    <tr>\n",
       "      <th>17</th>\n",
       "      <td>Genymobile /</td>\n",
       "      <td>🆙 Upscayl - Free and Open Source AI Image Upsc...</td>\n",
       "      <td>448</td>\n",
       "      <td>TypeScript</td>\n",
       "    </tr>\n",
       "    <tr>\n",
       "      <th>18</th>\n",
       "      <td>upscayl /</td>\n",
       "      <td>拼多多事件的脱壳后的部分代码</td>\n",
       "      <td>7,103</td>\n",
       "      <td>C</td>\n",
       "    </tr>\n",
       "    <tr>\n",
       "      <th>19</th>\n",
       "      <td>poorjobless /</td>\n",
       "      <td>A CLI tool to get help with CLI tools 🐙</td>\n",
       "      <td>228</td>\n",
       "      <td>Rust</td>\n",
       "    </tr>\n",
       "    <tr>\n",
       "      <th>20</th>\n",
       "      <td>orhun /</td>\n",
       "      <td>Reverse engineered API of Microsoft's Bing Chat</td>\n",
       "      <td>2,213</td>\n",
       "      <td>Python</td>\n",
       "    </tr>\n",
       "    <tr>\n",
       "      <th>21</th>\n",
       "      <td>acheong08 /</td>\n",
       "      <td>High-performance GPGPU inference of OpenAI's W...</td>\n",
       "      <td>154</td>\n",
       "      <td>C++</td>\n",
       "    </tr>\n",
       "    <tr>\n",
       "      <th>22</th>\n",
       "      <td>Const-me /</td>\n",
       "      <td>Inference code for LLaMA models</td>\n",
       "      <td>18,566</td>\n",
       "      <td>Python</td>\n",
       "    </tr>\n",
       "  </tbody>\n",
       "</table>\n",
       "</div>"
      ],
      "text/plain": [
       "            Repository                                        description  \\\n",
       "0          tatsu-lab /  Code and documentation to train Stanford's Alp...   \n",
       "1          ggerganov /            Port of Facebook's LLaMA model in C/C++   \n",
       "2   togethercomputer /         Use ChatGPT to summarize the arXiv papers.   \n",
       "3       kaixindelele /  SQL Translator is a tool for converting natura...   \n",
       "4        whoiskatrin /            An open-source ChatGPT app with a voice   \n",
       "5         cogentapps /  A high-performance, zero-overhead, extensible ...   \n",
       "6            exaloop /  A powerful and modular stable diffusion GUI wi...   \n",
       "7     comfyanonymous /      Everything required to run your own Base node   \n",
       "8           base-org /                        🕸 Web apps in pure Python 🐍   \n",
       "9        pynecone-io /            Create your own ChatGPT App in seconds.   \n",
       "10          futantan /       Examples and guides for using the OpenAI API   \n",
       "11            openai /  A simple and open-source proxy API that allows...   \n",
       "12        ayaka14732 /  [CVPR'23] Universal Instance Perception as Obj...   \n",
       "13    MasterBin-IIAU /  The simplest way to run LLaMA on your local ma...   \n",
       "14    cocktailpeanut /  Code and models for the paper \"One Transformer...   \n",
       "15            thu-ml /                    这儿收集了一些免费好用的ChatGPT镜像站 当前：60个站点   \n",
       "16             xx025 /            Display and control your Android device   \n",
       "17        Genymobile /  🆙 Upscayl - Free and Open Source AI Image Upsc...   \n",
       "18           upscayl /                                     拼多多事件的脱壳后的部分代码   \n",
       "19       poorjobless /            A CLI tool to get help with CLI tools 🐙   \n",
       "20             orhun /    Reverse engineered API of Microsoft's Bing Chat   \n",
       "21         acheong08 /  High-performance GPGPU inference of OpenAI's W...   \n",
       "22          Const-me /                    Inference code for LLaMA models   \n",
       "\n",
       "   Contributor          Language  \n",
       "0        7,103            Python  \n",
       "1          611                 C  \n",
       "2        7,980            Python  \n",
       "3          591            Python  \n",
       "4        4,856        TypeScript  \n",
       "5          504        TypeScript  \n",
       "6        2,038               C++  \n",
       "7          162            Python  \n",
       "8        1,336             Shell  \n",
       "9           96            Python  \n",
       "10         616        TypeScript  \n",
       "11          70  Jupyter Notebook  \n",
       "12       7,896        JavaScript  \n",
       "13         271            Python  \n",
       "14       1,389        JavaScript  \n",
       "15         104            Python  \n",
       "16      16,552                 C  \n",
       "17         448        TypeScript  \n",
       "18       7,103                 C  \n",
       "19         228              Rust  \n",
       "20       2,213            Python  \n",
       "21         154               C++  \n",
       "22      18,566            Python  "
      ]
     },
     "execution_count": 14,
     "metadata": {},
     "output_type": "execute_result"
    }
   ],
   "source": [
    "df=pd.DataFrame({\"Repository\":Repository[0:23],\"description\":description[0:23],\"Contributor\":contributor[0:23],\"Language\":language[0:23]})\n",
    "df"
   ]
  },
  {
   "cell_type": "code",
   "execution_count": null,
   "id": "f93b9f4b",
   "metadata": {},
   "outputs": [],
   "source": [
    "#Assignment 4 qustion no.5"
   ]
  },
  {
   "cell_type": "code",
   "execution_count": 95,
   "id": "ad904391",
   "metadata": {},
   "outputs": [],
   "source": [
    "driver=webdriver.Chrome(r\"Chromedriver.exe\")"
   ]
  },
  {
   "cell_type": "code",
   "execution_count": 96,
   "id": "f4610765",
   "metadata": {},
   "outputs": [],
   "source": [
    "driver.get(\"https://www.billboard.com/\")"
   ]
  },
  {
   "cell_type": "code",
   "execution_count": 61,
   "id": "da853b4a",
   "metadata": {},
   "outputs": [],
   "source": [
    "button=driver.find_element(By.XPATH,'/html/body/div[3]/header/div/div[4]/div/div[1]/div[1]/button')\n",
    "button.click()"
   ]
  },
  {
   "cell_type": "code",
   "execution_count": 98,
   "id": "d2be600c",
   "metadata": {},
   "outputs": [],
   "source": [
    "charts=driver.find_element(By.XPATH,'/html/body/div[3]/div[9]/div/div/div/ul/li[1]/h3/a')\n",
    "charts.click()"
   ]
  },
  {
   "cell_type": "code",
   "execution_count": 100,
   "id": "c3843e33",
   "metadata": {},
   "outputs": [],
   "source": [
    "hot100=driver.find_element(By.XPATH,'/html/body/div[3]/main/div[2]/div[3]/div/div/div[2]/div/div[1]/a/span')\n",
    "hot100.click()"
   ]
  },
  {
   "cell_type": "code",
   "execution_count": 130,
   "id": "3da1c0f0",
   "metadata": {},
   "outputs": [
    {
     "data": {
      "text/plain": [
       "100"
      ]
     },
     "execution_count": 130,
     "metadata": {},
     "output_type": "execute_result"
    }
   ],
   "source": [
    "songname=[]\n",
    "#Songname=driver.find_elements(By.XPATH,'//h3[@id=\"title-of-a-story\" ]')\n",
    "Songname=driver.find_elements(By.XPATH,'//h3[@class=\"c-title  a-no-trucate a-font-primary-bold-s u-letter-spacing-0021 u-font-size-23@tablet lrv-u-font-size-16 u-line-height-125 u-line-height-normal@mobile-max a-truncate-ellipsis u-max-width-245 u-max-width-230@tablet-only u-letter-spacing-0028@tablet\"]')\n",
    "\n",
    "for i in Songname:\n",
    "    songname.append(i.text)\n",
    "Songname=driver.find_elements(By.XPATH,'//h3[@class=\"c-title  a-no-trucate a-font-primary-bold-s u-letter-spacing-0021 lrv-u-font-size-18@tablet lrv-u-font-size-16 u-line-height-125 u-line-height-normal@mobile-max a-truncate-ellipsis u-max-width-330 u-max-width-230@tablet-only\"]')\n",
    "for i in Songname:\n",
    "    try:\n",
    "        songname.append(i.text)\n",
    "    except:\n",
    "        songname.append(\"-\")\n",
    "\n",
    "Song_name=songname[0:100]\n",
    "len(Song_name)\n"
   ]
  },
  {
   "cell_type": "code",
   "execution_count": 103,
   "id": "9f15f94c",
   "metadata": {},
   "outputs": [
    {
     "data": {
      "text/plain": [
       "100"
      ]
     },
     "execution_count": 103,
     "metadata": {},
     "output_type": "execute_result"
    }
   ],
   "source": [
    "Artist=[]\n",
    "artist=driver.find_elements(By.XPATH,'//span[@class=\"c-label  a-no-trucate a-font-primary-s lrv-u-font-size-14@mobile-max u-line-height-normal@mobile-max u-letter-spacing-0021 lrv-u-display-block a-truncate-ellipsis-2line u-max-width-330 u-max-width-230@tablet-only u-font-size-20@tablet\"]')\n",
    "for i in artist:\n",
    "    Artist.append(i.text)\n",
    "artist=driver.find_elements(By.XPATH,'//span[@class=\"c-label  a-no-trucate a-font-primary-s lrv-u-font-size-14@mobile-max u-line-height-normal@mobile-max u-letter-spacing-0021 lrv-u-display-block a-truncate-ellipsis-2line u-max-width-330 u-max-width-230@tablet-only\"]')\n",
    "for j in artist:\n",
    "    try:\n",
    "        Artist.append(j.text)\n",
    "    except:\n",
    "        Artist.append(\"-\")\n",
    "Artist_name=Artist[0:100]\n",
    "len(Artist_name)\n",
    "\t"
   ]
  },
  {
   "cell_type": "code",
   "execution_count": 108,
   "id": "a85cc51c",
   "metadata": {},
   "outputs": [
    {
     "data": {
      "text/plain": [
       "100"
      ]
     },
     "execution_count": 108,
     "metadata": {},
     "output_type": "execute_result"
    }
   ],
   "source": [
    "lastweek_rank=[]\n",
    "Lastweek_rank=driver.find_elements(By.XPATH,'//ul[@class=\"lrv-a-unstyle-list lrv-u-flex lrv-u-height-100p lrv-u-flex-direction-column@mobile-max\"]/li[4]')\n",
    "for i in Lastweek_rank:\n",
    "    lastweek_rank.append(i.text)\n",
    "#Lastweek_rank=driver.find_elements(By.XPATH,'//li[@class=\"o-chart-results-list__item // a-chart-color u-width-72 u-width-55@mobile-max u-width-55@tablet-only lrv-u-flex lrv-u-flex-shrink-0 lrv-u-align-items-center lrv-u-justify-content-center lrv-u-border-b-1 u-border-b-0@mobile-max lrv-u-border-color-grey-light u-background-color-white-064@mobile-max u-hidden@mobile-max\"]')\n",
    "Lastweek_rank=driver.find_elements(By.XPATH,'//span[@class=\"c-label  a-font-primary-bold-xxl lrv-u-padding-lr-1 lrv-u-padding-t-025\"]')\n",
    "\n",
    "for j in Lastweek_rank:\n",
    "    try:\n",
    "        lastweek_rank.append(j.text.split(\",\")[0])                      \n",
    "    except:\n",
    "        lastweek_rank.append(\"-\")\n",
    "lastweek=lastweek_rank[0:100]\n",
    "len(lastweek)"
   ]
  },
  {
   "cell_type": "code",
   "execution_count": 111,
   "id": "b6b993e5",
   "metadata": {},
   "outputs": [],
   "source": [
    "peak_pos=[]\n",
    "Peak_pos=driver.find_elements(By.XPATH,'//ul[@class=\"lrv-a-unstyle-list lrv-u-flex lrv-u-height-100p lrv-u-flex-direction-column@mobile-max\"]/li[5]')\n",
    "for i in Peak_pos:\n",
    "    try:\n",
    "        peak_pos.append(i.text)\n",
    "    except:\n",
    "        peak_pos.append(i.text)\n",
    "peakpos=peak_pos[0:100]\n",
    "\n",
    "    "
   ]
  },
  {
   "cell_type": "code",
   "execution_count": 121,
   "id": "dd52fb09",
   "metadata": {},
   "outputs": [],
   "source": [
    "weekonboard=[]\n",
    "Weekonboard=driver.find_elements(By.XPATH,'//ul[@class=\"lrv-a-unstyle-list lrv-u-flex lrv-u-height-100p lrv-u-flex-direction-column@mobile-max\"]/li[6]')\n",
    "for i in Weekonboard:\n",
    "    try:\n",
    "        weekonboard.append(i.text)\n",
    "    except:\n",
    "        weekonboard.append(\"-\")\n",
    "weekon_board=weekonboard[0:100]"
   ]
  },
  {
   "cell_type": "code",
   "execution_count": 131,
   "id": "dbfcc360",
   "metadata": {},
   "outputs": [
    {
     "data": {
      "text/html": [
       "<div>\n",
       "<style scoped>\n",
       "    .dataframe tbody tr th:only-of-type {\n",
       "        vertical-align: middle;\n",
       "    }\n",
       "\n",
       "    .dataframe tbody tr th {\n",
       "        vertical-align: top;\n",
       "    }\n",
       "\n",
       "    .dataframe thead th {\n",
       "        text-align: right;\n",
       "    }\n",
       "</style>\n",
       "<table border=\"1\" class=\"dataframe\">\n",
       "  <thead>\n",
       "    <tr style=\"text-align: right;\">\n",
       "      <th></th>\n",
       "      <th>song_name</th>\n",
       "      <th>Artist_name</th>\n",
       "      <th>Lastweek_rank</th>\n",
       "      <th>Peak_rank</th>\n",
       "      <th>week_on_board</th>\n",
       "    </tr>\n",
       "  </thead>\n",
       "  <tbody>\n",
       "    <tr>\n",
       "      <th>0</th>\n",
       "      <td>Die For You</td>\n",
       "      <td>The Weeknd &amp; Ariana Grande</td>\n",
       "      <td>6</td>\n",
       "      <td>1</td>\n",
       "      <td>31</td>\n",
       "    </tr>\n",
       "    <tr>\n",
       "      <th>1</th>\n",
       "      <td>Flowers</td>\n",
       "      <td>Miley Cyrus</td>\n",
       "      <td>1</td>\n",
       "      <td>1</td>\n",
       "      <td>7</td>\n",
       "    </tr>\n",
       "    <tr>\n",
       "      <th>2</th>\n",
       "      <td>Kill Bill</td>\n",
       "      <td>SZA</td>\n",
       "      <td>2</td>\n",
       "      <td>2</td>\n",
       "      <td>12</td>\n",
       "    </tr>\n",
       "    <tr>\n",
       "      <th>3</th>\n",
       "      <td>Boy's A Liar, Pt. 2</td>\n",
       "      <td>PinkPantheress &amp; Ice Spice</td>\n",
       "      <td>3</td>\n",
       "      <td>3</td>\n",
       "      <td>4</td>\n",
       "    </tr>\n",
       "    <tr>\n",
       "      <th>4</th>\n",
       "      <td>Last Night</td>\n",
       "      <td>Morgan Wallen</td>\n",
       "      <td>5</td>\n",
       "      <td>3</td>\n",
       "      <td>5</td>\n",
       "    </tr>\n",
       "    <tr>\n",
       "      <th>...</th>\n",
       "      <td>...</td>\n",
       "      <td>...</td>\n",
       "      <td>...</td>\n",
       "      <td>...</td>\n",
       "      <td>...</td>\n",
       "    </tr>\n",
       "    <tr>\n",
       "      <th>95</th>\n",
       "      <td>Besties</td>\n",
       "      <td>Karol G</td>\n",
       "      <td>-</td>\n",
       "      <td>96</td>\n",
       "      <td>1</td>\n",
       "    </tr>\n",
       "    <tr>\n",
       "      <th>96</th>\n",
       "      <td>Yandel 150</td>\n",
       "      <td>Yandel &amp; Feid</td>\n",
       "      <td>90</td>\n",
       "      <td>90</td>\n",
       "      <td>4</td>\n",
       "    </tr>\n",
       "    <tr>\n",
       "      <th>97</th>\n",
       "      <td>Manana Sera Bonito</td>\n",
       "      <td>Karol G &amp; Carla Morrison</td>\n",
       "      <td>-</td>\n",
       "      <td>98</td>\n",
       "      <td>1</td>\n",
       "    </tr>\n",
       "    <tr>\n",
       "      <th>98</th>\n",
       "      <td>The Color Violet</td>\n",
       "      <td>Tory Lanez</td>\n",
       "      <td>84</td>\n",
       "      <td>63</td>\n",
       "      <td>9</td>\n",
       "    </tr>\n",
       "    <tr>\n",
       "      <th>99</th>\n",
       "      <td>Die 4 Me</td>\n",
       "      <td>Halsey</td>\n",
       "      <td>-</td>\n",
       "      <td>100</td>\n",
       "      <td>1</td>\n",
       "    </tr>\n",
       "  </tbody>\n",
       "</table>\n",
       "<p>100 rows × 5 columns</p>\n",
       "</div>"
      ],
      "text/plain": [
       "              song_name                 Artist_name Lastweek_rank Peak_rank  \\\n",
       "0           Die For You  The Weeknd & Ariana Grande             6         1   \n",
       "1               Flowers                 Miley Cyrus             1         1   \n",
       "2             Kill Bill                         SZA             2         2   \n",
       "3   Boy's A Liar, Pt. 2  PinkPantheress & Ice Spice             3         3   \n",
       "4            Last Night               Morgan Wallen             5         3   \n",
       "..                  ...                         ...           ...       ...   \n",
       "95              Besties                     Karol G             -        96   \n",
       "96           Yandel 150               Yandel & Feid            90        90   \n",
       "97   Manana Sera Bonito    Karol G & Carla Morrison             -        98   \n",
       "98     The Color Violet                  Tory Lanez            84        63   \n",
       "99             Die 4 Me                      Halsey             -       100   \n",
       "\n",
       "   week_on_board  \n",
       "0             31  \n",
       "1              7  \n",
       "2             12  \n",
       "3              4  \n",
       "4              5  \n",
       "..           ...  \n",
       "95             1  \n",
       "96             4  \n",
       "97             1  \n",
       "98             9  \n",
       "99             1  \n",
       "\n",
       "[100 rows x 5 columns]"
      ]
     },
     "execution_count": 131,
     "metadata": {},
     "output_type": "execute_result"
    }
   ],
   "source": [
    "df=pd.DataFrame({\"song_name\":Song_name,\"Artist_name\":Artist_name,\"Lastweek_rank\":lastweek,\"Peak_rank\":peakpos,\"week_on_board\":weekon_board})\n",
    "df"
   ]
  },
  {
   "cell_type": "code",
   "execution_count": 24,
   "id": "f499947e",
   "metadata": {},
   "outputs": [],
   "source": [
    "#Assignment 4 qustion 6"
   ]
  },
  {
   "cell_type": "code",
   "execution_count": 3,
   "id": "8727cf74",
   "metadata": {},
   "outputs": [],
   "source": [
    "driver=webdriver.Chrome(r\"Chromedriver.exe\")"
   ]
  },
  {
   "cell_type": "code",
   "execution_count": 5,
   "id": "447eb35f",
   "metadata": {},
   "outputs": [],
   "source": [
    "driver.get(\"https://www.theguardian.com/news/datablog/2012/aug/09/best-selling-books-all-time-fifty-shades-grey-compare\")"
   ]
  },
  {
   "cell_type": "code",
   "execution_count": 7,
   "id": "782c0bbd",
   "metadata": {},
   "outputs": [
    {
     "data": {
      "text/plain": [
       "100"
      ]
     },
     "execution_count": 7,
     "metadata": {},
     "output_type": "execute_result"
    }
   ],
   "source": [
    "bookname=[]\n",
    "Bookname=driver.find_elements(By.XPATH,'//table[@class=\"in-article sortable\"]/tbody/tr/td[2]')\n",
    "for i in Bookname:\n",
    "    try:\n",
    "        bookname.append(i.text)\n",
    "    except:\n",
    "        bookname.append(\"-\")\n",
    "len(bookname)"
   ]
  },
  {
   "cell_type": "code",
   "execution_count": 20,
   "id": "a00268d4",
   "metadata": {},
   "outputs": [
    {
     "data": {
      "text/plain": [
       "100"
      ]
     },
     "execution_count": 20,
     "metadata": {},
     "output_type": "execute_result"
    }
   ],
   "source": [
    "authorname=[]\n",
    "Authorname=driver.find_elements(By.XPATH,'//table[@class=\"in-article sortable\"]/tbody/tr/td[3]')\n",
    "for i in Authorname:\n",
    "    try:\n",
    "        authorname.append(i.text)\n",
    "    except:\n",
    "        authorname.append(\"-\")\n",
    "len(authorname)"
   ]
  },
  {
   "cell_type": "code",
   "execution_count": 11,
   "id": "d7d73a75",
   "metadata": {},
   "outputs": [
    {
     "data": {
      "text/plain": [
       "100"
      ]
     },
     "execution_count": 11,
     "metadata": {},
     "output_type": "execute_result"
    }
   ],
   "source": [
    "volumesold=[]\n",
    "Volumesold=driver.find_elements(By.XPATH,'//table[@class=\"in-article sortable\"]/tbody/tr/td[4]')\n",
    "for i in Volumesold:\n",
    "    try:\n",
    "        volumesold.append(i.text)\n",
    "    except:\n",
    "        volumesold.append(\"-\")\n",
    "len(volumesold)"
   ]
  },
  {
   "cell_type": "code",
   "execution_count": 14,
   "id": "1e5e1a84",
   "metadata": {},
   "outputs": [
    {
     "data": {
      "text/plain": [
       "100"
      ]
     },
     "execution_count": 14,
     "metadata": {},
     "output_type": "execute_result"
    }
   ],
   "source": [
    "publishers=[]\n",
    "Publishers=driver.find_elements(By.XPATH,'//table[@class=\"in-article sortable\"]/tbody/tr/td[5]')\n",
    "for i in Publishers:\n",
    "    try:\n",
    "        publishers.append(i.text)\n",
    "    except:\n",
    "        publishers.append(\"-\")\n",
    "len(publishers)"
   ]
  },
  {
   "cell_type": "code",
   "execution_count": 15,
   "id": "8bfdaf3e",
   "metadata": {},
   "outputs": [
    {
     "data": {
      "text/plain": [
       "100"
      ]
     },
     "execution_count": 15,
     "metadata": {},
     "output_type": "execute_result"
    }
   ],
   "source": [
    "genre=[]\n",
    "\n",
    "Genre=driver.find_elements(By.XPATH,'//table[@class=\"in-article sortable\"]/tbody/tr/td[6]')\n",
    "for i in Genre:\n",
    "    try:\n",
    "        genre.append(i.text)\n",
    "    except:\n",
    "        genre.append(\"-\")\n",
    "len(genre)"
   ]
  },
  {
   "cell_type": "code",
   "execution_count": 21,
   "id": "7ad5dee8",
   "metadata": {},
   "outputs": [
    {
     "name": "stdout",
     "output_type": "stream",
     "text": [
      "100 100 100 100 100\n"
     ]
    }
   ],
   "source": [
    "print(len(bookname),len(authorname),len(volumesold),len(publishers),len(genre))"
   ]
  },
  {
   "cell_type": "code",
   "execution_count": 22,
   "id": "0480f7c1",
   "metadata": {},
   "outputs": [
    {
     "data": {
      "text/html": [
       "<div>\n",
       "<style scoped>\n",
       "    .dataframe tbody tr th:only-of-type {\n",
       "        vertical-align: middle;\n",
       "    }\n",
       "\n",
       "    .dataframe tbody tr th {\n",
       "        vertical-align: top;\n",
       "    }\n",
       "\n",
       "    .dataframe thead th {\n",
       "        text-align: right;\n",
       "    }\n",
       "</style>\n",
       "<table border=\"1\" class=\"dataframe\">\n",
       "  <thead>\n",
       "    <tr style=\"text-align: right;\">\n",
       "      <th></th>\n",
       "      <th>Bookname</th>\n",
       "      <th>Authorname</th>\n",
       "      <th>Volume_sold</th>\n",
       "      <th>Publisher</th>\n",
       "      <th>Genre</th>\n",
       "    </tr>\n",
       "  </thead>\n",
       "  <tbody>\n",
       "    <tr>\n",
       "      <th>0</th>\n",
       "      <td>Da Vinci Code,The</td>\n",
       "      <td>Brown, Dan</td>\n",
       "      <td>5,094,805</td>\n",
       "      <td>Transworld</td>\n",
       "      <td>Crime, Thriller &amp; Adventure</td>\n",
       "    </tr>\n",
       "    <tr>\n",
       "      <th>1</th>\n",
       "      <td>Harry Potter and the Deathly Hallows</td>\n",
       "      <td>Rowling, J.K.</td>\n",
       "      <td>4,475,152</td>\n",
       "      <td>Bloomsbury</td>\n",
       "      <td>Children's Fiction</td>\n",
       "    </tr>\n",
       "    <tr>\n",
       "      <th>2</th>\n",
       "      <td>Harry Potter and the Philosopher's Stone</td>\n",
       "      <td>Rowling, J.K.</td>\n",
       "      <td>4,200,654</td>\n",
       "      <td>Bloomsbury</td>\n",
       "      <td>Children's Fiction</td>\n",
       "    </tr>\n",
       "    <tr>\n",
       "      <th>3</th>\n",
       "      <td>Harry Potter and the Order of the Phoenix</td>\n",
       "      <td>Rowling, J.K.</td>\n",
       "      <td>4,179,479</td>\n",
       "      <td>Bloomsbury</td>\n",
       "      <td>Children's Fiction</td>\n",
       "    </tr>\n",
       "    <tr>\n",
       "      <th>4</th>\n",
       "      <td>Fifty Shades of Grey</td>\n",
       "      <td>James, E. L.</td>\n",
       "      <td>3,758,936</td>\n",
       "      <td>Random House</td>\n",
       "      <td>Romance &amp; Sagas</td>\n",
       "    </tr>\n",
       "    <tr>\n",
       "      <th>...</th>\n",
       "      <td>...</td>\n",
       "      <td>...</td>\n",
       "      <td>...</td>\n",
       "      <td>...</td>\n",
       "      <td>...</td>\n",
       "    </tr>\n",
       "    <tr>\n",
       "      <th>95</th>\n",
       "      <td>Ghost,The</td>\n",
       "      <td>Harris, Robert</td>\n",
       "      <td>807,311</td>\n",
       "      <td>Random House</td>\n",
       "      <td>General &amp; Literary Fiction</td>\n",
       "    </tr>\n",
       "    <tr>\n",
       "      <th>96</th>\n",
       "      <td>Happy Days with the Naked Chef</td>\n",
       "      <td>Oliver, Jamie</td>\n",
       "      <td>794,201</td>\n",
       "      <td>Penguin</td>\n",
       "      <td>Food &amp; Drink: General</td>\n",
       "    </tr>\n",
       "    <tr>\n",
       "      <th>97</th>\n",
       "      <td>Hunger Games,The:Hunger Games Trilogy</td>\n",
       "      <td>Collins, Suzanne</td>\n",
       "      <td>792,187</td>\n",
       "      <td>Scholastic Ltd.</td>\n",
       "      <td>Young Adult Fiction</td>\n",
       "    </tr>\n",
       "    <tr>\n",
       "      <th>98</th>\n",
       "      <td>Lost Boy,The:A Foster Child's Search for the L...</td>\n",
       "      <td>Pelzer, Dave</td>\n",
       "      <td>791,507</td>\n",
       "      <td>Orion</td>\n",
       "      <td>Biography: General</td>\n",
       "    </tr>\n",
       "    <tr>\n",
       "      <th>99</th>\n",
       "      <td>Jamie's Ministry of Food:Anyone Can Learn to C...</td>\n",
       "      <td>Oliver, Jamie</td>\n",
       "      <td>791,095</td>\n",
       "      <td>Penguin</td>\n",
       "      <td>Food &amp; Drink: General</td>\n",
       "    </tr>\n",
       "  </tbody>\n",
       "</table>\n",
       "<p>100 rows × 5 columns</p>\n",
       "</div>"
      ],
      "text/plain": [
       "                                             Bookname        Authorname  \\\n",
       "0                                   Da Vinci Code,The        Brown, Dan   \n",
       "1                Harry Potter and the Deathly Hallows     Rowling, J.K.   \n",
       "2            Harry Potter and the Philosopher's Stone     Rowling, J.K.   \n",
       "3           Harry Potter and the Order of the Phoenix     Rowling, J.K.   \n",
       "4                                Fifty Shades of Grey      James, E. L.   \n",
       "..                                                ...               ...   \n",
       "95                                          Ghost,The    Harris, Robert   \n",
       "96                     Happy Days with the Naked Chef     Oliver, Jamie   \n",
       "97              Hunger Games,The:Hunger Games Trilogy  Collins, Suzanne   \n",
       "98  Lost Boy,The:A Foster Child's Search for the L...      Pelzer, Dave   \n",
       "99  Jamie's Ministry of Food:Anyone Can Learn to C...     Oliver, Jamie   \n",
       "\n",
       "   Volume_sold        Publisher                        Genre  \n",
       "0    5,094,805       Transworld  Crime, Thriller & Adventure  \n",
       "1    4,475,152       Bloomsbury           Children's Fiction  \n",
       "2    4,200,654       Bloomsbury           Children's Fiction  \n",
       "3    4,179,479       Bloomsbury           Children's Fiction  \n",
       "4    3,758,936     Random House              Romance & Sagas  \n",
       "..         ...              ...                          ...  \n",
       "95     807,311     Random House   General & Literary Fiction  \n",
       "96     794,201          Penguin        Food & Drink: General  \n",
       "97     792,187  Scholastic Ltd.          Young Adult Fiction  \n",
       "98     791,507            Orion           Biography: General  \n",
       "99     791,095          Penguin        Food & Drink: General  \n",
       "\n",
       "[100 rows x 5 columns]"
      ]
     },
     "execution_count": 22,
     "metadata": {},
     "output_type": "execute_result"
    }
   ],
   "source": [
    "df=pd.DataFrame({\"Bookname\":bookname,\"Authorname\":authorname,\"Volume_sold\":volumesold,\"Publisher\":publishers,\"Genre\":genre})\n",
    "df"
   ]
  },
  {
   "cell_type": "code",
   "execution_count": 27,
   "id": "4f3dc046",
   "metadata": {},
   "outputs": [],
   "source": [
    "# Assignment 4 qustion 7"
   ]
  },
  {
   "cell_type": "code",
   "execution_count": 28,
   "id": "6d1e7145",
   "metadata": {},
   "outputs": [],
   "source": [
    "driver=webdriver.Chrome(r\"Chromedriver.exe\")"
   ]
  },
  {
   "cell_type": "code",
   "execution_count": 29,
   "id": "7dfc1efa",
   "metadata": {},
   "outputs": [],
   "source": [
    "driver.get(\"https://www.imdb.com/list/ls095964455/\")"
   ]
  },
  {
   "cell_type": "code",
   "execution_count": 70,
   "id": "df67bd6d",
   "metadata": {},
   "outputs": [
    {
     "data": {
      "text/plain": [
       "100"
      ]
     },
     "execution_count": 70,
     "metadata": {},
     "output_type": "execute_result"
    }
   ],
   "source": [
    "titlename=[]\n",
    "title=driver.find_elements(By.XPATH,'//h3[@class=\"lister-item-header\"]')\n",
    "for i in title:\n",
    "    try:\n",
    "        titlename.append(i.text.split(\"(\")[0].split(\".\")[1])\n",
    "    except:\n",
    "        titlename.append(\"-\")\n",
    "len(titlename)"
   ]
  },
  {
   "cell_type": "code",
   "execution_count": 42,
   "id": "f9370cdb",
   "metadata": {},
   "outputs": [
    {
     "data": {
      "text/plain": [
       "100"
      ]
     },
     "execution_count": 42,
     "metadata": {},
     "output_type": "execute_result"
    }
   ],
   "source": [
    "yearspan=[]\n",
    "year=driver.find_elements(By.XPATH,'//span[ @class=\"lister-item-year text-muted unbold\"]')\n",
    "for i in year:\n",
    "    try:\n",
    "        yearspan.append(i.text)\n",
    "    except:\n",
    "        yearspan.append(\"-\")\n",
    "len(yearspan)\n",
    "    "
   ]
  },
  {
   "cell_type": "code",
   "execution_count": 47,
   "id": "c10a52a2",
   "metadata": {},
   "outputs": [
    {
     "data": {
      "text/plain": [
       "100"
      ]
     },
     "execution_count": 47,
     "metadata": {},
     "output_type": "execute_result"
    }
   ],
   "source": [
    "runtime=[]\n",
    "#run_time=driver.find_elements(By.XPATH,'//p[@class=\"text-muted text-small\"]')\n",
    "run_time=driver.find_elements(By.XPATH,'//span[@class=\"runtime\"]')\n",
    "for i in run_time:\n",
    "    try:\n",
    "        runtime.append(i.text)\n",
    "    except:\n",
    "        runtime.append(\"-\")\n",
    "len(runtime)"
   ]
  },
  {
   "cell_type": "code",
   "execution_count": 55,
   "id": "4a7c591d",
   "metadata": {},
   "outputs": [
    {
     "data": {
      "text/plain": [
       "100"
      ]
     },
     "execution_count": 55,
     "metadata": {},
     "output_type": "execute_result"
    }
   ],
   "source": [
    "rating=[]\n",
    "Rating=driver.find_elements(By.XPATH,'//div [@ class=\"ipl-rating-star small\"]')\n",
    "for i in Rating:\n",
    "    try:\n",
    "        rating.append(i.text.split(\",\")[0])\n",
    "    except:\n",
    "        rating.append(\"-\")\n",
    "len(rating)"
   ]
  },
  {
   "cell_type": "code",
   "execution_count": 57,
   "id": "95bc46ea",
   "metadata": {},
   "outputs": [
    {
     "data": {
      "text/plain": [
       "100"
      ]
     },
     "execution_count": 57,
     "metadata": {},
     "output_type": "execute_result"
    }
   ],
   "source": [
    "genre=[]\n",
    "Genre=driver.find_elements(By.XPATH,'//span[@class=\"certificate\"]')\n",
    "for i in Genre:\n",
    "    try:\n",
    "        genre.append(i.text)\n",
    "    except:\n",
    "        genre.append(\"-\")\n",
    "len(genre)"
   ]
  },
  {
   "cell_type": "code",
   "execution_count": 66,
   "id": "a66f8860",
   "metadata": {},
   "outputs": [
    {
     "data": {
      "text/plain": [
       "100"
      ]
     },
     "execution_count": 66,
     "metadata": {},
     "output_type": "execute_result"
    }
   ],
   "source": [
    "vote=[]\n",
    "#Vote=driver.find_elements(By.XPATH,'//p[@class=\"text-muted text-small\"]')\n",
    "Vote=driver.find_elements(By.XPATH,'//span[@name=\"nv\"]')\n",
    "for i in Vote:\n",
    "    try:\n",
    "        vote.append(i.text)\n",
    "    except:\n",
    "        vote.append(\"-\")\n",
    "len(vote)"
   ]
  },
  {
   "cell_type": "code",
   "execution_count": 71,
   "id": "e63eaa9a",
   "metadata": {},
   "outputs": [
    {
     "data": {
      "text/html": [
       "<div>\n",
       "<style scoped>\n",
       "    .dataframe tbody tr th:only-of-type {\n",
       "        vertical-align: middle;\n",
       "    }\n",
       "\n",
       "    .dataframe tbody tr th {\n",
       "        vertical-align: top;\n",
       "    }\n",
       "\n",
       "    .dataframe thead th {\n",
       "        text-align: right;\n",
       "    }\n",
       "</style>\n",
       "<table border=\"1\" class=\"dataframe\">\n",
       "  <thead>\n",
       "    <tr style=\"text-align: right;\">\n",
       "      <th></th>\n",
       "      <th>Title</th>\n",
       "      <th>Yearspan</th>\n",
       "      <th>Genre</th>\n",
       "      <th>RUN_Time</th>\n",
       "      <th>Rating</th>\n",
       "      <th>Votes</th>\n",
       "    </tr>\n",
       "  </thead>\n",
       "  <tbody>\n",
       "    <tr>\n",
       "      <th>0</th>\n",
       "      <td>Game of Thrones</td>\n",
       "      <td>(2011–2019)</td>\n",
       "      <td>TV-MA</td>\n",
       "      <td>57 min</td>\n",
       "      <td>9.2</td>\n",
       "      <td>2,136,991</td>\n",
       "    </tr>\n",
       "    <tr>\n",
       "      <th>1</th>\n",
       "      <td>Stranger Things</td>\n",
       "      <td>(2016–2024)</td>\n",
       "      <td>TV-14</td>\n",
       "      <td>51 min</td>\n",
       "      <td>8.7</td>\n",
       "      <td>1,222,124</td>\n",
       "    </tr>\n",
       "    <tr>\n",
       "      <th>2</th>\n",
       "      <td>The Walking Dead</td>\n",
       "      <td>(2010–2022)</td>\n",
       "      <td>TV-MA</td>\n",
       "      <td>44 min</td>\n",
       "      <td>8.1</td>\n",
       "      <td>1,014,411</td>\n",
       "    </tr>\n",
       "    <tr>\n",
       "      <th>3</th>\n",
       "      <td>13 Reasons Why</td>\n",
       "      <td>(2017–2020)</td>\n",
       "      <td>TV-MA</td>\n",
       "      <td>60 min</td>\n",
       "      <td>7.5</td>\n",
       "      <td>298,842</td>\n",
       "    </tr>\n",
       "    <tr>\n",
       "      <th>4</th>\n",
       "      <td>The 100</td>\n",
       "      <td>(2014–2020)</td>\n",
       "      <td>TV-14</td>\n",
       "      <td>43 min</td>\n",
       "      <td>7.6</td>\n",
       "      <td>257,716</td>\n",
       "    </tr>\n",
       "    <tr>\n",
       "      <th>...</th>\n",
       "      <td>...</td>\n",
       "      <td>...</td>\n",
       "      <td>...</td>\n",
       "      <td>...</td>\n",
       "      <td>...</td>\n",
       "      <td>...</td>\n",
       "    </tr>\n",
       "    <tr>\n",
       "      <th>95</th>\n",
       "      <td>Reign</td>\n",
       "      <td>(2013–2017)</td>\n",
       "      <td>TV-14</td>\n",
       "      <td>42 min</td>\n",
       "      <td>7.4</td>\n",
       "      <td>50,995</td>\n",
       "    </tr>\n",
       "    <tr>\n",
       "      <th>96</th>\n",
       "      <td>A Series of Unfortunate Events</td>\n",
       "      <td>(2017–2019)</td>\n",
       "      <td>TV-PG</td>\n",
       "      <td>50 min</td>\n",
       "      <td>7.8</td>\n",
       "      <td>62,995</td>\n",
       "    </tr>\n",
       "    <tr>\n",
       "      <th>97</th>\n",
       "      <td>Criminal Minds</td>\n",
       "      <td>(2005– )</td>\n",
       "      <td>TV-14</td>\n",
       "      <td>42 min</td>\n",
       "      <td>8.1</td>\n",
       "      <td>204,774</td>\n",
       "    </tr>\n",
       "    <tr>\n",
       "      <th>98</th>\n",
       "      <td>Scream: The TV Series</td>\n",
       "      <td>(2015–2019)</td>\n",
       "      <td>TV-14</td>\n",
       "      <td>45 min</td>\n",
       "      <td>7.1</td>\n",
       "      <td>42,392</td>\n",
       "    </tr>\n",
       "    <tr>\n",
       "      <th>99</th>\n",
       "      <td>The Haunting of Hill House</td>\n",
       "      <td>(2018)</td>\n",
       "      <td>TV-MA</td>\n",
       "      <td>572 min</td>\n",
       "      <td>8.6</td>\n",
       "      <td>253,359</td>\n",
       "    </tr>\n",
       "  </tbody>\n",
       "</table>\n",
       "<p>100 rows × 6 columns</p>\n",
       "</div>"
      ],
      "text/plain": [
       "                               Title     Yearspan  Genre RUN_Time Rating  \\\n",
       "0                   Game of Thrones   (2011–2019)  TV-MA   57 min    9.2   \n",
       "1                   Stranger Things   (2016–2024)  TV-14   51 min    8.7   \n",
       "2                  The Walking Dead   (2010–2022)  TV-MA   44 min    8.1   \n",
       "3                    13 Reasons Why   (2017–2020)  TV-MA   60 min    7.5   \n",
       "4                           The 100   (2014–2020)  TV-14   43 min    7.6   \n",
       "..                               ...          ...    ...      ...    ...   \n",
       "95                            Reign   (2013–2017)  TV-14   42 min    7.4   \n",
       "96   A Series of Unfortunate Events   (2017–2019)  TV-PG   50 min    7.8   \n",
       "97                   Criminal Minds      (2005– )  TV-14   42 min    8.1   \n",
       "98            Scream: The TV Series   (2015–2019)  TV-14   45 min    7.1   \n",
       "99       The Haunting of Hill House        (2018)  TV-MA  572 min    8.6   \n",
       "\n",
       "        Votes  \n",
       "0   2,136,991  \n",
       "1   1,222,124  \n",
       "2   1,014,411  \n",
       "3     298,842  \n",
       "4     257,716  \n",
       "..        ...  \n",
       "95     50,995  \n",
       "96     62,995  \n",
       "97    204,774  \n",
       "98     42,392  \n",
       "99    253,359  \n",
       "\n",
       "[100 rows x 6 columns]"
      ]
     },
     "execution_count": 71,
     "metadata": {},
     "output_type": "execute_result"
    }
   ],
   "source": [
    "df=pd.DataFrame({\"Title\":titlename,\"Yearspan\":yearspan,\"Genre\":genre,\"RUN_Time\":runtime,\"Rating\":rating,\"Votes\":vote})\n",
    "df"
   ]
  },
  {
   "cell_type": "code",
   "execution_count": 1,
   "id": "2e5a6ba5",
   "metadata": {},
   "outputs": [],
   "source": [
    "#Assignment qustion 8\n"
   ]
  },
  {
   "cell_type": "code",
   "execution_count": 4,
   "id": "a6ceebef",
   "metadata": {},
   "outputs": [],
   "source": [
    "driver=webdriver.Chrome(r\"Chromedriver.exe\")\n"
   ]
  },
  {
   "cell_type": "code",
   "execution_count": 7,
   "id": "5619ff12",
   "metadata": {},
   "outputs": [],
   "source": [
    "driver.get(\"https://archive.ics.uci.edu/ml/index.php\")"
   ]
  },
  {
   "cell_type": "code",
   "execution_count": 6,
   "id": "820eee75",
   "metadata": {},
   "outputs": [],
   "source": [
    "view=driver.find_element(By.XPATH,'/html/body/table[1]/tbody/tr/td[2]/span[2]')\n",
    "view.click()"
   ]
  },
  {
   "cell_type": "code",
   "execution_count": 25,
   "id": "f13c5c6c",
   "metadata": {},
   "outputs": [
    {
     "data": {
      "text/plain": [
       "622"
      ]
     },
     "execution_count": 25,
     "metadata": {},
     "output_type": "execute_result"
    }
   ],
   "source": [
    "dataset=[]\n",
    "#Dataset=driver.find_elements(By.XPATH,'//p[@class=\"normal\"]')\n",
    "Dataset=driver.find_elements(By.XPATH,'//table[@border=\"1\"]/tbody/tr/td[1]')\n",
    "for i in Dataset[1:]:\n",
    "    try:\n",
    "        dataset.append(i.text)\n",
    "    except:\n",
    "        dataset.append(\"-\")\n",
    "len(dataset)"
   ]
  },
  {
   "cell_type": "code",
   "execution_count": null,
   "id": "664afce8",
   "metadata": {},
   "outputs": [],
   "source": []
  },
  {
   "cell_type": "code",
   "execution_count": 28,
   "id": "961ee343",
   "metadata": {},
   "outputs": [
    {
     "data": {
      "text/plain": [
       "622"
      ]
     },
     "execution_count": 28,
     "metadata": {},
     "output_type": "execute_result"
    }
   ],
   "source": [
    "datatype=[]\n",
    "Datatype=driver.find_elements(By.XPATH,'//table[@border=\"1\"]/tbody/tr/td[2]')\n",
    "for i in Datatype[1:]:\n",
    "    try:\n",
    "        datatype.append(i.text)\n",
    "    except:\n",
    "        datatype.append(\"-\")\n",
    "len(datatype)"
   ]
  },
  {
   "cell_type": "code",
   "execution_count": 29,
   "id": "ae60b5d4",
   "metadata": {},
   "outputs": [
    {
     "data": {
      "text/plain": [
       "622"
      ]
     },
     "execution_count": 29,
     "metadata": {},
     "output_type": "execute_result"
    }
   ],
   "source": [
    "default_task=[]\n",
    "defaulttask=driver.find_elements(By.XPATH,'//table[@border=\"1\"]/tbody/tr/td[3]')\n",
    "for i in defaulttask[1:]:\n",
    "    try:\n",
    "        default_task.append(i.text)\n",
    "    except:\n",
    "        default_task.append(\"-\")\n",
    "len(default_task)"
   ]
  },
  {
   "cell_type": "code",
   "execution_count": 32,
   "id": "427586a3",
   "metadata": {},
   "outputs": [
    {
     "data": {
      "text/plain": [
       "622"
      ]
     },
     "execution_count": 32,
     "metadata": {},
     "output_type": "execute_result"
    }
   ],
   "source": [
    "attribute_type=[]\n",
    "attribute=driver.find_elements(By.XPATH,'//table[@border=\"1\"]/tbody/tr/td[4]')\n",
    "for i in attribute[1:]:\n",
    "    try:\n",
    "        attribute_type.append(i.text)\n",
    "    except:\n",
    "        attribute_type.append(\"-\")\n",
    "len(attribute_type)"
   ]
  },
  {
   "cell_type": "code",
   "execution_count": 33,
   "id": "0ce4598f",
   "metadata": {},
   "outputs": [
    {
     "data": {
      "text/plain": [
       "622"
      ]
     },
     "execution_count": 33,
     "metadata": {},
     "output_type": "execute_result"
    }
   ],
   "source": [
    "instance=[]\n",
    "Instance=driver.find_elements(By.XPATH,'//table[@border=\"1\"]/tbody/tr/td[5]')\n",
    "for i in Instance[1:]:\n",
    "    try:\n",
    "        instance.append(i.text)\n",
    "    except:\n",
    "        instance.append(\"-\")\n",
    "len(instance)"
   ]
  },
  {
   "cell_type": "code",
   "execution_count": 35,
   "id": "9444e875",
   "metadata": {},
   "outputs": [
    {
     "data": {
      "text/plain": [
       "622"
      ]
     },
     "execution_count": 35,
     "metadata": {},
     "output_type": "execute_result"
    }
   ],
   "source": [
    "attributes=[]\n",
    "Attributes=driver.find_elements(By.XPATH,'//table[@border=\"1\"]/tbody/tr/td[6]')\n",
    "for i in Attributes[1:]:\n",
    "    try:\n",
    "        attributes.append(i.text)\n",
    "    except:\n",
    "        attributes.append(\"-\")\n",
    "len(attributes)\n",
    "        "
   ]
  },
  {
   "cell_type": "code",
   "execution_count": 36,
   "id": "51b3edf0",
   "metadata": {},
   "outputs": [
    {
     "data": {
      "text/html": [
       "<div>\n",
       "<style scoped>\n",
       "    .dataframe tbody tr th:only-of-type {\n",
       "        vertical-align: middle;\n",
       "    }\n",
       "\n",
       "    .dataframe tbody tr th {\n",
       "        vertical-align: top;\n",
       "    }\n",
       "\n",
       "    .dataframe thead th {\n",
       "        text-align: right;\n",
       "    }\n",
       "</style>\n",
       "<table border=\"1\" class=\"dataframe\">\n",
       "  <thead>\n",
       "    <tr style=\"text-align: right;\">\n",
       "      <th></th>\n",
       "      <th>Dataset_Name</th>\n",
       "      <th>Data_type</th>\n",
       "      <th>defult_task</th>\n",
       "      <th>attribute_type</th>\n",
       "      <th>Instance</th>\n",
       "      <th>Attributes</th>\n",
       "    </tr>\n",
       "  </thead>\n",
       "  <tbody>\n",
       "    <tr>\n",
       "      <th>0</th>\n",
       "      <td>Abalone</td>\n",
       "      <td>Multivariate</td>\n",
       "      <td>Classification</td>\n",
       "      <td>Categorical, Integer, Real</td>\n",
       "      <td>4177</td>\n",
       "      <td>8</td>\n",
       "    </tr>\n",
       "    <tr>\n",
       "      <th>1</th>\n",
       "      <td>Adult</td>\n",
       "      <td>Multivariate</td>\n",
       "      <td>Classification</td>\n",
       "      <td>Categorical, Integer</td>\n",
       "      <td>48842</td>\n",
       "      <td>14</td>\n",
       "    </tr>\n",
       "    <tr>\n",
       "      <th>2</th>\n",
       "      <td>Annealing</td>\n",
       "      <td>Multivariate</td>\n",
       "      <td>Classification</td>\n",
       "      <td>Categorical, Integer, Real</td>\n",
       "      <td>798</td>\n",
       "      <td>38</td>\n",
       "    </tr>\n",
       "    <tr>\n",
       "      <th>3</th>\n",
       "      <td>Anonymous Microsoft Web Data</td>\n",
       "      <td></td>\n",
       "      <td>Recommender-Systems</td>\n",
       "      <td>Categorical</td>\n",
       "      <td>37711</td>\n",
       "      <td>294</td>\n",
       "    </tr>\n",
       "    <tr>\n",
       "      <th>4</th>\n",
       "      <td>Arrhythmia</td>\n",
       "      <td>Multivariate</td>\n",
       "      <td>Classification</td>\n",
       "      <td>Categorical, Integer, Real</td>\n",
       "      <td>452</td>\n",
       "      <td>279</td>\n",
       "    </tr>\n",
       "    <tr>\n",
       "      <th>...</th>\n",
       "      <td>...</td>\n",
       "      <td>...</td>\n",
       "      <td>...</td>\n",
       "      <td>...</td>\n",
       "      <td>...</td>\n",
       "      <td>...</td>\n",
       "    </tr>\n",
       "    <tr>\n",
       "      <th>617</th>\n",
       "      <td>Influenza outbreak event prediction via Twit...</td>\n",
       "      <td>Multivariate</td>\n",
       "      <td>Classification</td>\n",
       "      <td>Integer, Real</td>\n",
       "      <td>75840</td>\n",
       "      <td>525</td>\n",
       "    </tr>\n",
       "    <tr>\n",
       "      <th>618</th>\n",
       "      <td>Turkish Music Emotion Dataset</td>\n",
       "      <td>Multivariate</td>\n",
       "      <td>Classification</td>\n",
       "      <td>Integer, Real</td>\n",
       "      <td>400</td>\n",
       "      <td>50</td>\n",
       "    </tr>\n",
       "    <tr>\n",
       "      <th>619</th>\n",
       "      <td>Maternal Health Risk Data Set</td>\n",
       "      <td></td>\n",
       "      <td>Classification</td>\n",
       "      <td></td>\n",
       "      <td>1014</td>\n",
       "      <td>7</td>\n",
       "    </tr>\n",
       "    <tr>\n",
       "      <th>620</th>\n",
       "      <td>Room Occupancy Estimation</td>\n",
       "      <td>Multivariate, Time-Series</td>\n",
       "      <td>Classification</td>\n",
       "      <td>Real</td>\n",
       "      <td>10129</td>\n",
       "      <td>16</td>\n",
       "    </tr>\n",
       "    <tr>\n",
       "      <th>621</th>\n",
       "      <td>Image Recognition Task Execution Times in Mo...</td>\n",
       "      <td>Univariate</td>\n",
       "      <td>Regression</td>\n",
       "      <td>Real</td>\n",
       "      <td>4000</td>\n",
       "      <td>2</td>\n",
       "    </tr>\n",
       "  </tbody>\n",
       "</table>\n",
       "<p>622 rows × 6 columns</p>\n",
       "</div>"
      ],
      "text/plain": [
       "                                          Dataset_Name  \\\n",
       "0                                              Abalone   \n",
       "1                                                Adult   \n",
       "2                                            Annealing   \n",
       "3                         Anonymous Microsoft Web Data   \n",
       "4                                           Arrhythmia   \n",
       "..                                                 ...   \n",
       "617    Influenza outbreak event prediction via Twit...   \n",
       "618                      Turkish Music Emotion Dataset   \n",
       "619                      Maternal Health Risk Data Set   \n",
       "620                          Room Occupancy Estimation   \n",
       "621    Image Recognition Task Execution Times in Mo...   \n",
       "\n",
       "                      Data_type           defult_task  \\\n",
       "0                 Multivariate        Classification    \n",
       "1                 Multivariate        Classification    \n",
       "2                 Multivariate        Classification    \n",
       "3                                Recommender-Systems    \n",
       "4                 Multivariate        Classification    \n",
       "..                          ...                   ...   \n",
       "617               Multivariate        Classification    \n",
       "618               Multivariate        Classification    \n",
       "619                                   Classification    \n",
       "620  Multivariate, Time-Series        Classification    \n",
       "621                 Univariate            Regression    \n",
       "\n",
       "                  attribute_type Instance Attributes  \n",
       "0    Categorical, Integer, Real     4177          8   \n",
       "1          Categorical, Integer    48842         14   \n",
       "2    Categorical, Integer, Real      798         38   \n",
       "3                   Categorical    37711        294   \n",
       "4    Categorical, Integer, Real      452        279   \n",
       "..                           ...      ...        ...  \n",
       "617               Integer, Real    75840        525   \n",
       "618               Integer, Real      400         50   \n",
       "619                                 1014          7   \n",
       "620                        Real    10129         16   \n",
       "621                        Real     4000          2   \n",
       "\n",
       "[622 rows x 6 columns]"
      ]
     },
     "execution_count": 36,
     "metadata": {},
     "output_type": "execute_result"
    }
   ],
   "source": [
    "df=pd.DataFrame({\"Dataset_Name\":dataset,\"Data_type\":datatype,\"defult_task\":default_task,\"attribute_type\":attribute_type,\"Instance\":instance,\"Attributes\":attributes})\n",
    "df"
   ]
  },
  {
   "cell_type": "code",
   "execution_count": 3,
   "id": "78ad97de",
   "metadata": {},
   "outputs": [],
   "source": [
    "#Assignment qustion 9"
   ]
  },
  {
   "cell_type": "code",
   "execution_count": 30,
   "id": "5f1118b9",
   "metadata": {},
   "outputs": [],
   "source": [
    "driver=webdriver.Chrome(r\"Chromedriver.exe\")"
   ]
  },
  {
   "cell_type": "code",
   "execution_count": 31,
   "id": "349001e7",
   "metadata": {},
   "outputs": [],
   "source": [
    "driver.get(\"https://www.naukri.com/hr-recruiters-consultants\")"
   ]
  },
  {
   "cell_type": "code",
   "execution_count": 32,
   "id": "7a1c394f",
   "metadata": {},
   "outputs": [],
   "source": [
    "recruiter=driver.find_element(By.XPATH,'/html/body/div[2]/div[2]/div[1]/div[2]/div/div/div/ul/li[1]/a')\n",
    "recruiter.click()"
   ]
  },
  {
   "cell_type": "code",
   "execution_count": 33,
   "id": "05509b8f",
   "metadata": {},
   "outputs": [],
   "source": [
    "designation=driver.find_element(By.XPATH,'/html/body/div[2]/div[2]/div[1]/div[1]/form/div[1]/div/div[1]/div[1]/div[2]/input')\n",
    "designation.send_keys('Datascience') "
   ]
  },
  {
   "cell_type": "code",
   "execution_count": 34,
   "id": "4e94c16e",
   "metadata": {},
   "outputs": [],
   "source": [
    "search=driver.find_element(By.XPATH,'/html/body/div[2]/div[2]/div[1]/div[1]/form/div[1]/button')\n",
    "search.click()"
   ]
  },
  {
   "cell_type": "code",
   "execution_count": 35,
   "id": "1817d065",
   "metadata": {},
   "outputs": [
    {
     "data": {
      "text/plain": [
       "39"
      ]
     },
     "execution_count": 35,
     "metadata": {},
     "output_type": "execute_result"
    }
   ],
   "source": [
    "name=[]\n",
    "Name=driver.find_elements(By.XPATH,'//span[@class=\"fl ellipsis\"]')\n",
    "for i in Name:\n",
    "    try:\n",
    "        name.append(i.text)\n",
    "    except:\n",
    "        name.append(\"-\")\n",
    "len(name)"
   ]
  },
  {
   "cell_type": "code",
   "execution_count": 36,
   "id": "0ea89133",
   "metadata": {},
   "outputs": [
    {
     "data": {
      "text/plain": [
       "39"
      ]
     },
     "execution_count": 36,
     "metadata": {},
     "output_type": "execute_result"
    }
   ],
   "source": [
    "designation=[]\n",
    "Designation=driver.find_elements(By.XPATH,'//span[@ class=\"ellipsis clr\"] ')\n",
    "for i in Designation:\n",
    "    try:\n",
    "        designation.append(i.text)\n",
    "    except:\n",
    "        designation.append(\"-\")\n",
    "len(designation)"
   ]
  },
  {
   "cell_type": "code",
   "execution_count": 50,
   "id": "3e98e318",
   "metadata": {},
   "outputs": [
    {
     "data": {
      "text/plain": [
       "39"
      ]
     },
     "execution_count": 50,
     "metadata": {},
     "output_type": "execute_result"
    }
   ],
   "source": [
    "company=[]\n",
    "comp=[]\n",
    "Company=driver.find_elements(By.XPATH,'//a[@class=\"ellipsis\"]')\n",
    "for i in Company:\n",
    "    try:\n",
    "        company.append(i.text)\n",
    "    except:\n",
    "        company.append(\"-\")\n",
    "for i in range(1,len(company),2):\n",
    "    comp.append(company[i]) \n",
    "len(comp)"
   ]
  },
  {
   "cell_type": "code",
   "execution_count": null,
   "id": "f3b6e3c6",
   "metadata": {},
   "outputs": [],
   "source": []
  },
  {
   "cell_type": "code",
   "execution_count": 39,
   "id": "9a441889",
   "metadata": {},
   "outputs": [
    {
     "data": {
      "text/plain": [
       "39"
      ]
     },
     "execution_count": 39,
     "metadata": {},
     "output_type": "execute_result"
    }
   ],
   "source": [
    "location=[]\n",
    "Location=driver.find_elements(By.XPATH,'//small[@class=\"ellipsis\"]')\n",
    "for i in Location:\n",
    "    try:\n",
    "        location.append(i.text)\n",
    "    except:\n",
    "        location.append(\"-\")\n",
    "len(location)"
   ]
  },
  {
   "cell_type": "code",
   "execution_count": 40,
   "id": "2a87be46",
   "metadata": {},
   "outputs": [
    {
     "data": {
      "text/plain": [
       "39"
      ]
     },
     "execution_count": 40,
     "metadata": {},
     "output_type": "execute_result"
    }
   ],
   "source": [
    "skill=[]\n",
    "Skill=driver.find_elements(By.XPATH,'//div [@class=\"hireSec highlightable\"]')\n",
    "for i in Skill:\n",
    "    try:\n",
    "        skill.append(i.text)\n",
    "    except:\n",
    "        skill.append(\"-\")\n",
    "len(skill)"
   ]
  },
  {
   "cell_type": "code",
   "execution_count": 52,
   "id": "0777355f",
   "metadata": {
    "scrolled": true
   },
   "outputs": [
    {
     "data": {
      "text/html": [
       "<div>\n",
       "<style scoped>\n",
       "    .dataframe tbody tr th:only-of-type {\n",
       "        vertical-align: middle;\n",
       "    }\n",
       "\n",
       "    .dataframe tbody tr th {\n",
       "        vertical-align: top;\n",
       "    }\n",
       "\n",
       "    .dataframe thead th {\n",
       "        text-align: right;\n",
       "    }\n",
       "</style>\n",
       "<table border=\"1\" class=\"dataframe\">\n",
       "  <thead>\n",
       "    <tr style=\"text-align: right;\">\n",
       "      <th></th>\n",
       "      <th>Name</th>\n",
       "      <th>Designation</th>\n",
       "      <th>Company</th>\n",
       "      <th>Skill</th>\n",
       "      <th>Location</th>\n",
       "    </tr>\n",
       "  </thead>\n",
       "  <tbody>\n",
       "    <tr>\n",
       "      <th>0</th>\n",
       "      <td>Rose Mary</td>\n",
       "      <td>Talent Acquisition Specialist</td>\n",
       "      <td>Flex i Partners</td>\n",
       "      <td>Senior Management, Information Technology, Fac...</td>\n",
       "      <td>Bengaluru / Bangalore</td>\n",
       "    </tr>\n",
       "    <tr>\n",
       "      <th>1</th>\n",
       "      <td>Jatin Nagpal</td>\n",
       "      <td>Company Recruiter</td>\n",
       "      <td>Cvent India Pvt. Ltd.</td>\n",
       "      <td>Not Specified</td>\n",
       "      <td>Gurgaon</td>\n",
       "    </tr>\n",
       "    <tr>\n",
       "      <th>2</th>\n",
       "      <td>Besant Technologies</td>\n",
       "      <td>Assistant Manager</td>\n",
       "      <td>Besant Technologies</td>\n",
       "      <td>Training, Education</td>\n",
       "      <td>Chennai</td>\n",
       "    </tr>\n",
       "    <tr>\n",
       "      <th>3</th>\n",
       "      <td>Shanthi</td>\n",
       "      <td>Company Recruiter</td>\n",
       "      <td>Iris Technologies</td>\n",
       "      <td>Not Specified</td>\n",
       "      <td>Chennai</td>\n",
       "    </tr>\n",
       "    <tr>\n",
       "      <th>4</th>\n",
       "      <td>Dilip</td>\n",
       "      <td>HR Executive</td>\n",
       "      <td>Greens Technologys Velachery</td>\n",
       "      <td>Human Resource Management, Software Development</td>\n",
       "      <td>Chennai</td>\n",
       "    </tr>\n",
       "    <tr>\n",
       "      <th>5</th>\n",
       "      <td>Sakshi Singh</td>\n",
       "      <td>Company Recruiter</td>\n",
       "      <td>Holcim Services (South Aisa) Limited</td>\n",
       "      <td>Not Specified</td>\n",
       "      <td>Mumbai</td>\n",
       "    </tr>\n",
       "    <tr>\n",
       "      <th>6</th>\n",
       "      <td>JTS</td>\n",
       "      <td>HR</td>\n",
       "      <td>Jignasa Techno Solutions Pvt Ltd</td>\n",
       "      <td>Not Specified</td>\n",
       "      <td>Hyderabad / Secunderabad</td>\n",
       "    </tr>\n",
       "    <tr>\n",
       "      <th>7</th>\n",
       "      <td>TA</td>\n",
       "      <td>Company Recruiter</td>\n",
       "      <td>Manipal Global Education Services Private...</td>\n",
       "      <td>Not Specified</td>\n",
       "      <td>Bengaluru / Bangalore</td>\n",
       "    </tr>\n",
       "    <tr>\n",
       "      <th>8</th>\n",
       "      <td>Niharika</td>\n",
       "      <td>HR</td>\n",
       "      <td>SaltSide</td>\n",
       "      <td>Not Specified</td>\n",
       "      <td>Bengaluru / Bangalore</td>\n",
       "    </tr>\n",
       "    <tr>\n",
       "      <th>9</th>\n",
       "      <td>Chandra</td>\n",
       "      <td>Company Recruiter</td>\n",
       "      <td>A2Z CONTACTS PRIVATE LIMITED</td>\n",
       "      <td>Not Specified</td>\n",
       "      <td>Hyderabad / Secunderabad</td>\n",
       "    </tr>\n",
       "    <tr>\n",
       "      <th>10</th>\n",
       "      <td>Gargi Dave</td>\n",
       "      <td>Company Recruiter</td>\n",
       "      <td>HighRadius Technologies Pvt Ltd</td>\n",
       "      <td>Not Specified</td>\n",
       "      <td>Hyderabad / Secunderabad</td>\n",
       "    </tr>\n",
       "    <tr>\n",
       "      <th>11</th>\n",
       "      <td>HR</td>\n",
       "      <td>Talent Acquisition Manager</td>\n",
       "      <td>Afitech</td>\n",
       "      <td>Corporate Training, Training, Training Coordin...</td>\n",
       "      <td>Bengaluru / Bangalore</td>\n",
       "    </tr>\n",
       "    <tr>\n",
       "      <th>12</th>\n",
       "      <td>Joyce Roslin</td>\n",
       "      <td>HR IT Recruiter</td>\n",
       "      <td>Aegan Technologies Pvt Ltd</td>\n",
       "      <td>Fetchr India, Intellectyx DataScience Pvt Ltd</td>\n",
       "      <td>Coimbatore</td>\n",
       "    </tr>\n",
       "    <tr>\n",
       "      <th>13</th>\n",
       "      <td>Sandeep Selvan</td>\n",
       "      <td>Sr Consultant</td>\n",
       "      <td>Wenger &amp;amp; Watson</td>\n",
       "      <td>CONFIDENCIAL</td>\n",
       "      <td>Bengaluru / Bangalore</td>\n",
       "    </tr>\n",
       "    <tr>\n",
       "      <th>14</th>\n",
       "      <td>Binary Fox</td>\n",
       "      <td>Company Recruiter</td>\n",
       "      <td>BINARY FOX SERVICES LLP</td>\n",
       "      <td>Frontend, Backend, Fullstack, Tester, Erp, Dwh...</td>\n",
       "      <td>Uttar Pradesh - Other</td>\n",
       "    </tr>\n",
       "    <tr>\n",
       "      <th>15</th>\n",
       "      <td>Rajashekar</td>\n",
       "      <td>Talent Acquisition Executive</td>\n",
       "      <td>CBSI India Pvt. Ltd.</td>\n",
       "      <td>Not Specified</td>\n",
       "      <td>Bengaluru / Bangalore</td>\n",
       "    </tr>\n",
       "    <tr>\n",
       "      <th>16</th>\n",
       "      <td>Madhu Mohan Rao Neelam</td>\n",
       "      <td>Company Recruiter</td>\n",
       "      <td>CoArtha Technosolutions Private Limited</td>\n",
       "      <td>Not Specified</td>\n",
       "      <td>Hyderabad / Secunderabad</td>\n",
       "    </tr>\n",
       "    <tr>\n",
       "      <th>17</th>\n",
       "      <td>Anujhgna</td>\n",
       "      <td>HR Manager</td>\n",
       "      <td>Zopak Software Private Limited</td>\n",
       "      <td>html5, css, javascript, Qa Testing, Scala, Ang...</td>\n",
       "      <td>Hyderabad / Secunderabad</td>\n",
       "    </tr>\n",
       "    <tr>\n",
       "      <th>18</th>\n",
       "      <td>PoojaHR</td>\n",
       "      <td>HR Recruiter</td>\n",
       "      <td>Magneq Software</td>\n",
       "      <td>Not Specified</td>\n",
       "      <td>Hyderabad / Secunderabad</td>\n",
       "    </tr>\n",
       "    <tr>\n",
       "      <th>19</th>\n",
       "      <td>BlockSec Privacy</td>\n",
       "      <td>Vice President HR</td>\n",
       "      <td>BlockSec Privacy</td>\n",
       "      <td>Not Specified</td>\n",
       "      <td>Pune</td>\n",
       "    </tr>\n",
       "    <tr>\n",
       "      <th>20</th>\n",
       "      <td>Pooja HR</td>\n",
       "      <td>HR Recruiter</td>\n",
       "      <td>Magneq Software</td>\n",
       "      <td>Not Specified</td>\n",
       "      <td>Hyderabad / Secunderabad</td>\n",
       "    </tr>\n",
       "    <tr>\n",
       "      <th>21</th>\n",
       "      <td>Namratha</td>\n",
       "      <td>Senior Human Resources Executive</td>\n",
       "      <td>Global Sena Consultancy Pvt. Ltd.</td>\n",
       "      <td>Not Specified</td>\n",
       "      <td>Hyderabad / Secunderabad</td>\n",
       "    </tr>\n",
       "    <tr>\n",
       "      <th>22</th>\n",
       "      <td>Sai Theja</td>\n",
       "      <td>Operations Lead</td>\n",
       "      <td>Sumyag Data Sciences Private Limited</td>\n",
       "      <td>Data Science, Engineering, Data Analysis, Big ...</td>\n",
       "      <td>Bengaluru / Bangalore</td>\n",
       "    </tr>\n",
       "    <tr>\n",
       "      <th>23</th>\n",
       "      <td>Techsel Solutions</td>\n",
       "      <td>Human Resource Management</td>\n",
       "      <td>Techsel Solutions</td>\n",
       "      <td>Not Specified</td>\n",
       "      <td>Hyderabad / Secunderabad</td>\n",
       "    </tr>\n",
       "    <tr>\n",
       "      <th>24</th>\n",
       "      <td>Sri Divya</td>\n",
       "      <td>Company Recruiter</td>\n",
       "      <td>SP GOBAL SOLUTIONS</td>\n",
       "      <td>Not Specified</td>\n",
       "      <td>Hyderabad / Secunderabad</td>\n",
       "    </tr>\n",
       "    <tr>\n",
       "      <th>25</th>\n",
       "      <td>gamya</td>\n",
       "      <td>Company Recruiter</td>\n",
       "      <td>SP GOBAL SOLUTIONS</td>\n",
       "      <td>Not Specified</td>\n",
       "      <td>Hyderabad / Secunderabad</td>\n",
       "    </tr>\n",
       "    <tr>\n",
       "      <th>26</th>\n",
       "      <td>Maran</td>\n",
       "      <td>Director</td>\n",
       "      <td>DISTINCT SYSTEMS &amp;amp; TECHNOLOGIES PRIVATE...</td>\n",
       "      <td>Not Specified</td>\n",
       "      <td>Chennai</td>\n",
       "    </tr>\n",
       "    <tr>\n",
       "      <th>27</th>\n",
       "      <td>Sandeep Seth</td>\n",
       "      <td>Co Director</td>\n",
       "      <td>Data Science Technologies Pvt Ltd</td>\n",
       "      <td>Not Specified</td>\n",
       "      <td>Pune</td>\n",
       "    </tr>\n",
       "    <tr>\n",
       "      <th>28</th>\n",
       "      <td>CADD Centre Thane I Dombivali I Airoli</td>\n",
       "      <td>Company Recruiter</td>\n",
       "      <td>Sansach Technologies</td>\n",
       "      <td>Not Specified</td>\n",
       "      <td>Mumbai</td>\n",
       "    </tr>\n",
       "    <tr>\n",
       "      <th>29</th>\n",
       "      <td>Vijayalakshmi</td>\n",
       "      <td>Senior Recruiter</td>\n",
       "      <td>Avyayh</td>\n",
       "      <td>Not Specified</td>\n",
       "      <td>Chennai</td>\n",
       "    </tr>\n",
       "    <tr>\n",
       "      <th>30</th>\n",
       "      <td>Richa Awasthi</td>\n",
       "      <td>TA &amp;amp; Operation Manager</td>\n",
       "      <td>Uberlife Consulting Private Limited</td>\n",
       "      <td>Not Specified</td>\n",
       "      <td>Bengaluru / Bangalore</td>\n",
       "    </tr>\n",
       "    <tr>\n",
       "      <th>31</th>\n",
       "      <td>Samuel</td>\n",
       "      <td>Senior Executive TAG</td>\n",
       "      <td>Innominds</td>\n",
       "      <td>Not Specified</td>\n",
       "      <td>Hyderabad / Secunderabad</td>\n",
       "    </tr>\n",
       "    <tr>\n",
       "      <th>32</th>\n",
       "      <td>Naveen V</td>\n",
       "      <td>Recruitment Consultant</td>\n",
       "      <td>JoulestoWatts Business Solutions Pvt Ltd</td>\n",
       "      <td>Not Specified</td>\n",
       "      <td>Bengaluru / Bangalore</td>\n",
       "    </tr>\n",
       "    <tr>\n",
       "      <th>33</th>\n",
       "      <td>P N Venugopal</td>\n",
       "      <td>Recruitment Consultant</td>\n",
       "      <td>P N Venugopal Associates</td>\n",
       "      <td>Not Specified</td>\n",
       "      <td>Bengaluru / Bangalore</td>\n",
       "    </tr>\n",
       "    <tr>\n",
       "      <th>34</th>\n",
       "      <td>Mohideen</td>\n",
       "      <td>Recruitment Consultant</td>\n",
       "      <td>Inceptez Technologies</td>\n",
       "      <td>Not Specified</td>\n",
       "      <td>Chennai</td>\n",
       "    </tr>\n",
       "    <tr>\n",
       "      <th>35</th>\n",
       "      <td>Magesh Kumar Quess Corp</td>\n",
       "      <td>Senior Consultant IT Recruitment</td>\n",
       "      <td>Quess Corp Ltd.</td>\n",
       "      <td>Guidewire, Ui Development, Pega Prpc, Pega Rul...</td>\n",
       "      <td>Chennai</td>\n",
       "    </tr>\n",
       "    <tr>\n",
       "      <th>36</th>\n",
       "      <td>Suchitra</td>\n",
       "      <td>Talent Specialist</td>\n",
       "      <td>Collabera Technologies Private Limited</td>\n",
       "      <td>Software</td>\n",
       "      <td>Hyderabad / Secunderabad</td>\n",
       "    </tr>\n",
       "    <tr>\n",
       "      <th>37</th>\n",
       "      <td>Jyoti Moily</td>\n",
       "      <td>Managing partner</td>\n",
       "      <td>Unitres Business Solutions</td>\n",
       "      <td>Not Specified</td>\n",
       "      <td>THANE</td>\n",
       "    </tr>\n",
       "    <tr>\n",
       "      <th>38</th>\n",
       "      <td>Rishika Seth</td>\n",
       "      <td>Chief Financial Officer</td>\n",
       "      <td>Datascience Technologies Pvt. Ltd.</td>\n",
       "      <td>Not Specified</td>\n",
       "      <td>Pune</td>\n",
       "    </tr>\n",
       "  </tbody>\n",
       "</table>\n",
       "</div>"
      ],
      "text/plain": [
       "                                      Name                       Designation  \\\n",
       "0                                Rose Mary     Talent Acquisition Specialist   \n",
       "1                             Jatin Nagpal                 Company Recruiter   \n",
       "2                      Besant Technologies                 Assistant Manager   \n",
       "3                                  Shanthi                 Company Recruiter   \n",
       "4                                    Dilip                      HR Executive   \n",
       "5                             Sakshi Singh                 Company Recruiter   \n",
       "6                                      JTS                                HR   \n",
       "7                                       TA                 Company Recruiter   \n",
       "8                                 Niharika                                HR   \n",
       "9                                  Chandra                 Company Recruiter   \n",
       "10                              Gargi Dave                 Company Recruiter   \n",
       "11                                      HR        Talent Acquisition Manager   \n",
       "12                            Joyce Roslin                   HR IT Recruiter   \n",
       "13                          Sandeep Selvan                     Sr Consultant   \n",
       "14                              Binary Fox                 Company Recruiter   \n",
       "15                              Rajashekar      Talent Acquisition Executive   \n",
       "16                  Madhu Mohan Rao Neelam                 Company Recruiter   \n",
       "17                                Anujhgna                        HR Manager   \n",
       "18                                 PoojaHR                      HR Recruiter   \n",
       "19                        BlockSec Privacy                 Vice President HR   \n",
       "20                                Pooja HR                      HR Recruiter   \n",
       "21                                Namratha  Senior Human Resources Executive   \n",
       "22                               Sai Theja                   Operations Lead   \n",
       "23                       Techsel Solutions         Human Resource Management   \n",
       "24                               Sri Divya                 Company Recruiter   \n",
       "25                                   gamya                 Company Recruiter   \n",
       "26                                   Maran                          Director   \n",
       "27                            Sandeep Seth                       Co Director   \n",
       "28  CADD Centre Thane I Dombivali I Airoli                 Company Recruiter   \n",
       "29                           Vijayalakshmi                  Senior Recruiter   \n",
       "30                           Richa Awasthi        TA &amp; Operation Manager   \n",
       "31                                  Samuel              Senior Executive TAG   \n",
       "32                                Naveen V            Recruitment Consultant   \n",
       "33                           P N Venugopal            Recruitment Consultant   \n",
       "34                                Mohideen            Recruitment Consultant   \n",
       "35                 Magesh Kumar Quess Corp  Senior Consultant IT Recruitment   \n",
       "36                                Suchitra                 Talent Specialist   \n",
       "37                             Jyoti Moily                  Managing partner   \n",
       "38                            Rishika Seth           Chief Financial Officer   \n",
       "\n",
       "                                           Company  \\\n",
       "0                                  Flex i Partners   \n",
       "1                            Cvent India Pvt. Ltd.   \n",
       "2                              Besant Technologies   \n",
       "3                                Iris Technologies   \n",
       "4                     Greens Technologys Velachery   \n",
       "5             Holcim Services (South Aisa) Limited   \n",
       "6                 Jignasa Techno Solutions Pvt Ltd   \n",
       "7     Manipal Global Education Services Private...   \n",
       "8                                         SaltSide   \n",
       "9                     A2Z CONTACTS PRIVATE LIMITED   \n",
       "10                 HighRadius Technologies Pvt Ltd   \n",
       "11                                         Afitech   \n",
       "12                      Aegan Technologies Pvt Ltd   \n",
       "13                             Wenger &amp; Watson   \n",
       "14                         BINARY FOX SERVICES LLP   \n",
       "15                            CBSI India Pvt. Ltd.   \n",
       "16         CoArtha Technosolutions Private Limited   \n",
       "17                  Zopak Software Private Limited   \n",
       "18                                 Magneq Software   \n",
       "19                                BlockSec Privacy   \n",
       "20                                 Magneq Software   \n",
       "21               Global Sena Consultancy Pvt. Ltd.   \n",
       "22            Sumyag Data Sciences Private Limited   \n",
       "23                               Techsel Solutions   \n",
       "24                              SP GOBAL SOLUTIONS   \n",
       "25                              SP GOBAL SOLUTIONS   \n",
       "26  DISTINCT SYSTEMS &amp; TECHNOLOGIES PRIVATE...   \n",
       "27               Data Science Technologies Pvt Ltd   \n",
       "28                            Sansach Technologies   \n",
       "29                                          Avyayh   \n",
       "30             Uberlife Consulting Private Limited   \n",
       "31                                       Innominds   \n",
       "32        JoulestoWatts Business Solutions Pvt Ltd   \n",
       "33                        P N Venugopal Associates   \n",
       "34                           Inceptez Technologies   \n",
       "35                                 Quess Corp Ltd.   \n",
       "36          Collabera Technologies Private Limited   \n",
       "37                      Unitres Business Solutions   \n",
       "38              Datascience Technologies Pvt. Ltd.   \n",
       "\n",
       "                                                Skill  \\\n",
       "0   Senior Management, Information Technology, Fac...   \n",
       "1                                       Not Specified   \n",
       "2                                 Training, Education   \n",
       "3                                       Not Specified   \n",
       "4     Human Resource Management, Software Development   \n",
       "5                                       Not Specified   \n",
       "6                                       Not Specified   \n",
       "7                                       Not Specified   \n",
       "8                                       Not Specified   \n",
       "9                                       Not Specified   \n",
       "10                                      Not Specified   \n",
       "11  Corporate Training, Training, Training Coordin...   \n",
       "12      Fetchr India, Intellectyx DataScience Pvt Ltd   \n",
       "13                                       CONFIDENCIAL   \n",
       "14  Frontend, Backend, Fullstack, Tester, Erp, Dwh...   \n",
       "15                                      Not Specified   \n",
       "16                                      Not Specified   \n",
       "17  html5, css, javascript, Qa Testing, Scala, Ang...   \n",
       "18                                      Not Specified   \n",
       "19                                      Not Specified   \n",
       "20                                      Not Specified   \n",
       "21                                      Not Specified   \n",
       "22  Data Science, Engineering, Data Analysis, Big ...   \n",
       "23                                      Not Specified   \n",
       "24                                      Not Specified   \n",
       "25                                      Not Specified   \n",
       "26                                      Not Specified   \n",
       "27                                      Not Specified   \n",
       "28                                      Not Specified   \n",
       "29                                      Not Specified   \n",
       "30                                      Not Specified   \n",
       "31                                      Not Specified   \n",
       "32                                      Not Specified   \n",
       "33                                      Not Specified   \n",
       "34                                      Not Specified   \n",
       "35  Guidewire, Ui Development, Pega Prpc, Pega Rul...   \n",
       "36                                           Software   \n",
       "37                                      Not Specified   \n",
       "38                                      Not Specified   \n",
       "\n",
       "                    Location  \n",
       "0      Bengaluru / Bangalore  \n",
       "1                    Gurgaon  \n",
       "2                    Chennai  \n",
       "3                    Chennai  \n",
       "4                    Chennai  \n",
       "5                     Mumbai  \n",
       "6   Hyderabad / Secunderabad  \n",
       "7      Bengaluru / Bangalore  \n",
       "8      Bengaluru / Bangalore  \n",
       "9   Hyderabad / Secunderabad  \n",
       "10  Hyderabad / Secunderabad  \n",
       "11     Bengaluru / Bangalore  \n",
       "12                Coimbatore  \n",
       "13     Bengaluru / Bangalore  \n",
       "14     Uttar Pradesh - Other  \n",
       "15     Bengaluru / Bangalore  \n",
       "16  Hyderabad / Secunderabad  \n",
       "17  Hyderabad / Secunderabad  \n",
       "18  Hyderabad / Secunderabad  \n",
       "19                      Pune  \n",
       "20  Hyderabad / Secunderabad  \n",
       "21  Hyderabad / Secunderabad  \n",
       "22     Bengaluru / Bangalore  \n",
       "23  Hyderabad / Secunderabad  \n",
       "24  Hyderabad / Secunderabad  \n",
       "25  Hyderabad / Secunderabad  \n",
       "26                   Chennai  \n",
       "27                      Pune  \n",
       "28                    Mumbai  \n",
       "29                   Chennai  \n",
       "30     Bengaluru / Bangalore  \n",
       "31  Hyderabad / Secunderabad  \n",
       "32     Bengaluru / Bangalore  \n",
       "33     Bengaluru / Bangalore  \n",
       "34                   Chennai  \n",
       "35                   Chennai  \n",
       "36  Hyderabad / Secunderabad  \n",
       "37                     THANE  \n",
       "38                      Pune  "
      ]
     },
     "execution_count": 52,
     "metadata": {},
     "output_type": "execute_result"
    }
   ],
   "source": [
    "df=pd.DataFrame({\"Name\":name,\"Designation\":designation,\"Company\":comp,\"Skill\":skill,\"Location\":location})\n",
    "df"
   ]
  },
  {
   "cell_type": "code",
   "execution_count": 2,
   "id": "6473c4ac",
   "metadata": {},
   "outputs": [],
   "source": [
    "#Assignment qustion 1"
   ]
  },
  {
   "cell_type": "code",
   "execution_count": null,
   "id": "fc233eb5",
   "metadata": {},
   "outputs": [],
   "source": [
    "driver=webdriver.Chrome(r\"Chromedriver.exe\")"
   ]
  },
  {
   "cell_type": "code",
   "execution_count": 4,
   "id": "f044d3e8",
   "metadata": {},
   "outputs": [],
   "source": [
    "driver.get(\"https://en.wikipedia.org/wiki/List_of_most-viewed_YouTube_videos\")"
   ]
  },
  {
   "cell_type": "code",
   "execution_count": 7,
   "id": "c6f00bdf",
   "metadata": {},
   "outputs": [
    {
     "data": {
      "text/plain": [
       "30"
      ]
     },
     "execution_count": 7,
     "metadata": {},
     "output_type": "execute_result"
    }
   ],
   "source": [
    "rank=[]\n",
    "Rank=driver.find_elements(By.XPATH,'//table[@ class=\"wikitable sortable jquery-tablesorter\"]/tbody/tr/td[1]')\n",
    "for i in Rank[0:30]:\n",
    "    try:\n",
    "        rank.append(i.text)\n",
    "    except:\n",
    "        rank.append(\"-\")\n",
    "len(rank)"
   ]
  },
  {
   "cell_type": "code",
   "execution_count": 10,
   "id": "c7c66c21",
   "metadata": {},
   "outputs": [
    {
     "data": {
      "text/plain": [
       "30"
      ]
     },
     "execution_count": 10,
     "metadata": {},
     "output_type": "execute_result"
    }
   ],
   "source": [
    "name=[]\n",
    "Name=driver.find_elements(By.XPATH,'//table[@ class=\"wikitable sortable jquery-tablesorter\"]/tbody/tr/td[2]')\n",
    "for i in Name[0:30]:\n",
    "    try:\n",
    "        name.append(i.text)\n",
    "    except:\n",
    "        name.append(\"-\")\n",
    "len(name)"
   ]
  },
  {
   "cell_type": "code",
   "execution_count": 11,
   "id": "631fb931",
   "metadata": {},
   "outputs": [
    {
     "data": {
      "text/plain": [
       "30"
      ]
     },
     "execution_count": 11,
     "metadata": {},
     "output_type": "execute_result"
    }
   ],
   "source": [
    "artist=[]\n",
    "Artist=driver.find_elements(By.XPATH,'//table[@ class=\"wikitable sortable jquery-tablesorter\"]/tbody/tr/td[3]')\n",
    "for i in Artist[0:30]:\n",
    "    try:\n",
    "        artist.append(i.text)\n",
    "    except:\n",
    "        artist.append(\"-\")\n",
    "len(artist)"
   ]
  },
  {
   "cell_type": "code",
   "execution_count": 15,
   "id": "36dc7138",
   "metadata": {},
   "outputs": [
    {
     "data": {
      "text/plain": [
       "30"
      ]
     },
     "execution_count": 15,
     "metadata": {},
     "output_type": "execute_result"
    }
   ],
   "source": [
    "upload_date=[]\n",
    "upload=driver.find_elements(By.XPATH,'//table[@ class=\"wikitable sortable jquery-tablesorter\"]/tbody/tr/td[5]')\n",
    "for i in upload[0:30]:\n",
    "    try:\n",
    "        upload_date.append(i.text)\n",
    "    except:\n",
    "        upload_date.append(\"-\")\n",
    "len(upload_date)"
   ]
  },
  {
   "cell_type": "code",
   "execution_count": 16,
   "id": "073821c2",
   "metadata": {},
   "outputs": [
    {
     "data": {
      "text/plain": [
       "30"
      ]
     },
     "execution_count": 16,
     "metadata": {},
     "output_type": "execute_result"
    }
   ],
   "source": [
    "views=[]\n",
    "Views=driver.find_elements(By.XPATH,'//table[@ class=\"wikitable sortable jquery-tablesorter\"]/tbody/tr/td[4]')\n",
    "for i in Views[0:30]:\n",
    "    try:\n",
    "        views.append(i.text)\n",
    "    except:\n",
    "        views.append(\"-\")\n",
    "len(views)"
   ]
  },
  {
   "cell_type": "code",
   "execution_count": 17,
   "id": "f5e7e8a2",
   "metadata": {},
   "outputs": [
    {
     "data": {
      "text/html": [
       "<div>\n",
       "<style scoped>\n",
       "    .dataframe tbody tr th:only-of-type {\n",
       "        vertical-align: middle;\n",
       "    }\n",
       "\n",
       "    .dataframe tbody tr th {\n",
       "        vertical-align: top;\n",
       "    }\n",
       "\n",
       "    .dataframe thead th {\n",
       "        text-align: right;\n",
       "    }\n",
       "</style>\n",
       "<table border=\"1\" class=\"dataframe\">\n",
       "  <thead>\n",
       "    <tr style=\"text-align: right;\">\n",
       "      <th></th>\n",
       "      <th>Rank</th>\n",
       "      <th>Name</th>\n",
       "      <th>Artist</th>\n",
       "      <th>Upload_date</th>\n",
       "      <th>Views(billions)</th>\n",
       "    </tr>\n",
       "  </thead>\n",
       "  <tbody>\n",
       "    <tr>\n",
       "      <th>0</th>\n",
       "      <td>1.</td>\n",
       "      <td>\"Baby Shark Dance\"[4]</td>\n",
       "      <td>Pinkfong Baby Shark - Kids' Songs &amp; Stories</td>\n",
       "      <td>June 17, 2016</td>\n",
       "      <td>12.37</td>\n",
       "    </tr>\n",
       "    <tr>\n",
       "      <th>1</th>\n",
       "      <td>2.</td>\n",
       "      <td>\"Despacito\"[7]</td>\n",
       "      <td>Luis Fonsi</td>\n",
       "      <td>January 12, 2017</td>\n",
       "      <td>8.09</td>\n",
       "    </tr>\n",
       "    <tr>\n",
       "      <th>2</th>\n",
       "      <td>3.</td>\n",
       "      <td>\"Johny Johny Yes Papa\"[14]</td>\n",
       "      <td>LooLoo Kids</td>\n",
       "      <td>October 8, 2016</td>\n",
       "      <td>6.63</td>\n",
       "    </tr>\n",
       "    <tr>\n",
       "      <th>3</th>\n",
       "      <td>4.</td>\n",
       "      <td>\"Bath Song\"[15]</td>\n",
       "      <td>Cocomelon – Nursery Rhymes</td>\n",
       "      <td>May 2, 2018</td>\n",
       "      <td>6.03</td>\n",
       "    </tr>\n",
       "    <tr>\n",
       "      <th>4</th>\n",
       "      <td>5.</td>\n",
       "      <td>\"Shape of You\"[16]</td>\n",
       "      <td>Ed Sheeran</td>\n",
       "      <td>January 30, 2017</td>\n",
       "      <td>5.92</td>\n",
       "    </tr>\n",
       "    <tr>\n",
       "      <th>5</th>\n",
       "      <td>6.</td>\n",
       "      <td>\"See You Again\"[18]</td>\n",
       "      <td>Wiz Khalifa</td>\n",
       "      <td>April 6, 2015</td>\n",
       "      <td>5.79</td>\n",
       "    </tr>\n",
       "    <tr>\n",
       "      <th>6</th>\n",
       "      <td>7.</td>\n",
       "      <td>\"Phonics Song with Two Words\"[23]</td>\n",
       "      <td>ChuChu TV</td>\n",
       "      <td>March 6, 2014</td>\n",
       "      <td>5.17</td>\n",
       "    </tr>\n",
       "    <tr>\n",
       "      <th>7</th>\n",
       "      <td>8.</td>\n",
       "      <td>\"Wheels on the Bus\"[24]</td>\n",
       "      <td>Cocomelon – Nursery Rhymes</td>\n",
       "      <td>May 24, 2018</td>\n",
       "      <td>4.95</td>\n",
       "    </tr>\n",
       "    <tr>\n",
       "      <th>8</th>\n",
       "      <td>9.</td>\n",
       "      <td>\"Uptown Funk\"[25]</td>\n",
       "      <td>Mark Ronson</td>\n",
       "      <td>November 19, 2014</td>\n",
       "      <td>4.84</td>\n",
       "    </tr>\n",
       "    <tr>\n",
       "      <th>9</th>\n",
       "      <td>10.</td>\n",
       "      <td>\"Learning Colors – Colorful Eggs on a Farm\"[26]</td>\n",
       "      <td>Miroshka TV</td>\n",
       "      <td>February 27, 2018</td>\n",
       "      <td>4.83</td>\n",
       "    </tr>\n",
       "    <tr>\n",
       "      <th>10</th>\n",
       "      <td>11.</td>\n",
       "      <td>\"Gangnam Style\"[27]</td>\n",
       "      <td>Psy</td>\n",
       "      <td>July 15, 2012</td>\n",
       "      <td>4.70</td>\n",
       "    </tr>\n",
       "    <tr>\n",
       "      <th>11</th>\n",
       "      <td>12.</td>\n",
       "      <td>\"Masha and the Bear – Recipe for Disaster\"[32]</td>\n",
       "      <td>Get Movies</td>\n",
       "      <td>January 31, 2012</td>\n",
       "      <td>4.53</td>\n",
       "    </tr>\n",
       "    <tr>\n",
       "      <th>12</th>\n",
       "      <td>13.</td>\n",
       "      <td>\"Dame Tu Cosita\"[33]</td>\n",
       "      <td>El Chombo</td>\n",
       "      <td>April 5, 2018</td>\n",
       "      <td>4.24</td>\n",
       "    </tr>\n",
       "    <tr>\n",
       "      <th>13</th>\n",
       "      <td>14.</td>\n",
       "      <td>\"Sugar\"[34]</td>\n",
       "      <td>Maroon 5</td>\n",
       "      <td>January 14, 2015</td>\n",
       "      <td>3.82</td>\n",
       "    </tr>\n",
       "    <tr>\n",
       "      <th>14</th>\n",
       "      <td>15.</td>\n",
       "      <td>\"Axel F\"[35]</td>\n",
       "      <td>Crazy Frog</td>\n",
       "      <td>June 16, 2009</td>\n",
       "      <td>3.76</td>\n",
       "    </tr>\n",
       "    <tr>\n",
       "      <th>15</th>\n",
       "      <td>16.</td>\n",
       "      <td>\"Roar\"[36]</td>\n",
       "      <td>Katy Perry</td>\n",
       "      <td>September 5, 2013</td>\n",
       "      <td>3.73</td>\n",
       "    </tr>\n",
       "    <tr>\n",
       "      <th>16</th>\n",
       "      <td>17.</td>\n",
       "      <td>\"Counting Stars\"[37]</td>\n",
       "      <td>OneRepublic</td>\n",
       "      <td>May 31, 2013</td>\n",
       "      <td>3.73</td>\n",
       "    </tr>\n",
       "    <tr>\n",
       "      <th>17</th>\n",
       "      <td>18.</td>\n",
       "      <td>\"Sorry\"[38]</td>\n",
       "      <td>Justin Bieber</td>\n",
       "      <td>October 22, 2015</td>\n",
       "      <td>3.63</td>\n",
       "    </tr>\n",
       "    <tr>\n",
       "      <th>18</th>\n",
       "      <td>19.</td>\n",
       "      <td>\"Thinking Out Loud\"[39]</td>\n",
       "      <td>Ed Sheeran</td>\n",
       "      <td>October 7, 2014</td>\n",
       "      <td>3.55</td>\n",
       "    </tr>\n",
       "    <tr>\n",
       "      <th>19</th>\n",
       "      <td>20.</td>\n",
       "      <td>\"Baa Baa Black Sheep\"[40]</td>\n",
       "      <td>Cocomelon – Nursery Rhymes</td>\n",
       "      <td>June 25, 2018</td>\n",
       "      <td>3.51</td>\n",
       "    </tr>\n",
       "    <tr>\n",
       "      <th>20</th>\n",
       "      <td>21.</td>\n",
       "      <td>\"Waka Waka (This Time for Africa)\"[41]</td>\n",
       "      <td>Shakira</td>\n",
       "      <td>June 4, 2010</td>\n",
       "      <td>3.48</td>\n",
       "    </tr>\n",
       "    <tr>\n",
       "      <th>21</th>\n",
       "      <td>22.</td>\n",
       "      <td>\"Dark Horse\"[42]</td>\n",
       "      <td>Katy Perry</td>\n",
       "      <td>February 20, 2014</td>\n",
       "      <td>3.45</td>\n",
       "    </tr>\n",
       "    <tr>\n",
       "      <th>22</th>\n",
       "      <td>23.</td>\n",
       "      <td>\"Faded\"[43]</td>\n",
       "      <td>Alan Walker</td>\n",
       "      <td>December 3, 2015</td>\n",
       "      <td>3.41</td>\n",
       "    </tr>\n",
       "    <tr>\n",
       "      <th>23</th>\n",
       "      <td>24.</td>\n",
       "      <td>\"Let Her Go\"[44]</td>\n",
       "      <td>Passenger</td>\n",
       "      <td>July 25, 2012</td>\n",
       "      <td>3.38</td>\n",
       "    </tr>\n",
       "    <tr>\n",
       "      <th>24</th>\n",
       "      <td>25.</td>\n",
       "      <td>\"Girls Like You\"[45]</td>\n",
       "      <td>Maroon 5</td>\n",
       "      <td>May 31, 2018</td>\n",
       "      <td>3.37</td>\n",
       "    </tr>\n",
       "    <tr>\n",
       "      <th>25</th>\n",
       "      <td>26.</td>\n",
       "      <td>\"Perfect\"[46]</td>\n",
       "      <td>Ed Sheeran</td>\n",
       "      <td>November 9, 2017</td>\n",
       "      <td>3.37</td>\n",
       "    </tr>\n",
       "    <tr>\n",
       "      <th>26</th>\n",
       "      <td>27.</td>\n",
       "      <td>\"Bailando\"[47]</td>\n",
       "      <td>Enrique Iglesias</td>\n",
       "      <td>April 11, 2014</td>\n",
       "      <td>3.34</td>\n",
       "    </tr>\n",
       "    <tr>\n",
       "      <th>27</th>\n",
       "      <td>28.</td>\n",
       "      <td>\"Lean On\"[48]</td>\n",
       "      <td>Major Lazer</td>\n",
       "      <td>March 22, 2015</td>\n",
       "      <td>3.33</td>\n",
       "    </tr>\n",
       "    <tr>\n",
       "      <th>28</th>\n",
       "      <td>29.</td>\n",
       "      <td>\"Lakdi Ki Kathi\"[49]</td>\n",
       "      <td>Jingle Toons</td>\n",
       "      <td>June 14, 2018</td>\n",
       "      <td>3.32</td>\n",
       "    </tr>\n",
       "    <tr>\n",
       "      <th>29</th>\n",
       "      <td>30.</td>\n",
       "      <td>\"Humpty the train on a fruits ride\"[50]</td>\n",
       "      <td>Kiddiestv Hindi – Nursery Rhymes &amp; Kids Songs</td>\n",
       "      <td>January 26, 2018</td>\n",
       "      <td>3.31</td>\n",
       "    </tr>\n",
       "  </tbody>\n",
       "</table>\n",
       "</div>"
      ],
      "text/plain": [
       "   Rank                                             Name  \\\n",
       "0    1.                            \"Baby Shark Dance\"[4]   \n",
       "1    2.                                   \"Despacito\"[7]   \n",
       "2    3.                       \"Johny Johny Yes Papa\"[14]   \n",
       "3    4.                                  \"Bath Song\"[15]   \n",
       "4    5.                               \"Shape of You\"[16]   \n",
       "5    6.                              \"See You Again\"[18]   \n",
       "6    7.                \"Phonics Song with Two Words\"[23]   \n",
       "7    8.                          \"Wheels on the Bus\"[24]   \n",
       "8    9.                                \"Uptown Funk\"[25]   \n",
       "9   10.  \"Learning Colors – Colorful Eggs on a Farm\"[26]   \n",
       "10  11.                              \"Gangnam Style\"[27]   \n",
       "11  12.   \"Masha and the Bear – Recipe for Disaster\"[32]   \n",
       "12  13.                             \"Dame Tu Cosita\"[33]   \n",
       "13  14.                                      \"Sugar\"[34]   \n",
       "14  15.                                     \"Axel F\"[35]   \n",
       "15  16.                                       \"Roar\"[36]   \n",
       "16  17.                             \"Counting Stars\"[37]   \n",
       "17  18.                                      \"Sorry\"[38]   \n",
       "18  19.                          \"Thinking Out Loud\"[39]   \n",
       "19  20.                        \"Baa Baa Black Sheep\"[40]   \n",
       "20  21.           \"Waka Waka (This Time for Africa)\"[41]   \n",
       "21  22.                                 \"Dark Horse\"[42]   \n",
       "22  23.                                      \"Faded\"[43]   \n",
       "23  24.                                 \"Let Her Go\"[44]   \n",
       "24  25.                             \"Girls Like You\"[45]   \n",
       "25  26.                                    \"Perfect\"[46]   \n",
       "26  27.                                   \"Bailando\"[47]   \n",
       "27  28.                                    \"Lean On\"[48]   \n",
       "28  29.                             \"Lakdi Ki Kathi\"[49]   \n",
       "29  30.          \"Humpty the train on a fruits ride\"[50]   \n",
       "\n",
       "                                           Artist        Upload_date  \\\n",
       "0     Pinkfong Baby Shark - Kids' Songs & Stories      June 17, 2016   \n",
       "1                                      Luis Fonsi   January 12, 2017   \n",
       "2                                     LooLoo Kids    October 8, 2016   \n",
       "3                      Cocomelon – Nursery Rhymes        May 2, 2018   \n",
       "4                                      Ed Sheeran   January 30, 2017   \n",
       "5                                     Wiz Khalifa      April 6, 2015   \n",
       "6                                       ChuChu TV      March 6, 2014   \n",
       "7                      Cocomelon – Nursery Rhymes       May 24, 2018   \n",
       "8                                     Mark Ronson  November 19, 2014   \n",
       "9                                     Miroshka TV  February 27, 2018   \n",
       "10                                            Psy      July 15, 2012   \n",
       "11                                     Get Movies   January 31, 2012   \n",
       "12                                      El Chombo      April 5, 2018   \n",
       "13                                       Maroon 5   January 14, 2015   \n",
       "14                                     Crazy Frog      June 16, 2009   \n",
       "15                                     Katy Perry  September 5, 2013   \n",
       "16                                    OneRepublic       May 31, 2013   \n",
       "17                                  Justin Bieber   October 22, 2015   \n",
       "18                                     Ed Sheeran    October 7, 2014   \n",
       "19                     Cocomelon – Nursery Rhymes      June 25, 2018   \n",
       "20                                        Shakira       June 4, 2010   \n",
       "21                                     Katy Perry  February 20, 2014   \n",
       "22                                    Alan Walker   December 3, 2015   \n",
       "23                                      Passenger      July 25, 2012   \n",
       "24                                       Maroon 5       May 31, 2018   \n",
       "25                                     Ed Sheeran   November 9, 2017   \n",
       "26                               Enrique Iglesias     April 11, 2014   \n",
       "27                                    Major Lazer     March 22, 2015   \n",
       "28                                   Jingle Toons      June 14, 2018   \n",
       "29  Kiddiestv Hindi – Nursery Rhymes & Kids Songs   January 26, 2018   \n",
       "\n",
       "   Views(billions)  \n",
       "0            12.37  \n",
       "1             8.09  \n",
       "2             6.63  \n",
       "3             6.03  \n",
       "4             5.92  \n",
       "5             5.79  \n",
       "6             5.17  \n",
       "7             4.95  \n",
       "8             4.84  \n",
       "9             4.83  \n",
       "10            4.70  \n",
       "11            4.53  \n",
       "12            4.24  \n",
       "13            3.82  \n",
       "14            3.76  \n",
       "15            3.73  \n",
       "16            3.73  \n",
       "17            3.63  \n",
       "18            3.55  \n",
       "19            3.51  \n",
       "20            3.48  \n",
       "21            3.45  \n",
       "22            3.41  \n",
       "23            3.38  \n",
       "24            3.37  \n",
       "25            3.37  \n",
       "26            3.34  \n",
       "27            3.33  \n",
       "28            3.32  \n",
       "29            3.31  "
      ]
     },
     "execution_count": 17,
     "metadata": {},
     "output_type": "execute_result"
    }
   ],
   "source": [
    "df=pd.DataFrame({\"Rank\":rank,\"Name\":name,\"Artist\":artist,\"Upload_date\":upload_date,\"Views(billions)\":views})\n",
    "df"
   ]
  },
  {
   "cell_type": "code",
   "execution_count": 18,
   "id": "97f7d34a",
   "metadata": {},
   "outputs": [],
   "source": [
    "#assignment qustion 2 "
   ]
  },
  {
   "cell_type": "code",
   "execution_count": 3,
   "id": "3e7fe9a9",
   "metadata": {},
   "outputs": [],
   "source": [
    "driver=webdriver.Chrome(r\"Chromedriver.exe\")"
   ]
  },
  {
   "cell_type": "code",
   "execution_count": 4,
   "id": "3d1d9c87",
   "metadata": {},
   "outputs": [],
   "source": [
    "driver.get(\"https://www.bcci.tv/\")"
   ]
  },
  {
   "cell_type": "code",
   "execution_count": 13,
   "id": "cb25193b",
   "metadata": {},
   "outputs": [],
   "source": [
    "#fixture=driver.find_element(By.CLASS_NAME,\"nav-item\")\n",
    "fixture=driver.find_element(By.XPATH,'/html/body/div[5]/div/div[1]/div/ul/li[1]/a')\n",
    "fixture.click()"
   ]
  },
  {
   "cell_type": "code",
   "execution_count": 14,
   "id": "464e73da",
   "metadata": {},
   "outputs": [],
   "source": [
    "view=driver.find_element(By.XPATH,'/html/body/div[5]/div/div[2]/div/div[2]/div/div[1]/div[2]/a')\n",
    "view.click()"
   ]
  },
  {
   "cell_type": "code",
   "execution_count": 15,
   "id": "c96dfc1e",
   "metadata": {},
   "outputs": [
    {
     "data": {
      "text/plain": [
       "3"
      ]
     },
     "execution_count": 15,
     "metadata": {},
     "output_type": "execute_result"
    }
   ],
   "source": [
    "match_title=[]\n",
    "match=driver.find_elements(By.XPATH,'//span [@class=\"matchOrderText ng-binding ng-scope\"]')\n",
    "for i in match:\n",
    "    try:\n",
    "        match_title.append(i.text)\n",
    "    except:\n",
    "        match_title.append(\"-\")\n",
    "len(match_title)"
   ]
  },
  {
   "cell_type": "code",
   "execution_count": 30,
   "id": "6bb63bcb",
   "metadata": {},
   "outputs": [
    {
     "data": {
      "text/plain": [
       "3"
      ]
     },
     "execution_count": 30,
     "metadata": {},
     "output_type": "execute_result"
    }
   ],
   "source": [
    "series_name=[]\n",
    "series=driver.find_elements(By.XPATH,'//h5 [@class=\"match-tournament-name ng-binding\"]')\n",
    "for i in series:\n",
    "    try:\n",
    "        series_name.append(i.text)\n",
    "    except:\n",
    "        series_name.append(\"-\")\n",
    "len(series_name)"
   ]
  },
  {
   "cell_type": "code",
   "execution_count": 19,
   "id": "bdc0099e",
   "metadata": {},
   "outputs": [
    {
     "data": {
      "text/plain": [
       "3"
      ]
     },
     "execution_count": 19,
     "metadata": {},
     "output_type": "execute_result"
    }
   ],
   "source": [
    "place=[]\n",
    "Place=driver.find_elements(By.XPATH,'//span [@class=\"ng-binding ng-scope\"]')\n",
    "for i in Place:\n",
    "    try:\n",
    "        place.append(i.text)\n",
    "    except:\n",
    "        place.append(\"-\")\n",
    "len(place)"
   ]
  },
  {
   "cell_type": "code",
   "execution_count": 22,
   "id": "0bc18a28",
   "metadata": {},
   "outputs": [
    {
     "data": {
      "text/plain": [
       "3"
      ]
     },
     "execution_count": 22,
     "metadata": {},
     "output_type": "execute_result"
    }
   ],
   "source": [
    "date=[]\n",
    "Date=driver.find_elements(By.XPATH,'//div[@ class=\"match-dates ng-binding\"]')\n",
    "for i in Date:\n",
    "    try:\n",
    "        date.append(i.text)\n",
    "    except:\n",
    "        date.append(\"-\")\n",
    "len(date)"
   ]
  },
  {
   "cell_type": "code",
   "execution_count": 23,
   "id": "e32646e4",
   "metadata": {},
   "outputs": [
    {
     "data": {
      "text/plain": [
       "3"
      ]
     },
     "execution_count": 23,
     "metadata": {},
     "output_type": "execute_result"
    }
   ],
   "source": [
    "time=[]\n",
    "Time=driver.find_elements(By.XPATH,'//div[@class=\"match-time no-margin ng-binding\"]')\n",
    "for i in Time:\n",
    "    try:\n",
    "        time.append(i.text)\n",
    "    except:\n",
    "        time.append(\"-\")\n",
    "len(time)"
   ]
  },
  {
   "cell_type": "code",
   "execution_count": 31,
   "id": "d50cd8bb",
   "metadata": {},
   "outputs": [
    {
     "data": {
      "text/html": [
       "<div>\n",
       "<style scoped>\n",
       "    .dataframe tbody tr th:only-of-type {\n",
       "        vertical-align: middle;\n",
       "    }\n",
       "\n",
       "    .dataframe tbody tr th {\n",
       "        vertical-align: top;\n",
       "    }\n",
       "\n",
       "    .dataframe thead th {\n",
       "        text-align: right;\n",
       "    }\n",
       "</style>\n",
       "<table border=\"1\" class=\"dataframe\">\n",
       "  <thead>\n",
       "    <tr style=\"text-align: right;\">\n",
       "      <th></th>\n",
       "      <th>Match_title</th>\n",
       "      <th>Series</th>\n",
       "      <th>Place</th>\n",
       "      <th>Date</th>\n",
       "      <th>Time</th>\n",
       "    </tr>\n",
       "  </thead>\n",
       "  <tbody>\n",
       "    <tr>\n",
       "      <th>0</th>\n",
       "      <td>1st ODI -</td>\n",
       "      <td>AUSTRALIA TOUR OF INDIA 2023</td>\n",
       "      <td>Wankhede Stadium,</td>\n",
       "      <td>17 MAR 2023</td>\n",
       "      <td>1:30 PM IST</td>\n",
       "    </tr>\n",
       "    <tr>\n",
       "      <th>1</th>\n",
       "      <td>2nd ODI -</td>\n",
       "      <td>AUSTRALIA TOUR OF INDIA 2023</td>\n",
       "      <td>Dr YS Rajasekhara Reddy ACA-VDCA Cricket Stadium,</td>\n",
       "      <td>19 MAR 2023</td>\n",
       "      <td>1:30 PM IST</td>\n",
       "    </tr>\n",
       "    <tr>\n",
       "      <th>2</th>\n",
       "      <td>3rd ODI -</td>\n",
       "      <td>AUSTRALIA TOUR OF INDIA 2023</td>\n",
       "      <td>MA Chidambaram Stadium,</td>\n",
       "      <td>22 MAR 2023</td>\n",
       "      <td>1:30 PM IST</td>\n",
       "    </tr>\n",
       "  </tbody>\n",
       "</table>\n",
       "</div>"
      ],
      "text/plain": [
       "  Match_title                        Series  \\\n",
       "0   1st ODI -  AUSTRALIA TOUR OF INDIA 2023   \n",
       "1   2nd ODI -  AUSTRALIA TOUR OF INDIA 2023   \n",
       "2   3rd ODI -  AUSTRALIA TOUR OF INDIA 2023   \n",
       "\n",
       "                                               Place         Date         Time  \n",
       "0                                  Wankhede Stadium,  17 MAR 2023  1:30 PM IST  \n",
       "1  Dr YS Rajasekhara Reddy ACA-VDCA Cricket Stadium,  19 MAR 2023  1:30 PM IST  \n",
       "2                            MA Chidambaram Stadium,  22 MAR 2023  1:30 PM IST  "
      ]
     },
     "execution_count": 31,
     "metadata": {},
     "output_type": "execute_result"
    }
   ],
   "source": [
    "df=pd.DataFrame({\"Match_title\":match_title,\"Series\":series_name,\"Place\":place,\"Date\":date,\"Time\":time})\n",
    "df"
   ]
  },
  {
   "cell_type": "code",
   "execution_count": null,
   "id": "3cad6865",
   "metadata": {},
   "outputs": [],
   "source": []
  }
 ],
 "metadata": {
  "kernelspec": {
   "display_name": "Python 3 (ipykernel)",
   "language": "python",
   "name": "python3"
  },
  "language_info": {
   "codemirror_mode": {
    "name": "ipython",
    "version": 3
   },
   "file_extension": ".py",
   "mimetype": "text/x-python",
   "name": "python",
   "nbconvert_exporter": "python",
   "pygments_lexer": "ipython3",
   "version": "3.9.13"
  }
 },
 "nbformat": 4,
 "nbformat_minor": 5
}
