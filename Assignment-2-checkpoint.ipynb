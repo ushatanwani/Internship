{
 "cells": [
  {
   "cell_type": "code",
   "execution_count": 1,
   "id": "9ff302c3",
   "metadata": {},
   "outputs": [],
   "source": [
    "import selenium\n",
    "import pandas as pd\n",
    "from selenium import webdriver\n",
    "import warnings\n",
    "warnings.filterwarnings(\"ignore\")\n",
    "from selenium.common.exceptions import StaleElementReferenceException\n",
    "from selenium.common.exceptions import NoSuchElementException\n",
    "from selenium.webdriver.common.by import By\n",
    "import time"
   ]
  },
  {
   "cell_type": "code",
   "execution_count": 29,
   "id": "43f87a05",
   "metadata": {},
   "outputs": [],
   "source": [
    "driver=webdriver.Chrome(r\"Chromedriver.exe\")"
   ]
  },
  {
   "cell_type": "code",
   "execution_count": 30,
   "id": "1e3b58f1",
   "metadata": {},
   "outputs": [],
   "source": [
    "driver.get(\"https://www.naukri.com/\")"
   ]
  },
  {
   "cell_type": "code",
   "execution_count": 31,
   "id": "5aa27379",
   "metadata": {},
   "outputs": [],
   "source": [
    "designation=driver.find_element(By.CLASS_NAME,\"suggestor-input\")\n",
    "designation.send_keys(\"Data Analyst\")"
   ]
  },
  {
   "cell_type": "code",
   "execution_count": 32,
   "id": "f73251db",
   "metadata": {},
   "outputs": [],
   "source": [
    "location=driver.find_element(By.XPATH,\"/html/body/div[1]/div[6]/div/div/div[5]/div/div/div/input\")\n",
    "location.send_keys(\"Banglore\")"
   ]
  },
  {
   "cell_type": "code",
   "execution_count": 33,
   "id": "e2bd1689",
   "metadata": {},
   "outputs": [],
   "source": [
    "search=driver.find_element(By.CLASS_NAME,\"qsbSubmit\" )\n",
    "search.click()"
   ]
  },
  {
   "cell_type": "code",
   "execution_count": 34,
   "id": "23c8b789",
   "metadata": {},
   "outputs": [],
   "source": [
    "job_title=[]\n",
    "job_location=[]\n",
    "company_name=[]\n",
    "experience_required=[]"
   ]
  },
  {
   "cell_type": "code",
   "execution_count": 35,
   "id": "6a650c57",
   "metadata": {},
   "outputs": [],
   "source": [
    "title_tags=driver.find_elements(By.XPATH,'//a [@class=\"title ellipsis\" ]')\n",
    "for i in title_tags[0:10]:\n",
    "    title=i.text\n",
    "    job_title.append(title)\n"
   ]
  },
  {
   "cell_type": "code",
   "execution_count": 36,
   "id": "f9b3ba4f",
   "metadata": {},
   "outputs": [],
   "source": [
    "location_tags=driver.find_elements(By.XPATH,'//span [@  class=\"ellipsis fleft locWdth\"]')\n",
    "for i in location_tags[0:10]:\n",
    "    location=i.text\n",
    "    job_location.append(location)"
   ]
  },
  {
   "cell_type": "code",
   "execution_count": 37,
   "id": "67f25a0c",
   "metadata": {},
   "outputs": [],
   "source": [
    "company_tags=driver.find_elements(By.XPATH,'//a [@ class=\"subTitle ellipsis fleft\"]')\n",
    "for i in company_tags[0:10]:\n",
    "    company=i.text\n",
    "    company_name.append(company)"
   ]
  },
  {
   "cell_type": "code",
   "execution_count": 38,
   "id": "d61cbb6f",
   "metadata": {},
   "outputs": [],
   "source": [
    "experience_tags=driver.find_elements(By.XPATH,'//span [ @class=\"ellipsis fleft expwdth\"]')\n",
    "for i in experience_tags[0:10]:\n",
    "    experience=i.text\n",
    "    experience_required.append(experience)"
   ]
  },
  {
   "cell_type": "code",
   "execution_count": 39,
   "id": "4bf59df5",
   "metadata": {},
   "outputs": [
    {
     "name": "stdout",
     "output_type": "stream",
     "text": [
      "10 10 10 10\n"
     ]
    }
   ],
   "source": [
    "print(len(job_title),len(job_location),len(company_name),len(experience_required))"
   ]
  },
  {
   "cell_type": "code",
   "execution_count": 40,
   "id": "f6c4b599",
   "metadata": {},
   "outputs": [
    {
     "data": {
      "text/html": [
       "<div>\n",
       "<style scoped>\n",
       "    .dataframe tbody tr th:only-of-type {\n",
       "        vertical-align: middle;\n",
       "    }\n",
       "\n",
       "    .dataframe tbody tr th {\n",
       "        vertical-align: top;\n",
       "    }\n",
       "\n",
       "    .dataframe thead th {\n",
       "        text-align: right;\n",
       "    }\n",
       "</style>\n",
       "<table border=\"1\" class=\"dataframe\">\n",
       "  <thead>\n",
       "    <tr style=\"text-align: right;\">\n",
       "      <th></th>\n",
       "      <th>Title</th>\n",
       "      <th>Location</th>\n",
       "      <th>Company_Name</th>\n",
       "      <th>Experience_Required</th>\n",
       "    </tr>\n",
       "  </thead>\n",
       "  <tbody>\n",
       "    <tr>\n",
       "      <th>0</th>\n",
       "      <td>Data Analyst- Yulu Energy</td>\n",
       "      <td>Bangalore/Bengaluru</td>\n",
       "      <td>Yulu Bikes</td>\n",
       "      <td>0-1 Yrs</td>\n",
       "    </tr>\n",
       "    <tr>\n",
       "      <th>1</th>\n",
       "      <td>Data Analyst</td>\n",
       "      <td>Bangalore/Bengaluru</td>\n",
       "      <td>Entrupy</td>\n",
       "      <td>1-3 Yrs</td>\n",
       "    </tr>\n",
       "    <tr>\n",
       "      <th>2</th>\n",
       "      <td>Data Analyst</td>\n",
       "      <td>Hybrid - Hyderabad/Secunderabad, Pune, Bangalo...</td>\n",
       "      <td>EY</td>\n",
       "      <td>5-10 Yrs</td>\n",
       "    </tr>\n",
       "    <tr>\n",
       "      <th>3</th>\n",
       "      <td>Data Analyst</td>\n",
       "      <td>Hybrid - Bangalore/Bengaluru</td>\n",
       "      <td>Allegis Group</td>\n",
       "      <td>4-7 Yrs</td>\n",
       "    </tr>\n",
       "    <tr>\n",
       "      <th>4</th>\n",
       "      <td>Required Data Analyst Off Role</td>\n",
       "      <td>Bangalore/Bengaluru</td>\n",
       "      <td>TeamLease</td>\n",
       "      <td>3-5 Yrs</td>\n",
       "    </tr>\n",
       "    <tr>\n",
       "      <th>5</th>\n",
       "      <td>Data Analyst</td>\n",
       "      <td>Bangalore/Bengaluru</td>\n",
       "      <td>Staffice Global</td>\n",
       "      <td>14-18 Yrs</td>\n",
       "    </tr>\n",
       "    <tr>\n",
       "      <th>6</th>\n",
       "      <td>Data Analyst</td>\n",
       "      <td>Bangalore/Bengaluru</td>\n",
       "      <td>What Digital Technologies</td>\n",
       "      <td>5-10 Yrs</td>\n",
       "    </tr>\n",
       "    <tr>\n",
       "      <th>7</th>\n",
       "      <td>Data Analyst</td>\n",
       "      <td>Bangalore/Bengaluru</td>\n",
       "      <td>Course5 Intelligence</td>\n",
       "      <td>1-2 Yrs</td>\n",
       "    </tr>\n",
       "    <tr>\n",
       "      <th>8</th>\n",
       "      <td>Data Analyst</td>\n",
       "      <td>Bangalore/Bengaluru</td>\n",
       "      <td>FresherMart</td>\n",
       "      <td>2-3 Yrs</td>\n",
       "    </tr>\n",
       "    <tr>\n",
       "      <th>9</th>\n",
       "      <td>Data Analyst Databricks</td>\n",
       "      <td>Bangalore/Bengaluru</td>\n",
       "      <td>Optum</td>\n",
       "      <td>4-6 Yrs</td>\n",
       "    </tr>\n",
       "  </tbody>\n",
       "</table>\n",
       "</div>"
      ],
      "text/plain": [
       "                            Title  \\\n",
       "0       Data Analyst- Yulu Energy   \n",
       "1                    Data Analyst   \n",
       "2                    Data Analyst   \n",
       "3                    Data Analyst   \n",
       "4  Required Data Analyst Off Role   \n",
       "5                    Data Analyst   \n",
       "6                    Data Analyst   \n",
       "7                    Data Analyst   \n",
       "8                    Data Analyst   \n",
       "9         Data Analyst Databricks   \n",
       "\n",
       "                                            Location  \\\n",
       "0                                Bangalore/Bengaluru   \n",
       "1                                Bangalore/Bengaluru   \n",
       "2  Hybrid - Hyderabad/Secunderabad, Pune, Bangalo...   \n",
       "3                       Hybrid - Bangalore/Bengaluru   \n",
       "4                                Bangalore/Bengaluru   \n",
       "5                                Bangalore/Bengaluru   \n",
       "6                                Bangalore/Bengaluru   \n",
       "7                                Bangalore/Bengaluru   \n",
       "8                                Bangalore/Bengaluru   \n",
       "9                                Bangalore/Bengaluru   \n",
       "\n",
       "                Company_Name Experience_Required  \n",
       "0                 Yulu Bikes             0-1 Yrs  \n",
       "1                    Entrupy             1-3 Yrs  \n",
       "2                         EY            5-10 Yrs  \n",
       "3              Allegis Group             4-7 Yrs  \n",
       "4                  TeamLease             3-5 Yrs  \n",
       "5            Staffice Global           14-18 Yrs  \n",
       "6  What Digital Technologies            5-10 Yrs  \n",
       "7       Course5 Intelligence             1-2 Yrs  \n",
       "8                FresherMart             2-3 Yrs  \n",
       "9                      Optum             4-6 Yrs  "
      ]
     },
     "execution_count": 40,
     "metadata": {},
     "output_type": "execute_result"
    }
   ],
   "source": [
    "import pandas as pd\n",
    "df=pd.DataFrame({'Title':job_title,'Location':job_location,'Company_Name':company_name,'Experience_Required':experience_required})\n",
    "df"
   ]
  },
  {
   "cell_type": "code",
   "execution_count": 66,
   "id": "885713b6",
   "metadata": {},
   "outputs": [],
   "source": [
    "#Assignment_question 2"
   ]
  },
  {
   "cell_type": "code",
   "execution_count": 41,
   "id": "76f9f7df",
   "metadata": {},
   "outputs": [],
   "source": [
    "driver=webdriver.Chrome(r\"Chromedriver.exe\")"
   ]
  },
  {
   "cell_type": "code",
   "execution_count": 42,
   "id": "026f29f7",
   "metadata": {},
   "outputs": [],
   "source": [
    "driver.get(\"https://www.naukri.com/\")"
   ]
  },
  {
   "cell_type": "code",
   "execution_count": 43,
   "id": "f8dd5d49",
   "metadata": {},
   "outputs": [],
   "source": [
    "designation=driver.find_element(By.CLASS_NAME,\"suggestor-input \")\n",
    "designation.send_keys(\"Data Scientist\")"
   ]
  },
  {
   "cell_type": "code",
   "execution_count": 44,
   "id": "277fd5ef",
   "metadata": {},
   "outputs": [],
   "source": [
    "location=driver.find_element(By.XPATH,'/html/body/div[1]/div[6]/div/div/div[5]/div/div/div/input')\n",
    "location.send_keys(\"Banglore\")"
   ]
  },
  {
   "cell_type": "code",
   "execution_count": 45,
   "id": "202433e7",
   "metadata": {},
   "outputs": [],
   "source": [
    "search=driver.find_element(By.XPATH,\"/html/body/div[1]/div[6]/div/div/div[6]\")\n",
    "search.click()"
   ]
  },
  {
   "cell_type": "code",
   "execution_count": 46,
   "id": "d1ba6a41",
   "metadata": {},
   "outputs": [],
   "source": [
    "job_title=[]\n",
    "job_location=[]\n",
    "company_name=[]"
   ]
  },
  {
   "cell_type": "code",
   "execution_count": 47,
   "id": "56746125",
   "metadata": {},
   "outputs": [],
   "source": [
    "title=driver.find_elements(By.XPATH,'//a[@ class=\"title ellipsis\" ]')\n",
    "for i in title[0:10]:\n",
    "    Title=i.text\n",
    "    job_title.append(Title)"
   ]
  },
  {
   "cell_type": "code",
   "execution_count": 48,
   "id": "b00cda46",
   "metadata": {},
   "outputs": [],
   "source": [
    "location=driver.find_elements(By.XPATH,'//span[@ class=\"ellipsis fleft locWdth\"]')\n",
    "for i in location[0:10]:\n",
    "    loc=i.text\n",
    "    job_location.append(loc)"
   ]
  },
  {
   "cell_type": "code",
   "execution_count": 49,
   "id": "aa6ce78e",
   "metadata": {},
   "outputs": [],
   "source": [
    "company=driver.find_elements(By.XPATH,'//a [@class=\"subTitle ellipsis fleft\" ]')\n",
    "for i in location[0:10]:\n",
    "    com=i.text\n",
    "    company_name.append(com)"
   ]
  },
  {
   "cell_type": "code",
   "execution_count": 50,
   "id": "5b0be4b4",
   "metadata": {},
   "outputs": [
    {
     "name": "stdout",
     "output_type": "stream",
     "text": [
      "10 10 10\n"
     ]
    }
   ],
   "source": [
    "print(len(job_title),len(job_location),len(company_name))"
   ]
  },
  {
   "cell_type": "code",
   "execution_count": 51,
   "id": "2736501d",
   "metadata": {},
   "outputs": [
    {
     "data": {
      "text/html": [
       "<div>\n",
       "<style scoped>\n",
       "    .dataframe tbody tr th:only-of-type {\n",
       "        vertical-align: middle;\n",
       "    }\n",
       "\n",
       "    .dataframe tbody tr th {\n",
       "        vertical-align: top;\n",
       "    }\n",
       "\n",
       "    .dataframe thead th {\n",
       "        text-align: right;\n",
       "    }\n",
       "</style>\n",
       "<table border=\"1\" class=\"dataframe\">\n",
       "  <thead>\n",
       "    <tr style=\"text-align: right;\">\n",
       "      <th></th>\n",
       "      <th>Job_Title</th>\n",
       "      <th>Job_Location</th>\n",
       "      <th>Company_Name</th>\n",
       "    </tr>\n",
       "  </thead>\n",
       "  <tbody>\n",
       "    <tr>\n",
       "      <th>0</th>\n",
       "      <td>Data Science Specialist</td>\n",
       "      <td>Kolkata, Mumbai, Hyderabad/Secunderabad, Pune,...</td>\n",
       "      <td>Kolkata, Mumbai, Hyderabad/Secunderabad, Pune,...</td>\n",
       "    </tr>\n",
       "    <tr>\n",
       "      <th>1</th>\n",
       "      <td>Analystics &amp; Modeling Specialist</td>\n",
       "      <td>Kolkata, Mumbai, Hyderabad/Secunderabad, Pune,...</td>\n",
       "      <td>Kolkata, Mumbai, Hyderabad/Secunderabad, Pune,...</td>\n",
       "    </tr>\n",
       "    <tr>\n",
       "      <th>2</th>\n",
       "      <td>Data Scientist</td>\n",
       "      <td>Hybrid - Kolkata, Hyderabad/Secunderabad, Pune...</td>\n",
       "      <td>Hybrid - Kolkata, Hyderabad/Secunderabad, Pune...</td>\n",
       "    </tr>\n",
       "    <tr>\n",
       "      <th>3</th>\n",
       "      <td>Sr. Data scientist</td>\n",
       "      <td>Hyderabad/Secunderabad, Bangalore/Bengaluru, M...</td>\n",
       "      <td>Hyderabad/Secunderabad, Bangalore/Bengaluru, M...</td>\n",
       "    </tr>\n",
       "    <tr>\n",
       "      <th>4</th>\n",
       "      <td>Data Scientist</td>\n",
       "      <td>Noida, Kolkata, Mumbai, Hyderabad/Secunderabad...</td>\n",
       "      <td>Noida, Kolkata, Mumbai, Hyderabad/Secunderabad...</td>\n",
       "    </tr>\n",
       "    <tr>\n",
       "      <th>5</th>\n",
       "      <td>Lead Data Scientist</td>\n",
       "      <td>Noida, Hyderabad/Secunderabad, Pune, Chennai, ...</td>\n",
       "      <td>Noida, Hyderabad/Secunderabad, Pune, Chennai, ...</td>\n",
       "    </tr>\n",
       "    <tr>\n",
       "      <th>6</th>\n",
       "      <td>Data Scientist</td>\n",
       "      <td>Noida, Indore, Pune, Gurgaon/Gurugram, Bangalo...</td>\n",
       "      <td>Noida, Indore, Pune, Gurgaon/Gurugram, Bangalo...</td>\n",
       "    </tr>\n",
       "    <tr>\n",
       "      <th>7</th>\n",
       "      <td>Expert Data Scientist</td>\n",
       "      <td>Mumbai, Bangalore/Bengaluru</td>\n",
       "      <td>Mumbai, Bangalore/Bengaluru</td>\n",
       "    </tr>\n",
       "    <tr>\n",
       "      <th>8</th>\n",
       "      <td>Data Scientist Architect</td>\n",
       "      <td>Temp. WFH - Hyderabad/Secunderabad, Bangalore/...</td>\n",
       "      <td>Temp. WFH - Hyderabad/Secunderabad, Bangalore/...</td>\n",
       "    </tr>\n",
       "    <tr>\n",
       "      <th>9</th>\n",
       "      <td>Lead Artificial Intelligence Specialist</td>\n",
       "      <td>Bangalore/Bengaluru</td>\n",
       "      <td>Bangalore/Bengaluru</td>\n",
       "    </tr>\n",
       "  </tbody>\n",
       "</table>\n",
       "</div>"
      ],
      "text/plain": [
       "                                 Job_Title  \\\n",
       "0                  Data Science Specialist   \n",
       "1         Analystics & Modeling Specialist   \n",
       "2                           Data Scientist   \n",
       "3                       Sr. Data scientist   \n",
       "4                           Data Scientist   \n",
       "5                      Lead Data Scientist   \n",
       "6                           Data Scientist   \n",
       "7                    Expert Data Scientist   \n",
       "8                 Data Scientist Architect   \n",
       "9  Lead Artificial Intelligence Specialist   \n",
       "\n",
       "                                        Job_Location  \\\n",
       "0  Kolkata, Mumbai, Hyderabad/Secunderabad, Pune,...   \n",
       "1  Kolkata, Mumbai, Hyderabad/Secunderabad, Pune,...   \n",
       "2  Hybrid - Kolkata, Hyderabad/Secunderabad, Pune...   \n",
       "3  Hyderabad/Secunderabad, Bangalore/Bengaluru, M...   \n",
       "4  Noida, Kolkata, Mumbai, Hyderabad/Secunderabad...   \n",
       "5  Noida, Hyderabad/Secunderabad, Pune, Chennai, ...   \n",
       "6  Noida, Indore, Pune, Gurgaon/Gurugram, Bangalo...   \n",
       "7                        Mumbai, Bangalore/Bengaluru   \n",
       "8  Temp. WFH - Hyderabad/Secunderabad, Bangalore/...   \n",
       "9                                Bangalore/Bengaluru   \n",
       "\n",
       "                                        Company_Name  \n",
       "0  Kolkata, Mumbai, Hyderabad/Secunderabad, Pune,...  \n",
       "1  Kolkata, Mumbai, Hyderabad/Secunderabad, Pune,...  \n",
       "2  Hybrid - Kolkata, Hyderabad/Secunderabad, Pune...  \n",
       "3  Hyderabad/Secunderabad, Bangalore/Bengaluru, M...  \n",
       "4  Noida, Kolkata, Mumbai, Hyderabad/Secunderabad...  \n",
       "5  Noida, Hyderabad/Secunderabad, Pune, Chennai, ...  \n",
       "6  Noida, Indore, Pune, Gurgaon/Gurugram, Bangalo...  \n",
       "7                        Mumbai, Bangalore/Bengaluru  \n",
       "8  Temp. WFH - Hyderabad/Secunderabad, Bangalore/...  \n",
       "9                                Bangalore/Bengaluru  "
      ]
     },
     "execution_count": 51,
     "metadata": {},
     "output_type": "execute_result"
    }
   ],
   "source": [
    "df=pd.DataFrame({'Job_Title':job_title,'Job_Location':job_location,'Company_Name':company_name})\n",
    "df"
   ]
  },
  {
   "cell_type": "code",
   "execution_count": 2,
   "id": "a53a7619",
   "metadata": {},
   "outputs": [],
   "source": [
    "#assignment question 3"
   ]
  },
  {
   "cell_type": "code",
   "execution_count": 52,
   "id": "da61784f",
   "metadata": {},
   "outputs": [],
   "source": [
    "driver=webdriver.Chrome(r\"Chromedriver.exe\")"
   ]
  },
  {
   "cell_type": "code",
   "execution_count": 53,
   "id": "90e29bb6",
   "metadata": {},
   "outputs": [],
   "source": [
    "driver.get(\"https://www.naukri.com/data-scientist-jobs?k=data%20scientist\")"
   ]
  },
  {
   "cell_type": "code",
   "execution_count": 54,
   "id": "78504eb3",
   "metadata": {},
   "outputs": [],
   "source": [
    "location=driver.find_element(By.XPATH,'/html/body/div[1]/div[4]/div/div/section[1]/div[2]/div[2]/div[2]/div[2]/label/i')\n",
    "\n",
    "location.click()"
   ]
  },
  {
   "cell_type": "code",
   "execution_count": 55,
   "id": "890956da",
   "metadata": {},
   "outputs": [],
   "source": [
    "salary=driver.find_element(By.XPATH,'/html/body/div[1]/div[4]/div/div/section[1]/div[2]/div[6]/div[2]/div[2]/label/i')\n",
    "salary.click()"
   ]
  },
  {
   "cell_type": "code",
   "execution_count": 56,
   "id": "942da549",
   "metadata": {},
   "outputs": [],
   "source": [
    "job_title=[]\n",
    "job_location=[]\n",
    "company_name=[]\n",
    "experience=[]"
   ]
  },
  {
   "cell_type": "code",
   "execution_count": 57,
   "id": "6ee7e73d",
   "metadata": {},
   "outputs": [
    {
     "data": {
      "text/plain": [
       "8"
      ]
     },
     "execution_count": 57,
     "metadata": {},
     "output_type": "execute_result"
    }
   ],
   "source": [
    "jobtitle=driver.find_elements(By.XPATH,'//a [@class=\"title ellipsis\"]')\n",
    "for i in jobtitle:\n",
    "    job_title.append(i.text)\n",
    "len(job_title)"
   ]
  },
  {
   "cell_type": "code",
   "execution_count": 58,
   "id": "29b74b57",
   "metadata": {},
   "outputs": [],
   "source": [
    "joblocation=driver.find_elements(By.XPATH,'//span[@class=\"ellipsis fleft locWdth\"]')\n",
    "for i in joblocation:\n",
    "    job_location.append(i.text)"
   ]
  },
  {
   "cell_type": "code",
   "execution_count": 59,
   "id": "835b9539",
   "metadata": {},
   "outputs": [
    {
     "data": {
      "text/plain": [
       "8"
      ]
     },
     "execution_count": 59,
     "metadata": {},
     "output_type": "execute_result"
    }
   ],
   "source": [
    "companyname=driver.find_elements(By.XPATH,'//a[@class=\"subTitle ellipsis fleft\"]')\n",
    "for i in companyname:\n",
    "    company_name.append(i.text)\n",
    "len(company_name)"
   ]
  },
  {
   "cell_type": "code",
   "execution_count": 68,
   "id": "d8aaa16d",
   "metadata": {},
   "outputs": [
    {
     "data": {
      "text/plain": [
       "8"
      ]
     },
     "execution_count": 68,
     "metadata": {},
     "output_type": "execute_result"
    }
   ],
   "source": [
    "experiencerequired=driver.find_elements(By.XPATH,'//span[ @class=\"ellipsis fleft expwdth\"]')\n",
    "for i in experiencerequired:\n",
    "    experience.append(i.text)\n",
    "len(experience)"
   ]
  },
  {
   "cell_type": "code",
   "execution_count": 70,
   "id": "f3f73666",
   "metadata": {},
   "outputs": [
    {
     "name": "stdout",
     "output_type": "stream",
     "text": [
      "8 8 8 8\n"
     ]
    }
   ],
   "source": [
    "print(len(job_title),len(job_location),len(company_name),len(experience))"
   ]
  },
  {
   "cell_type": "code",
   "execution_count": 71,
   "id": "96ff4ca9",
   "metadata": {},
   "outputs": [
    {
     "data": {
      "text/html": [
       "<div>\n",
       "<style scoped>\n",
       "    .dataframe tbody tr th:only-of-type {\n",
       "        vertical-align: middle;\n",
       "    }\n",
       "\n",
       "    .dataframe tbody tr th {\n",
       "        vertical-align: top;\n",
       "    }\n",
       "\n",
       "    .dataframe thead th {\n",
       "        text-align: right;\n",
       "    }\n",
       "</style>\n",
       "<table border=\"1\" class=\"dataframe\">\n",
       "  <thead>\n",
       "    <tr style=\"text-align: right;\">\n",
       "      <th></th>\n",
       "      <th>Job_Title</th>\n",
       "      <th>Job_Location</th>\n",
       "      <th>Company_Name</th>\n",
       "      <th>Experience</th>\n",
       "    </tr>\n",
       "  </thead>\n",
       "  <tbody>\n",
       "    <tr>\n",
       "      <th>0</th>\n",
       "      <td>Job Opening For Data Scientist @ GD-Hyd</td>\n",
       "      <td>Hybrid - Hyderabad/Secunderabad(Kondapur)</td>\n",
       "      <td>Globaldata</td>\n",
       "      <td>3-6 Yrs</td>\n",
       "    </tr>\n",
       "    <tr>\n",
       "      <th>1</th>\n",
       "      <td>Analytical Modeler</td>\n",
       "      <td>Hybrid - Chennai(Sholinganallur)</td>\n",
       "      <td>Allegis Group</td>\n",
       "      <td>4-8 Yrs</td>\n",
       "    </tr>\n",
       "    <tr>\n",
       "      <th>2</th>\n",
       "      <td>Data Scientist</td>\n",
       "      <td>Hybrid - Bangalore/Bengaluru</td>\n",
       "      <td>Gcc Services</td>\n",
       "      <td>3-8 Yrs</td>\n",
       "    </tr>\n",
       "    <tr>\n",
       "      <th>3</th>\n",
       "      <td>Urgent Hiring For Data Scientists</td>\n",
       "      <td>Hybrid - Pune</td>\n",
       "      <td>Peoplefy Infosolutions</td>\n",
       "      <td>2-6 Yrs</td>\n",
       "    </tr>\n",
       "    <tr>\n",
       "      <th>4</th>\n",
       "      <td>Data Scientist</td>\n",
       "      <td>Hybrid - Noida, New Delhi, Gurgaon/Gurugram, D...</td>\n",
       "      <td>Nits Solutions</td>\n",
       "      <td>3-7 Yrs</td>\n",
       "    </tr>\n",
       "    <tr>\n",
       "      <th>5</th>\n",
       "      <td>Urgent Hiring For Data Scientists</td>\n",
       "      <td>Hybrid - Pune</td>\n",
       "      <td>Peoplefy Infosolutions</td>\n",
       "      <td>2-6 Yrs</td>\n",
       "    </tr>\n",
       "    <tr>\n",
       "      <th>6</th>\n",
       "      <td>Data Scientist</td>\n",
       "      <td>Hybrid - Pune</td>\n",
       "      <td>Peoplefy Infosolutions</td>\n",
       "      <td>2-5 Yrs</td>\n",
       "    </tr>\n",
       "    <tr>\n",
       "      <th>7</th>\n",
       "      <td>Urgently Required AIML Engineer (Machine/Deep ...</td>\n",
       "      <td>Hybrid - Chennai</td>\n",
       "      <td>Aspire Systems</td>\n",
       "      <td>4-9 Yrs</td>\n",
       "    </tr>\n",
       "  </tbody>\n",
       "</table>\n",
       "</div>"
      ],
      "text/plain": [
       "                                           Job_Title  \\\n",
       "0            Job Opening For Data Scientist @ GD-Hyd   \n",
       "1                                 Analytical Modeler   \n",
       "2                                     Data Scientist   \n",
       "3                  Urgent Hiring For Data Scientists   \n",
       "4                                     Data Scientist   \n",
       "5                  Urgent Hiring For Data Scientists   \n",
       "6                                     Data Scientist   \n",
       "7  Urgently Required AIML Engineer (Machine/Deep ...   \n",
       "\n",
       "                                        Job_Location            Company_Name  \\\n",
       "0          Hybrid - Hyderabad/Secunderabad(Kondapur)              Globaldata   \n",
       "1                   Hybrid - Chennai(Sholinganallur)           Allegis Group   \n",
       "2                       Hybrid - Bangalore/Bengaluru            Gcc Services   \n",
       "3                                      Hybrid - Pune  Peoplefy Infosolutions   \n",
       "4  Hybrid - Noida, New Delhi, Gurgaon/Gurugram, D...          Nits Solutions   \n",
       "5                                      Hybrid - Pune  Peoplefy Infosolutions   \n",
       "6                                      Hybrid - Pune  Peoplefy Infosolutions   \n",
       "7                                   Hybrid - Chennai          Aspire Systems   \n",
       "\n",
       "  Experience  \n",
       "0    3-6 Yrs  \n",
       "1    4-8 Yrs  \n",
       "2    3-8 Yrs  \n",
       "3    2-6 Yrs  \n",
       "4    3-7 Yrs  \n",
       "5    2-6 Yrs  \n",
       "6    2-5 Yrs  \n",
       "7    4-9 Yrs  "
      ]
     },
     "execution_count": 71,
     "metadata": {},
     "output_type": "execute_result"
    }
   ],
   "source": [
    "df=pd.DataFrame({'Job_Title':job_title,'Job_Location':job_location,'Company_Name':company_name,'Experience':experience})\n",
    "df"
   ]
  },
  {
   "cell_type": "code",
   "execution_count": 72,
   "id": "545538ea",
   "metadata": {},
   "outputs": [],
   "source": [
    "#Assignment question 4"
   ]
  },
  {
   "cell_type": "code",
   "execution_count": 33,
   "id": "3f163084",
   "metadata": {},
   "outputs": [],
   "source": [
    "driver=webdriver.Chrome(r\"Chromedriver.exe\")\n",
    "                "
   ]
  },
  {
   "cell_type": "code",
   "execution_count": 34,
   "id": "6a1f802e",
   "metadata": {},
   "outputs": [],
   "source": [
    "driver.get(\"https://www.flipkart.com/\")"
   ]
  },
  {
   "cell_type": "code",
   "execution_count": 35,
   "id": "eaafe17f",
   "metadata": {},
   "outputs": [],
   "source": [
    "products=driver.find_element(By.XPATH,'/html/body/div[1]/div/div[1]/div[1]/div[2]/div[2]/form/div/div/input')\n",
    "products.send_keys(\"sunglasses\")"
   ]
  },
  {
   "cell_type": "code",
   "execution_count": 36,
   "id": "f228c947",
   "metadata": {},
   "outputs": [],
   "source": [
    "search=driver.find_element(By.XPATH,'/html/body/div[1]/div/div[1]/div[1]/div[2]/div[2]/form/div/button')\n",
    "search.click()"
   ]
  },
  {
   "cell_type": "code",
   "execution_count": 100,
   "id": "6865f3d3",
   "metadata": {},
   "outputs": [],
   "source": [
    "Brand=[]\n",
    "ProductDiscription=[]\n",
    "Price=[]"
   ]
  },
  {
   "cell_type": "code",
   "execution_count": 101,
   "id": "8cd1a33c",
   "metadata": {},
   "outputs": [
    {
     "name": "stdout",
     "output_type": "stream",
     "text": [
      "['Silver Kartz', 'AISLIN', 'SRPM', 'Fastrack', 'Elligator', 'PIRASO', 'Fastrack', 'Rich Club', 'Elligator', 'Elligator', 'Elligator', 'Sewell', 'PIRASO', 'Elligator', 'Fastrack', 'Silver Kartz', 'PIRASO', 'Elligator', 'PIRASO', 'Eyewearlabs', 'SRPM', 'Elligator', 'New Specs', 'ROYAL SON', 'NuVew', 'NuVew', 'SHAAH COLLECTIONS', 'ROZZETTA CRAFT', 'PIRASO', 'Anemone', 'Fastrack', 'ROYAL SON', 'PHENOMENAL', 'SUNBEE', 'Fastrack', 'Silver Kartz', 'Fastrack', 'Fastrack', 'kingsunglasses', 'ROZZETTA CRAFT']\n"
     ]
    },
    {
     "data": {
      "text/plain": [
       "40"
      ]
     },
     "execution_count": 101,
     "metadata": {},
     "output_type": "execute_result"
    }
   ],
   "source": [
    "brand_tags=driver.find_elements(By.XPATH,'//div[@ class=\"_2WkVRV\"]')\n",
    "for i in brand_tags[0:41]:\n",
    "    brand=i.text\n",
    "    Brand.append(brand.split(\"\\n\")[0])\n",
    "print(Brand)\n",
    "len(Brand)"
   ]
  },
  {
   "cell_type": "markdown",
   "id": "8aa01cb7",
   "metadata": {},
   "source": []
  },
  {
   "cell_type": "code",
   "execution_count": 102,
   "id": "3101b8c7",
   "metadata": {},
   "outputs": [],
   "source": [
    "product_discription=driver.find_elements(By.XPATH,'//a [ @class=\"IRpwTa\"]')\n",
    "for i in product_discription[0:41]:\n",
    "    ProductDiscription.append(i.text)"
   ]
  },
  {
   "cell_type": "code",
   "execution_count": 89,
   "id": "b1bf8e3c",
   "metadata": {},
   "outputs": [
    {
     "name": "stdout",
     "output_type": "stream",
     "text": [
      "['Toughened Glass Lens, UV Protection Aviator Sunglasses ...', 'UV Protection Wayfarer Sunglasses (50)', 'Gradient, UV Protection Wayfarer Sunglasses (Free Size)', 'UV Protection Cat-eye, Retro Square, Oval, Round Sungla...', 'UV Protection Aviator Sunglasses (58)', 'UV Protection Rectangular Sunglasses (Free Size)', 'UV Protection Retro Square Sunglasses (50)', 'UV Protection Round Sunglasses (53)', 'UV Protection Wayfarer Sunglasses (53)', 'UV Protection Aviator, Wayfarer Sunglasses (54)', 'Mirrored, Night Vision, UV Protection, Riding Glasses S...', 'UV Protection Aviator Sunglasses (Free Size)', 'UV Protection Round Sunglasses (54)', 'UV Protection Aviator Sunglasses (Free Size)', 'UV Protection Oval Sunglasses (56)', 'UV Protection Aviator Sunglasses (54)', 'UV Protection Round Sunglasses (53)', 'UV Protection Clubmaster Sunglasses (54)', 'Polarized, UV Protection Round Sunglasses (51)', 'Others Wayfarer, Retro Square Sunglasses (50)', 'UV Protection Cat-eye, Retro Square, Oval, Round Sungla...', 'UV Protection Rectangular Sunglasses (Free Size)', 'Polarized Aviator Sunglasses (55)', 'UV Protection Wayfarer Sunglasses (57)', 'UV Protection Sports Sunglasses (65)', 'UV Protection, Polarized, Mirrored Rectangular Sunglass...', 'Polarized, UV Protection Aviator Sunglasses (55)', 'UV Protection Rectangular Sunglasses (52)', 'UV Protection, Gradient Rectangular, Spectacle Sunglas...', 'UV Protection Wayfarer Sunglasses (Free Size)', 'Polarized Aviator Sunglasses (56)', 'UV Protection Retro Square Sunglasses (53)', 'UV Protection Rectangular Sunglasses (Free Size)', 'Gradient, UV Protection Wayfarer Sunglasses (Free Size)', 'UV Protection Oval Sunglasses (56)', 'UV Protection Wayfarer Sunglasses (Free Size)', 'UV Protection Wrap-around Sunglasses (Free Size)', 'UV Protection Retro Square Sunglasses (Free Size)', 'Polarized, UV Protection Rectangular Sunglasses (Free S...']\n"
     ]
    }
   ],
   "source": [
    "len(ProductDiscription)\n",
    "print(ProductDiscription)"
   ]
  },
  {
   "cell_type": "code",
   "execution_count": 103,
   "id": "29d9be51",
   "metadata": {},
   "outputs": [],
   "source": [
    "price_tags=driver.find_elements(By.XPATH,'//div [@class=\"_30jeq3\"]')\n",
    "for i in price_tags[0:41]:\n",
    "    price=i.text\n",
    "    Price.append(price)"
   ]
  },
  {
   "cell_type": "code",
   "execution_count": null,
   "id": "5825f116",
   "metadata": {},
   "outputs": [],
   "source": []
  },
  {
   "cell_type": "code",
   "execution_count": 105,
   "id": "fc23d45d",
   "metadata": {},
   "outputs": [
    {
     "name": "stdout",
     "output_type": "stream",
     "text": [
      "40 40 40\n"
     ]
    }
   ],
   "source": [
    "print(len(Brand),len(ProductDiscription),len(Price))"
   ]
  },
  {
   "cell_type": "code",
   "execution_count": 106,
   "id": "f51267c2",
   "metadata": {},
   "outputs": [
    {
     "data": {
      "text/html": [
       "<div>\n",
       "<style scoped>\n",
       "    .dataframe tbody tr th:only-of-type {\n",
       "        vertical-align: middle;\n",
       "    }\n",
       "\n",
       "    .dataframe tbody tr th {\n",
       "        vertical-align: top;\n",
       "    }\n",
       "\n",
       "    .dataframe thead th {\n",
       "        text-align: right;\n",
       "    }\n",
       "</style>\n",
       "<table border=\"1\" class=\"dataframe\">\n",
       "  <thead>\n",
       "    <tr style=\"text-align: right;\">\n",
       "      <th></th>\n",
       "      <th>Brand</th>\n",
       "      <th>ProductDiscription</th>\n",
       "      <th>Price</th>\n",
       "    </tr>\n",
       "  </thead>\n",
       "  <tbody>\n",
       "    <tr>\n",
       "      <th>0</th>\n",
       "      <td>Silver Kartz</td>\n",
       "      <td>UV Protection Wayfarer, Aviator Sunglasses (88)</td>\n",
       "      <td>₹284</td>\n",
       "    </tr>\n",
       "    <tr>\n",
       "      <th>1</th>\n",
       "      <td>AISLIN</td>\n",
       "      <td>Toughened Glass Lens, UV Protection Aviator Su...</td>\n",
       "      <td>₹845</td>\n",
       "    </tr>\n",
       "    <tr>\n",
       "      <th>2</th>\n",
       "      <td>SRPM</td>\n",
       "      <td>UV Protection Wayfarer Sunglasses (50)</td>\n",
       "      <td>₹149</td>\n",
       "    </tr>\n",
       "    <tr>\n",
       "      <th>3</th>\n",
       "      <td>Fastrack</td>\n",
       "      <td>Gradient, UV Protection Wayfarer Sunglasses (F...</td>\n",
       "      <td>₹629</td>\n",
       "    </tr>\n",
       "    <tr>\n",
       "      <th>4</th>\n",
       "      <td>Elligator</td>\n",
       "      <td>UV Protection Cat-eye, Retro Square, Oval, Rou...</td>\n",
       "      <td>₹149</td>\n",
       "    </tr>\n",
       "    <tr>\n",
       "      <th>5</th>\n",
       "      <td>PIRASO</td>\n",
       "      <td>UV Protection Aviator Sunglasses (58)</td>\n",
       "      <td>₹274</td>\n",
       "    </tr>\n",
       "    <tr>\n",
       "      <th>6</th>\n",
       "      <td>Fastrack</td>\n",
       "      <td>UV Protection Rectangular Sunglasses (Free Size)</td>\n",
       "      <td>₹559</td>\n",
       "    </tr>\n",
       "    <tr>\n",
       "      <th>7</th>\n",
       "      <td>Rich Club</td>\n",
       "      <td>UV Protection Retro Square Sunglasses (50)</td>\n",
       "      <td>₹599</td>\n",
       "    </tr>\n",
       "    <tr>\n",
       "      <th>8</th>\n",
       "      <td>Elligator</td>\n",
       "      <td>UV Protection Round Sunglasses (53)</td>\n",
       "      <td>₹149</td>\n",
       "    </tr>\n",
       "    <tr>\n",
       "      <th>9</th>\n",
       "      <td>Elligator</td>\n",
       "      <td>UV Protection Wayfarer Sunglasses (53)</td>\n",
       "      <td>₹149</td>\n",
       "    </tr>\n",
       "    <tr>\n",
       "      <th>10</th>\n",
       "      <td>Elligator</td>\n",
       "      <td>UV Protection Aviator, Wayfarer Sunglasses (54)</td>\n",
       "      <td>₹149</td>\n",
       "    </tr>\n",
       "    <tr>\n",
       "      <th>11</th>\n",
       "      <td>Sewell</td>\n",
       "      <td>Mirrored, Night Vision, UV Protection, Riding ...</td>\n",
       "      <td>₹281</td>\n",
       "    </tr>\n",
       "    <tr>\n",
       "      <th>12</th>\n",
       "      <td>PIRASO</td>\n",
       "      <td>UV Protection Aviator Sunglasses (Free Size)</td>\n",
       "      <td>₹268</td>\n",
       "    </tr>\n",
       "    <tr>\n",
       "      <th>13</th>\n",
       "      <td>Elligator</td>\n",
       "      <td>UV Protection Round Sunglasses (54)</td>\n",
       "      <td>₹293</td>\n",
       "    </tr>\n",
       "    <tr>\n",
       "      <th>14</th>\n",
       "      <td>Fastrack</td>\n",
       "      <td>UV Protection Aviator Sunglasses (Free Size)</td>\n",
       "      <td>₹629</td>\n",
       "    </tr>\n",
       "    <tr>\n",
       "      <th>15</th>\n",
       "      <td>Silver Kartz</td>\n",
       "      <td>UV Protection Oval Sunglasses (56)</td>\n",
       "      <td>₹299</td>\n",
       "    </tr>\n",
       "    <tr>\n",
       "      <th>16</th>\n",
       "      <td>PIRASO</td>\n",
       "      <td>UV Protection Aviator Sunglasses (54)</td>\n",
       "      <td>₹208</td>\n",
       "    </tr>\n",
       "    <tr>\n",
       "      <th>17</th>\n",
       "      <td>Elligator</td>\n",
       "      <td>UV Protection Round Sunglasses (53)</td>\n",
       "      <td>₹149</td>\n",
       "    </tr>\n",
       "    <tr>\n",
       "      <th>18</th>\n",
       "      <td>PIRASO</td>\n",
       "      <td>UV Protection Clubmaster Sunglasses (54)</td>\n",
       "      <td>₹224</td>\n",
       "    </tr>\n",
       "    <tr>\n",
       "      <th>19</th>\n",
       "      <td>Eyewearlabs</td>\n",
       "      <td>Polarized, UV Protection Round Sunglasses (51)</td>\n",
       "      <td>₹1,614</td>\n",
       "    </tr>\n",
       "    <tr>\n",
       "      <th>20</th>\n",
       "      <td>SRPM</td>\n",
       "      <td>Others Wayfarer, Retro Square Sunglasses (50)</td>\n",
       "      <td>₹218</td>\n",
       "    </tr>\n",
       "    <tr>\n",
       "      <th>21</th>\n",
       "      <td>Elligator</td>\n",
       "      <td>UV Protection Cat-eye, Retro Square, Oval, Rou...</td>\n",
       "      <td>₹216</td>\n",
       "    </tr>\n",
       "    <tr>\n",
       "      <th>22</th>\n",
       "      <td>New Specs</td>\n",
       "      <td>UV Protection Rectangular Sunglasses (Free Size)</td>\n",
       "      <td>₹259</td>\n",
       "    </tr>\n",
       "    <tr>\n",
       "      <th>23</th>\n",
       "      <td>ROYAL SON</td>\n",
       "      <td>Polarized Aviator Sunglasses (55)</td>\n",
       "      <td>₹899</td>\n",
       "    </tr>\n",
       "    <tr>\n",
       "      <th>24</th>\n",
       "      <td>NuVew</td>\n",
       "      <td>UV Protection Wayfarer Sunglasses (57)</td>\n",
       "      <td>₹99</td>\n",
       "    </tr>\n",
       "    <tr>\n",
       "      <th>25</th>\n",
       "      <td>NuVew</td>\n",
       "      <td>UV Protection Sports Sunglasses (65)</td>\n",
       "      <td>₹129</td>\n",
       "    </tr>\n",
       "    <tr>\n",
       "      <th>26</th>\n",
       "      <td>SHAAH COLLECTIONS</td>\n",
       "      <td>UV Protection, Polarized, Mirrored Rectangular...</td>\n",
       "      <td>₹185</td>\n",
       "    </tr>\n",
       "    <tr>\n",
       "      <th>27</th>\n",
       "      <td>ROZZETTA CRAFT</td>\n",
       "      <td>Polarized, UV Protection Aviator Sunglasses (55)</td>\n",
       "      <td>₹499</td>\n",
       "    </tr>\n",
       "    <tr>\n",
       "      <th>28</th>\n",
       "      <td>PIRASO</td>\n",
       "      <td>UV Protection Rectangular Sunglasses (52)</td>\n",
       "      <td>₹182</td>\n",
       "    </tr>\n",
       "    <tr>\n",
       "      <th>29</th>\n",
       "      <td>Anemone</td>\n",
       "      <td>UV Protection, Gradient Rectangular, Spectacle...</td>\n",
       "      <td>₹356</td>\n",
       "    </tr>\n",
       "    <tr>\n",
       "      <th>30</th>\n",
       "      <td>Fastrack</td>\n",
       "      <td>UV Protection Wayfarer Sunglasses (Free Size)</td>\n",
       "      <td>₹699</td>\n",
       "    </tr>\n",
       "    <tr>\n",
       "      <th>31</th>\n",
       "      <td>ROYAL SON</td>\n",
       "      <td>Polarized Aviator Sunglasses (56)</td>\n",
       "      <td>₹899</td>\n",
       "    </tr>\n",
       "    <tr>\n",
       "      <th>32</th>\n",
       "      <td>PHENOMENAL</td>\n",
       "      <td>UV Protection Retro Square Sunglasses (53)</td>\n",
       "      <td>₹179</td>\n",
       "    </tr>\n",
       "    <tr>\n",
       "      <th>33</th>\n",
       "      <td>SUNBEE</td>\n",
       "      <td>UV Protection Rectangular Sunglasses (Free Size)</td>\n",
       "      <td>₹185</td>\n",
       "    </tr>\n",
       "    <tr>\n",
       "      <th>34</th>\n",
       "      <td>Fastrack</td>\n",
       "      <td>Gradient, UV Protection Wayfarer Sunglasses (F...</td>\n",
       "      <td>₹559</td>\n",
       "    </tr>\n",
       "    <tr>\n",
       "      <th>35</th>\n",
       "      <td>Silver Kartz</td>\n",
       "      <td>UV Protection Oval Sunglasses (56)</td>\n",
       "      <td>₹299</td>\n",
       "    </tr>\n",
       "    <tr>\n",
       "      <th>36</th>\n",
       "      <td>Fastrack</td>\n",
       "      <td>UV Protection Wayfarer Sunglasses (Free Size)</td>\n",
       "      <td>₹599</td>\n",
       "    </tr>\n",
       "    <tr>\n",
       "      <th>37</th>\n",
       "      <td>Fastrack</td>\n",
       "      <td>UV Protection Wrap-around Sunglasses (Free Size)</td>\n",
       "      <td>₹629</td>\n",
       "    </tr>\n",
       "    <tr>\n",
       "      <th>38</th>\n",
       "      <td>kingsunglasses</td>\n",
       "      <td>UV Protection Retro Square Sunglasses (Free Size)</td>\n",
       "      <td>₹269</td>\n",
       "    </tr>\n",
       "    <tr>\n",
       "      <th>39</th>\n",
       "      <td>ROZZETTA CRAFT</td>\n",
       "      <td>Polarized, UV Protection Rectangular Sunglasse...</td>\n",
       "      <td>₹699</td>\n",
       "    </tr>\n",
       "  </tbody>\n",
       "</table>\n",
       "</div>"
      ],
      "text/plain": [
       "                Brand                                 ProductDiscription  \\\n",
       "0        Silver Kartz    UV Protection Wayfarer, Aviator Sunglasses (88)   \n",
       "1              AISLIN  Toughened Glass Lens, UV Protection Aviator Su...   \n",
       "2                SRPM             UV Protection Wayfarer Sunglasses (50)   \n",
       "3            Fastrack  Gradient, UV Protection Wayfarer Sunglasses (F...   \n",
       "4           Elligator  UV Protection Cat-eye, Retro Square, Oval, Rou...   \n",
       "5              PIRASO              UV Protection Aviator Sunglasses (58)   \n",
       "6            Fastrack   UV Protection Rectangular Sunglasses (Free Size)   \n",
       "7           Rich Club         UV Protection Retro Square Sunglasses (50)   \n",
       "8           Elligator                UV Protection Round Sunglasses (53)   \n",
       "9           Elligator             UV Protection Wayfarer Sunglasses (53)   \n",
       "10          Elligator    UV Protection Aviator, Wayfarer Sunglasses (54)   \n",
       "11             Sewell  Mirrored, Night Vision, UV Protection, Riding ...   \n",
       "12             PIRASO       UV Protection Aviator Sunglasses (Free Size)   \n",
       "13          Elligator                UV Protection Round Sunglasses (54)   \n",
       "14           Fastrack       UV Protection Aviator Sunglasses (Free Size)   \n",
       "15       Silver Kartz                 UV Protection Oval Sunglasses (56)   \n",
       "16             PIRASO              UV Protection Aviator Sunglasses (54)   \n",
       "17          Elligator                UV Protection Round Sunglasses (53)   \n",
       "18             PIRASO           UV Protection Clubmaster Sunglasses (54)   \n",
       "19        Eyewearlabs     Polarized, UV Protection Round Sunglasses (51)   \n",
       "20               SRPM      Others Wayfarer, Retro Square Sunglasses (50)   \n",
       "21          Elligator  UV Protection Cat-eye, Retro Square, Oval, Rou...   \n",
       "22          New Specs   UV Protection Rectangular Sunglasses (Free Size)   \n",
       "23          ROYAL SON                  Polarized Aviator Sunglasses (55)   \n",
       "24              NuVew             UV Protection Wayfarer Sunglasses (57)   \n",
       "25              NuVew               UV Protection Sports Sunglasses (65)   \n",
       "26  SHAAH COLLECTIONS  UV Protection, Polarized, Mirrored Rectangular...   \n",
       "27     ROZZETTA CRAFT   Polarized, UV Protection Aviator Sunglasses (55)   \n",
       "28             PIRASO          UV Protection Rectangular Sunglasses (52)   \n",
       "29            Anemone  UV Protection, Gradient Rectangular, Spectacle...   \n",
       "30           Fastrack      UV Protection Wayfarer Sunglasses (Free Size)   \n",
       "31          ROYAL SON                  Polarized Aviator Sunglasses (56)   \n",
       "32         PHENOMENAL         UV Protection Retro Square Sunglasses (53)   \n",
       "33             SUNBEE   UV Protection Rectangular Sunglasses (Free Size)   \n",
       "34           Fastrack  Gradient, UV Protection Wayfarer Sunglasses (F...   \n",
       "35       Silver Kartz                 UV Protection Oval Sunglasses (56)   \n",
       "36           Fastrack      UV Protection Wayfarer Sunglasses (Free Size)   \n",
       "37           Fastrack   UV Protection Wrap-around Sunglasses (Free Size)   \n",
       "38     kingsunglasses  UV Protection Retro Square Sunglasses (Free Size)   \n",
       "39     ROZZETTA CRAFT  Polarized, UV Protection Rectangular Sunglasse...   \n",
       "\n",
       "     Price  \n",
       "0     ₹284  \n",
       "1     ₹845  \n",
       "2     ₹149  \n",
       "3     ₹629  \n",
       "4     ₹149  \n",
       "5     ₹274  \n",
       "6     ₹559  \n",
       "7     ₹599  \n",
       "8     ₹149  \n",
       "9     ₹149  \n",
       "10    ₹149  \n",
       "11    ₹281  \n",
       "12    ₹268  \n",
       "13    ₹293  \n",
       "14    ₹629  \n",
       "15    ₹299  \n",
       "16    ₹208  \n",
       "17    ₹149  \n",
       "18    ₹224  \n",
       "19  ₹1,614  \n",
       "20    ₹218  \n",
       "21    ₹216  \n",
       "22    ₹259  \n",
       "23    ₹899  \n",
       "24     ₹99  \n",
       "25    ₹129  \n",
       "26    ₹185  \n",
       "27    ₹499  \n",
       "28    ₹182  \n",
       "29    ₹356  \n",
       "30    ₹699  \n",
       "31    ₹899  \n",
       "32    ₹179  \n",
       "33    ₹185  \n",
       "34    ₹559  \n",
       "35    ₹299  \n",
       "36    ₹599  \n",
       "37    ₹629  \n",
       "38    ₹269  \n",
       "39    ₹699  "
      ]
     },
     "execution_count": 106,
     "metadata": {},
     "output_type": "execute_result"
    }
   ],
   "source": [
    "df=pd.DataFrame({'Brand':Brand,'ProductDiscription':ProductDiscription,'Price':Price})\n",
    "df"
   ]
  },
  {
   "cell_type": "code",
   "execution_count": 52,
   "id": "172eef8e",
   "metadata": {},
   "outputs": [],
   "source": [
    "#driver=webdriver.Chrome(r\"Chromedriver\")"
   ]
  },
  {
   "cell_type": "code",
   "execution_count": 53,
   "id": "953747d5",
   "metadata": {},
   "outputs": [],
   "source": [
    "#driver.get(\"https://www.flipkart.com/search?q=sunglasses&otracker=search&otracker1=search&marketplace=FLIPKART&as-show=on&as=off&page=2\")"
   ]
  },
  {
   "cell_type": "code",
   "execution_count": 63,
   "id": "942a9cee",
   "metadata": {},
   "outputs": [
    {
     "data": {
      "text/plain": [
       "40"
      ]
     },
     "execution_count": 63,
     "metadata": {},
     "output_type": "execute_result"
    }
   ],
   "source": [
    "brand_tags=driver.find_elements(By.XPATH,'//div [@class=\"_2WkVRV\"]')\n",
    "for i in brand_tags[41:81]:\n",
    "    brand=i.text\n",
    "    Brand.append(brand)\n",
    "len(Brand)"
   ]
  },
  {
   "cell_type": "code",
   "execution_count": 64,
   "id": "8c1e1a47",
   "metadata": {},
   "outputs": [
    {
     "data": {
      "text/plain": [
       "39"
      ]
     },
     "execution_count": 64,
     "metadata": {},
     "output_type": "execute_result"
    }
   ],
   "source": [
    "Product_Discription=driver.find_elements(By.XPATH,'//a [@class=\"IRpwTa\"]')\n",
    "for i in Product_Discription[41:81]:\n",
    "    productdetail=i.text\n",
    "    ProductDiscription.append(productdetail)\n",
    "len(ProductDiscription)"
   ]
  },
  {
   "cell_type": "code",
   "execution_count": 65,
   "id": "1c8da639",
   "metadata": {},
   "outputs": [
    {
     "data": {
      "text/plain": [
       "40"
      ]
     },
     "execution_count": 65,
     "metadata": {},
     "output_type": "execute_result"
    }
   ],
   "source": [
    "price_tags=driver.find_elements(By.XPATH,'//div [@class=\"_30jeq3\"]')\n",
    "for i in price_tags[41:81]:\n",
    "    price=i.text\n",
    "    Price.append(price)\n",
    "len(Price)"
   ]
  },
  {
   "cell_type": "code",
   "execution_count": null,
   "id": "b1754766",
   "metadata": {},
   "outputs": [],
   "source": [
    "#driver=webdriver.Chrome(r\"Chromedriver\")"
   ]
  },
  {
   "cell_type": "code",
   "execution_count": 57,
   "id": "11eb3e78",
   "metadata": {},
   "outputs": [],
   "source": [
    "#driver.get(\"https://www.flipkart.com/search?q=sunglasses&otracker=search&otracker1=search&marketplace=FLIPKART&as-show=on&as=off&page=3\")"
   ]
  },
  {
   "cell_type": "code",
   "execution_count": 68,
   "id": "8917402f",
   "metadata": {},
   "outputs": [],
   "source": [
    "brand_tags=driver.find_elements(By.XPATH,'//div [@class=\"_2WkVRV\"]')\n",
    "for i in brand_tags[81:101]:\n",
    "    brand=i.text\n",
    "    Brand.append(brand)"
   ]
  },
  {
   "cell_type": "code",
   "execution_count": 70,
   "id": "28e1dfa5",
   "metadata": {},
   "outputs": [
    {
     "data": {
      "text/plain": [
       "39"
      ]
     },
     "execution_count": 70,
     "metadata": {},
     "output_type": "execute_result"
    }
   ],
   "source": [
    "Product_Discription=driver.find_elements(By.XPATH,'//a [@class=\"IRpwTa\"]')\n",
    "for i in Product_Discription[81:101]:\n",
    "    productdetail=i.text\n",
    "    ProductDiscription.append(productdetail)\n",
    "len(ProductDiscription)"
   ]
  },
  {
   "cell_type": "code",
   "execution_count": 73,
   "id": "fd217ad6",
   "metadata": {},
   "outputs": [
    {
     "data": {
      "text/plain": [
       "40"
      ]
     },
     "execution_count": 73,
     "metadata": {},
     "output_type": "execute_result"
    }
   ],
   "source": [
    "price_tags=driver.find_elements(By.XPATH,'//div [@class=\"_30jeq3\"]')\n",
    "for i in price_tags[81:101]:\n",
    "    price=i.text\n",
    "    Price.append(price)\n",
    "len(Price)"
   ]
  },
  {
   "cell_type": "code",
   "execution_count": 74,
   "id": "9515c8b9",
   "metadata": {},
   "outputs": [
    {
     "name": "stdout",
     "output_type": "stream",
     "text": [
      "40 39 40\n"
     ]
    }
   ],
   "source": [
    "print(len(Brand),len(ProductDiscription),len(Price))"
   ]
  },
  {
   "cell_type": "code",
   "execution_count": null,
   "id": "187660d5",
   "metadata": {},
   "outputs": [],
   "source": [
    "df=pd.DataFrame({\"Brand\":Brand,\"Production_Discription\":ProductionDiscription,\"Price\":Price})\n",
    "df"
   ]
  },
  {
   "cell_type": "code",
   "execution_count": 70,
   "id": "b20b783d",
   "metadata": {},
   "outputs": [],
   "source": [
    "#assignment question 5"
   ]
  },
  {
   "cell_type": "code",
   "execution_count": 110,
   "id": "21ffe16d",
   "metadata": {},
   "outputs": [],
   "source": [
    "driver=webdriver.Chrome(r\"Chromedriver.exe\")\n"
   ]
  },
  {
   "cell_type": "code",
   "execution_count": 111,
   "id": "a574df5f",
   "metadata": {},
   "outputs": [],
   "source": [
    "driver.get(\"https://flipkart.com\")"
   ]
  },
  {
   "cell_type": "code",
   "execution_count": 115,
   "id": "f402d56f",
   "metadata": {},
   "outputs": [],
   "source": [
    "product=driver.find_element(By.XPATH,'/html/body/div[1]/div/div[1]/div[1]/div[2]/div[2]/form/div/div/input')\n",
    "product.send_keys(\"Sneakers\")"
   ]
  },
  {
   "cell_type": "code",
   "execution_count": null,
   "id": "b4c39af2",
   "metadata": {},
   "outputs": [],
   "source": []
  },
  {
   "cell_type": "code",
   "execution_count": 116,
   "id": "bdd403f4",
   "metadata": {},
   "outputs": [],
   "source": [
    "search=driver.find_element(By.XPATH,'/html/body/div[1]/div/div[1]/div[1]/div[2]/div[2]/form/div/button')\n",
    "search.click()"
   ]
  },
  {
   "cell_type": "code",
   "execution_count": 117,
   "id": "79f56a0a",
   "metadata": {},
   "outputs": [],
   "source": [
    "Brand=[]\n",
    "ProductDiscription=[]\n",
    "Price=[]"
   ]
  },
  {
   "cell_type": "code",
   "execution_count": null,
   "id": "6780f450",
   "metadata": {},
   "outputs": [],
   "source": []
  },
  {
   "cell_type": "code",
   "execution_count": 118,
   "id": "e91eb7b2",
   "metadata": {},
   "outputs": [],
   "source": [
    "start=0\n",
    "end=3\n",
    "for page in range(start,end):\n",
    "    brand_tags=driver.find_elements(By.XPATH,'//div[@ class=\"_2WkVRV\"]')\n",
    "    for i in brand_tags[1:41]:\n",
    "        brand=i.text\n",
    "        Brand.append(brand)\n",
    "next_button=driver.find_element(By.XPATH,'/html/body/div[1]/div/div[3]/div[1]/div[2]/div[12]/div/div/nav/a[11]')\n",
    "next_button.click()\n",
    "time.sleep(3)\n"
   ]
  },
  {
   "cell_type": "code",
   "execution_count": 119,
   "id": "b9bce26e",
   "metadata": {},
   "outputs": [],
   "source": [
    "start=0\n",
    "end=3\n",
    "for page in range(start,end):    \n",
    "    productdetail=driver.find_elements(By.XPATH,'//a [@class=\"IRpwTa\"]')\n",
    "    for i in productdetail[1:41]:\n",
    "        product=i.text\n",
    "        ProductDiscription.append(product)\n",
    "next_button=driver.find_element(By.XPATH,'/html/body/div[1]/div/div[3]/div[1]/div[2]/div[12]/div/div/nav/a[11]')\n",
    "next_button.click()\n",
    "time.sleep(3)"
   ]
  },
  {
   "cell_type": "code",
   "execution_count": 120,
   "id": "e6d7a6b9",
   "metadata": {},
   "outputs": [],
   "source": [
    "start=0\n",
    "end=3\n",
    "for page in range(start,end):\n",
    "    price_tags=driver.find_elements(By.XPATH,'//div [@class=\"_30jeq3\"]')\n",
    "    for i in price_tags[1:41]:\n",
    "        price=i.text\n",
    "        Price.append(price)\n",
    "next_button=driver.find_element(By.XPATH,'/html/body/div[1]/div/div[3]/div[1]/div[2]/div[12]/div/div/nav/a[11]')\n",
    "next_button.click()\n",
    "time.sleep(3)"
   ]
  },
  {
   "cell_type": "code",
   "execution_count": 121,
   "id": "07e71e86",
   "metadata": {},
   "outputs": [
    {
     "name": "stdout",
     "output_type": "stream",
     "text": [
      "[\"BALANCER Men's Fashion Sneakers Lace-Up Trainers Basket...\", 'Future-04 casual shoes for men | Latest Stylish Casual ...', 'Throb Sneakers For Men', 'Sneakers For Women', 'Women Casual Shoes Sneakers For Women', 'Men SM-406 Black Sneakers For Men', 'Stylish & Trendy Sneakers For Men', 'Combo Pack of 2 Casual Shoe Sneakers For Men', 'WATERPROOF-05cFULLWHITE Sneakers For Men', 'Trendy And Stylish New Design Casual Shoe For Men Pack ...', 'Sneakers For Men', 'Men Urban Street Athleisure Shoe Sneakers For Men', 'Mesh |Lightweight|Comfort|Summer|Trendy|Walking|Outdoor...', 'Sneakers For Women', 'R78 SL Sneakers For Women', 'Stylish Casual Sports Shoe Sneakers For Women', 'ADVANTAGE BASE Sneakers For Men', 'Stylish Casual Sports Shoe Sneakers For Women', 'Puma x 1DER Jack V3 Sneakers For Men', 'Mesh |Lightweight|Comfort|Summer|Trendy|Walking|Outdoor...', 'Combo Pack of 2 Casual Shoes Sneakers For Men', 'MAPF1 X-Ray Speed Sneakers For Men', 'SM-732 Sneakers For Men', 'SM-671 Sneakers For Men', 'Sneakers For Women', 'C-Skate Vulc Sneakers For Men', 'Mesh| Lightweight| Premiun| Comfort| Summer Tendy| Outd...', 'WATERPROOF-05cFULLBLACK Sneakers For Men', 'Combo Pack of 2 Casual Shoe Sneakers For Men', 'OLIVE CASUAL SNEAKER Sneakers For Men', 'Sneakers For Men', 'Mesh |Lightweight|Comfort|Summer|Trendy|Walking|Outdoor...', 'Premium White Casual Shoes Sneakers For Men Sneakers Fo...', 'RS-X RENDER Sneakers For Men', 'STREET ICON M Sneakers For Men', 'Sneakers For Men', 'Sneakers For Women', 'Basket Classic XXI Sneakers For Men', \"BALANCER Men's Fashion Sneakers Lace-Up Trainers Basket...\", 'Future-04 casual shoes for men | Latest Stylish Casual ...', 'Throb Sneakers For Men', 'Sneakers For Women', 'Women Casual Shoes Sneakers For Women', 'Men SM-406 Black Sneakers For Men', 'Stylish & Trendy Sneakers For Men', 'Combo Pack of 2 Casual Shoe Sneakers For Men', 'WATERPROOF-05cFULLWHITE Sneakers For Men', 'Trendy And Stylish New Design Casual Shoe For Men Pack ...', 'Sneakers For Men', 'Men Urban Street Athleisure Shoe Sneakers For Men', 'Mesh |Lightweight|Comfort|Summer|Trendy|Walking|Outdoor...', 'Sneakers For Women', 'R78 SL Sneakers For Women', 'Stylish Casual Sports Shoe Sneakers For Women', 'ADVANTAGE BASE Sneakers For Men', 'Stylish Casual Sports Shoe Sneakers For Women', 'Puma x 1DER Jack V3 Sneakers For Men', 'Mesh |Lightweight|Comfort|Summer|Trendy|Walking|Outdoor...', 'Combo Pack of 2 Casual Shoes Sneakers For Men', 'MAPF1 X-Ray Speed Sneakers For Men', 'SM-732 Sneakers For Men', 'SM-671 Sneakers For Men', 'Sneakers For Women', 'C-Skate Vulc Sneakers For Men', 'Mesh| Lightweight| Premiun| Comfort| Summer Tendy| Outd...', 'WATERPROOF-05cFULLBLACK Sneakers For Men', 'Combo Pack of 2 Casual Shoe Sneakers For Men', 'OLIVE CASUAL SNEAKER Sneakers For Men', 'Sneakers For Men', 'Mesh |Lightweight|Comfort|Summer|Trendy|Walking|Outdoor...', 'Premium White Casual Shoes Sneakers For Men Sneakers Fo...', 'RS-X RENDER Sneakers For Men', 'STREET ICON M Sneakers For Men', 'Sneakers For Men', 'Sneakers For Women', 'Basket Classic XXI Sneakers For Men', \"BALANCER Men's Fashion Sneakers Lace-Up Trainers Basket...\", 'Future-04 casual shoes for men | Latest Stylish Casual ...', 'Throb Sneakers For Men', 'Sneakers For Women', 'Women Casual Shoes Sneakers For Women', 'Men SM-406 Black Sneakers For Men', 'Stylish & Trendy Sneakers For Men', 'Combo Pack of 2 Casual Shoe Sneakers For Men', 'WATERPROOF-05cFULLWHITE Sneakers For Men', 'Trendy And Stylish New Design Casual Shoe For Men Pack ...', 'Sneakers For Men', 'Men Urban Street Athleisure Shoe Sneakers For Men', 'Mesh |Lightweight|Comfort|Summer|Trendy|Walking|Outdoor...', 'Sneakers For Women', 'R78 SL Sneakers For Women', 'Stylish Casual Sports Shoe Sneakers For Women', 'ADVANTAGE BASE Sneakers For Men', 'Stylish Casual Sports Shoe Sneakers For Women', 'Puma x 1DER Jack V3 Sneakers For Men', 'Mesh |Lightweight|Comfort|Summer|Trendy|Walking|Outdoor...', 'Combo Pack of 2 Casual Shoes Sneakers For Men', 'MAPF1 X-Ray Speed Sneakers For Men', 'SM-732 Sneakers For Men', 'SM-671 Sneakers For Men', 'Sneakers For Women', 'C-Skate Vulc Sneakers For Men', 'Mesh| Lightweight| Premiun| Comfort| Summer Tendy| Outd...', 'WATERPROOF-05cFULLBLACK Sneakers For Men', 'Combo Pack of 2 Casual Shoe Sneakers For Men', 'OLIVE CASUAL SNEAKER Sneakers For Men', 'Sneakers For Men', 'Mesh |Lightweight|Comfort|Summer|Trendy|Walking|Outdoor...', 'Premium White Casual Shoes Sneakers For Men Sneakers Fo...', 'RS-X RENDER Sneakers For Men', 'STREET ICON M Sneakers For Men', 'Sneakers For Men', 'Sneakers For Women', 'Basket Classic XXI Sneakers For Men']\n"
     ]
    }
   ],
   "source": [
    "print(ProductDiscription)"
   ]
  },
  {
   "cell_type": "code",
   "execution_count": 97,
   "id": "b3940c4d",
   "metadata": {},
   "outputs": [
    {
     "name": "stdout",
     "output_type": "stream",
     "text": [
      "117 108 117\n"
     ]
    }
   ],
   "source": [
    "print(len(Brand),len(ProductDiscription),len(Price))"
   ]
  },
  {
   "cell_type": "code",
   "execution_count": 107,
   "id": "1b37f400",
   "metadata": {},
   "outputs": [
    {
     "name": "stdout",
     "output_type": "stream",
     "text": [
      "[\"BALANCER Men's Fashion Sneakers Lace-Up Trainers Basket...\", 'Stylish & Trendy Sneakers For Men', 'Women Casual Shoes Sneakers For Women', 'Men SM-406 Black Sneakers For Men', 'Combo Pack of 2 Casual Shoe Sneakers For Men', 'R78 SL Sneakers For Women', 'WATERPROOF-05cFULLWHITE Sneakers For Men', 'Trendy And Stylish New Design Casual Shoe For Men Pack ...', 'Trendy Casual Shoe For Men Pack Of 2 Sneakers For Men', 'Black sneaker Sneakers For Men', 'Men Urban Street Athleisure Shoe Sneakers For Men', 'Mesh |Lightweight|Comfort|Summer|Trendy|Walking|Outdoor...', 'C-Skate Vulc Sneakers For Men', 'Sneakers For Women', 'Mesh |Lightweight|Comfort|Summer|Trendy|Walking|Outdoor...', 'SM-732 Sneakers For Men', 'Puma x 1DER Jack V3 Sneakers For Men', 'Stylish Casual Sports Shoe Sneakers For Women', 'ADVANTAGE BASE Sneakers For Men', 'OLIVE CASUAL SNEAKER Sneakers For Men', 'Combo Pack of 2 Casual Shoes Sneakers For Men', 'SM-671 Sneakers For Men', 'Mesh| Lightweight| Premiun| Comfort| Summer Tendy| Outd...', 'RS-X RENDER Sneakers For Men', 'Sneakers For Women', 'WATERPROOF-05cFULLBLACK Sneakers For Men', 'Combo Pack of 2 Casual Shoe Sneakers For Men', 'Modern Trendy Sneakers boot Sneakers For Men', 'Sneakers For Men', 'Premium Casual Shoes for Women Sneakers For Women', 'STREET ICON M Sneakers For Men', 'Mesh| Ultralightweight| Premiun| Comfort| Summer Tendy|...', 'Premium White Casual Shoes Sneakers For Men Sneakers Fo...', 'Mesh |Lightweight|Comfort|Summer|Trendy|Walking|Outdoor...', 'Sneakers For Men', 'Sneakers For Women', \"BALANCER Men's Fashion Sneakers Lace-Up Trainers Basket...\", 'Stylish & Trendy Sneakers For Men', 'Women Casual Shoes Sneakers For Women', 'Men SM-406 Black Sneakers For Men', 'Combo Pack of 2 Casual Shoe Sneakers For Men', 'R78 SL Sneakers For Women', 'WATERPROOF-05cFULLWHITE Sneakers For Men', 'Trendy And Stylish New Design Casual Shoe For Men Pack ...', 'Trendy Casual Shoe For Men Pack Of 2 Sneakers For Men', 'Black sneaker Sneakers For Men', 'Men Urban Street Athleisure Shoe Sneakers For Men', 'Mesh |Lightweight|Comfort|Summer|Trendy|Walking|Outdoor...', 'C-Skate Vulc Sneakers For Men', 'Sneakers For Women', 'Mesh |Lightweight|Comfort|Summer|Trendy|Walking|Outdoor...', 'SM-732 Sneakers For Men', 'Puma x 1DER Jack V3 Sneakers For Men', 'Stylish Casual Sports Shoe Sneakers For Women', 'ADVANTAGE BASE Sneakers For Men', 'OLIVE CASUAL SNEAKER Sneakers For Men', 'Combo Pack of 2 Casual Shoes Sneakers For Men', 'SM-671 Sneakers For Men', 'Mesh| Lightweight| Premiun| Comfort| Summer Tendy| Outd...', 'RS-X RENDER Sneakers For Men', 'Sneakers For Women', 'WATERPROOF-05cFULLBLACK Sneakers For Men', 'Combo Pack of 2 Casual Shoe Sneakers For Men', 'Modern Trendy Sneakers boot Sneakers For Men', 'Sneakers For Men', 'Premium Casual Shoes for Women Sneakers For Women', 'STREET ICON M Sneakers For Men', 'Mesh| Ultralightweight| Premiun| Comfort| Summer Tendy|...', 'Premium White Casual Shoes Sneakers For Men Sneakers Fo...', 'Mesh |Lightweight|Comfort|Summer|Trendy|Walking|Outdoor...', 'Sneakers For Men', 'Sneakers For Women', \"BALANCER Men's Fashion Sneakers Lace-Up Trainers Basket...\", 'Stylish & Trendy Sneakers For Men', 'Women Casual Shoes Sneakers For Women', 'Men SM-406 Black Sneakers For Men', 'Combo Pack of 2 Casual Shoe Sneakers For Men', 'R78 SL Sneakers For Women', 'WATERPROOF-05cFULLWHITE Sneakers For Men', 'Trendy And Stylish New Design Casual Shoe For Men Pack ...', 'Trendy Casual Shoe For Men Pack Of 2 Sneakers For Men', 'Black sneaker Sneakers For Men', 'Men Urban Street Athleisure Shoe Sneakers For Men', 'Mesh |Lightweight|Comfort|Summer|Trendy|Walking|Outdoor...', 'C-Skate Vulc Sneakers For Men', 'Sneakers For Women', 'Mesh |Lightweight|Comfort|Summer|Trendy|Walking|Outdoor...', 'SM-732 Sneakers For Men', 'Puma x 1DER Jack V3 Sneakers For Men', 'Stylish Casual Sports Shoe Sneakers For Women', 'ADVANTAGE BASE Sneakers For Men', 'OLIVE CASUAL SNEAKER Sneakers For Men', 'Combo Pack of 2 Casual Shoes Sneakers For Men', 'SM-671 Sneakers For Men', 'Mesh| Lightweight| Premiun| Comfort| Summer Tendy| Outd...', 'RS-X RENDER Sneakers For Men', 'Sneakers For Women', 'WATERPROOF-05cFULLBLACK Sneakers For Men', 'Combo Pack of 2 Casual Shoe Sneakers For Men', 'Modern Trendy Sneakers boot Sneakers For Men']\n"
     ]
    }
   ],
   "source": [
    "product1=[]\n",
    "Brand1=[]\n",
    "Price1=[]\n",
    "product1=ProductDiscription[1:101]\n",
    "len(product)\n",
    "print(product)\n",
    "Brand1=Brand[1:101]\n",
    "Price1=Price[1:101]\n"
   ]
  },
  {
   "cell_type": "code",
   "execution_count": 122,
   "id": "fc496da8",
   "metadata": {},
   "outputs": [
    {
     "data": {
      "text/html": [
       "<div>\n",
       "<style scoped>\n",
       "    .dataframe tbody tr th:only-of-type {\n",
       "        vertical-align: middle;\n",
       "    }\n",
       "\n",
       "    .dataframe tbody tr th {\n",
       "        vertical-align: top;\n",
       "    }\n",
       "\n",
       "    .dataframe thead th {\n",
       "        text-align: right;\n",
       "    }\n",
       "</style>\n",
       "<table border=\"1\" class=\"dataframe\">\n",
       "  <thead>\n",
       "    <tr style=\"text-align: right;\">\n",
       "      <th></th>\n",
       "      <th>Brand</th>\n",
       "      <th>ProductDiscription</th>\n",
       "      <th>Price</th>\n",
       "    </tr>\n",
       "  </thead>\n",
       "  <tbody>\n",
       "    <tr>\n",
       "      <th>1</th>\n",
       "      <td>SFR</td>\n",
       "      <td>Stylish &amp; Trendy Sneakers For Men</td>\n",
       "      <td>₹2,879</td>\n",
       "    </tr>\n",
       "    <tr>\n",
       "      <th>2</th>\n",
       "      <td>aadi</td>\n",
       "      <td>Women Casual Shoes Sneakers For Women</td>\n",
       "      <td>₹855</td>\n",
       "    </tr>\n",
       "    <tr>\n",
       "      <th>3</th>\n",
       "      <td>SFR</td>\n",
       "      <td>Men SM-406 Black Sneakers For Men</td>\n",
       "      <td>₹2,694</td>\n",
       "    </tr>\n",
       "    <tr>\n",
       "      <th>4</th>\n",
       "      <td>BIRDE</td>\n",
       "      <td>Combo Pack of 2 Casual Shoe Sneakers For Men</td>\n",
       "      <td>₹2,596</td>\n",
       "    </tr>\n",
       "    <tr>\n",
       "      <th>5</th>\n",
       "      <td>aadi</td>\n",
       "      <td>R78 SL Sneakers For Women</td>\n",
       "      <td>₹473</td>\n",
       "    </tr>\n",
       "    <tr>\n",
       "      <th>...</th>\n",
       "      <td>...</td>\n",
       "      <td>...</td>\n",
       "      <td>...</td>\n",
       "    </tr>\n",
       "    <tr>\n",
       "      <th>95</th>\n",
       "      <td>BIRDE</td>\n",
       "      <td>RS-X RENDER Sneakers For Men</td>\n",
       "      <td>₹3,499</td>\n",
       "    </tr>\n",
       "    <tr>\n",
       "      <th>96</th>\n",
       "      <td>Shozie</td>\n",
       "      <td>Sneakers For Women</td>\n",
       "      <td>₹539</td>\n",
       "    </tr>\n",
       "    <tr>\n",
       "      <th>97</th>\n",
       "      <td>aadi</td>\n",
       "      <td>WATERPROOF-05cFULLBLACK Sneakers For Men</td>\n",
       "      <td>₹2,474</td>\n",
       "    </tr>\n",
       "    <tr>\n",
       "      <th>98</th>\n",
       "      <td>HRX by Hrithik Roshan</td>\n",
       "      <td>Combo Pack of 2 Casual Shoe Sneakers For Men</td>\n",
       "      <td>₹599</td>\n",
       "    </tr>\n",
       "    <tr>\n",
       "      <th>99</th>\n",
       "      <td>asian</td>\n",
       "      <td>Modern Trendy Sneakers boot Sneakers For Men</td>\n",
       "      <td>₹7,999</td>\n",
       "    </tr>\n",
       "  </tbody>\n",
       "</table>\n",
       "<p>99 rows × 3 columns</p>\n",
       "</div>"
      ],
      "text/plain": [
       "                    Brand                            ProductDiscription  \\\n",
       "1                     SFR             Stylish & Trendy Sneakers For Men   \n",
       "2                    aadi         Women Casual Shoes Sneakers For Women   \n",
       "3                     SFR             Men SM-406 Black Sneakers For Men   \n",
       "4                   BIRDE  Combo Pack of 2 Casual Shoe Sneakers For Men   \n",
       "5                    aadi                     R78 SL Sneakers For Women   \n",
       "..                    ...                                           ...   \n",
       "95                  BIRDE                  RS-X RENDER Sneakers For Men   \n",
       "96                 Shozie                            Sneakers For Women   \n",
       "97                   aadi      WATERPROOF-05cFULLBLACK Sneakers For Men   \n",
       "98  HRX by Hrithik Roshan  Combo Pack of 2 Casual Shoe Sneakers For Men   \n",
       "99                  asian  Modern Trendy Sneakers boot Sneakers For Men   \n",
       "\n",
       "     Price  \n",
       "1   ₹2,879  \n",
       "2     ₹855  \n",
       "3   ₹2,694  \n",
       "4   ₹2,596  \n",
       "5     ₹473  \n",
       "..     ...  \n",
       "95  ₹3,499  \n",
       "96    ₹539  \n",
       "97  ₹2,474  \n",
       "98    ₹599  \n",
       "99  ₹7,999  \n",
       "\n",
       "[99 rows x 3 columns]"
      ]
     },
     "execution_count": 122,
     "metadata": {},
     "output_type": "execute_result"
    }
   ],
   "source": [
    "df=pd.DataFrame({'Brand':Brand1,'ProductDiscription':product1,'Price':Price1})\n",
    "df.iloc[1:100]"
   ]
  },
  {
   "cell_type": "code",
   "execution_count": 41,
   "id": "f9cac154",
   "metadata": {},
   "outputs": [],
   "source": [
    "# Assignment Question 7"
   ]
  },
  {
   "cell_type": "code",
   "execution_count": 85,
   "id": "937349b2",
   "metadata": {},
   "outputs": [],
   "source": [
    "driver=webdriver.Chrome(r\"Chromedriver.exe\")"
   ]
  },
  {
   "cell_type": "code",
   "execution_count": 86,
   "id": "7a29834d",
   "metadata": {},
   "outputs": [],
   "source": [
    "driver.get(\"https://www.amazon.in/\")"
   ]
  },
  {
   "cell_type": "code",
   "execution_count": 4,
   "id": "fda74550",
   "metadata": {},
   "outputs": [],
   "source": [
    "search_amazon=driver.find_element(By.XPATH,\"/html/body/div[1]/header/div/div[1]/div[2]/div/form/div[2]/div[1]/input\")\n",
    "search_amazon.send_keys(\"Laptop\")"
   ]
  },
  {
   "cell_type": "code",
   "execution_count": 5,
   "id": "ccffe6e2",
   "metadata": {},
   "outputs": [],
   "source": [
    "search=driver.find_element(By.XPATH,\"/html/body/div[1]/header/div/div[1]/div[2]/div/form/div[3]/div/span\")\n",
    "search.click()"
   ]
  },
  {
   "cell_type": "code",
   "execution_count": 6,
   "id": "4aa33094",
   "metadata": {},
   "outputs": [],
   "source": [
    "CPUType_IntelCorei7=driver.find_element(By.XPATH,\"/html/body/div[1]/div[2]/div[1]/div[2]/div/div[3]/span/div[1]/div/div/div[5]/ul[6]/li[11]/span/a/span\")\n",
    "CPUType_IntelCorei7.click()"
   ]
  },
  {
   "cell_type": "code",
   "execution_count": 7,
   "id": "6fd0ad93",
   "metadata": {},
   "outputs": [],
   "source": [
    "Title=[]\n",
    "Rating=[]\n",
    "\n",
    "Price=[]"
   ]
  },
  {
   "cell_type": "code",
   "execution_count": 8,
   "id": "945a1fe9",
   "metadata": {},
   "outputs": [
    {
     "data": {
      "text/plain": [
       "10"
      ]
     },
     "execution_count": 8,
     "metadata": {},
     "output_type": "execute_result"
    }
   ],
   "source": [
    "#title_tags=driver.find_elements(By.XPATH,'//h2[@class=\" a-size-mini a-spacing-none a-color-base s-line-clamp-2\"]')\n",
    "title_tags=driver.find_elements(By.XPATH,'//span [@class=\"a-size-medium a-color-base a-text-normal\"]')\n",
    "for i in title_tags[1:11]:\n",
    "    title=i.text\n",
    "    Title.append(title)                            \n",
    "len(Title)                               "
   ]
  },
  {
   "cell_type": "code",
   "execution_count": 9,
   "id": "ea16ca78",
   "metadata": {},
   "outputs": [
    {
     "data": {
      "text/plain": [
       "10"
      ]
     },
     "execution_count": 9,
     "metadata": {},
     "output_type": "execute_result"
    }
   ],
   "source": [
    "#rating_tags=driver.find_elements(By.XPATH,'//i [@class=\"a-icon a-icon-star-small a-star-small-3 aok-align-bottom\"]')\n",
    "rating_tags=driver.find_elements(By.XPATH,'//span [@class=\"a-size-base\"]')\n",
    "for i in rating_tags[1:11]:\n",
    "    Rating.append(i.text)\n",
    "len(Rating)"
   ]
  },
  {
   "cell_type": "code",
   "execution_count": 10,
   "id": "900d2baa",
   "metadata": {},
   "outputs": [],
   "source": [
    "price_tags=driver.find_elements(By.XPATH,'//span[@ class=\"a-price-whole\"]')\n",
    "for i in price_tags[1:11]:\n",
    "    Price.append(i.text)"
   ]
  },
  {
   "cell_type": "code",
   "execution_count": 11,
   "id": "4f201342",
   "metadata": {},
   "outputs": [
    {
     "name": "stdout",
     "output_type": "stream",
     "text": [
      "10 10 10\n"
     ]
    }
   ],
   "source": [
    "print(len(Title),len(Rating),len(Price))"
   ]
  },
  {
   "cell_type": "code",
   "execution_count": 60,
   "id": "20344475",
   "metadata": {},
   "outputs": [
    {
     "data": {
      "text/html": [
       "<div>\n",
       "<style scoped>\n",
       "    .dataframe tbody tr th:only-of-type {\n",
       "        vertical-align: middle;\n",
       "    }\n",
       "\n",
       "    .dataframe tbody tr th {\n",
       "        vertical-align: top;\n",
       "    }\n",
       "\n",
       "    .dataframe thead th {\n",
       "        text-align: right;\n",
       "    }\n",
       "</style>\n",
       "<table border=\"1\" class=\"dataframe\">\n",
       "  <thead>\n",
       "    <tr style=\"text-align: right;\">\n",
       "      <th></th>\n",
       "      <th>Title</th>\n",
       "      <th>Rating</th>\n",
       "      <th>Price</th>\n",
       "    </tr>\n",
       "  </thead>\n",
       "  <tbody>\n",
       "    <tr>\n",
       "      <th>0</th>\n",
       "      <td>HP Chromebook 11a, MediaTek MT8183 Processor 1...</td>\n",
       "      <td>4.0</td>\n",
       "      <td>82,990</td>\n",
       "    </tr>\n",
       "    <tr>\n",
       "      <th>1</th>\n",
       "      <td>(Renewed) Dell Latitude E5470 Intel Core i5 6t...</td>\n",
       "      <td>4.1</td>\n",
       "      <td>56,990</td>\n",
       "    </tr>\n",
       "    <tr>\n",
       "      <th>2</th>\n",
       "      <td>HP 15s-Ryzen 3 3250U 8GB SDRAM/256GB SSD 15.6i...</td>\n",
       "      <td>4.0</td>\n",
       "      <td>45,592</td>\n",
       "    </tr>\n",
       "    <tr>\n",
       "      <th>3</th>\n",
       "      <td>Lenovo IdeaPad Slim 3 Intel Celeron N4020 4th ...</td>\n",
       "      <td>4.1</td>\n",
       "      <td>30,074</td>\n",
       "    </tr>\n",
       "    <tr>\n",
       "      <th>4</th>\n",
       "      <td>HP 245 G8 Laptop PC with AMD Ryzen 3 3250U/8 G...</td>\n",
       "      <td>3.4</td>\n",
       "      <td>65,250</td>\n",
       "    </tr>\n",
       "    <tr>\n",
       "      <th>5</th>\n",
       "      <td>ASUS VivoBook 15 (2021), 15.6-inch (39.62 cm) ...</td>\n",
       "      <td>4.3</td>\n",
       "      <td>24,889</td>\n",
       "    </tr>\n",
       "    <tr>\n",
       "      <th>6</th>\n",
       "      <td>(Renewed) DELL Latitude 5490 Core i5 8th Gen L...</td>\n",
       "      <td>4.0</td>\n",
       "      <td>85,990</td>\n",
       "    </tr>\n",
       "    <tr>\n",
       "      <th>7</th>\n",
       "      <td>HP 15s, AMD Athlon Silver 3050U 8GB RAM/512GB ...</td>\n",
       "      <td>3.6</td>\n",
       "      <td>77,990</td>\n",
       "    </tr>\n",
       "    <tr>\n",
       "      <th>8</th>\n",
       "      <td>(Renewed) Dell Latitude Laptop E7470 Intel Cor...</td>\n",
       "      <td>4.2</td>\n",
       "      <td>84,918</td>\n",
       "    </tr>\n",
       "    <tr>\n",
       "      <th>9</th>\n",
       "      <td>AVITA SATUS S111 NU14A1INC43PN-SG 14.1 FHD (35...</td>\n",
       "      <td>4.0</td>\n",
       "      <td>82,990</td>\n",
       "    </tr>\n",
       "  </tbody>\n",
       "</table>\n",
       "</div>"
      ],
      "text/plain": [
       "                                               Title Rating   Price\n",
       "0  HP Chromebook 11a, MediaTek MT8183 Processor 1...    4.0  82,990\n",
       "1  (Renewed) Dell Latitude E5470 Intel Core i5 6t...    4.1  56,990\n",
       "2  HP 15s-Ryzen 3 3250U 8GB SDRAM/256GB SSD 15.6i...    4.0  45,592\n",
       "3  Lenovo IdeaPad Slim 3 Intel Celeron N4020 4th ...    4.1  30,074\n",
       "4  HP 245 G8 Laptop PC with AMD Ryzen 3 3250U/8 G...    3.4  65,250\n",
       "5  ASUS VivoBook 15 (2021), 15.6-inch (39.62 cm) ...    4.3  24,889\n",
       "6  (Renewed) DELL Latitude 5490 Core i5 8th Gen L...    4.0  85,990\n",
       "7  HP 15s, AMD Athlon Silver 3050U 8GB RAM/512GB ...    3.6  77,990\n",
       "8  (Renewed) Dell Latitude Laptop E7470 Intel Cor...    4.2  84,918\n",
       "9  AVITA SATUS S111 NU14A1INC43PN-SG 14.1 FHD (35...    4.0  82,990"
      ]
     },
     "execution_count": 60,
     "metadata": {},
     "output_type": "execute_result"
    }
   ],
   "source": [
    "df=pd.DataFrame({'Title':Title,'Rating':Rating,'Price':Price})\n",
    "df"
   ]
  },
  {
   "cell_type": "code",
   "execution_count": 2,
   "id": "7f9ea1d0",
   "metadata": {},
   "outputs": [],
   "source": [
    "#Assignment Question 8"
   ]
  },
  {
   "cell_type": "code",
   "execution_count": 81,
   "id": "d2e041da",
   "metadata": {},
   "outputs": [],
   "source": [
    "driver=webdriver.Chrome(r\"Chromedriver.exe\")"
   ]
  },
  {
   "cell_type": "code",
   "execution_count": 83,
   "id": "7431e848",
   "metadata": {},
   "outputs": [],
   "source": [
    "driver.get(\"https://www.azquotes.com/top_quotes.html\")"
   ]
  },
  {
   "cell_type": "code",
   "execution_count": 84,
   "id": "3f4c99f2",
   "metadata": {},
   "outputs": [],
   "source": [
    "quote=[]\n",
    "author=[]\n",
    "Type_of_quote=[]"
   ]
  },
  {
   "cell_type": "code",
   "execution_count": 85,
   "id": "7ae02a1a",
   "metadata": {},
   "outputs": [
    {
     "data": {
      "text/plain": [
       "1000"
      ]
     },
     "execution_count": 85,
     "metadata": {},
     "output_type": "execute_result"
    }
   ],
   "source": [
    "start=1\n",
    "end=11\n",
    "for page in range(start,end):\n",
    "    quotes=driver.find_elements(By.XPATH,'//a [@class=\"title\"]')\n",
    "    for i in quotes:\n",
    "        quote.append(i.text)\n",
    "next_button=driver.find_element(By.XPATH,'/html/body/div[1]/div[2]/div/div/div/div[1]/div/div[4]/li[12]')\n",
    "next_button.click()\n",
    "time.sleep(3)\n",
    "len(quote)"
   ]
  },
  {
   "cell_type": "code",
   "execution_count": 86,
   "id": "6e53185c",
   "metadata": {},
   "outputs": [
    {
     "data": {
      "text/plain": [
       "1000"
      ]
     },
     "execution_count": 86,
     "metadata": {},
     "output_type": "execute_result"
    }
   ],
   "source": [
    "start=1\n",
    "end=11\n",
    "for page in range(start,end):\n",
    "    authors=driver.find_elements(By.XPATH,'//div [@class=\"author\"]')\n",
    "    for i in authors:\n",
    "        author.append(i.text)\n",
    "next_button=driver.find_element(By.XPATH,'/html/body/div[1]/div[2]/div/div/div/div[1]/div/div[4]/li[12]')\n",
    "next_button.click()\n",
    "time.sleep(3)\n",
    "len(author)\n"
   ]
  },
  {
   "cell_type": "code",
   "execution_count": 88,
   "id": "6e0a14e4",
   "metadata": {},
   "outputs": [
    {
     "data": {
      "text/plain": [
       "1000"
      ]
     },
     "execution_count": 88,
     "metadata": {},
     "output_type": "execute_result"
    }
   ],
   "source": [
    "start=1\n",
    "end=11\n",
    "for page in range(start,end):\n",
    "    type_of_quote=driver.find_elements(By.XPATH,'//div [@class=\"tags\"]')\n",
    "    for i in type_of_quote:\n",
    "        Type_of_quote.append(i.text)\n",
    "next_button=driver.find_element(By.XPATH,'/html/body/div[1]/div[2]/div/div/div/div[1]/div/div[4]/li[12]')\n",
    "next_button.click()\n",
    "time.sleep(3)\n",
    "len(Type_of_quote)        "
   ]
  },
  {
   "cell_type": "code",
   "execution_count": 89,
   "id": "29df471d",
   "metadata": {},
   "outputs": [
    {
     "name": "stdout",
     "output_type": "stream",
     "text": [
      "1000 1000 1000\n"
     ]
    }
   ],
   "source": [
    "print(len(quote),len(author),len(Type_of_quote))"
   ]
  },
  {
   "cell_type": "code",
   "execution_count": 90,
   "id": "69c46295",
   "metadata": {},
   "outputs": [
    {
     "data": {
      "text/html": [
       "<div>\n",
       "<style scoped>\n",
       "    .dataframe tbody tr th:only-of-type {\n",
       "        vertical-align: middle;\n",
       "    }\n",
       "\n",
       "    .dataframe tbody tr th {\n",
       "        vertical-align: top;\n",
       "    }\n",
       "\n",
       "    .dataframe thead th {\n",
       "        text-align: right;\n",
       "    }\n",
       "</style>\n",
       "<table border=\"1\" class=\"dataframe\">\n",
       "  <thead>\n",
       "    <tr style=\"text-align: right;\">\n",
       "      <th></th>\n",
       "      <th>Quote</th>\n",
       "      <th>Author</th>\n",
       "      <th>Type_Of_Quote</th>\n",
       "    </tr>\n",
       "  </thead>\n",
       "  <tbody>\n",
       "    <tr>\n",
       "      <th>0</th>\n",
       "      <td>The essence of strategy is choosing what not t...</td>\n",
       "      <td>Neltje Blanchan</td>\n",
       "      <td>Inspirational, Life, Success</td>\n",
       "    </tr>\n",
       "    <tr>\n",
       "      <th>1</th>\n",
       "      <td>One cannot and must not try to erase the past ...</td>\n",
       "      <td>Henry Ford</td>\n",
       "      <td>Peace, War, Government</td>\n",
       "    </tr>\n",
       "    <tr>\n",
       "      <th>2</th>\n",
       "      <td>Patriotism means to stand by the country. It d...</td>\n",
       "      <td>Saint Augustine</td>\n",
       "      <td>Life, Strength, Courage</td>\n",
       "    </tr>\n",
       "    <tr>\n",
       "      <th>3</th>\n",
       "      <td>Death is something inevitable. When a man has ...</td>\n",
       "      <td>Arthur Rubinstein</td>\n",
       "      <td>Positive, Family, Trust</td>\n",
       "    </tr>\n",
       "    <tr>\n",
       "      <th>4</th>\n",
       "      <td>You have to love a nation that celebrates its ...</td>\n",
       "      <td>George Mason</td>\n",
       "      <td>Inspirational, Motivational, Teacher</td>\n",
       "    </tr>\n",
       "    <tr>\n",
       "      <th>...</th>\n",
       "      <td>...</td>\n",
       "      <td>...</td>\n",
       "      <td>...</td>\n",
       "    </tr>\n",
       "    <tr>\n",
       "      <th>995</th>\n",
       "      <td>When the going gets weird, the weird turn pro.</td>\n",
       "      <td>Alexander Graham Bell</td>\n",
       "      <td>Love, Inspirational, Motivational</td>\n",
       "    </tr>\n",
       "    <tr>\n",
       "      <th>996</th>\n",
       "      <td>When a train goes through a tunnel and it gets...</td>\n",
       "      <td>Henry Ford</td>\n",
       "      <td>Gun, Two, Qualms About</td>\n",
       "    </tr>\n",
       "    <tr>\n",
       "      <th>997</th>\n",
       "      <td>If you think you are too small to make a diffe...</td>\n",
       "      <td>Robin Williams</td>\n",
       "      <td>Inspirational, Greatness, Best Effort</td>\n",
       "    </tr>\n",
       "    <tr>\n",
       "      <th>998</th>\n",
       "      <td>God doesn't require us to succeed, he only req...</td>\n",
       "      <td>Margaret Walker</td>\n",
       "      <td>Spiritual, Truth, Yoga</td>\n",
       "    </tr>\n",
       "    <tr>\n",
       "      <th>999</th>\n",
       "      <td>Change your thoughts and you change your world.</td>\n",
       "      <td>T. Harv Eker</td>\n",
       "      <td>Inspirational, Leadership, Education</td>\n",
       "    </tr>\n",
       "  </tbody>\n",
       "</table>\n",
       "<p>1000 rows × 3 columns</p>\n",
       "</div>"
      ],
      "text/plain": [
       "                                                 Quote                 Author  \\\n",
       "0    The essence of strategy is choosing what not t...        Neltje Blanchan   \n",
       "1    One cannot and must not try to erase the past ...             Henry Ford   \n",
       "2    Patriotism means to stand by the country. It d...        Saint Augustine   \n",
       "3    Death is something inevitable. When a man has ...      Arthur Rubinstein   \n",
       "4    You have to love a nation that celebrates its ...           George Mason   \n",
       "..                                                 ...                    ...   \n",
       "995     When the going gets weird, the weird turn pro.  Alexander Graham Bell   \n",
       "996  When a train goes through a tunnel and it gets...             Henry Ford   \n",
       "997  If you think you are too small to make a diffe...         Robin Williams   \n",
       "998  God doesn't require us to succeed, he only req...        Margaret Walker   \n",
       "999    Change your thoughts and you change your world.           T. Harv Eker   \n",
       "\n",
       "                             Type_Of_Quote  \n",
       "0             Inspirational, Life, Success  \n",
       "1                   Peace, War, Government  \n",
       "2                  Life, Strength, Courage  \n",
       "3                  Positive, Family, Trust  \n",
       "4     Inspirational, Motivational, Teacher  \n",
       "..                                     ...  \n",
       "995      Love, Inspirational, Motivational  \n",
       "996                 Gun, Two, Qualms About  \n",
       "997  Inspirational, Greatness, Best Effort  \n",
       "998                 Spiritual, Truth, Yoga  \n",
       "999   Inspirational, Leadership, Education  \n",
       "\n",
       "[1000 rows x 3 columns]"
      ]
     },
     "execution_count": 90,
     "metadata": {},
     "output_type": "execute_result"
    }
   ],
   "source": [
    "df=pd.DataFrame({'Quote':quote,'Author':author,'Type_Of_Quote':Type_of_quote})\n",
    "df"
   ]
  },
  {
   "cell_type": "code",
   "execution_count": 3,
   "id": "4378e61a",
   "metadata": {},
   "outputs": [],
   "source": [
    "#Assignment question 9"
   ]
  },
  {
   "cell_type": "code",
   "execution_count": 40,
   "id": "d8993c17",
   "metadata": {},
   "outputs": [],
   "source": [
    "driver=webdriver.Chrome(r\"Chromedriver.exe\")"
   ]
  },
  {
   "cell_type": "code",
   "execution_count": 41,
   "id": "63c48374",
   "metadata": {},
   "outputs": [],
   "source": [
    "driver.get(\"https://www.jagranjosh.com/general-knowledge/list-of-all-prime-ministers-of-india-1473165149-1\")"
   ]
  },
  {
   "cell_type": "code",
   "execution_count": 66,
   "id": "e43b7172",
   "metadata": {},
   "outputs": [],
   "source": [
    "Name=[]\n",
    "Born_Dead=[]\n",
    "Term_of_office=[]\n",
    "Remark=[]"
   ]
  },
  {
   "cell_type": "code",
   "execution_count": 67,
   "id": "6d292a53",
   "metadata": {},
   "outputs": [
    {
     "data": {
      "text/plain": [
       "18"
      ]
     },
     "execution_count": 67,
     "metadata": {},
     "output_type": "execute_result"
    }
   ],
   "source": [
    "name=driver.find_elements(By.XPATH,'//div[@class=\"table-box\"]/table/tbody/tr/td[2]/p' )\n",
    "for i in name:\n",
    "    Name.append(i.text)\n",
    "len(Name)"
   ]
  },
  {
   "cell_type": "code",
   "execution_count": 68,
   "id": "78a6ebdb",
   "metadata": {},
   "outputs": [
    {
     "name": "stdout",
     "output_type": "stream",
     "text": [
      "['Jawahar Lal Nehru', 'Gulzarilal Nanda (Acting)', 'Lal Bahadur Shastri', 'Gulzari Lal Nanda  (Acting)', 'Indira Gandhi', 'Morarji Desai', 'Charan Singh', 'Indira Gandhi', 'Rajiv Gandhi', 'V. P. Singh', 'Chandra Shekhar', 'P. V. Narasimha Rao', 'Atal Bihari Vajpayee', 'H. D. Deve Gowda', 'Inder Kumar Gujral', 'Atal Bihari Vajpayee', 'Manmohan Singh', 'Narendra Modi']\n"
     ]
    }
   ],
   "source": [
    "print(Name)"
   ]
  },
  {
   "cell_type": "code",
   "execution_count": 69,
   "id": "ed5f3860",
   "metadata": {},
   "outputs": [
    {
     "name": "stdout",
     "output_type": "stream",
     "text": [
      "['(1889–1964)', '(1898-1998)', '(1904–1966)', '(1898-1998)', '(1917–1984)', '(1896–1995)', '(1902–1987)', '(1917–1984)', '(1944–1991)', '(1931–2008)', '(1927–2007)', '(1921–2004)', '(1924- 2018)', '(born 1933)', '(1919–2012)', '(1924-2018)', '(born 1932)', '(born 1950)']\n"
     ]
    }
   ],
   "source": [
    "born=driver.find_elements(By.XPATH,'//div [@class=\"table-box\"]/table/tbody/tr/td[3]/p')\n",
    "for i in born:\n",
    "    Born_Dead.append(i.text)\n",
    "print(Born_Dead)"
   ]
  },
  {
   "cell_type": "code",
   "execution_count": 82,
   "id": "00f924a1",
   "metadata": {},
   "outputs": [
    {
     "name": "stdout",
     "output_type": "stream",
     "text": [
      "15 August 1947 to 27 May 1964\n",
      "27 May 1964 to 9 June 1964\n",
      "9 June 1964 to 11 January 1966\n",
      "11 January 1966 to 24 January 1966\n",
      "24 January 1966 to 24 March 1977\n",
      "24 March 1977 to  28 July 1979 \n",
      "28 July 1979 to 14 January 1980\n",
      "14 January 1980 to 31 October 1984\n",
      "31 October 1984 to 2 December 1989\n",
      "2 December 1989 to 10 November 1990\n",
      "10 November 1990 to 21 June 1991\n",
      "21 June 1991 to 16 May 1996\n",
      "16 May 1996 to 1 June 1996\n",
      "1 June 1996 to 21 April 1997\n",
      "21 April 1997 to 19 March 1998 \n",
      "19 March 1998 to 22 May 2004 \n",
      "22 May 2004 to 26 May 2014   \n",
      "26 May 2014 - Present\n",
      "21\n"
     ]
    }
   ],
   "source": [
    "Term_of_office=[]\n",
    "office=[]\n",
    "term=driver.find_elements(By.XPATH,'//div [@class=\"table-box\"]/table/tbody/tr/td[4]/p')\n",
    "for i in term:\n",
    "    Term_of_office.append(i.text.split(',')[0])\n",
    "for i in range(0,len(Term_of_office),2):\n",
    "    office=Term_of_office[i]\n",
    "    print(office)\n",
    "print(len(office))"
   ]
  },
  {
   "cell_type": "code",
   "execution_count": 71,
   "id": "7dfda030",
   "metadata": {},
   "outputs": [],
   "source": [
    "remark=driver.find_elements(By.XPATH,'//div [@class=\"table-box\"]/table/tbody/tr/td[5]/p')\n",
    "for i in remark:\n",
    "    Remark.append(i.text)"
   ]
  },
  {
   "cell_type": "code",
   "execution_count": 81,
   "id": "32ec139f",
   "metadata": {},
   "outputs": [
    {
     "name": "stdout",
     "output_type": "stream",
     "text": [
      "18 18 21 18\n"
     ]
    }
   ],
   "source": [
    "print(len(Name),len(Born_Dead),len(office),len(Remark))"
   ]
  },
  {
   "cell_type": "code",
   "execution_count": 77,
   "id": "7b48249e",
   "metadata": {},
   "outputs": [
    {
     "data": {
      "text/html": [
       "<div>\n",
       "<style scoped>\n",
       "    .dataframe tbody tr th:only-of-type {\n",
       "        vertical-align: middle;\n",
       "    }\n",
       "\n",
       "    .dataframe tbody tr th {\n",
       "        vertical-align: top;\n",
       "    }\n",
       "\n",
       "    .dataframe thead th {\n",
       "        text-align: right;\n",
       "    }\n",
       "</style>\n",
       "<table border=\"1\" class=\"dataframe\">\n",
       "  <thead>\n",
       "    <tr style=\"text-align: right;\">\n",
       "      <th></th>\n",
       "      <th>Name</th>\n",
       "      <th>Born_Dead</th>\n",
       "      <th>Term_of_office</th>\n",
       "      <th>Remark</th>\n",
       "    </tr>\n",
       "  </thead>\n",
       "  <tbody>\n",
       "    <tr>\n",
       "      <th>0</th>\n",
       "      <td>Jawahar Lal Nehru</td>\n",
       "      <td>(1889–1964)</td>\n",
       "      <td>26 May 2014 - Present</td>\n",
       "      <td>The first prime minister of India and the long...</td>\n",
       "    </tr>\n",
       "    <tr>\n",
       "      <th>1</th>\n",
       "      <td>Gulzarilal Nanda (Acting)</td>\n",
       "      <td>(1898-1998)</td>\n",
       "      <td>26 May 2014 - Present</td>\n",
       "      <td>First acting PM of India</td>\n",
       "    </tr>\n",
       "    <tr>\n",
       "      <th>2</th>\n",
       "      <td>Lal Bahadur Shastri</td>\n",
       "      <td>(1904–1966)</td>\n",
       "      <td>26 May 2014 - Present</td>\n",
       "      <td>He has given the slogan of 'Jai Jawan Jai Kisa...</td>\n",
       "    </tr>\n",
       "    <tr>\n",
       "      <th>3</th>\n",
       "      <td>Gulzari Lal Nanda  (Acting)</td>\n",
       "      <td>(1898-1998)</td>\n",
       "      <td>26 May 2014 - Present</td>\n",
       "      <td>-</td>\n",
       "    </tr>\n",
       "    <tr>\n",
       "      <th>4</th>\n",
       "      <td>Indira Gandhi</td>\n",
       "      <td>(1917–1984)</td>\n",
       "      <td>26 May 2014 - Present</td>\n",
       "      <td>First female Prime Minister of India</td>\n",
       "    </tr>\n",
       "    <tr>\n",
       "      <th>5</th>\n",
       "      <td>Morarji Desai</td>\n",
       "      <td>(1896–1995)</td>\n",
       "      <td>26 May 2014 - Present</td>\n",
       "      <td>Oldest to become PM (81 years old) and first t...</td>\n",
       "    </tr>\n",
       "    <tr>\n",
       "      <th>6</th>\n",
       "      <td>Charan Singh</td>\n",
       "      <td>(1902–1987)</td>\n",
       "      <td>26 May 2014 - Present</td>\n",
       "      <td>Only PM who did not face the Parliament</td>\n",
       "    </tr>\n",
       "    <tr>\n",
       "      <th>7</th>\n",
       "      <td>Indira Gandhi</td>\n",
       "      <td>(1917–1984)</td>\n",
       "      <td>26 May 2014 - Present</td>\n",
       "      <td>The first lady who served as PM for the second...</td>\n",
       "    </tr>\n",
       "    <tr>\n",
       "      <th>8</th>\n",
       "      <td>Rajiv Gandhi</td>\n",
       "      <td>(1944–1991)</td>\n",
       "      <td>26 May 2014 - Present</td>\n",
       "      <td>Youngest to become PM (40 years old)</td>\n",
       "    </tr>\n",
       "    <tr>\n",
       "      <th>9</th>\n",
       "      <td>V. P. Singh</td>\n",
       "      <td>(1931–2008)</td>\n",
       "      <td>26 May 2014 - Present</td>\n",
       "      <td>First PM to step down after a vote of no confi...</td>\n",
       "    </tr>\n",
       "    <tr>\n",
       "      <th>10</th>\n",
       "      <td>Chandra Shekhar</td>\n",
       "      <td>(1927–2007)</td>\n",
       "      <td>26 May 2014 - Present</td>\n",
       "      <td>He belongs to  Samajwadi Janata Party</td>\n",
       "    </tr>\n",
       "    <tr>\n",
       "      <th>11</th>\n",
       "      <td>P. V. Narasimha Rao</td>\n",
       "      <td>(1921–2004)</td>\n",
       "      <td>26 May 2014 - Present</td>\n",
       "      <td>First PM from south India</td>\n",
       "    </tr>\n",
       "    <tr>\n",
       "      <th>12</th>\n",
       "      <td>Atal Bihari Vajpayee</td>\n",
       "      <td>(1924- 2018)</td>\n",
       "      <td>26 May 2014 - Present</td>\n",
       "      <td>PM for shortest tenure</td>\n",
       "    </tr>\n",
       "    <tr>\n",
       "      <th>13</th>\n",
       "      <td>H. D. Deve Gowda</td>\n",
       "      <td>(born 1933)</td>\n",
       "      <td>26 May 2014 - Present</td>\n",
       "      <td>He belongs to  Janata Dal</td>\n",
       "    </tr>\n",
       "    <tr>\n",
       "      <th>14</th>\n",
       "      <td>Inder Kumar Gujral</td>\n",
       "      <td>(1919–2012)</td>\n",
       "      <td>26 May 2014 - Present</td>\n",
       "      <td>------</td>\n",
       "    </tr>\n",
       "    <tr>\n",
       "      <th>15</th>\n",
       "      <td>Atal Bihari Vajpayee</td>\n",
       "      <td>(1924-2018)</td>\n",
       "      <td>26 May 2014 - Present</td>\n",
       "      <td>The first non-congress PM who completed a ful...</td>\n",
       "    </tr>\n",
       "    <tr>\n",
       "      <th>16</th>\n",
       "      <td>Manmohan Singh</td>\n",
       "      <td>(born 1932)</td>\n",
       "      <td>26 May 2014 - Present</td>\n",
       "      <td>First Sikh PM</td>\n",
       "    </tr>\n",
       "    <tr>\n",
       "      <th>17</th>\n",
       "      <td>Narendra Modi</td>\n",
       "      <td>(born 1950)</td>\n",
       "      <td>26 May 2014 - Present</td>\n",
       "      <td>4th Prime Minister of India who served two con...</td>\n",
       "    </tr>\n",
       "  </tbody>\n",
       "</table>\n",
       "</div>"
      ],
      "text/plain": [
       "                           Name     Born_Dead         Term_of_office  \\\n",
       "0             Jawahar Lal Nehru   (1889–1964)  26 May 2014 - Present   \n",
       "1     Gulzarilal Nanda (Acting)   (1898-1998)  26 May 2014 - Present   \n",
       "2           Lal Bahadur Shastri   (1904–1966)  26 May 2014 - Present   \n",
       "3   Gulzari Lal Nanda  (Acting)   (1898-1998)  26 May 2014 - Present   \n",
       "4                 Indira Gandhi   (1917–1984)  26 May 2014 - Present   \n",
       "5                 Morarji Desai   (1896–1995)  26 May 2014 - Present   \n",
       "6                  Charan Singh   (1902–1987)  26 May 2014 - Present   \n",
       "7                 Indira Gandhi   (1917–1984)  26 May 2014 - Present   \n",
       "8                  Rajiv Gandhi   (1944–1991)  26 May 2014 - Present   \n",
       "9                   V. P. Singh   (1931–2008)  26 May 2014 - Present   \n",
       "10              Chandra Shekhar   (1927–2007)  26 May 2014 - Present   \n",
       "11          P. V. Narasimha Rao   (1921–2004)  26 May 2014 - Present   \n",
       "12         Atal Bihari Vajpayee  (1924- 2018)  26 May 2014 - Present   \n",
       "13             H. D. Deve Gowda   (born 1933)  26 May 2014 - Present   \n",
       "14           Inder Kumar Gujral   (1919–2012)  26 May 2014 - Present   \n",
       "15         Atal Bihari Vajpayee   (1924-2018)  26 May 2014 - Present   \n",
       "16               Manmohan Singh   (born 1932)  26 May 2014 - Present   \n",
       "17                Narendra Modi   (born 1950)  26 May 2014 - Present   \n",
       "\n",
       "                                               Remark  \n",
       "0   The first prime minister of India and the long...  \n",
       "1                            First acting PM of India  \n",
       "2   He has given the slogan of 'Jai Jawan Jai Kisa...  \n",
       "3                                                   -  \n",
       "4                First female Prime Minister of India  \n",
       "5   Oldest to become PM (81 years old) and first t...  \n",
       "6             Only PM who did not face the Parliament  \n",
       "7   The first lady who served as PM for the second...  \n",
       "8                Youngest to become PM (40 years old)  \n",
       "9   First PM to step down after a vote of no confi...  \n",
       "10              He belongs to  Samajwadi Janata Party  \n",
       "11                          First PM from south India  \n",
       "12                             PM for shortest tenure  \n",
       "13                          He belongs to  Janata Dal  \n",
       "14                                             ------  \n",
       "15   The first non-congress PM who completed a ful...  \n",
       "16                                      First Sikh PM  \n",
       "17  4th Prime Minister of India who served two con...  "
      ]
     },
     "execution_count": 77,
     "metadata": {},
     "output_type": "execute_result"
    }
   ],
   "source": [
    "df=pd.DataFrame({'Name':Name,'Born_Dead':Born_Dead,'Term_of_office':office,'Remark':Remark})\n",
    "df"
   ]
  },
  {
   "cell_type": "code",
   "execution_count": 78,
   "id": "5d26d066",
   "metadata": {},
   "outputs": [],
   "source": [
    "#Assignment question 10"
   ]
  },
  {
   "cell_type": "code",
   "execution_count": null,
   "id": "dfcda70a",
   "metadata": {},
   "outputs": [],
   "source": []
  },
  {
   "cell_type": "code",
   "execution_count": 5,
   "id": "413c4882",
   "metadata": {},
   "outputs": [],
   "source": [
    "driver=webdriver.Chrome(r\"Chromedriver.exe\")"
   ]
  },
  {
   "cell_type": "code",
   "execution_count": 6,
   "id": "fc446eba",
   "metadata": {},
   "outputs": [],
   "source": [
    "driver.get(\"https://www.motor1.com/features/308149/most-expensive-new-cars-ever/\")"
   ]
  },
  {
   "cell_type": "code",
   "execution_count": 7,
   "id": "4f672e60",
   "metadata": {},
   "outputs": [],
   "source": [
    "Name=[]\n",
    "Price=[]"
   ]
  },
  {
   "cell_type": "code",
   "execution_count": 8,
   "id": "86a46166",
   "metadata": {},
   "outputs": [
    {
     "data": {
      "text/plain": [
       "51"
      ]
     },
     "execution_count": 8,
     "metadata": {},
     "output_type": "execute_result"
    }
   ],
   "source": [
    "name=driver.find_elements(By.XPATH, '//h3 [@class=\"subheader\"]')\n",
    "for i in name:\n",
    "    Name.append(i.text)\n",
    "len(Name)"
   ]
  },
  {
   "cell_type": "code",
   "execution_count": 9,
   "id": "80fc5be1",
   "metadata": {},
   "outputs": [
    {
     "name": "stdout",
     "output_type": "stream",
     "text": [
      "['Price: $1.3 Million', 'Price: $1.4 Million', 'Price: $1.4 Million', '', 'Price: $1.7 Million', 'Price: $1.7 Million', 'Price: $1.7 Million', 'Price: $1.7 Million', 'Price: $1.7 Million', 'Price: $1.7 Million', 'Price: $1.8 Million', 'Price: $1.9 Million', 'Price: $1.9 Million', 'Price: $2.0 Million', 'Price: $2.0 Million', 'Price: $2.0 Million*', 'Price: $2.1 Million', 'Price: $2.3 Million', 'Price: $2.3 Million', 'Price: $2.3 Million', 'Price: $2.4 Million', 'Price: $2.5 Million', 'Price: $2.5 Million', 'Price: $2.6 Million', 'Price: $2.6 Million', 'Price: $2.6 Million', 'Price: $2.7 Million', 'Price: $3.0 Million', '$3.0 Million', 'Price: $3.0 Million', 'Price: $3.2 Million', 'Price: $3.4 Million', '$3.5 Million', 'Price: $3.5 Million', 'Price: $3.6 Million', 'Price: $3.6 million', 'Price: $3.7 Million', 'Price: $3.9 Million', 'Price: $4.5 Million', 'Price: $4.7 Million', 'Price: $5.0 Million', 'Price: $5.4 Million', 'Price: $5.8 Million', 'Price: $6.4 Million', 'Price: $7.4 Million', 'Price: $8.0 Million', 'Price: $9.0 Million', 'Price: $10.8 Million', 'Price: $12.8 Million', 'Price: $13.4 Million', 'Price: $28.0 Million (est.)']\n"
     ]
    }
   ],
   "source": [
    "price=driver.find_elements(By.XPATH,\"//strong\")\n",
    "for i in price:\n",
    "    Price.append(i.text)\n",
    "print(Price)"
   ]
  },
  {
   "cell_type": "code",
   "execution_count": 10,
   "id": "31fcba1a",
   "metadata": {},
   "outputs": [
    {
     "data": {
      "text/plain": [
       "51"
      ]
     },
     "execution_count": 10,
     "metadata": {},
     "output_type": "execute_result"
    }
   ],
   "source": [
    "len(Price)"
   ]
  },
  {
   "cell_type": "code",
   "execution_count": 11,
   "id": "a440ea0c",
   "metadata": {},
   "outputs": [
    {
     "name": "stdout",
     "output_type": "stream",
     "text": [
      "51 51\n"
     ]
    }
   ],
   "source": [
    "print(len(Name),len(Price))"
   ]
  },
  {
   "cell_type": "code",
   "execution_count": 13,
   "id": "0005140b",
   "metadata": {},
   "outputs": [
    {
     "data": {
      "text/html": [
       "<div>\n",
       "<style scoped>\n",
       "    .dataframe tbody tr th:only-of-type {\n",
       "        vertical-align: middle;\n",
       "    }\n",
       "\n",
       "    .dataframe tbody tr th {\n",
       "        vertical-align: top;\n",
       "    }\n",
       "\n",
       "    .dataframe thead th {\n",
       "        text-align: right;\n",
       "    }\n",
       "</style>\n",
       "<table border=\"1\" class=\"dataframe\">\n",
       "  <thead>\n",
       "    <tr style=\"text-align: right;\">\n",
       "      <th></th>\n",
       "      <th>Name</th>\n",
       "      <th>Price</th>\n",
       "    </tr>\n",
       "  </thead>\n",
       "  <tbody>\n",
       "    <tr>\n",
       "      <th>0</th>\n",
       "      <td>De Tomaso P72</td>\n",
       "      <td>Price: $1.3 Million</td>\n",
       "    </tr>\n",
       "    <tr>\n",
       "      <th>1</th>\n",
       "      <td>Ferrari LaFerrari</td>\n",
       "      <td>Price: $1.4 Million</td>\n",
       "    </tr>\n",
       "    <tr>\n",
       "      <th>2</th>\n",
       "      <td>Pagani Huayra</td>\n",
       "      <td>Price: $1.4 Million</td>\n",
       "    </tr>\n",
       "    <tr>\n",
       "      <th>3</th>\n",
       "      <td>McLaren Elva</td>\n",
       "      <td></td>\n",
       "    </tr>\n",
       "    <tr>\n",
       "      <th>4</th>\n",
       "      <td>Czinger 21C</td>\n",
       "      <td>Price: $1.7 Million</td>\n",
       "    </tr>\n",
       "    <tr>\n",
       "      <th>5</th>\n",
       "      <td>Ferrari Monza</td>\n",
       "      <td>Price: $1.7 Million</td>\n",
       "    </tr>\n",
       "    <tr>\n",
       "      <th>6</th>\n",
       "      <td>Gordon Murray T.33</td>\n",
       "      <td>Price: $1.7 Million</td>\n",
       "    </tr>\n",
       "    <tr>\n",
       "      <th>7</th>\n",
       "      <td>Koenigsegg Gemera</td>\n",
       "      <td>Price: $1.7 Million</td>\n",
       "    </tr>\n",
       "    <tr>\n",
       "      <th>8</th>\n",
       "      <td>Zenvo TSR-S</td>\n",
       "      <td>Price: $1.7 Million</td>\n",
       "    </tr>\n",
       "    <tr>\n",
       "      <th>9</th>\n",
       "      <td>Hennessey Venom F5</td>\n",
       "      <td>Price: $1.7 Million</td>\n",
       "    </tr>\n",
       "    <tr>\n",
       "      <th>10</th>\n",
       "      <td>Bentley Bacalar</td>\n",
       "      <td>Price: $1.8 Million</td>\n",
       "    </tr>\n",
       "    <tr>\n",
       "      <th>11</th>\n",
       "      <td>Hispano Suiza Carmen Boulogne</td>\n",
       "      <td>Price: $1.9 Million</td>\n",
       "    </tr>\n",
       "    <tr>\n",
       "      <th>12</th>\n",
       "      <td>Bentley Mulliner Batur</td>\n",
       "      <td>Price: $1.9 Million</td>\n",
       "    </tr>\n",
       "    <tr>\n",
       "      <th>13</th>\n",
       "      <td>Deus Vayanne</td>\n",
       "      <td>Price: $2.0 Million</td>\n",
       "    </tr>\n",
       "    <tr>\n",
       "      <th>14</th>\n",
       "      <td>SSC Tuatara</td>\n",
       "      <td>Price: $2.0 Million</td>\n",
       "    </tr>\n",
       "    <tr>\n",
       "      <th>15</th>\n",
       "      <td>Lotus Evija</td>\n",
       "      <td>Price: $2.0 Million*</td>\n",
       "    </tr>\n",
       "    <tr>\n",
       "      <th>16</th>\n",
       "      <td>Aston Martin Vulcan</td>\n",
       "      <td>Price: $2.1 Million</td>\n",
       "    </tr>\n",
       "    <tr>\n",
       "      <th>17</th>\n",
       "      <td>Delage D12</td>\n",
       "      <td>Price: $2.3 Million</td>\n",
       "    </tr>\n",
       "    <tr>\n",
       "      <th>18</th>\n",
       "      <td>McLaren Speedtail</td>\n",
       "      <td>Price: $2.3 Million</td>\n",
       "    </tr>\n",
       "    <tr>\n",
       "      <th>19</th>\n",
       "      <td>Rimac Nevera</td>\n",
       "      <td>Price: $2.3 Million</td>\n",
       "    </tr>\n",
       "    <tr>\n",
       "      <th>20</th>\n",
       "      <td>Pagani Utopia</td>\n",
       "      <td>Price: $2.4 Million</td>\n",
       "    </tr>\n",
       "    <tr>\n",
       "      <th>21</th>\n",
       "      <td>Pininfarina Battista</td>\n",
       "      <td>Price: $2.5 Million</td>\n",
       "    </tr>\n",
       "    <tr>\n",
       "      <th>22</th>\n",
       "      <td>Ferrari FXX K Evo</td>\n",
       "      <td>Price: $2.5 Million</td>\n",
       "    </tr>\n",
       "    <tr>\n",
       "      <th>23</th>\n",
       "      <td>Gordon Murray T.50</td>\n",
       "      <td>Price: $2.6 Million</td>\n",
       "    </tr>\n",
       "    <tr>\n",
       "      <th>24</th>\n",
       "      <td>Lamborghini Countach</td>\n",
       "      <td>Price: $2.6 Million</td>\n",
       "    </tr>\n",
       "    <tr>\n",
       "      <th>25</th>\n",
       "      <td>Mercedes-AMG Project One</td>\n",
       "      <td>Price: $2.6 Million</td>\n",
       "    </tr>\n",
       "    <tr>\n",
       "      <th>26</th>\n",
       "      <td>Aston Martin Victor</td>\n",
       "      <td>Price: $2.7 Million</td>\n",
       "    </tr>\n",
       "    <tr>\n",
       "      <th>27</th>\n",
       "      <td>Hennessey Venom F5 Roadster</td>\n",
       "      <td>Price: $3.0 Million</td>\n",
       "    </tr>\n",
       "    <tr>\n",
       "      <th>28</th>\n",
       "      <td>Koenigsegg Jesko</td>\n",
       "      <td>$3.0 Million</td>\n",
       "    </tr>\n",
       "    <tr>\n",
       "      <th>29</th>\n",
       "      <td>Aston Martin Valkyrie</td>\n",
       "      <td>Price: $3.0 Million</td>\n",
       "    </tr>\n",
       "    <tr>\n",
       "      <th>30</th>\n",
       "      <td>W Motors Lykan Hypersport</td>\n",
       "      <td>Price: $3.2 Million</td>\n",
       "    </tr>\n",
       "    <tr>\n",
       "      <th>31</th>\n",
       "      <td>McLaren Solus</td>\n",
       "      <td>Price: $3.4 Million</td>\n",
       "    </tr>\n",
       "    <tr>\n",
       "      <th>32</th>\n",
       "      <td>Pagani Huayra Roadster BC</td>\n",
       "      <td>$3.5 Million</td>\n",
       "    </tr>\n",
       "    <tr>\n",
       "      <th>33</th>\n",
       "      <td>Bugatti Chiron Pur Sport</td>\n",
       "      <td>Price: $3.5 Million</td>\n",
       "    </tr>\n",
       "    <tr>\n",
       "      <th>34</th>\n",
       "      <td>Lamborghini Sian</td>\n",
       "      <td>Price: $3.6 Million</td>\n",
       "    </tr>\n",
       "    <tr>\n",
       "      <th>35</th>\n",
       "      <td>Koenigsegg CC850</td>\n",
       "      <td>Price: $3.6 million</td>\n",
       "    </tr>\n",
       "    <tr>\n",
       "      <th>36</th>\n",
       "      <td>Bugatti Chiron Super Sport 300+</td>\n",
       "      <td>Price: $3.7 Million</td>\n",
       "    </tr>\n",
       "    <tr>\n",
       "      <th>37</th>\n",
       "      <td>Lamborghini Veneno</td>\n",
       "      <td>Price: $3.9 Million</td>\n",
       "    </tr>\n",
       "    <tr>\n",
       "      <th>38</th>\n",
       "      <td>Bugatti Bolide</td>\n",
       "      <td>Price: $4.5 Million</td>\n",
       "    </tr>\n",
       "    <tr>\n",
       "      <th>39</th>\n",
       "      <td>Bugatti Mistral</td>\n",
       "      <td>Price: $4.7 Million</td>\n",
       "    </tr>\n",
       "    <tr>\n",
       "      <th>40</th>\n",
       "      <td>Pagani Huayra Imola</td>\n",
       "      <td>Price: $5.0 Million</td>\n",
       "    </tr>\n",
       "    <tr>\n",
       "      <th>41</th>\n",
       "      <td>Bugatti Divo</td>\n",
       "      <td>Price: $5.4 Million</td>\n",
       "    </tr>\n",
       "    <tr>\n",
       "      <th>42</th>\n",
       "      <td>SP Automotive Chaos</td>\n",
       "      <td>Price: $5.8 Million</td>\n",
       "    </tr>\n",
       "    <tr>\n",
       "      <th>43</th>\n",
       "      <td>Pagani Codalunga</td>\n",
       "      <td>Price: $6.4 Million</td>\n",
       "    </tr>\n",
       "    <tr>\n",
       "      <th>44</th>\n",
       "      <td>Mercedes-Maybach Exelero</td>\n",
       "      <td>Price: $7.4 Million</td>\n",
       "    </tr>\n",
       "    <tr>\n",
       "      <th>45</th>\n",
       "      <td>Bugatti Centodieci</td>\n",
       "      <td>Price: $8.0 Million</td>\n",
       "    </tr>\n",
       "    <tr>\n",
       "      <th>46</th>\n",
       "      <td>Bugatti Chiron Profilée</td>\n",
       "      <td>Price: $9.0 Million</td>\n",
       "    </tr>\n",
       "    <tr>\n",
       "      <th>47</th>\n",
       "      <td>Rolls-Royce Sweptail</td>\n",
       "      <td>Price: $10.8 Million</td>\n",
       "    </tr>\n",
       "    <tr>\n",
       "      <th>48</th>\n",
       "      <td>Bugatti La Voiture Noire</td>\n",
       "      <td>Price: $12.8 Million</td>\n",
       "    </tr>\n",
       "    <tr>\n",
       "      <th>49</th>\n",
       "      <td>Rolls-Royce Boat Tail*</td>\n",
       "      <td>Price: $13.4 Million</td>\n",
       "    </tr>\n",
       "    <tr>\n",
       "      <th>50</th>\n",
       "      <td>Most Expensive Cars In The World</td>\n",
       "      <td>Price: $28.0 Million (est.)</td>\n",
       "    </tr>\n",
       "  </tbody>\n",
       "</table>\n",
       "</div>"
      ],
      "text/plain": [
       "                                Name                        Price\n",
       "0                      De Tomaso P72          Price: $1.3 Million\n",
       "1                  Ferrari LaFerrari          Price: $1.4 Million\n",
       "2                      Pagani Huayra          Price: $1.4 Million\n",
       "3                       McLaren Elva                             \n",
       "4                        Czinger 21C          Price: $1.7 Million\n",
       "5                      Ferrari Monza          Price: $1.7 Million\n",
       "6                 Gordon Murray T.33          Price: $1.7 Million\n",
       "7                  Koenigsegg Gemera          Price: $1.7 Million\n",
       "8                        Zenvo TSR-S          Price: $1.7 Million\n",
       "9                 Hennessey Venom F5          Price: $1.7 Million\n",
       "10                   Bentley Bacalar          Price: $1.8 Million\n",
       "11     Hispano Suiza Carmen Boulogne          Price: $1.9 Million\n",
       "12            Bentley Mulliner Batur          Price: $1.9 Million\n",
       "13                      Deus Vayanne          Price: $2.0 Million\n",
       "14                       SSC Tuatara          Price: $2.0 Million\n",
       "15                       Lotus Evija         Price: $2.0 Million*\n",
       "16               Aston Martin Vulcan          Price: $2.1 Million\n",
       "17                        Delage D12          Price: $2.3 Million\n",
       "18                 McLaren Speedtail          Price: $2.3 Million\n",
       "19                      Rimac Nevera          Price: $2.3 Million\n",
       "20                     Pagani Utopia          Price: $2.4 Million\n",
       "21              Pininfarina Battista          Price: $2.5 Million\n",
       "22                 Ferrari FXX K Evo          Price: $2.5 Million\n",
       "23                Gordon Murray T.50          Price: $2.6 Million\n",
       "24              Lamborghini Countach          Price: $2.6 Million\n",
       "25          Mercedes-AMG Project One          Price: $2.6 Million\n",
       "26               Aston Martin Victor          Price: $2.7 Million\n",
       "27       Hennessey Venom F5 Roadster          Price: $3.0 Million\n",
       "28                  Koenigsegg Jesko                 $3.0 Million\n",
       "29             Aston Martin Valkyrie          Price: $3.0 Million\n",
       "30         W Motors Lykan Hypersport          Price: $3.2 Million\n",
       "31                     McLaren Solus          Price: $3.4 Million\n",
       "32         Pagani Huayra Roadster BC                 $3.5 Million\n",
       "33          Bugatti Chiron Pur Sport          Price: $3.5 Million\n",
       "34                  Lamborghini Sian          Price: $3.6 Million\n",
       "35                  Koenigsegg CC850          Price: $3.6 million\n",
       "36   Bugatti Chiron Super Sport 300+          Price: $3.7 Million\n",
       "37                Lamborghini Veneno          Price: $3.9 Million\n",
       "38                    Bugatti Bolide          Price: $4.5 Million\n",
       "39                   Bugatti Mistral          Price: $4.7 Million\n",
       "40               Pagani Huayra Imola          Price: $5.0 Million\n",
       "41                      Bugatti Divo          Price: $5.4 Million\n",
       "42               SP Automotive Chaos          Price: $5.8 Million\n",
       "43                  Pagani Codalunga          Price: $6.4 Million\n",
       "44          Mercedes-Maybach Exelero          Price: $7.4 Million\n",
       "45                Bugatti Centodieci          Price: $8.0 Million\n",
       "46           Bugatti Chiron Profilée          Price: $9.0 Million\n",
       "47              Rolls-Royce Sweptail         Price: $10.8 Million\n",
       "48          Bugatti La Voiture Noire         Price: $12.8 Million\n",
       "49            Rolls-Royce Boat Tail*         Price: $13.4 Million\n",
       "50  Most Expensive Cars In The World  Price: $28.0 Million (est.)"
      ]
     },
     "execution_count": 13,
     "metadata": {},
     "output_type": "execute_result"
    }
   ],
   "source": [
    "df=pd.DataFrame({'Name':Name,'Price':Price})\n",
    "df"
   ]
  },
  {
   "cell_type": "code",
   "execution_count": null,
   "id": "a27e15d2",
   "metadata": {},
   "outputs": [],
   "source": []
  },
  {
   "cell_type": "code",
   "execution_count": null,
   "id": "939bb3bb",
   "metadata": {},
   "outputs": [],
   "source": []
  },
  {
   "cell_type": "code",
   "execution_count": null,
   "id": "866ae900",
   "metadata": {},
   "outputs": [],
   "source": []
  },
  {
   "cell_type": "code",
   "execution_count": null,
   "id": "ded0df3b",
   "metadata": {},
   "outputs": [],
   "source": []
  },
  {
   "cell_type": "code",
   "execution_count": null,
   "id": "dbde5b36",
   "metadata": {},
   "outputs": [],
   "source": []
  },
  {
   "cell_type": "code",
   "execution_count": null,
   "id": "c67eeb03",
   "metadata": {},
   "outputs": [],
   "source": []
  },
  {
   "cell_type": "code",
   "execution_count": null,
   "id": "46aa0317",
   "metadata": {},
   "outputs": [],
   "source": []
  },
  {
   "cell_type": "code",
   "execution_count": null,
   "id": "05f4f17f",
   "metadata": {},
   "outputs": [],
   "source": []
  },
  {
   "cell_type": "code",
   "execution_count": null,
   "id": "d7a1edcb",
   "metadata": {},
   "outputs": [],
   "source": []
  },
  {
   "cell_type": "code",
   "execution_count": null,
   "id": "39e599c0",
   "metadata": {},
   "outputs": [],
   "source": []
  }
 ],
 "metadata": {
  "kernelspec": {
   "display_name": "Python 3 (ipykernel)",
   "language": "python",
   "name": "python3"
  },
  "language_info": {
   "codemirror_mode": {
    "name": "ipython",
    "version": 3
   },
   "file_extension": ".py",
   "mimetype": "text/x-python",
   "name": "python",
   "nbconvert_exporter": "python",
   "pygments_lexer": "ipython3",
   "version": "3.9.12"
  }
 },
 "nbformat": 4,
 "nbformat_minor": 5
}
